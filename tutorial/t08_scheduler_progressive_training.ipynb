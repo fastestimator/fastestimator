{
 "cells": [
  {
   "cell_type": "markdown",
   "metadata": {},
   "source": [
    "# Tutorial 8: Scheduler - changing hyperparameters during the training\n",
    "\n",
    "People have been using the same hyperparameters during the training until progressive training emerged. Progressive training is essentially adding a time dimension in hyperparameters and everything can change during the training loop. \n",
    "\n",
    "For example:\n",
    "1. make batch size to be 32 for the 0th epoch, then use 64 on the 5th epoch.\n",
    "2. train with low resolution image (28x28) for first 3 epochs, then double the resolution (52x52) for another 3 epochs\n",
    "3. train part of the model for the first 10 epochs, then train another part of the model for 10 more epochs\n",
    "\n",
    "All of the examples above are examples of hyperparameter change during the training. In FastEstimator, `Scheduler` is used to handle all of these requests. "
   ]
  },
  {
   "cell_type": "markdown",
   "metadata": {},
   "source": [
    "## How to use Scheduler\n",
    "\n",
    "Scheduler can be used in `Pipeline` and `Networks`.  Before using Scheduler, user will need to create a dictionary with key being epoch and value being whatever is used for that epoch. For example:\n",
    "\n",
    "```python\n",
    "from fastestimator.util.schedule import Scheduler\n",
    "\n",
    "mapping = {0: 32, 2:64, 5: 128}\n",
    "batch_scheduler = Scheduler(epoch_dict=mapping)\n",
    "```\n",
    "\n",
    "Then batch_scheduler can be used directly as batch size in `Pipeline`. Please note that the key in the dictionary indicates the epoch of change, therefore, in the example above, when the total training epoch is 8, the batch size for each epoch is:\n",
    "\n",
    "* epoch 0, batch size 32\n",
    "* epoch 1, batch size 32\n",
    "* epoch 2, batch size 64\n",
    "* epoch 3, batch size 64\n",
    "* epoch 4, batch size 64\n",
    "* epoch 5, batch size 128\n",
    "* epoch 6, batch size 128\n",
    "* epoch 7, batch size 128"
   ]
  },
  {
   "cell_type": "markdown",
   "metadata": {},
   "source": [
    "## Scheduler example\n",
    "\n",
    "In the next example, let's define two image classification models with same architecture(`model1` and `model2`) and train them by the following:\n",
    "\n",
    "* on epoch 0:  train `model1` with batch size 32, use image resolution 30x30 and Minmax normalization\n",
    "* on epoch 1:  train `model2` with batch size 64, use image resolution 32x32 and Minmax normalization\n",
    "* on epoch 2:  train `model1` with batch size 128, use image resolution 30x30 and Rescale normalization(multiply by 1/255)"
   ]
  },
  {
   "cell_type": "markdown",
   "metadata": {},
   "source": [
    "### Prepare data"
   ]
  },
  {
   "cell_type": "code",
   "execution_count": null,
   "metadata": {},
   "outputs": [],
   "source": [
    "import numpy as np\n",
    "import tensorflow as tf\n",
    "import fastestimator as fe\n",
    "\n",
    "(x_train, y_train), (x_eval, y_eval) = tf.keras.datasets.mnist.load_data()\n",
    "train_data = {\"x\": np.expand_dims(x_train, -1), \"y\": y_train}\n",
    "eval_data = {\"x\": np.expand_dims(x_eval, -1), \"y\": y_eval}\n",
    "data = {\"train\": train_data, \"eval\": eval_data}"
   ]
  },
  {
   "cell_type": "markdown",
   "metadata": {},
   "source": [
    "### Pipeline"
   ]
  },
  {
   "cell_type": "code",
   "execution_count": null,
   "metadata": {},
   "outputs": [],
   "source": [
    "from fastestimator.util.schedule import Scheduler\n",
    "from fastestimator.pipeline.processing import Minmax, Resize, Scale\n",
    "\n",
    "batchsize_scheduler = Scheduler({0:32, 1:64, 2:128})\n",
    "\n",
    "resize_scheduler = Scheduler({0: Resize(inputs=\"x\", size=(30, 30), outputs=\"x\"),\n",
    "                              1: Resize(inputs=\"x\", size=(32, 32), outputs=\"x\"),\n",
    "                              2: Resize(inputs=\"x\", size=(30, 30), outputs=\"x\")})\n",
    "\n",
    "normalize_scheduler = Scheduler({0: Minmax(inputs=\"x\", outputs=\"x\"),\n",
    "                                 2: Scale(inputs=\"x\", scalar=1.0/255, outputs=\"x\")})\n",
    "\n",
    "pipeline = fe.Pipeline(batch_size=batchsize_scheduler, \n",
    "                       data=data, \n",
    "                       ops=[resize_scheduler, normalize_scheduler])"
   ]
  },
  {
   "cell_type": "markdown",
   "metadata": {},
   "source": [
    "### Network"
   ]
  },
  {
   "cell_type": "code",
   "execution_count": null,
   "metadata": {},
   "outputs": [],
   "source": [
    "from fastestimator.network.loss import SparseCategoricalCrossentropy\n",
    "from fastestimator.network.model import FEModel, ModelOp\n",
    "from fastestimator.architecture import LeNet\n",
    "\n",
    "model1 = FEModel(model_def=lambda: LeNet(input_shape=(30,30,1)), model_name=\"model1\", optimizer=\"adam\")\n",
    "model2 = FEModel(model_def=lambda: LeNet(input_shape=(32,32,1)), model_name=\"model2\", optimizer=\"adam\")\n",
    "\n",
    "model_scheduler = Scheduler({0: ModelOp(inputs=\"x\", model=model1, outputs=\"y_pred\"),\n",
    "                             1: ModelOp(inputs=\"x\", model=model2, outputs=\"y_pred\"),\n",
    "                             2: ModelOp(inputs=\"x\", model=model1, outputs=\"y_pred\")})\n",
    "\n",
    "network = fe.Network(ops=[model_scheduler, SparseCategoricalCrossentropy(inputs=(\"y\", \"y_pred\"))])"
   ]
  },
  {
   "cell_type": "markdown",
   "metadata": {},
   "source": [
    "### Estimator"
   ]
  },
  {
   "cell_type": "code",
   "execution_count": null,
   "metadata": {},
   "outputs": [],
   "source": [
    "estimator = fe.Estimator(network=network, pipeline=pipeline, epochs=3)"
   ]
  },
  {
   "cell_type": "code",
   "execution_count": null,
   "metadata": {
    "scrolled": false
   },
   "outputs": [],
   "source": [
    "estimator.fit()"
   ]
  },
  {
   "cell_type": "code",
   "execution_count": null,
   "metadata": {},
   "outputs": [],
   "source": []
  }
 ],
 "metadata": {
  "kernelspec": {
   "display_name": "Python 3",
   "language": "python",
   "name": "python3"
  },
  "language_info": {
   "codemirror_mode": {
    "name": "ipython",
    "version": 3
   },
   "file_extension": ".py",
   "mimetype": "text/x-python",
   "name": "python",
   "nbconvert_exporter": "python",
   "pygments_lexer": "ipython3",
   "version": "3.6.5"
  }
 },
 "nbformat": 4,
 "nbformat_minor": 2
}
