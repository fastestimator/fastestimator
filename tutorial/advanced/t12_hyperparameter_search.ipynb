{
 "cells": [
  {
   "cell_type": "markdown",
   "metadata": {},
   "source": [
    "# Advanced Tutorial 12: Hyperparameter Search\n",
    "\n",
    "## Overview\n",
    "In this tutorial, we will discuss the following topics:\n",
    "* [FastEstimator Search API](#ta12searchapi)\n",
    "    * [Getting the search results](#ta12searchresults)\n",
    "    * [Saving and loading search results](#ta12saveload)\n",
    "    * [Interruption-resilient search](#ta12interruption)\n",
    "* [Example 1: Hyperparameter Tuning by Grid Search](#ta12example1)\n",
    "* [Example 2: RUA Augmentation via Golden-Section Search](#ta12example2)"
   ]
  },
  {
   "cell_type": "markdown",
   "metadata": {},
   "source": [
    "<a id='ta12searchapi'></a>"
   ]
  },
  {
   "cell_type": "markdown",
   "metadata": {},
   "source": [
    "## Search API\n",
    "\n",
    "There are many things in life that requires searching for an optimal solution in a given space, regardless of whether deep learning is involved. For example:\n",
    "* what is the `x` that leads to the minimal value of `(x-3)**2`?\n",
    "* what is the best `learning rate` and `batch size` combo that can produce the lowest evaluation loss after 2 epochs of training?\n",
    "* what is the best augmentation magnitude that can lead to the highest evaluation accuracy?\n",
    "\n",
    "The `fe.search` API is designed to make the search easier, the API can be used independently for any search problem, as it only requires the following two components:\n",
    "1. objective function to measure the score of a solution.\n",
    "2. whether a maximum or minimum score is desired.\n",
    "\n",
    "We will start with a simple example using `Grid Search`. Say we want to find the `x` that produces the minimal value of `(x-3)**2`, where x is chosen from the list: `[0.5, 1.5, 2.9, 4, 5.3]`"
   ]
  },
  {
   "cell_type": "code",
   "execution_count": 1,
   "metadata": {},
   "outputs": [],
   "source": [
    "from fastestimator.search import GridSearch\n",
    "\n",
    "def objective_fn(search_idx, x):\n",
    "    return {\"objective\": (x-3)**2}\n",
    "\n",
    "grid_search = GridSearch(eval_fn=objective_fn, params={\"x\": [0.5, 1.5, 2.9, 4, 5.3]})"
   ]
  },
  {
   "cell_type": "markdown",
   "metadata": {},
   "source": [
    "Note that in the score function, one of the arguments must be `search_idx`. This is to help user differentiate multiple search runs. To run the search, simply call:"
   ]
  },
  {
   "cell_type": "code",
   "execution_count": 2,
   "metadata": {},
   "outputs": [
    {
     "name": "stdout",
     "output_type": "stream",
     "text": [
      "FastEstimator-Search: Evaluated {'x': 0.5, 'search_idx': 1}, result: {'objective': 6.25}\n",
      "FastEstimator-Search: Evaluated {'x': 1.5, 'search_idx': 2}, result: {'objective': 2.25}\n",
      "FastEstimator-Search: Evaluated {'x': 2.9, 'search_idx': 3}, result: {'objective': 0.010000000000000018}\n",
      "FastEstimator-Search: Evaluated {'x': 4, 'search_idx': 4}, result: {'objective': 1}\n",
      "FastEstimator-Search: Evaluated {'x': 5.3, 'search_idx': 5}, result: {'objective': 5.289999999999999}\n"
     ]
    }
   ],
   "source": [
    "grid_search.fit()"
   ]
  },
  {
   "cell_type": "markdown",
   "metadata": {},
   "source": [
    "<a id='ta12searchresults'></a>"
   ]
  },
  {
   "cell_type": "markdown",
   "metadata": {},
   "source": [
    "### Getting the search results\n",
    "After the search is done, you can also call the `search.get_best_results` or `search.get_search_results` to see the best and overall search history:"
   ]
  },
  {
   "cell_type": "code",
   "execution_count": 3,
   "metadata": {},
   "outputs": [
    {
     "name": "stdout",
     "output_type": "stream",
     "text": [
      "best search result:\n",
      "{'param': {'x': 2.9, 'search_idx': 3}, 'result': {'objective': 0.010000000000000018}}\n"
     ]
    }
   ],
   "source": [
    "print(\"best search result:\")\n",
    "print(grid_search.get_best_results(best_mode=\"min\", optimize_field=\"objective\"))"
   ]
  },
  {
   "cell_type": "code",
   "execution_count": 4,
   "metadata": {},
   "outputs": [
    {
     "name": "stdout",
     "output_type": "stream",
     "text": [
      "search history:\n",
      "[{'param': {'x': 0.5, 'search_idx': 1}, 'result': {'objective': 6.25}}, {'param': {'x': 1.5, 'search_idx': 2}, 'result': {'objective': 2.25}}, {'param': {'x': 2.9, 'search_idx': 3}, 'result': {'objective': 0.010000000000000018}}, {'param': {'x': 4, 'search_idx': 4}, 'result': {'objective': 1}}, {'param': {'x': 5.3, 'search_idx': 5}, 'result': {'objective': 5.289999999999999}}]\n"
     ]
    }
   ],
   "source": [
    "print(\"search history:\")\n",
    "print(grid_search.get_search_summary())"
   ]
  },
  {
   "cell_type": "markdown",
   "metadata": {},
   "source": [
    "<a id='ta12saveload'></a>"
   ]
  },
  {
   "cell_type": "markdown",
   "metadata": {},
   "source": [
    "### Saving and loading search results\n",
    "\n",
    "Once the search is done, you can also save the search results into the disk and later load them back using `save` and `load` methods:"
   ]
  },
  {
   "cell_type": "code",
   "execution_count": 5,
   "metadata": {},
   "outputs": [
    {
     "name": "stdout",
     "output_type": "stream",
     "text": [
      "FastEstimator-Search: Saving the search summary to /tmp/tmpram7_43f/grid_search.json\n",
      "FastEstimator-Search: Loading the search state from /tmp/tmpram7_43f/grid_search.json\n",
      "{'param': {'x': 2.9, 'search_idx': 3}, 'result': {'objective': 0.010000000000000018}}\n",
      "[{'param': {'x': 0.5, 'search_idx': 1}, 'result': {'objective': 6.25}}, {'param': {'x': 1.5, 'search_idx': 2}, 'result': {'objective': 2.25}}, {'param': {'x': 2.9, 'search_idx': 3}, 'result': {'objective': 0.010000000000000018}}, {'param': {'x': 4, 'search_idx': 4}, 'result': {'objective': 1}}, {'param': {'x': 5.3, 'search_idx': 5}, 'result': {'objective': 5.289999999999999}}]\n"
     ]
    }
   ],
   "source": [
    "import tempfile\n",
    "save_dir = tempfile.mkdtemp()\n",
    "\n",
    "# save the state to save_dir\n",
    "grid_search.save(save_dir) \n",
    "\n",
    "# instantiate a new object\n",
    "grid_search2 = GridSearch(eval_fn=objective_fn, params={\"x\": [0.5, 1.5, 2.9, 4, 5.3]}) \n",
    "\n",
    "# load the previously saved state\n",
    "grid_search2.load(save_dir)\n",
    "\n",
    "# display the best result of the loaded instance\n",
    "print(grid_search2.get_best_results(best_mode=\"min\", optimize_field=\"objective\")) \n",
    "\n",
    "# display the search summary of the loadeded instance\n",
    "print(grid_search2.get_search_summary())"
   ]
  },
  {
   "cell_type": "markdown",
   "metadata": {},
   "source": [
    "<a id='ta12interruption'></a>"
   ]
  },
  {
   "cell_type": "markdown",
   "metadata": {},
   "source": [
    "### Interruption-resilient search\n",
    "When you run search on a hardware that can be interrupted (like an AWS spot instance), you can provide a `save_dir` argument when calling `fit`. As a result, the search will automatically back up its result after each evaluation. Furthermore, when calling `fit` using the same `save_dir` the second time, it will first load the search results and then pick up from where it left off. \n",
    "\n",
    "To demonstrate this, we will use golden-section search on the same optimization problem. To simulate interruption, we will first iterate 10 times, then create a new instance and iterate another 10 times."
   ]
  },
  {
   "cell_type": "code",
   "execution_count": 6,
   "metadata": {},
   "outputs": [
    {
     "name": "stdout",
     "output_type": "stream",
     "text": [
      "FastEstimator-Search: Saving the search summary to /tmp/tmpjrh_udlu/golden_section_search.json\n",
      "FastEstimator-Search: Evaluated {'x': 2.2917960675006306, 'search_idx': 1}, result: {'objective': 0.5015528100075713}\n",
      "FastEstimator-Search: Saving the search summary to /tmp/tmpjrh_udlu/golden_section_search.json\n",
      "FastEstimator-Search: Evaluated {'x': 3.7082039324993694, 'search_idx': 2}, result: {'objective': 0.5015528100075713}\n",
      "FastEstimator-Search: Saving the search summary to /tmp/tmpjrh_udlu/golden_section_search.json\n",
      "FastEstimator-Search: Evaluated {'x': 4.583592135001262, 'search_idx': 3}, result: {'objective': 2.5077640500378555}\n",
      "FastEstimator-Search: Saving the search summary to /tmp/tmpjrh_udlu/golden_section_search.json\n",
      "FastEstimator-Search: Evaluated {'x': 3.1671842700025232, 'search_idx': 4}, result: {'objective': 0.027950580136276586}\n",
      "FastEstimator-Search: Saving the search summary to /tmp/tmpjrh_udlu/golden_section_search.json\n",
      "FastEstimator-Search: Evaluated {'x': 2.832815729997476, 'search_idx': 5}, result: {'objective': 0.027950580136276885}\n",
      "FastEstimator-Search: Saving the search summary to /tmp/tmpjrh_udlu/golden_section_search.json\n",
      "FastEstimator-Search: Evaluated {'x': 3.3738353924943216, 'search_idx': 6}, result: {'objective': 0.1397529006813835}\n",
      "FastEstimator-Search: Saving the search summary to /tmp/tmpjrh_udlu/golden_section_search.json\n",
      "FastEstimator-Search: Evaluated {'x': 3.0394668524892743, 'search_idx': 7}, result: {'objective': 0.0015576324454101358}\n",
      "FastEstimator-Search: Saving the search summary to /tmp/tmpjrh_udlu/golden_section_search.json\n",
      "FastEstimator-Search: Evaluated {'x': 2.9605331475107253, 'search_idx': 8}, result: {'objective': 0.0015576324454101708}\n",
      "FastEstimator-Search: Saving the search summary to /tmp/tmpjrh_udlu/golden_section_search.json\n",
      "FastEstimator-Search: Evaluated {'x': 3.0882505650239747, 'search_idx': 9}, result: {'objective': 0.00778816222705078}\n",
      "FastEstimator-Search: Saving the search summary to /tmp/tmpjrh_udlu/golden_section_search.json\n",
      "FastEstimator-Search: Evaluated {'x': 3.009316860045425, 'search_idx': 10}, result: {'objective': 8.68038811060405e-05}\n",
      "FastEstimator-Search: Saving the search summary to /tmp/tmpjrh_udlu/golden_section_search.json\n",
      "FastEstimator-Search: Evaluated {'x': 2.9906831399545744, 'search_idx': 11}, result: {'objective': 8.680388110604876e-05}\n",
      "FastEstimator-Search: Saving the search summary to /tmp/tmpjrh_udlu/golden_section_search.json\n",
      "FastEstimator-Search: Evaluated {'x': 3.0208331323984234, 'search_idx': 12}, result: {'objective': 0.0004340194055302403}\n",
      "FastEstimator-Search: Golden Section Search Finished, best parameters: {'x': 3.009316860045425, 'search_idx': 10}, best result: {'objective': 8.68038811060405e-05}\n"
     ]
    }
   ],
   "source": [
    "from fastestimator.search import GoldenSection\n",
    "save_dir2 = tempfile.mkdtemp()\n",
    "\n",
    "gs_search =  GoldenSection(eval_fn=objective_fn, \n",
    "                           x_min=0, \n",
    "                           x_max=6, \n",
    "                           max_iter=10, \n",
    "                           integer=False, \n",
    "                           optimize_field=\"objective\", \n",
    "                           best_mode=\"min\")\n",
    "\n",
    "gs_search.fit(save_dir=save_dir2)"
   ]
  },
  {
   "cell_type": "markdown",
   "metadata": {},
   "source": [
    "After interruption, we can create the instance and call `fit` on the same directory:"
   ]
  },
  {
   "cell_type": "code",
   "execution_count": 7,
   "metadata": {},
   "outputs": [
    {
     "name": "stdout",
     "output_type": "stream",
     "text": [
      "FastEstimator-Search: Loading the search state from /tmp/tmpjrh_udlu/golden_section_search.json\n",
      "FastEstimator-Search: Saving the search summary to /tmp/tmpjrh_udlu/golden_section_search.json\n",
      "FastEstimator-Search: Evaluated {'x': 3.002199412307572, 'search_idx': 13}, result: {'objective': 4.8374144986998325e-06}\n",
      "FastEstimator-Search: Saving the search summary to /tmp/tmpjrh_udlu/golden_section_search.json\n",
      "FastEstimator-Search: Evaluated {'x': 2.997800587692428, 'search_idx': 14}, result: {'objective': 4.8374144986998325e-06}\n",
      "FastEstimator-Search: Saving the search summary to /tmp/tmpjrh_udlu/golden_section_search.json\n",
      "FastEstimator-Search: Evaluated {'x': 3.0049180354302814, 'search_idx': 15}, result: {'objective': 2.4187072493502697e-05}\n",
      "FastEstimator-Search: Saving the search summary to /tmp/tmpjrh_udlu/golden_section_search.json\n",
      "FastEstimator-Search: Evaluated {'x': 3.0005192108151366, 'search_idx': 16}, result: {'objective': 2.695798705548303e-07}\n",
      "FastEstimator-Search: Saving the search summary to /tmp/tmpjrh_udlu/golden_section_search.json\n",
      "FastEstimator-Search: Evaluated {'x': 2.9994807891848634, 'search_idx': 17}, result: {'objective': 2.695798705548303e-07}\n",
      "FastEstimator-Search: Saving the search summary to /tmp/tmpjrh_udlu/golden_section_search.json\n",
      "FastEstimator-Search: Evaluated {'x': 3.001160990677299, 'search_idx': 18}, result: {'objective': 1.3478993527749865e-06}\n",
      "FastEstimator-Search: Saving the search summary to /tmp/tmpjrh_udlu/golden_section_search.json\n",
      "FastEstimator-Search: Evaluated {'x': 3.0001225690470252, 'search_idx': 19}, result: {'objective': 1.502317128867399e-08}\n",
      "FastEstimator-Search: Saving the search summary to /tmp/tmpjrh_udlu/golden_section_search.json\n",
      "FastEstimator-Search: Evaluated {'x': 2.9998774309529748, 'search_idx': 20}, result: {'objective': 1.502317128867399e-08}\n",
      "FastEstimator-Search: Saving the search summary to /tmp/tmpjrh_udlu/golden_section_search.json\n",
      "FastEstimator-Search: Evaluated {'x': 3.000274072721086, 'search_idx': 21}, result: {'objective': 7.511585644356621e-08}\n",
      "FastEstimator-Search: Saving the search summary to /tmp/tmpjrh_udlu/golden_section_search.json\n",
      "FastEstimator-Search: Evaluated {'x': 3.0000289346270352, 'search_idx': 22}, result: {'objective': 8.372126416682983e-10}\n",
      "FastEstimator-Search: Golden Section Search Finished, best parameters: {'x': 3.0000289346270352, 'search_idx': 22}, best result: {'objective': 8.372126416682983e-10}\n"
     ]
    }
   ],
   "source": [
    "gs_search2 =  GoldenSection(eval_fn=objective_fn, \n",
    "                           x_min=0, \n",
    "                           x_max=6, \n",
    "                           max_iter=20, \n",
    "                           integer=False, \n",
    "                           optimize_field=\"objective\", \n",
    "                           best_mode=\"min\")\n",
    "\n",
    "gs_search2.fit(save_dir=save_dir2)"
   ]
  },
  {
   "cell_type": "markdown",
   "metadata": {},
   "source": [
    "As we can see, the search started from search index 13 and proceeded for another 10 iterations."
   ]
  },
  {
   "cell_type": "markdown",
   "metadata": {},
   "source": [
    "<a id='ta12example1'></a>"
   ]
  },
  {
   "cell_type": "markdown",
   "metadata": {},
   "source": [
    "## Example 1: Hyperparameter Tuning by Grid Search\n",
    "\n",
    "In this example, we will use `GridSearch` on a real deep learning task to illustrate its usage. Specifically, given a batch size grid `[32, 64]` and learning rate grid `[1e-2 and 1e-3]`, we are interested in the optimial parameter that leads to the lowest test loss after 200 steps of training on MNIST dataset."
   ]
  },
  {
   "cell_type": "code",
   "execution_count": 8,
   "metadata": {},
   "outputs": [],
   "source": [
    "import tensorflow as tf\n",
    "import fastestimator as fe\n",
    "from fastestimator.architecture.tensorflow import LeNet\n",
    "from fastestimator.dataset.data import mnist\n",
    "from fastestimator.op.numpyop.univariate import ExpandDims, Minmax\n",
    "from fastestimator.op.tensorop.loss import CrossEntropy\n",
    "from fastestimator.op.tensorop.model import ModelOp, UpdateOp\n",
    "\n",
    "def get_estimator(batch_size, lr):\n",
    "    train_data, test_data = mnist.load_data()\n",
    "    pipeline = fe.Pipeline(train_data=train_data,\n",
    "                           test_data=test_data,\n",
    "                           batch_size=batch_size,\n",
    "                           ops=[ExpandDims(inputs=\"x\", outputs=\"x\"), Minmax(inputs=\"x\", outputs=\"x\")],\n",
    "                           num_process=0)\n",
    "    model = fe.build(model_fn=LeNet, optimizer_fn=lambda: tf.optimizers.Adam(lr))\n",
    "    network = fe.Network(ops=[\n",
    "        ModelOp(model=model, inputs=\"x\", outputs=\"y_pred\"),\n",
    "        CrossEntropy(inputs=(\"y_pred\", \"y\"), outputs=\"ce\"),\n",
    "        UpdateOp(model=model, loss_name=\"ce\")\n",
    "    ])\n",
    "    estimator = fe.Estimator(pipeline=pipeline,\n",
    "                             network=network,\n",
    "                             epochs=1,\n",
    "                             train_steps_per_epoch=200)\n",
    "    return estimator\n",
    "\n",
    "def eval_fn(search_idx, batch_size, lr):\n",
    "    est = get_estimator(batch_size, lr)\n",
    "    est.fit(warmup=False)\n",
    "    hist = est.test(summary=\"myexp\")\n",
    "    loss = float(hist.history[\"test\"][\"ce\"][200])\n",
    "    return {\"test_loss\": loss}\n",
    "\n",
    "mnist_grid_search = GridSearch(eval_fn=eval_fn, params={\"batch_size\": [32, 64], \"lr\": [1e-2, 1e-3]})"
   ]
  },
  {
   "cell_type": "code",
   "execution_count": 10,
   "metadata": {},
   "outputs": [
    {
     "name": "stdout",
     "output_type": "stream",
     "text": [
      "    ______           __  ______     __  _                 __            \n",
      "   / ____/___ ______/ /_/ ____/____/ /_(_)___ ___  ____ _/ /_____  _____\n",
      "  / /_  / __ `/ ___/ __/ __/ / ___/ __/ / __ `__ \\/ __ `/ __/ __ \\/ ___/\n",
      " / __/ / /_/ (__  ) /_/ /___(__  ) /_/ / / / / / / /_/ / /_/ /_/ / /    \n",
      "/_/    \\__,_/____/\\__/_____/____/\\__/_/_/ /_/ /_/\\__,_/\\__/\\____/_/     \n",
      "                                                                        \n",
      "\n",
      "FastEstimator-Warn: No ModelSaver Trace detected. Models will not be saved.\n",
      "FastEstimator-Start: step: 1; logging_interval: 100; num_device: 0;\n",
      "FastEstimator-Train: step: 1; ce: 2.316383;\n",
      "FastEstimator-Train: step: 100; ce: 0.29320067; steps/sec: 136.55;\n",
      "FastEstimator-Train: step: 200; ce: 0.2462448; steps/sec: 149.74;\n",
      "FastEstimator-Train: step: 200; epoch: 1; epoch_time: 1.82 sec;\n",
      "FastEstimator-Finish: step: 200; model_lr: 0.01; total_time: 1.83 sec;\n",
      "FastEstimator-Test: step: 200; epoch: 1; ce: 0.15321535;\n",
      "FastEstimator-Search: Evaluated {'batch_size': 32, 'lr': 0.01, 'search_idx': 1}, result: {'test_loss': 0.15321534872055054}\n",
      "    ______           __  ______     __  _                 __            \n",
      "   / ____/___ ______/ /_/ ____/____/ /_(_)___ ___  ____ _/ /_____  _____\n",
      "  / /_  / __ `/ ___/ __/ __/ / ___/ __/ / __ `__ \\/ __ `/ __/ __ \\/ ___/\n",
      " / __/ / /_/ (__  ) /_/ /___(__  ) /_/ / / / / / / /_/ / /_/ /_/ / /    \n",
      "/_/    \\__,_/____/\\__/_____/____/\\__/_/_/ /_/ /_/\\__,_/\\__/\\____/_/     \n",
      "                                                                        \n",
      "\n",
      "FastEstimator-Warn: No ModelSaver Trace detected. Models will not be saved.\n",
      "FastEstimator-Start: step: 1; logging_interval: 100; num_device: 0;\n",
      "FastEstimator-Train: step: 1; ce: 2.296887;\n",
      "FastEstimator-Train: step: 100; ce: 0.29337886; steps/sec: 116.86;\n",
      "FastEstimator-Train: step: 200; ce: 0.16381249; steps/sec: 122.04;\n",
      "FastEstimator-Train: step: 200; epoch: 1; epoch_time: 2.09 sec;\n",
      "FastEstimator-Finish: step: 200; model_lr: 0.001; total_time: 2.1 sec;\n",
      "FastEstimator-Test: step: 200; epoch: 1; ce: 0.1480016;\n",
      "FastEstimator-Search: Evaluated {'batch_size': 32, 'lr': 0.001, 'search_idx': 2}, result: {'test_loss': 0.14800159633159637}\n",
      "    ______           __  ______     __  _                 __            \n",
      "   / ____/___ ______/ /_/ ____/____/ /_(_)___ ___  ____ _/ /_____  _____\n",
      "  / /_  / __ `/ ___/ __/ __/ / ___/ __/ / __ `__ \\/ __ `/ __/ __ \\/ ___/\n",
      " / __/ / /_/ (__  ) /_/ /___(__  ) /_/ / / / / / / /_/ / /_/ /_/ / /    \n",
      "/_/    \\__,_/____/\\__/_____/____/\\__/_/_/ /_/ /_/\\__,_/\\__/\\____/_/     \n",
      "                                                                        \n",
      "\n",
      "FastEstimator-Warn: No ModelSaver Trace detected. Models will not be saved.\n",
      "FastEstimator-Start: step: 1; logging_interval: 100; num_device: 0;\n",
      "FastEstimator-Train: step: 1; ce: 2.2931223;\n",
      "FastEstimator-Train: step: 100; ce: 0.15197988; steps/sec: 118.62;\n",
      "FastEstimator-Train: step: 200; ce: 0.09351742; steps/sec: 122.33;\n",
      "FastEstimator-Train: step: 200; epoch: 1; epoch_time: 2.09 sec;\n",
      "FastEstimator-Finish: step: 200; model_lr: 0.01; total_time: 2.1 sec;\n",
      "FastEstimator-Test: step: 200; epoch: 1; ce: 0.14578451;\n",
      "FastEstimator-Search: Evaluated {'batch_size': 64, 'lr': 0.01, 'search_idx': 3}, result: {'test_loss': 0.14578451216220856}\n",
      "    ______           __  ______     __  _                 __            \n",
      "   / ____/___ ______/ /_/ ____/____/ /_(_)___ ___  ____ _/ /_____  _____\n",
      "  / /_  / __ `/ ___/ __/ __/ / ___/ __/ / __ `__ \\/ __ `/ __/ __ \\/ ___/\n",
      " / __/ / /_/ (__  ) /_/ /___(__  ) /_/ / / / / / / /_/ / /_/ /_/ / /    \n",
      "/_/    \\__,_/____/\\__/_____/____/\\__/_/_/ /_/ /_/\\__,_/\\__/\\____/_/     \n",
      "                                                                        \n",
      "\n",
      "FastEstimator-Warn: No ModelSaver Trace detected. Models will not be saved.\n",
      "FastEstimator-Start: step: 1; logging_interval: 100; num_device: 0;\n",
      "FastEstimator-Train: step: 1; ce: 2.303106;\n",
      "FastEstimator-Train: step: 100; ce: 0.3351272; steps/sec: 103.4;\n",
      "FastEstimator-Train: step: 200; ce: 0.2712264; steps/sec: 119.26;\n",
      "FastEstimator-Train: step: 200; epoch: 1; epoch_time: 2.23 sec;\n",
      "FastEstimator-Finish: step: 200; model_lr: 0.001; total_time: 2.24 sec;\n",
      "FastEstimator-Test: step: 200; epoch: 1; ce: 0.165447;\n",
      "FastEstimator-Search: Evaluated {'batch_size': 64, 'lr': 0.001, 'search_idx': 4}, result: {'test_loss': 0.16544699668884277}\n"
     ]
    }
   ],
   "source": [
    "mnist_grid_search.fit()"
   ]
  },
  {
   "cell_type": "markdown",
   "metadata": {},
   "source": [
    "Now get the best result and its parameters:"
   ]
  },
  {
   "cell_type": "code",
   "execution_count": 11,
   "metadata": {},
   "outputs": [
    {
     "data": {
      "text/plain": [
       "{'param': {'batch_size': 64, 'lr': 0.01, 'search_idx': 3},\n",
       " 'result': {'test_loss': 0.14578451216220856}}"
      ]
     },
     "execution_count": 11,
     "metadata": {},
     "output_type": "execute_result"
    }
   ],
   "source": [
    "mnist_grid_search.get_best_results(best_mode=\"min\", optimize_field=\"test_loss\")"
   ]
  },
  {
   "cell_type": "markdown",
   "metadata": {},
   "source": [
    "From the results we can see that, with only 200 steps of training, a bigger batch size and a larger learning rate combination is preferred."
   ]
  },
  {
   "cell_type": "markdown",
   "metadata": {},
   "source": [
    "<a id='ta12example2'></a>"
   ]
  },
  {
   "cell_type": "markdown",
   "metadata": {},
   "source": [
    "## Example 2: RUA Augmentation via Golden-Section Search\n",
    "\n",
    "In this example, we will use a built-in augmentation NumpyOp - RUA - and find the optimial level between 0 to 30 using `Golden-Section` search. The test result will be evaluated on the ciFAIR10 dataset after 500 steps of training."
   ]
  },
  {
   "cell_type": "code",
   "execution_count": 12,
   "metadata": {},
   "outputs": [],
   "source": [
    "import tensorflow as tf\n",
    "import fastestimator as fe\n",
    "from fastestimator.architecture.tensorflow import LeNet\n",
    "from fastestimator.dataset.data import cifair10\n",
    "from fastestimator.op.numpyop.univariate import ExpandDims, Minmax, RUA\n",
    "from fastestimator.op.tensorop.loss import CrossEntropy\n",
    "from fastestimator.op.tensorop.model import ModelOp, UpdateOp\n",
    "\n",
    "def get_estimator(level):\n",
    "    train_data, test_data = cifair10.load_data()\n",
    "    pipeline = fe.Pipeline(train_data=train_data,\n",
    "                           test_data=test_data,\n",
    "                           batch_size=64,\n",
    "                           ops=[RUA(level=level, inputs=\"x\", outputs=\"x\", mode=\"train\"), \n",
    "                                Minmax(inputs=\"x\", outputs=\"x\")],\n",
    "                           num_process=0)\n",
    "    model = fe.build(model_fn=lambda: LeNet(input_shape=(32, 32, 3)), optimizer_fn=\"adam\")\n",
    "    network = fe.Network(ops=[\n",
    "        ModelOp(model=model, inputs=\"x\", outputs=\"y_pred\"),\n",
    "        CrossEntropy(inputs=(\"y_pred\", \"y\"), outputs=\"ce\"),\n",
    "        UpdateOp(model=model, loss_name=\"ce\")\n",
    "    ])\n",
    "    estimator = fe.Estimator(pipeline=pipeline,\n",
    "                             network=network,\n",
    "                             epochs=1,\n",
    "                             train_steps_per_epoch=500)\n",
    "    return estimator\n",
    "\n",
    "def eval_fn(search_idx, level):\n",
    "    est = get_estimator(level)\n",
    "    est.fit(warmup=False)\n",
    "    hist = est.test(summary=\"myexp\")\n",
    "    loss = float(hist.history[\"test\"][\"ce\"][500])\n",
    "    return {\"test_loss\": loss}\n",
    "\n",
    "cifair10_gs_search = GoldenSection(eval_fn=eval_fn, x_min=0, x_max=30, max_iter=5, best_mode=\"min\", optimize_field=\"test_loss\")"
   ]
  },
  {
   "cell_type": "code",
   "execution_count": 13,
   "metadata": {
    "scrolled": false
   },
   "outputs": [
    {
     "name": "stdout",
     "output_type": "stream",
     "text": [
      "    ______           __  ______     __  _                 __            \n",
      "   / ____/___ ______/ /_/ ____/____/ /_(_)___ ___  ____ _/ /_____  _____\n",
      "  / /_  / __ `/ ___/ __/ __/ / ___/ __/ / __ `__ \\/ __ `/ __/ __ \\/ ___/\n",
      " / __/ / /_/ (__  ) /_/ /___(__  ) /_/ / / / / / / /_/ / /_/ /_/ / /    \n",
      "/_/    \\__,_/____/\\__/_____/____/\\__/_/_/ /_/ /_/\\__,_/\\__/\\____/_/     \n",
      "                                                                        \n",
      "\n",
      "FastEstimator-Warn: No ModelSaver Trace detected. Models will not be saved.\n",
      "FastEstimator-Start: step: 1; logging_interval: 100; num_device: 0;\n",
      "FastEstimator-Train: step: 1; ce: 2.3147335;\n",
      "FastEstimator-Train: step: 100; ce: 1.9203782; steps/sec: 38.11;\n",
      "FastEstimator-Train: step: 200; ce: 1.8326343; steps/sec: 38.49;\n",
      "FastEstimator-Train: step: 300; ce: 1.6521804; steps/sec: 37.0;\n",
      "FastEstimator-Train: step: 400; ce: 1.6290716; steps/sec: 38.22;\n",
      "FastEstimator-Train: step: 500; ce: 1.8552873; steps/sec: 37.95;\n",
      "FastEstimator-Train: step: 500; epoch: 1; epoch_time: 13.69 sec;\n",
      "FastEstimator-Finish: step: 500; model_lr: 0.001; total_time: 13.7 sec;\n",
      "FastEstimator-Test: step: 500; epoch: 1; ce: 1.4929769;\n",
      "FastEstimator-Search: Evaluated {'level': 11, 'search_idx': 1}, result: {'test_loss': 1.4929769039154053}\n",
      "    ______           __  ______     __  _                 __            \n",
      "   / ____/___ ______/ /_/ ____/____/ /_(_)___ ___  ____ _/ /_____  _____\n",
      "  / /_  / __ `/ ___/ __/ __/ / ___/ __/ / __ `__ \\/ __ `/ __/ __ \\/ ___/\n",
      " / __/ / /_/ (__  ) /_/ /___(__  ) /_/ / / / / / / /_/ / /_/ /_/ / /    \n",
      "/_/    \\__,_/____/\\__/_____/____/\\__/_/_/ /_/ /_/\\__,_/\\__/\\____/_/     \n",
      "                                                                        \n",
      "\n",
      "FastEstimator-Warn: No ModelSaver Trace detected. Models will not be saved.\n",
      "FastEstimator-Start: step: 1; logging_interval: 100; num_device: 0;\n",
      "FastEstimator-Train: step: 1; ce: 2.3274326;\n",
      "FastEstimator-Train: step: 100; ce: 2.1471128; steps/sec: 30.18;\n",
      "FastEstimator-Train: step: 200; ce: 2.0280924; steps/sec: 31.15;\n",
      "FastEstimator-Train: step: 300; ce: 1.9513593; steps/sec: 30.83;\n",
      "FastEstimator-Train: step: 400; ce: 1.8722639; steps/sec: 30.87;\n",
      "FastEstimator-Train: step: 500; ce: 1.6562424; steps/sec: 30.37;\n",
      "FastEstimator-Train: step: 500; epoch: 1; epoch_time: 16.81 sec;\n",
      "FastEstimator-Finish: step: 500; model_lr: 0.001; total_time: 16.82 sec;\n",
      "FastEstimator-Test: step: 500; epoch: 1; ce: 1.5289122;\n",
      "FastEstimator-Search: Evaluated {'level': 18, 'search_idx': 2}, result: {'test_loss': 1.5289121866226196}\n",
      "    ______           __  ______     __  _                 __            \n",
      "   / ____/___ ______/ /_/ ____/____/ /_(_)___ ___  ____ _/ /_____  _____\n",
      "  / /_  / __ `/ ___/ __/ __/ / ___/ __/ / __ `__ \\/ __ `/ __/ __ \\/ ___/\n",
      " / __/ / /_/ (__  ) /_/ /___(__  ) /_/ / / / / / / /_/ / /_/ /_/ / /    \n",
      "/_/    \\__,_/____/\\__/_____/____/\\__/_/_/ /_/ /_/\\__,_/\\__/\\____/_/     \n",
      "                                                                        \n",
      "\n",
      "FastEstimator-Warn: No ModelSaver Trace detected. Models will not be saved.\n",
      "FastEstimator-Start: step: 1; logging_interval: 100; num_device: 0;\n",
      "FastEstimator-Train: step: 1; ce: 2.3333201;\n",
      "FastEstimator-Train: step: 100; ce: 2.119961; steps/sec: 39.6;\n",
      "FastEstimator-Train: step: 200; ce: 1.6275629; steps/sec: 41.22;\n",
      "FastEstimator-Train: step: 300; ce: 1.6753275; steps/sec: 42.15;\n",
      "FastEstimator-Train: step: 400; ce: 1.6944427; steps/sec: 45.06;\n",
      "FastEstimator-Train: step: 500; ce: 1.5651135; steps/sec: 43.44;\n",
      "FastEstimator-Train: step: 500; epoch: 1; epoch_time: 12.38 sec;\n",
      "FastEstimator-Finish: step: 500; model_lr: 0.001; total_time: 12.39 sec;\n",
      "FastEstimator-Test: step: 500; epoch: 1; ce: 1.4776775;\n",
      "FastEstimator-Search: Evaluated {'level': 7, 'search_idx': 3}, result: {'test_loss': 1.4776774644851685}\n",
      "    ______           __  ______     __  _                 __            \n",
      "   / ____/___ ______/ /_/ ____/____/ /_(_)___ ___  ____ _/ /_____  _____\n",
      "  / /_  / __ `/ ___/ __/ __/ / ___/ __/ / __ `__ \\/ __ `/ __/ __ \\/ ___/\n",
      " / __/ / /_/ (__  ) /_/ /___(__  ) /_/ / / / / / / /_/ / /_/ /_/ / /    \n",
      "/_/    \\__,_/____/\\__/_____/____/\\__/_/_/ /_/ /_/\\__,_/\\__/\\____/_/     \n",
      "                                                                        \n",
      "\n",
      "FastEstimator-Warn: No ModelSaver Trace detected. Models will not be saved.\n",
      "FastEstimator-Start: step: 1; logging_interval: 100; num_device: 0;\n",
      "FastEstimator-Train: step: 1; ce: 2.3086846;\n",
      "FastEstimator-Train: step: 100; ce: 1.8608754; steps/sec: 50.94;\n",
      "FastEstimator-Train: step: 200; ce: 1.7586123; steps/sec: 54.0;\n",
      "FastEstimator-Train: step: 300; ce: 1.5368265; steps/sec: 50.56;\n",
      "FastEstimator-Train: step: 400; ce: 1.5286615; steps/sec: 51.85;\n",
      "FastEstimator-Train: step: 500; ce: 1.5017676; steps/sec: 53.21;\n",
      "FastEstimator-Train: step: 500; epoch: 1; epoch_time: 10.08 sec;\n",
      "FastEstimator-Finish: step: 500; model_lr: 0.001; total_time: 10.09 sec;\n",
      "FastEstimator-Test: step: 500; epoch: 1; ce: 1.440324;\n",
      "FastEstimator-Search: Evaluated {'level': 4, 'search_idx': 4}, result: {'test_loss': 1.4403239488601685}\n",
      "    ______           __  ______     __  _                 __            \n",
      "   / ____/___ ______/ /_/ ____/____/ /_(_)___ ___  ____ _/ /_____  _____\n",
      "  / /_  / __ `/ ___/ __/ __/ / ___/ __/ / __ `__ \\/ __ `/ __/ __ \\/ ___/\n",
      " / __/ / /_/ (__  ) /_/ /___(__  ) /_/ / / / / / / /_/ / /_/ /_/ / /    \n",
      "/_/    \\__,_/____/\\__/_____/____/\\__/_/_/ /_/ /_/\\__,_/\\__/\\____/_/     \n",
      "                                                                        \n",
      "\n",
      "FastEstimator-Warn: No ModelSaver Trace detected. Models will not be saved.\n",
      "FastEstimator-Start: step: 1; logging_interval: 100; num_device: 0;\n",
      "FastEstimator-Train: step: 1; ce: 2.3095038;\n",
      "FastEstimator-Train: step: 100; ce: 2.2240534; steps/sec: 53.85;\n",
      "FastEstimator-Train: step: 200; ce: 1.7055149; steps/sec: 54.47;\n",
      "FastEstimator-Train: step: 300; ce: 1.7026446; steps/sec: 54.04;\n",
      "FastEstimator-Train: step: 400; ce: 1.3654401; steps/sec: 52.6;\n",
      "FastEstimator-Train: step: 500; ce: 1.436116; steps/sec: 54.84;\n",
      "FastEstimator-Train: step: 500; epoch: 1; epoch_time: 9.72 sec;\n",
      "FastEstimator-Finish: step: 500; model_lr: 0.001; total_time: 9.72 sec;\n",
      "FastEstimator-Test: step: 500; epoch: 1; ce: 1.5062791;\n",
      "FastEstimator-Search: Evaluated {'level': 2, 'search_idx': 5}, result: {'test_loss': 1.5062791109085083}\n",
      "    ______           __  ______     __  _                 __            \n",
      "   / ____/___ ______/ /_/ ____/____/ /_(_)___ ___  ____ _/ /_____  _____\n",
      "  / /_  / __ `/ ___/ __/ __/ / ___/ __/ / __ `__ \\/ __ `/ __/ __ \\/ ___/\n",
      " / __/ / /_/ (__  ) /_/ /___(__  ) /_/ / / / / / / /_/ / /_/ /_/ / /    \n",
      "/_/    \\__,_/____/\\__/_____/____/\\__/_/_/ /_/ /_/\\__,_/\\__/\\____/_/     \n",
      "                                                                        \n",
      "\n",
      "FastEstimator-Warn: No ModelSaver Trace detected. Models will not be saved.\n",
      "FastEstimator-Start: step: 1; logging_interval: 100; num_device: 0;\n",
      "FastEstimator-Train: step: 1; ce: 2.3203888;\n",
      "FastEstimator-Train: step: 100; ce: 1.8177097; steps/sec: 43.78;\n",
      "FastEstimator-Train: step: 200; ce: 1.6928841; steps/sec: 48.72;\n",
      "FastEstimator-Train: step: 300; ce: 1.5968971; steps/sec: 48.84;\n",
      "FastEstimator-Train: step: 400; ce: 1.6094148; steps/sec: 45.89;\n",
      "FastEstimator-Train: step: 500; ce: 1.296684; steps/sec: 49.44;\n",
      "FastEstimator-Train: step: 500; epoch: 1; epoch_time: 11.09 sec;\n",
      "FastEstimator-Finish: step: 500; model_lr: 0.001; total_time: 11.09 sec;\n",
      "FastEstimator-Test: step: 500; epoch: 1; ce: 1.485304;\n",
      "FastEstimator-Search: Evaluated {'level': 5, 'search_idx': 6}, result: {'test_loss': 1.4853039979934692}\n",
      "FastEstimator-Search: Golden Section Search Finished, best parameters: {'level': 4, 'search_idx': 4}, best result: {'test_loss': 1.4403239488601685}\n"
     ]
    }
   ],
   "source": [
    "cifair10_gs_search.fit()"
   ]
  },
  {
   "cell_type": "markdown",
   "metadata": {},
   "source": [
    "In this example, the optimial level we found is 4. We can then train the model again using `level=4` to get the final model. In a real use case you will want to perform parameter search on a held-out evaluation set, and test the best parameters on the test set."
   ]
  }
 ],
 "metadata": {
  "kernelspec": {
   "display_name": "Python 3 (ipykernel)",
   "language": "python",
   "name": "python3"
  },
  "language_info": {
   "codemirror_mode": {
    "name": "ipython",
    "version": 3
   },
   "file_extension": ".py",
   "mimetype": "text/x-python",
   "name": "python",
   "nbconvert_exporter": "python",
   "pygments_lexer": "ipython3",
   "version": "3.8.10"
  }
 },
 "nbformat": 4,
 "nbformat_minor": 4
}
