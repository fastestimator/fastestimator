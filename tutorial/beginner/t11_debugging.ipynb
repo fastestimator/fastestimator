{
 "cells": [
  {
   "cell_type": "markdown",
   "id": "a965111b",
   "metadata": {},
   "source": [
    "# Tutorial 11: Debugging"
   ]
  },
  {
   "cell_type": "markdown",
   "id": "7d7b10da",
   "metadata": {},
   "source": [
    "## Overview\n",
    "In this tutorial we are going to cover:"
   ]
  },
  {
   "cell_type": "markdown",
   "id": "609140d0",
   "metadata": {},
   "source": [
    "* [Pipeline Debugging](#t11PipelineDebugging)\n",
    "    * [Debugging a Single NumpyOp](#t11SingleNumpyop)\n",
    "    * [Debugging and Verifying the Pipeline Results](#t11VerifyPipeline)\n",
    "* [Network Debugging](#t11NetworkDebugging)\n",
    "    * [Debugging a Single TensorOp](#t11SingleTensorOp)\n",
    "    * [Debugging and Verifying the Network Results](#t11VerifyNetwork)\n",
    "* [Trace Debugging](#t11TraceDebugging)\n",
    "    * [Conditional Debugging During Training](#t11Conditional)\n",
    "    * [Debugging Pipeline and Network from a Trace](#t11DebugPiplineNetwork)"
   ]
  },
  {
   "cell_type": "markdown",
   "id": "8a6c0d95",
   "metadata": {},
   "source": [
    "<a id='t11PipelineDebugging'></a>"
   ]
  },
  {
   "cell_type": "markdown",
   "id": "f5f618f0",
   "metadata": {},
   "source": [
    "## Pipeline Debugging"
   ]
  },
  {
   "cell_type": "markdown",
   "id": "a322ba51",
   "metadata": {},
   "source": [
    "In [Tutorial 4](./t04_pipeline.ipynb) we demonstrated what the Pipeline is and how it is created to handle different preprocessing tasks using `NumpyOp`s. Since the pipeline consists of a series of NumpyOps, it's a vital to know how to debug those `NumpyOp`s. \n",
    "It is also a good practice to inspect the results of the pipeline and ensure that the output is as you expected.<br>\n",
    "\n",
    "There are two ways we can debug the `Pipeline`,\n",
    "1. Debug a single `NumpyOp`\n",
    "2. Debug and verify the results of `Pipeline`"
   ]
  },
  {
   "cell_type": "markdown",
   "id": "35446bfc",
   "metadata": {},
   "source": [
    "<a id='t11PipelineDebugging'></a>"
   ]
  },
  {
   "cell_type": "markdown",
   "id": "dad4b117",
   "metadata": {},
   "source": [
    "### Debugging a Single NumpyOp"
   ]
  },
  {
   "cell_type": "markdown",
   "id": "6ca1d2fc",
   "metadata": {},
   "source": [
    "We will first create a simple `Pipeline` with a few `NumpyOps` that add random noise and rotate the image."
   ]
  },
  {
   "cell_type": "markdown",
   "id": "f7356cd1",
   "metadata": {},
   "source": [
    "Now, if we want to debug the variable values in the `AddNoise` op we will do the following,\n",
    "1. Set the <b>num_process=0</b> to disable the multiprocessing\n",
    "2. Add your choice of a debugger such as the python debugger (PDB), an IDE specific debugger, or print statement in the `NumpyOp`"
   ]
  },
  {
   "cell_type": "code",
   "execution_count": 1,
   "id": "3ae5e411",
   "metadata": {},
   "outputs": [],
   "source": [
    "import numpy as np\n",
    "import fastestimator as fe\n",
    "\n",
    "from fastestimator.dataset.data import mnist\n",
    "from fastestimator.op.numpyop import NumpyOp\n",
    "from fastestimator.op.numpyop.multivariate import Rotate\n",
    "\n",
    "from fastestimator.architecture.tensorflow import LeNet"
   ]
  },
  {
   "cell_type": "code",
   "execution_count": 2,
   "id": "d84b8064",
   "metadata": {},
   "outputs": [
    {
     "name": "stderr",
     "output_type": "stream",
     "text": [
      "/usr/local/lib/python3.8/dist-packages/torch/cuda/__init__.py:80: UserWarning: CUDA initialization: Unexpected error from cudaGetDeviceCount(). Did you run some cuda functions before calling NumCudaDevices() that might have already set an error? Error 34: CUDA driver is a stub library (Triggered internally at  ../c10/cuda/CUDAFunctions.cpp:112.)\n",
      "  return torch._C._cuda_getDeviceCount() > 0\n",
      "2022-11-04 18:48:06.374570: E tensorflow/stream_executor/cuda/cuda_driver.cc:271] failed call to cuInit: UNKNOWN ERROR (34)\n",
      "2022-11-04 18:48:06.374629: I tensorflow/stream_executor/cuda/cuda_diagnostics.cc:163] no NVIDIA GPU device is present: /dev/nvidia0 does not exist\n",
      "2022-11-04 18:48:06.374821: I tensorflow/core/platform/cpu_feature_guard.cc:193] This TensorFlow binary is optimized with oneAPI Deep Neural Network Library (oneDNN) to use the following CPU instructions in performance-critical operations:  AVX2 FMA\n",
      "To enable them in other operations, rebuild TensorFlow with the appropriate compiler flags.\n"
     ]
    }
   ],
   "source": [
    "train_data, eval_data = mnist.load_data()\n",
    "test_data = eval_data.split(0.5)\n",
    "model = fe.build(model_fn=LeNet, optimizer_fn=\"adam\")"
   ]
  },
  {
   "cell_type": "markdown",
   "id": "a334bb6f",
   "metadata": {},
   "source": [
    "Single `NumpyOp` can be debugged in two ways,\n",
    "* Using `Pipeline.transform`\n",
    "* Running the training loop"
   ]
  },
  {
   "cell_type": "markdown",
   "id": "6f9e04a8",
   "metadata": {},
   "source": [
    "#### Using Pipeline.transform"
   ]
  },
  {
   "cell_type": "code",
   "execution_count": 3,
   "id": "c291ba7d",
   "metadata": {},
   "outputs": [],
   "source": [
    "class AddNoiseDebug(NumpyOp):\n",
    "    def __init__(self, inputs, outputs, mode = None):\n",
    "        super().__init__(inputs, outputs, mode)\n",
    "\n",
    "    def forward(self, data, state):\n",
    "        noise = np.random.normal(0, 1, size=data.shape)\n",
    "        print('Noise shape ', noise.shape)\n",
    "        print('data shape ', data.shape) # add print statement to check the data and noise\n",
    "        data = data + noise\n",
    "        return data"
   ]
  },
  {
   "cell_type": "code",
   "execution_count": 4,
   "id": "cdd6ccec",
   "metadata": {},
   "outputs": [],
   "source": [
    "debug_pipeline = fe.Pipeline(train_data=train_data,\n",
    "                       eval_data=eval_data,\n",
    "                       test_data=test_data,\n",
    "                       batch_size=3,\n",
    "                       ops=[AddNoiseDebug(inputs='x', outputs='x_out'),\n",
    "                            Rotate(image_in=\"x_out\", image_out=\"x_out\", limit=60)], \n",
    "                             num_process=0)"
   ]
  },
  {
   "cell_type": "code",
   "execution_count": 5,
   "id": "889fefdb",
   "metadata": {},
   "outputs": [
    {
     "name": "stdout",
     "output_type": "stream",
     "text": [
      "Noise shape  (28, 28)\n",
      "data shape  (28, 28)\n"
     ]
    }
   ],
   "source": [
    "results = debug_pipeline.transform(train_data[0], mode='train')"
   ]
  },
  {
   "cell_type": "markdown",
   "id": "c90c3da0",
   "metadata": {},
   "source": [
    "#### Running the Training Loop"
   ]
  },
  {
   "cell_type": "code",
   "execution_count": 6,
   "id": "e8c868b2",
   "metadata": {},
   "outputs": [],
   "source": [
    "from fastestimator.op.tensorop.loss import CrossEntropy\n",
    "from fastestimator.op.tensorop.model import ModelOp, UpdateOp"
   ]
  },
  {
   "cell_type": "code",
   "execution_count": 7,
   "id": "b60b14eb",
   "metadata": {},
   "outputs": [],
   "source": [
    "network = fe.Network(ops=[ModelOp(model=model, inputs=\"x_out\", outputs=\"y_pred\"),\n",
    "                          CrossEntropy(inputs=(\"y_pred\", \"y\"), outputs=\"ce\", mode=\"!infer\"),\n",
    "                          UpdateOp(model=model, loss_name=\"ce\", mode=\"train\")])"
   ]
  },
  {
   "cell_type": "markdown",
   "id": "9ec29521",
   "metadata": {},
   "source": [
    "NOTE: The training logs will print extra debug messages if warmup is not set to False in `Estimator.fit`. When warmup is enabled it will perform a test run on both `Pipeline` and `Network` to make sure that training will not fail in later stages. "
   ]
  },
  {
   "cell_type": "code",
   "execution_count": 8,
   "id": "08fa96cd",
   "metadata": {},
   "outputs": [
    {
     "name": "stdout",
     "output_type": "stream",
     "text": [
      "    ______           __  ______     __  _                 __            \n",
      "   / ____/___ ______/ /_/ ____/____/ /_(_)___ ___  ____ _/ /_____  _____\n",
      "  / /_  / __ `/ ___/ __/ __/ / ___/ __/ / __ `__ \\/ __ `/ __/ __ \\/ ___/\n",
      " / __/ / /_/ (__  ) /_/ /___(__  ) /_/ / / / / / / /_/ / /_/ /_/ / /    \n",
      "/_/    \\__,_/____/\\__/_____/____/\\__/_/_/ /_/ /_/\\__,_/\\__/\\____/_/     \n",
      "                                                                        \n",
      "\n",
      "FastEstimator-Warn: No ModelSaver Trace detected. Models will not be saved.\n",
      "FastEstimator-Start: step: 1; logging_interval: 100; num_device: 0;\n",
      "Noise shape  (28, 28)\n",
      "data shape  (28, 28)\n",
      "FastEstimator-Warn: The following key(s) are being pruned since they are unused outside of the Pipeline. To prevent this, you can declare the key(s) as inputs to Traces or TensorOps: x\n",
      "FastEstimator-Train: step: 1; ce: 27.005692;\n",
      "FastEstimator-Train: step: 1; epoch: 1; epoch_time(sec): 2.64;\n",
      "Noise shape  (28, 28)\n",
      "data shape  (28, 28)\n",
      "Eval Progress: 1/1;\n",
      "FastEstimator-Eval: step: 1; epoch: 1; ce: 19.016918;\n",
      "FastEstimator-Finish: step: 1; model_lr: 0.001; total_time(sec): 2.89;\n"
     ]
    }
   ],
   "source": [
    "estimator = fe.Estimator(pipeline=debug_pipeline,\n",
    "                         network=network,\n",
    "                         epochs=1,\n",
    "                         train_steps_per_epoch=1, \n",
    "                         eval_steps_per_epoch=1)\n",
    "estimator.fit(warmup=False)"
   ]
  },
  {
   "cell_type": "markdown",
   "id": "ce6619b1",
   "metadata": {},
   "source": [
    "<a id='t11PipelineDebugging'></a>"
   ]
  },
  {
   "cell_type": "markdown",
   "id": "09c86faa",
   "metadata": {},
   "source": [
    "### Debugging and Verifying the Pipeline Results"
   ]
  },
  {
   "cell_type": "markdown",
   "id": "9c9c19e3",
   "metadata": {},
   "source": [
    "In order to debug and verify the pipeline results, we will use the `pipeline.get_results()`. You can also visualize the results using the utility functions."
   ]
  },
  {
   "cell_type": "code",
   "execution_count": 9,
   "id": "27867edd",
   "metadata": {},
   "outputs": [
    {
     "name": "stdout",
     "output_type": "stream",
     "text": [
      "Noise shape  (28, 28)\n",
      "data shape  (28, 28)\n",
      "Noise shape  (28, 28)\n",
      "data shape  (28, 28)\n",
      "Noise shape  (28, 28)\n",
      "data shape  (28, 28)\n"
     ]
    },
    {
     "data": {
      "image/png": "[encoded data removed]",
      "text/plain": [
       "<IPython.core.display.Image object>"
      ]
     },
     "metadata": {},
     "output_type": "display_data"
    }
   ],
   "source": [
    "from fastestimator.util import BatchDisplay, GridDisplay, ImageDisplay\n",
    "\n",
    "data = debug_pipeline.get_results()\n",
    "img = GridDisplay([BatchDisplay(image=data[\"x\"], title=\"original image\"), BatchDisplay(image=data[\"x_out\"], title=\"pipeline output\")])\n",
    "img.show()"
   ]
  },
  {
   "cell_type": "markdown",
   "id": "690c9ebf",
   "metadata": {},
   "source": [
    "<a id='t11PipelineDebugging'></a>"
   ]
  },
  {
   "cell_type": "markdown",
   "id": "9219488b",
   "metadata": {},
   "source": [
    "## Network Debugging"
   ]
  },
  {
   "cell_type": "markdown",
   "id": "949a8dae",
   "metadata": {},
   "source": [
    "`Network` defines the model and the operations that need to be performed on it. It is composed of series of TensorOps and can be debugged in similar fashion as the `Pipeline`.\n",
    "1. Debugging a single `TensorOp`\n",
    "2. Verifying and debugging the network results"
   ]
  },
  {
   "cell_type": "markdown",
   "id": "0db84e5b",
   "metadata": {},
   "source": [
    "<a id='t11SingleTensorOp'></a>\n",
    "\n",
    "### Debugging a Single TensorOp"
   ]
  },
  {
   "cell_type": "markdown",
   "id": "b6c7947e",
   "metadata": {},
   "source": [
    "A TensorOp can be debugged in two ways,\n",
    "* Using `network.transform`\n",
    "* Running the training loop"
   ]
  },
  {
   "cell_type": "markdown",
   "id": "27207021",
   "metadata": {},
   "source": [
    "#### Using Network.transform"
   ]
  },
  {
   "cell_type": "markdown",
   "id": "02c65a15",
   "metadata": {},
   "source": [
    "We will add a Custom `TensorOp` that will print the value of prediction and run the forward step through the network using `network.transform`."
   ]
  },
  {
   "cell_type": "code",
   "execution_count": 10,
   "id": "e8a52201",
   "metadata": {},
   "outputs": [],
   "source": [
    "import tensorflow as tf\n",
    "from fastestimator.op.tensorop import TensorOp"
   ]
  },
  {
   "cell_type": "code",
   "execution_count": 11,
   "id": "78b7746b",
   "metadata": {},
   "outputs": [],
   "source": [
    "class CustomTensorOp(TensorOp):\n",
    "    def forward(self, data, state):\n",
    "        pred = data[0]\n",
    "        labels = data[1]\n",
    "        print('Predictions:\\n ', pred)"
   ]
  },
  {
   "cell_type": "code",
   "execution_count": 12,
   "id": "3eb87c82",
   "metadata": {},
   "outputs": [],
   "source": [
    "pipeline = fe.Pipeline(train_data=train_data,\n",
    "                       eval_data=eval_data,\n",
    "                       test_data=test_data,\n",
    "                       batch_size=3,\n",
    "                       ops=[Rotate(image_in=\"x\", image_out=\"x_out\", limit=60)])"
   ]
  },
  {
   "cell_type": "code",
   "execution_count": 13,
   "id": "da5a81fb",
   "metadata": {},
   "outputs": [],
   "source": [
    "network = fe.Network(ops=[ModelOp(model=model, inputs=\"x_out\", outputs=\"y_pred\"), #default mode=None\n",
    "                          CrossEntropy(inputs=(\"y_pred\", \"y\"), outputs=\"ce\"),\n",
    "                          CustomTensorOp(inputs=(\"y_pred\", \"y\")),\n",
    "                          UpdateOp(model=model, loss_name=\"ce\", mode=\"train\")])"
   ]
  },
  {
   "cell_type": "code",
   "execution_count": 14,
   "id": "8851ca02",
   "metadata": {},
   "outputs": [
    {
     "name": "stdout",
     "output_type": "stream",
     "text": [
      "Predictions:\n",
      "  tf.Tensor(\n",
      "[[1.84605952e-13 1.35236891e-21 8.96912971e-26 7.53040075e-10\n",
      "  2.92707147e-09 4.52285354e-24 2.93159675e-13 1.13306120e-09\n",
      "  1.00000000e+00 4.61551404e-14]\n",
      " [8.96088013e-15 1.07297582e-11 6.47558979e-22 4.55104646e-06\n",
      "  1.12154931e-01 8.58035724e-24 2.32068499e-16 8.77452672e-01\n",
      "  1.03877764e-02 4.05513090e-09]\n",
      " [1.15011451e-12 1.38708302e-24 1.12393150e-11 1.17335359e-08\n",
      "  7.94216305e-07 1.21484445e-23 3.15572667e-20 1.02369202e-09\n",
      "  2.45853816e-03 9.97540593e-01]], shape=(3, 10), dtype=float32)\n"
     ]
    }
   ],
   "source": [
    "test_data = pipeline.get_results(mode=\"test\")\n",
    "test_data = network.transform(test_data, mode=\"test\")"
   ]
  },
  {
   "cell_type": "markdown",
   "id": "7083b236",
   "metadata": {},
   "source": [
    "As you can see, the predictions are getting displayed from the print statement in the `CustomTensorOp`"
   ]
  },
  {
   "cell_type": "markdown",
   "id": "b82abaf5",
   "metadata": {},
   "source": [
    "#### Running the Training Loop"
   ]
  },
  {
   "cell_type": "code",
   "execution_count": 15,
   "id": "42a1d279",
   "metadata": {},
   "outputs": [],
   "source": [
    "class CustomTensorOp(TensorOp):\n",
    "    def forward(self, data, state):\n",
    "        pred = data[0]\n",
    "        labels = data[1]\n",
    "        tf.print(pred.shape) # tf.print will work in both graph mode and eager mode\n",
    "        print(labels.shape) # print only work in eager mode for tensorflow"
   ]
  },
  {
   "cell_type": "code",
   "execution_count": 16,
   "id": "9b8d6898",
   "metadata": {},
   "outputs": [],
   "source": [
    "network = fe.Network(ops=[ModelOp(model=model, inputs=\"x_out\", outputs=\"y_pred\"), #default mode=None\n",
    "                          CrossEntropy(inputs=(\"y_pred\", \"y\"), outputs=\"ce\"),\n",
    "                          CustomTensorOp(inputs=(\"y_pred\", \"y\")),\n",
    "                          UpdateOp(model=model, loss_name=\"ce\", mode=\"train\")])"
   ]
  },
  {
   "cell_type": "markdown",
   "id": "fda169cc",
   "metadata": {},
   "source": [
    "If you are using the <b>Tensorflow</b> backend it's important to set `eager=True` in the `Estimator.fit()` or can use the `tf.print` function to print in graph mode. For the <b>PyTorch</b> backend, you can use any of your favorite debuggers and no graph mode settings are required."
   ]
  },
  {
   "cell_type": "code",
   "execution_count": 17,
   "id": "d7db277d",
   "metadata": {},
   "outputs": [
    {
     "name": "stdout",
     "output_type": "stream",
     "text": [
      "    ______           __  ______     __  _                 __            \n",
      "   / ____/___ ______/ /_/ ____/____/ /_(_)___ ___  ____ _/ /_____  _____\n",
      "  / /_  / __ `/ ___/ __/ __/ / ___/ __/ / __ `__ \\/ __ `/ __/ __ \\/ ___/\n",
      " / __/ / /_/ (__  ) /_/ /___(__  ) /_/ / / / / / / /_/ / /_/ /_/ / /    \n",
      "/_/    \\__,_/____/\\__/_____/____/\\__/_/_/ /_/ /_/\\__,_/\\__/\\____/_/     \n",
      "                                                                        \n",
      "\n",
      "FastEstimator-Warn: No ModelSaver Trace detected. Models will not be saved.\n",
      "TensorShape([3, 10])\n",
      "(3,)\n",
      "TensorShape([3, 10])\n",
      "(3,)\n",
      "TensorShape([3, 10])\n",
      "(3,)\n",
      "TensorShape([3, 10])\n",
      "(3,)\n",
      "TensorShape([3, 10])\n",
      "(3,)\n",
      "TensorShape([3, 10])\n",
      "(3,)\n",
      "TensorShape([3, 10])\n",
      "(3,)\n",
      "TensorShape([3, 10])\n",
      "(3,)\n"
     ]
    }
   ],
   "source": [
    "estimator = fe.Estimator(pipeline=pipeline,\n",
    "                         network=network,\n",
    "                         epochs=2,\n",
    "                         train_steps_per_epoch=2, \n",
    "                         eval_steps_per_epoch=1,\n",
    "                         log_steps=None)\n",
    "estimator.fit(eager=True)"
   ]
  },
  {
   "cell_type": "markdown",
   "id": "79628905",
   "metadata": {},
   "source": [
    "<a id='t11VerifyNetwork'></a>"
   ]
  },
  {
   "cell_type": "markdown",
   "id": "4b9ff05f",
   "metadata": {},
   "source": [
    "### Debugging and Verifying the Network Results"
   ]
  },
  {
   "cell_type": "markdown",
   "id": "3ae6f3e7",
   "metadata": {},
   "source": [
    "Now let's look at how to verify the output of the network using `network.transform`"
   ]
  },
  {
   "cell_type": "code",
   "execution_count": 18,
   "id": "35fbf93f",
   "metadata": {},
   "outputs": [],
   "source": [
    "network = fe.Network(ops=[ModelOp(model=model, inputs=\"x_out\", outputs=\"y_pred\"), #default mode=None\n",
    "                          CrossEntropy(inputs=(\"y_pred\", \"y\"), outputs=\"ce\", mode=\"!infer\"),\n",
    "                          UpdateOp(model=model, loss_name=\"ce\", mode=\"train\")])"
   ]
  },
  {
   "cell_type": "markdown",
   "id": "8d8081eb",
   "metadata": {},
   "source": [
    "We will take the output of the pipeline and feed it into the network to verify that the network is giving us the output as was expected"
   ]
  },
  {
   "cell_type": "code",
   "execution_count": 19,
   "id": "736f90a7",
   "metadata": {},
   "outputs": [
    {
     "name": "stdout",
     "output_type": "stream",
     "text": [
      "Labels:  tf.Tensor([3 3 2], shape=(3,), dtype=uint8)\n",
      "Predictions:  [3 9 3]\n"
     ]
    }
   ],
   "source": [
    "test_data = pipeline.get_results(mode=\"test\")\n",
    "test_data = network.transform(test_data, mode=\"test\")\n",
    "print('Labels: ', test_data['y'])\n",
    "print('Predictions: ', np.argmax(test_data['y_pred'].numpy(), axis=1))"
   ]
  },
  {
   "cell_type": "markdown",
   "id": "e1fe5430",
   "metadata": {},
   "source": [
    "<a id='t11TraceDebugging'></a>"
   ]
  },
  {
   "cell_type": "markdown",
   "id": "e781084b",
   "metadata": {},
   "source": [
    "## Trace Debugging"
   ]
  },
  {
   "cell_type": "markdown",
   "id": "37102c54",
   "metadata": {},
   "source": [
    "<a id='t11Conditional'></a>"
   ]
  },
  {
   "cell_type": "markdown",
   "id": "e11e319f",
   "metadata": {},
   "source": [
    "### Conditional Debugging During Training"
   ]
  },
  {
   "cell_type": "markdown",
   "id": "cfb8c078",
   "metadata": {},
   "source": [
    "What if our training is giving some weird result for the specific sample after a certain number of training epochs? How do you debug such sample data based on specific conditions?\n",
    "\n",
    "In [Tutorial 7](./t07_estimator.ipynb) we introduced the `Trace` and it's various use cases during the training. Since the trace allows us to control the training loop it is possible to add conditions that suit your needs to debug the training code."
   ]
  },
  {
   "cell_type": "markdown",
   "id": "7968397c",
   "metadata": {},
   "source": [
    "Let's write a trace that prints the predictions and label values for second batch during the training. To access the training information inside the `Trace`, you can use the `System` instance as explained in [Advanced Tutorial 4](../advanced/t04_trace.ipynb)."
   ]
  },
  {
   "cell_type": "code",
   "execution_count": 20,
   "id": "d4548f4f",
   "metadata": {},
   "outputs": [],
   "source": [
    "from fastestimator.trace import Trace\n",
    "from fastestimator.trace.metric import Accuracy"
   ]
  },
  {
   "cell_type": "code",
   "execution_count": 21,
   "id": "aa76eb4e",
   "metadata": {},
   "outputs": [],
   "source": [
    "class MonitorResult(Trace):\n",
    "        \n",
    "    def on_batch_end(self, data):\n",
    "        if self.system.batch_idx == 2:\n",
    "            predictions = np.argmax(data[self.inputs[1]].numpy(), axis=1)\n",
    "            print('Current global step: ', self.system.global_step)\n",
    "            print(\"Batch true labels: \", data[self.inputs[0]])\n",
    "            print(\"Batch predictictions: \", predictions)"
   ]
  },
  {
   "cell_type": "code",
   "execution_count": 22,
   "id": "7b3c59a5",
   "metadata": {},
   "outputs": [
    {
     "name": "stdout",
     "output_type": "stream",
     "text": [
      "    ______           __  ______     __  _                 __            \n",
      "   / ____/___ ______/ /_/ ____/____/ /_(_)___ ___  ____ _/ /_____  _____\n",
      "  / /_  / __ `/ ___/ __/ __/ / ___/ __/ / __ `__ \\/ __ `/ __/ __ \\/ ___/\n",
      " / __/ / /_/ (__  ) /_/ /___(__  ) /_/ / / / / / / /_/ / /_/ /_/ / /    \n",
      "/_/    \\__,_/____/\\__/_____/____/\\__/_/_/ /_/ /_/\\__,_/\\__/\\____/_/     \n",
      "                                                                        \n",
      "\n",
      "FastEstimator-Warn: No ModelSaver Trace detected. Models will not be saved.\n",
      "WARNING:tensorflow:5 out of the last 5 calls to <function TFNetwork._forward_step_static at 0x7ff2ebd88700> triggered tf.function retracing. Tracing is expensive and the excessive number of tracings could be due to (1) creating @tf.function repeatedly in a loop, (2) passing tensors with different shapes, (3) passing Python objects instead of tensors. For (1), please define your @tf.function outside of the loop. For (2), @tf.function has reduce_retracing=True option that can avoid unnecessary retracing. For (3), please refer to https://www.tensorflow.org/guide/function#controlling_retracing and https://www.tensorflow.org/api_docs/python/tf/function for  more details.\n",
      "Current global step:  2\n",
      "Batch true labels:  tf.Tensor([6 2 6], shape=(3,), dtype=uint8)\n",
      "Batch predictictions:  [4 3 4]\n",
      "Current global step:  17\n",
      "Batch true labels:  tf.Tensor([4 1 7], shape=(3,), dtype=uint8)\n",
      "Batch predictictions:  [6 1 1]\n",
      "Current global step:  32\n",
      "Batch true labels:  tf.Tensor([7 5 1], shape=(3,), dtype=uint8)\n",
      "Batch predictictions:  [4 3 2]\n"
     ]
    }
   ],
   "source": [
    "traces = [\n",
    "    Accuracy(true_key=\"y\", pred_key=\"y_pred\"),\n",
    "    MonitorResult(inputs=(\"y\", \"y_pred\"), mode='train')\n",
    "]\n",
    "estimator = fe.Estimator(pipeline=pipeline,\n",
    "                         network=network,\n",
    "                         epochs=3,\n",
    "                         traces=traces,\n",
    "                         train_steps_per_epoch=15, \n",
    "                         log_steps=None)\n",
    "estimator.fit()"
   ]
  },
  {
   "cell_type": "markdown",
   "id": "f0c29f01",
   "metadata": {},
   "source": [
    "<a id='t11DebugPiplineNetwork'></a>"
   ]
  },
  {
   "cell_type": "markdown",
   "id": "630379e5",
   "metadata": {},
   "source": [
    "### Debugging Pipeline and Network From a Trace"
   ]
  },
  {
   "cell_type": "markdown",
   "id": "d8710daa",
   "metadata": {},
   "source": [
    "Trace can also be used to debug the results of `Pipeline` and `Network`. In the previous example, we print the predictions and labels for epoch 2 and 3. But what if we want to debug the actual pipeline data used in the training."
   ]
  },
  {
   "cell_type": "markdown",
   "id": "b21670f0",
   "metadata": {},
   "source": [
    "We can use the same conditional debugging as before, only this time printing the results of the `Pipeline`. Let's write a trace that prints the pipeline output when the loss value crosses 2."
   ]
  },
  {
   "cell_type": "code",
   "execution_count": 23,
   "id": "4881da1c",
   "metadata": {},
   "outputs": [],
   "source": [
    "model = fe.build(model_fn=LeNet, optimizer_fn=\"adam\")"
   ]
  },
  {
   "cell_type": "code",
   "execution_count": 24,
   "id": "74db5a1e",
   "metadata": {},
   "outputs": [],
   "source": [
    "class MonitorPipelineResults(Trace):\n",
    "    def __init__(self, true_key, pred_key, mode=\"train\"):\n",
    "        super().__init__(inputs=(true_key, pred_key), mode=mode)\n",
    "        \n",
    "    def on_batch_end(self, data):\n",
    "        if data['ce'] > 3 and self.system.epoch_idx >= 2:\n",
    "            print('\\nLoss is above 3. Check the pipeline results!')\n",
    "            print(data['x_out'])"
   ]
  },
  {
   "cell_type": "code",
   "execution_count": 25,
   "id": "4c7fbb07",
   "metadata": {},
   "outputs": [
    {
     "name": "stdout",
     "output_type": "stream",
     "text": [
      "    ______           __  ______     __  _                 __            \n",
      "   / ____/___ ______/ /_/ ____/____/ /_(_)___ ___  ____ _/ /_____  _____\n",
      "  / /_  / __ `/ ___/ __/ __/ / ___/ __/ / __ `__ \\/ __ `/ __/ __ \\/ ___/\n",
      " / __/ / /_/ (__  ) /_/ /___(__  ) /_/ / / / / / / /_/ / /_/ /_/ / /    \n",
      "/_/    \\__,_/____/\\__/_____/____/\\__/_/_/ /_/ /_/\\__,_/\\__/\\____/_/     \n",
      "                                                                        \n",
      "\n",
      "FastEstimator-Warn: No ModelSaver Trace detected. Models will not be saved.\n",
      "FastEstimator-Start: step: 1; logging_interval: 100; num_device: 0;\n",
      "FastEstimator-Train: step: 1; ce: 2.977018;\n",
      "FastEstimator-Train: step: 2; epoch: 1; epoch_time(sec): 1.65;\n",
      "Eval Progress: 1/1666;\n",
      "Eval Progress: 555/1666; steps/sec: 586.37;\n",
      "Eval Progress: 1110/1666; steps/sec: 628.18;\n",
      "Eval Progress: 1666/1666; steps/sec: 633.28;\n",
      "FastEstimator-Eval: step: 2; epoch: 1; accuracy: 0.3306; ce: 1.9816521;\n",
      "FastEstimator-Train: step: 4; epoch: 2; epoch_time(sec): 1.71;\n",
      "Eval Progress: 1/1666;\n",
      "Eval Progress: 555/1666; steps/sec: 548.44;\n",
      "Eval Progress: 1110/1666; steps/sec: 622.79;\n",
      "Eval Progress: 1666/1666; steps/sec: 632.5;\n",
      "FastEstimator-Eval: step: 4; epoch: 2; accuracy: 0.3474; ce: 1.949829;\n",
      "FastEstimator-Train: step: 6; epoch: 3; epoch_time(sec): 1.51;\n",
      "Eval Progress: 1/1666;\n",
      "Eval Progress: 555/1666; steps/sec: 476.68;\n",
      "Eval Progress: 1110/1666; steps/sec: 548.92;\n",
      "Eval Progress: 1666/1666; steps/sec: 537.1;\n",
      "FastEstimator-Eval: step: 6; epoch: 3; accuracy: 0.3552; ce: 1.9489236;\n",
      "FastEstimator-Finish: step: 6; model_lr: 0.001; total_time(sec): 18.76;\n"
     ]
    }
   ],
   "source": [
    "traces = [\n",
    "    Accuracy(true_key=\"y\", pred_key=\"y_pred\"),\n",
    "    MonitorPipelineResults(true_key=\"y\", pred_key=\"y_pred\")\n",
    "]\n",
    "estimator = fe.Estimator(pipeline=pipeline,\n",
    "                         network=network,\n",
    "                         epochs=3,\n",
    "                         traces=traces,\n",
    "                         train_steps_per_epoch=2)\n",
    "estimator.fit()"
   ]
  }
 ],
 "metadata": {
  "kernelspec": {
   "display_name": "Python 3.8.10 64-bit",
   "language": "python",
   "name": "python3"
  },
  "language_info": {
   "codemirror_mode": {
    "name": "ipython",
    "version": 3
   },
   "file_extension": ".py",
   "mimetype": "text/x-python",
   "name": "python",
   "nbconvert_exporter": "python",
   "pygments_lexer": "ipython3",
   "version": "3.8.10"
  },
  "vscode": {
   "interpreter": {
    "hash": "db12ecd9a8da12dcbc3956f84cadbe4fb87690b6fa9e5362a3236eb452edec44"
   }
  }
 },
 "nbformat": 4,
 "nbformat_minor": 5
}
