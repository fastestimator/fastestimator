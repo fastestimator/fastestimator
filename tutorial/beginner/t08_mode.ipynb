{
 "cells": [
  {
   "cell_type": "markdown",
   "metadata": {},
   "source": [
    "# Tutorial 8: Mode"
   ]
  },
  {
   "cell_type": "markdown",
   "metadata": {},
   "source": [
    "## Overview\n",
    "In this tutorial we are going to cover:\n",
    "* [Modes](#t08mode)\n",
    "* [When Modes are Activated](#t08when)\n",
    "* [How to Set Modes](#t08how)\n",
    "* [A Code Example](#t08code)\n",
    "* [Related Apphub Examples](#t08apphub)"
   ]
  },
  {
   "cell_type": "markdown",
   "metadata": {},
   "source": [
    "<a id='t08mode'></a>"
   ]
  },
  {
   "cell_type": "markdown",
   "metadata": {},
   "source": [
    "## Modes\n",
    "The development cycle of a deep learning application can usually be broken into 4 phases: training, evaluation, testing, and inference.\n",
    "FastEstimator provides 4 corresponding modes: `train`, `eval`, `test`, and `infer` that allow users to manage each phase independently. Users have the flexibility to construct the `Network` and `Pipeline` in different ways for each of those modes. Only a single mode can ever be active at a time, and for each given mode the corresponding graph topology will be computed and executed."
   ]
  },
  {
   "cell_type": "markdown",
   "metadata": {},
   "source": [
    "<a id='t08when'></a>"
   ]
  },
  {
   "cell_type": "markdown",
   "metadata": {},
   "source": [
    "## When Modes are Activated\n",
    "* train: `estimator.fit()` being called, during training cycle\n",
    "* eval: `estimator.fit()` being called, during evaluation cycle\n",
    "* test: `estimator.test()` being called\n",
    "* infer: `pipeline.transform(mode=\"infer\")` or `network.transform(mode=\"infer\")` being called (inference will be covered in [Tutorial 9](./t09_inference.ipynb))"
   ]
  },
  {
   "cell_type": "markdown",
   "metadata": {},
   "source": [
    "<a id='t08how'></a>"
   ]
  },
  {
   "cell_type": "markdown",
   "metadata": {},
   "source": [
    "## How to Set Modes\n",
    "From the previous tutorials we already know that `Ops` define the workflow of `Networks` and `Pipelines`, whereas `Traces` control the training process. All `Ops` and `Traces` can be specified to run in one or more modes. Here are all 5 ways to set the modes:\n",
    "\n",
    "1. **Setting a single mode**<br>\n",
    "    Specify the desired mode as string.<br>\n",
    "    Ex: Op(mode=\"train\")<br><br>\n",
    "\n",
    "2. **Setting multiple modes**<br>\n",
    "    Put all desired modes in a tuple or list as an argument.<br>\n",
    "    Ex: Trace(mode=[\"train\", \"test\"]) <br><br>\n",
    "\n",
    "3. **Setting an exception mode**<br>\n",
    "    Prefix a \"!\" on a mode, and then the object will execute during all modes that are NOT the specified one.<br>\n",
    "    Ex: Op(mode=\"!train\") <br><br>\n",
    "\n",
    "4. **Setting all modes**<br>\n",
    "    Set the mode argument equal to None.<br>\n",
    "    Ex: Trace(mode=None) <br><br>\n",
    "\n",
    "5. **Using the default mode setting**<br> \n",
    "    Don't specify anything in mode argument. Different `Ops` and `Traces` have different default mode settings.<br>\n",
    "    Ex: `UpdateOp` -> default mode: train <br>\n",
    "    Ex: `Accuracy` trace -> default mode: eval, test<br> \n"
   ]
  },
  {
   "cell_type": "markdown",
   "metadata": {},
   "source": [
    "<a id='t08code'></a>"
   ]
  },
  {
   "cell_type": "markdown",
   "metadata": {},
   "source": [
    "## Code Example\n",
    "Let's see come example code and visualize the topology of the corresponding execution graphs for each mode:"
   ]
  },
  {
   "cell_type": "code",
   "execution_count": 1,
   "metadata": {},
   "outputs": [],
   "source": [
    "import fastestimator as fe\n",
    "from fastestimator.dataset.data import mnist\n",
    "from fastestimator.trace.metric import Accuracy\n",
    "from fastestimator.op.numpyop.univariate import ExpandDims, Minmax, CoarseDropout\n",
    "from fastestimator.op.tensorop.loss import CrossEntropy\n",
    "from fastestimator.op.tensorop.model import ModelOp, UpdateOp\n",
    "from fastestimator.architecture.tensorflow import LeNet\n",
    "\n",
    "\n",
    "train_data, eval_data = mnist.load_data()\n",
    "test_data = eval_data.split(0.5)\n",
    "model = fe.build(model_fn=LeNet, optimizer_fn=\"adam\")\n",
    "\n",
    "pipeline = fe.Pipeline(train_data=train_data,\n",
    "                       eval_data=eval_data,\n",
    "                       test_data=test_data,\n",
    "                       batch_size=32,\n",
    "                       ops=[ExpandDims(inputs=\"x\", outputs=\"x\"), #default mode=None\n",
    "                            Minmax(inputs=\"x\", outputs=\"x_out\", mode=None),  \n",
    "                            CoarseDropout(inputs=\"x_out\", outputs=\"x_out\", mode=\"train\")])\n",
    "\n",
    "network = fe.Network(ops=[ModelOp(model=model, inputs=\"x_out\", outputs=\"y_pred\"), #default mode=None\n",
    "                          CrossEntropy(inputs=(\"y_pred\", \"y\"), outputs=\"ce\", mode=\"!infer\"),\n",
    "                          UpdateOp(model=model, loss_name=\"ce\", mode=\"train\")])\n",
    "\n",
    "estimator = fe.Estimator(pipeline=pipeline,\n",
    "                         network=network,\n",
    "                         epochs=2,\n",
    "                         traces=Accuracy(true_key=\"y\", pred_key=\"y_pred\")) # default mode=[eval, test]"
   ]
  },
  {
   "cell_type": "markdown",
   "metadata": {},
   "source": [
    "### Train Mode\n",
    "The following figure shows the execution flow for the \"train\" mode. It has a complete data pipeline including the `CoarseDropout` data augmentation Op. The data source of the pipeline is \"train_data\". The `Accuracy` Trace will not exist in this mode because the default mode of that trace is \"eval\" and \"test\"."
   ]
  },
  {
   "cell_type": "markdown",
   "metadata": {},
   "source": [
    "<img src=\"../resources/t08_train_mode.PNG\" alt=\"drawing\" width=\"700\"/>"
   ]
  },
  {
   "cell_type": "markdown",
   "metadata": {},
   "source": [
    "### Eval Mode\n",
    "The following figure shows the execution flow for the \"eval\" mode. The data augmentation block is missing and the pipeline data source is \"eval_data\". The `Accuracy` block exist in this mode because of its default trace setting."
   ]
  },
  {
   "cell_type": "markdown",
   "metadata": {},
   "source": [
    "<img src=\"../resources/t08_eval_mode.PNG\" alt=\"drawing\" width=\"700\"/>"
   ]
  },
  {
   "cell_type": "markdown",
   "metadata": {},
   "source": [
    "### Test Mode\n",
    "Everything in the \"test\" mode is the same as the \"eval\" mode, except that the data source of pipeline has switched to \"test_data\":"
   ]
  },
  {
   "cell_type": "markdown",
   "metadata": {},
   "source": [
    "<img src=\"../resources/t08_test_mode.PNG\" alt=\"drawing\" width=\"700\"/>"
   ]
  },
  {
   "cell_type": "markdown",
   "metadata": {},
   "source": [
    "### Infer Mode\n",
    "\"Infer\" mode only has the minimum operations that model inference requires. The data source is not defined yet because input data will not be passed until the inference function is invoked. See [Tutorial 9](./t09_inference.ipynb) for more details."
   ]
  },
  {
   "cell_type": "markdown",
   "metadata": {},
   "source": [
    "<img src=\"../resources/t08_infer_mode.PNG\" alt=\"drawing\" width=\"700\"/>"
   ]
  },
  {
   "cell_type": "markdown",
   "metadata": {},
   "source": [
    "<a id='t08apphub'></a>"
   ]
  },
  {
   "cell_type": "markdown",
   "metadata": {},
   "source": [
    "## Apphub Examples\n",
    "You can find some practical examples of the concepts described here in the following FastEstimator Apphubs:\n",
    "\n",
    "* [CIFAR10](../../apphub/image_classification/cifar10_fast/cifar10_fast.ipynb)"
   ]
  }
 ],
 "metadata": {
  "kernelspec": {
   "display_name": "Python 3",
   "language": "python",
   "name": "python3"
  },
  "language_info": {
   "codemirror_mode": {
    "name": "ipython",
    "version": 3
   },
   "file_extension": ".py",
   "mimetype": "text/x-python",
   "name": "python",
   "nbconvert_exporter": "python",
   "pygments_lexer": "ipython3",
   "version": "3.6.12"
  }
 },
 "nbformat": 4,
 "nbformat_minor": 4
}
