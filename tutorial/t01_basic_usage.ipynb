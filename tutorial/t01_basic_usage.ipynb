{
 "cells": [
  {
   "cell_type": "markdown",
   "metadata": {},
   "source": [
    "# Tutorial 1: Getting started with FastEstimator\n",
    "_____"
   ]
  },
  {
   "attachments": {
    "image.png": {
     "image/png": "[encoded data removed]"
    }
   },
   "cell_type": "markdown",
   "metadata": {},
   "source": [
    "#### In FastEstimator, there are 3 APIs that you need to know:\n",
    "\n",
    "* __Pipeline__: takes care of loading and preprocessing data.\n",
    "* __Network__: responsible for trainable and differentiable models, operations and loss.\n",
    "* __Estimator__: manages the training loop.\n",
    "\n",
    "Any deep learning implementation will follow the `Pipeline` -> `Network` -> `Estimator` process as illustrated below:\n",
    "![image.png](attachment:image.png)\n",
    "\n",
    "Pipeline operations will usually happen on CPU, whereas Network operations will happen on GPU when available.\n"
   ]
  },
  {
   "cell_type": "code",
   "execution_count": null,
   "metadata": {},
   "outputs": [],
   "source": [
    "import tensorflow as tf\n",
    "import numpy as np"
   ]
  },
  {
   "cell_type": "markdown",
   "metadata": {},
   "source": [
    "## Step 1: Prepare the Pipeline\n",
    "\n",
    "For in-memory data, `Pipeline` can take a nested **dictionary** like `{\"train\": {\"x\": x_train, \"y\": y_train}, \"eval\": {\"x\": x_eval, \"y\": y_eval}}`.  For both training and validation data, we link the images and labels to a key (respectively \"x\" and \"y\"). Note that the `eval` part is not needed, if validation data is not available.  \n",
    "We will explain `ops` arguments in more details in tutorial 3."
   ]
  },
  {
   "cell_type": "code",
   "execution_count": 1,
   "metadata": {},
   "outputs": [],
   "source": [
    "import fastestimator as fe\n",
    "from fastestimator.op.tensorop import Minmax\n",
    "\n",
    "# Import training and validation data as numpy array for instance\n",
    "(x_train, y_train), (x_eval, y_eval) = tf.keras.datasets.mnist.load_data()\n",
    "\n",
    "# Add one channel dimension for convolution later\n",
    "x_train = np.expand_dims(x_train, -1) \n",
    "x_eval = np.expand_dims(x_eval, -1) \n",
    "\n",
    "# Create a dictionary to identify the training and evaluation data.\n",
    "# We specify for each x (images) and y (label) also in a dictionnary.\n",
    "data = {\"train\": {\"x\": x_train, \"y\": y_train}, \"eval\": {\"x\": x_eval, \"y\": y_eval}}\n",
    "\n",
    "# Creating the pipeline with the desired batch_size and preprocessing operation (here Minmax).\n",
    "pipeline = fe.Pipeline(batch_size=32, data=data, ops=Minmax(inputs=\"x\", outputs=\"x\"))"
   ]
  },
  {
   "cell_type": "markdown",
   "metadata": {},
   "source": [
    "## Step 2: Define the network\n",
    "\n",
    "For Network architecture, users can choose one of the following:\n",
    "* Define a custom network architecture using  `tf.keras.Model` or `tf.keras.Sequential`.  \n",
    "* Use an existing architecture provided by `tf.keras.applications` or `fe.architecture`. \n",
    "\n",
    "    In this tutorial, we are going to import a pre-defined LeNet architecture in [fastestimator.architecture.lenet](https://github.com/fastestimator/fastestimator/blob/master/fastestimator/architecture/lenet.py).\n",
    "\n",
    "Once the architecture is defined, we have to associate the model with its optimizer and expected loss name using fe.build.\n",
    "\n",
    "Finally, we create the Network to summarize all operations and loss. In this case, we have one ModelOp where we specify the input key, model we want to use, and output key.\n",
    "Network is also where we define the loss, here SparseCategoricalCrossentropy. We specify the key for predictions and groundtruths and the loss name as output. "
   ]
  },
  {
   "cell_type": "code",
   "execution_count": 2,
   "metadata": {},
   "outputs": [],
   "source": [
    "from fastestimator.architecture import LeNet\n",
    "from fastestimator.op.tensorop.model import ModelOp\n",
    "from fastestimator.op.tensorop.loss import SparseCategoricalCrossentropy\n",
    "\n",
    "# We first define a model, using FEModel to compile it.\n",
    "model = fe.build(model_def=LeNet, model_name=\"lenet\", optimizer=\"adam\", loss_name=\"loss\")\n",
    "\n",
    "# We summarize all operations and loss in the Network.\n",
    "network = fe.Network(ops=[ModelOp(inputs=\"x\", model=model, outputs=\"y_pred\"), \n",
    "                          SparseCategoricalCrossentropy(y_pred=\"y_pred\", y_true=\"y\", outputs=\"loss\")])"
   ]
  },
  {
   "cell_type": "markdown",
   "metadata": {},
   "source": [
    "## Step 3: Create the Estimator...\n",
    "\n",
    "`Estimator` takes both `pipeline` and `network` and combines them into the training loop. Here's the basic usage of `Estimator`. "
   ]
  },
  {
   "cell_type": "code",
   "execution_count": 3,
   "metadata": {},
   "outputs": [],
   "source": [
    "# We create the estimator and specify the number of epochs for training.\n",
    "estimator = fe.Estimator(network=network, pipeline=pipeline, epochs=2)"
   ]
  },
  {
   "cell_type": "markdown",
   "metadata": {},
   "source": [
    "## ... and train your model!\n",
    "\n",
    "Since the data is already loaded in memory, the training is happening without any disk reading. We only have to call the fit method to launch the training!"
   ]
  },
  {
   "cell_type": "code",
   "execution_count": 4,
   "metadata": {
    "scrolled": true
   },
   "outputs": [
    {
     "name": "stdout",
     "output_type": "stream",
     "text": [
      "    ______           __  ______     __  _                 __            \n",
      "   / ____/___ ______/ /_/ ____/____/ /_(_)___ ___  ____ _/ /_____  _____\n",
      "  / /_  / __ `/ ___/ __/ __/ / ___/ __/ / __ `__ \\/ __ `/ __/ __ \\/ ___/\n",
      " / __/ / /_/ (__  ) /_/ /___(__  ) /_/ / / / / / / /_/ / /_/ /_/ / /    \n",
      "/_/    \\__,_/____/\\__/_____/____/\\__/_/_/ /_/ /_/\\__,_/\\__/\\____/_/     \n",
      "                                                                        \n",
      "\n",
      "FastEstimator-Warn: No ModelSaver Trace detected. Models will not be saved.\n",
      "FastEstimator-Start: step: 0; total_train_steps: 3750; lenet_lr: 0.001; \n",
      "FastEstimator-Train: step: 0; loss: 2.3033283; \n",
      "FastEstimator-Train: step: 100; loss: 0.1509019; examples/sec: 3971.5; progress: 2.7%; \n",
      "FastEstimator-Train: step: 200; loss: 0.2812658; examples/sec: 4029.8; progress: 5.3%; \n",
      "FastEstimator-Train: step: 300; loss: 0.1028314; examples/sec: 4061.3; progress: 8.0%; \n",
      "FastEstimator-Train: step: 400; loss: 0.381653; examples/sec: 4030.7; progress: 10.7%; \n",
      "FastEstimator-Train: step: 500; loss: 0.0676005; examples/sec: 4032.9; progress: 13.3%; \n",
      "FastEstimator-Train: step: 600; loss: 0.0964626; examples/sec: 4034.2; progress: 16.0%; \n",
      "FastEstimator-Train: step: 700; loss: 0.1381112; examples/sec: 4046.8; progress: 18.7%; \n",
      "FastEstimator-Train: step: 800; loss: 0.0653034; examples/sec: 4068.6; progress: 21.3%; \n",
      "FastEstimator-Train: step: 900; loss: 0.0453764; examples/sec: 4062.3; progress: 24.0%; \n",
      "FastEstimator-Train: step: 1000; loss: 0.0230336; examples/sec: 3992.6; progress: 26.7%; \n",
      "FastEstimator-Train: step: 1100; loss: 0.4397052; examples/sec: 3997.7; progress: 29.3%; \n",
      "FastEstimator-Train: step: 1200; loss: 0.0183451; examples/sec: 4035.9; progress: 32.0%; \n",
      "FastEstimator-Train: step: 1300; loss: 0.0230895; examples/sec: 4009.8; progress: 34.7%; \n",
      "FastEstimator-Train: step: 1400; loss: 0.0912677; examples/sec: 4021.6; progress: 37.3%; \n",
      "FastEstimator-Train: step: 1500; loss: 0.2031376; examples/sec: 4035.2; progress: 40.0%; \n",
      "FastEstimator-Train: step: 1600; loss: 0.1118264; examples/sec: 4052.3; progress: 42.7%; \n",
      "FastEstimator-Train: step: 1700; loss: 0.0064146; examples/sec: 4052.1; progress: 45.3%; \n",
      "FastEstimator-Train: step: 1800; loss: 0.0603915; examples/sec: 4027.5; progress: 48.0%; \n",
      "FastEstimator-Eval: step: 1875; epoch: 0; loss: 0.0456039; min_loss: 0.045603894; since_best_loss: 0; \n",
      "FastEstimator-Train: step: 1900; loss: 0.0285932; examples/sec: 3673.2; progress: 50.7%; \n",
      "FastEstimator-Train: step: 2000; loss: 0.0408224; examples/sec: 4052.5; progress: 53.3%; \n",
      "FastEstimator-Train: step: 2100; loss: 0.1443762; examples/sec: 4061.5; progress: 56.0%; \n",
      "FastEstimator-Train: step: 2200; loss: 0.0188334; examples/sec: 4043.6; progress: 58.7%; \n",
      "FastEstimator-Train: step: 2300; loss: 0.0274555; examples/sec: 4046.1; progress: 61.3%; \n",
      "FastEstimator-Train: step: 2400; loss: 0.0162968; examples/sec: 4059.8; progress: 64.0%; \n",
      "FastEstimator-Train: step: 2500; loss: 0.0066923; examples/sec: 4039.3; progress: 66.7%; \n",
      "FastEstimator-Train: step: 2600; loss: 0.1310268; examples/sec: 4056.0; progress: 69.3%; \n",
      "FastEstimator-Train: step: 2700; loss: 0.0325518; examples/sec: 4043.7; progress: 72.0%; \n",
      "FastEstimator-Train: step: 2800; loss: 0.005334; examples/sec: 4067.1; progress: 74.7%; \n",
      "FastEstimator-Train: step: 2900; loss: 0.0065585; examples/sec: 4029.2; progress: 77.3%; \n",
      "FastEstimator-Train: step: 3000; loss: 0.1441671; examples/sec: 4087.1; progress: 80.0%; \n",
      "FastEstimator-Train: step: 3100; loss: 0.0233921; examples/sec: 4056.8; progress: 82.7%; \n",
      "FastEstimator-Train: step: 3200; loss: 0.0286002; examples/sec: 4023.8; progress: 85.3%; \n",
      "FastEstimator-Train: step: 3300; loss: 0.0175327; examples/sec: 4051.7; progress: 88.0%; \n",
      "FastEstimator-Train: step: 3400; loss: 0.0028427; examples/sec: 4045.4; progress: 90.7%; \n",
      "FastEstimator-Train: step: 3500; loss: 0.0112356; examples/sec: 4045.3; progress: 93.3%; \n",
      "FastEstimator-Train: step: 3600; loss: 0.0157429; examples/sec: 4057.1; progress: 96.0%; \n",
      "FastEstimator-Train: step: 3700; loss: 0.0509727; examples/sec: 4029.3; progress: 98.7%; \n",
      "FastEstimator-Eval: step: 3750; epoch: 1; loss: 0.0399916; min_loss: 0.039991625; since_best_loss: 0; \n",
      "FastEstimator-Finish: step: 3750; total_time: 32.77 sec; lenet_lr: 0.001; \n"
     ]
    }
   ],
   "source": [
    "estimator.fit()"
   ]
  },
  {
   "cell_type": "markdown",
   "metadata": {},
   "source": [
    "___\n",
    "> ## Key take-aways:\n",
    ">\n",
    "> In order to implement your own ideas in FastEstimator, you first need to conceptually walk through the same thought process.\n",
    ">1. How do I want my data to be processed during the training? _Express this in `Pipeline`_.\n",
    ">2. How do I want my network architecture and loss to be defined? What are the connections between networks if there are multiple of them? _Express this in `Network`_.\n",
    ">3. How long do I want to train my model? What do I need during training loop? _Express this in `Estimator`_.\n",
    ">\n",
    ">It is important to note that the preprocessing defined in `Pipeline` will be executed repeatedly for each batch during the training loop. However, some preprocessing only needs to happen once and for all (for instance resizing and rescaling). Next tutorial will introduce how to deal with this case."
   ]
  },
  {
   "cell_type": "code",
   "execution_count": null,
   "metadata": {},
   "outputs": [],
   "source": []
  }
 ],
 "metadata": {
  "kernelspec": {
   "display_name": "conda_tensorflow_p36",
   "language": "python",
   "name": "conda_tensorflow_p36"
  },
  "language_info": {
   "codemirror_mode": {
    "name": "ipython",
    "version": 3
   },
   "file_extension": ".py",
   "mimetype": "text/x-python",
   "name": "python",
   "nbconvert_exporter": "python",
   "pygments_lexer": "ipython3",
   "version": "3.6.5"
  }
 },
 "nbformat": 4,
 "nbformat_minor": 2
}
