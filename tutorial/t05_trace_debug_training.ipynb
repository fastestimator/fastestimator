{
 "cells": [
  {
   "cell_type": "markdown",
   "metadata": {},
   "source": [
    "# Tutorial 5: Trace - training control and debugging\n",
    "\n",
    "In this tutorial, we will talk about another important concept in FastEstimator - Trace.\n",
    "\n",
    "`Trace` is a class contains has 6 event functions below, each event function will be executed on different events of training loop when putting `Trace` inside `Estimator`. If you are a Keras user, you would see that `Trace` is a combination of callbacks and metrics. \n",
    "* on_begin\n",
    "* on_epoch_begin\n",
    "* on_batch_begin\n",
    "* on_batch_end\n",
    "* on_epoch_end\n",
    "* on_end\n",
    "\n",
    "`Trace` differs from keras's callback in the following places:\n",
    "1. Trace has full access to the preprocessing data and prediction data\n",
    "2. Trace can pass data among each other\n",
    "3. Trace is simpler and has fewer event functions than keras callbacks\n",
    "\n",
    "`Trace` can be used for anything that involves training loop, such as changing learning rate, calculating metrics, writing checkpoints and so on."
   ]
  },
  {
   "cell_type": "markdown",
   "metadata": {},
   "source": [
    "## debugging training loop with Trace\n",
    "\n",
    "Since `Trace` can have full access to data used in training loop, one natural usage of `Trace` is debugging training loop, for example, printing network prediction for each batch.\n",
    "\n",
    "Remember in tutorial 3, we customized an operation that scales the prediction score by 10 and write to a new key, let's see whether the operation is working correctly using `Trace`."
   ]
  },
  {
   "cell_type": "code",
   "execution_count": null,
   "metadata": {},
   "outputs": [],
   "source": [
    "import tempfile\n",
    "\n",
    "import numpy as np\n",
    "import tensorflow as tf\n",
    "\n",
    "import fastestimator as fe\n",
    "from fastestimator.architecture import LeNet\n",
    "from fastestimator.estimator.trace import Accuracy, ModelSaver\n",
    "from fastestimator.network.loss import SparseCategoricalCrossentropy\n",
    "from fastestimator.network.model import FEModel, ModelOp\n",
    "from fastestimator.pipeline.processing import Minmax\n",
    "from fastestimator.util.op import TensorOp\n",
    "\n",
    "class Scale(TensorOp):\n",
    "    def forward(self, data, state):\n",
    "        data = data * 10\n",
    "        return data\n",
    "\n",
    "(x_train, y_train), (x_eval, y_eval) = tf.keras.datasets.mnist.load_data()\n",
    "train_data = {\"x\": np.expand_dims(x_train, -1), \"y\": y_train}\n",
    "eval_data = {\"x\": np.expand_dims(x_eval, -1), \"y\": y_eval}\n",
    "data = {\"train\": train_data, \"eval\": eval_data}\n",
    "pipeline = fe.Pipeline(batch_size=32, data=data, ops=Minmax(inputs=\"x\", outputs=\"x\"))\n",
    "\n",
    "# step 2. prepare model\n",
    "model = FEModel(model_def=LeNet, model_name=\"lenet\", optimizer=\"adam\")\n",
    "network = fe.Network(\n",
    "    ops=[ModelOp(inputs=\"x\", model=model, outputs=\"y_pred\"), \n",
    "         SparseCategoricalCrossentropy(inputs=(\"y\", \"y_pred\")), \n",
    "         Scale(inputs=\"y_pred\", outputs=\"y_pred_scaled\")])"
   ]
  },
  {
   "cell_type": "markdown",
   "metadata": {},
   "source": [
    "## define trace"
   ]
  },
  {
   "cell_type": "code",
   "execution_count": 2,
   "metadata": {},
   "outputs": [],
   "source": [
    "from fastestimator.estimator.trace import Trace\n",
    "\n",
    "class ShowPred(Trace):\n",
    "    def on_batch_end(self, state):\n",
    "        if state[\"mode\"] == \"train\":\n",
    "            batch_data = state[\"batch\"]\n",
    "            print(\"step: {}\".format(state[\"batch_idx\"]))\n",
    "            print(\"batch data has following keys: {}\".format(list(batch_data.keys())))\n",
    "            print(\"scaled_prediction is:\")\n",
    "            print(batch_data[\"y_pred_scaled\"])\n",
    "\n",
    "# step 3.prepare estimator\n",
    "estimator = fe.Estimator(network=network, pipeline=pipeline, epochs=1, traces=ShowPred(), steps_per_epoch=1)"
   ]
  },
  {
   "cell_type": "code",
   "execution_count": 3,
   "metadata": {
    "scrolled": false
   },
   "outputs": [
    {
     "name": "stdout",
     "output_type": "stream",
     "text": [
      "    ______           __  ______     __  _                 __            \n",
      "   / ____/___ ______/ /_/ ____/____/ /_(_)___ ___  ____ _/ /_____  _____\n",
      "  / /_  / __ `/ ___/ __/ __/ / ___/ __/ / __ `__ \\/ __ `/ __/ __ \\/ ___/\n",
      " / __/ / /_/ (__  ) /_/ /___(__  ) /_/ / / / / / / /_/ / /_/ /_/ / /    \n",
      "/_/    \\__,_/____/\\__/_____/____/\\__/_/_/ /_/ /_/\\__,_/\\__/\\____/_/     \n",
      "                                                                        \n",
      "\n",
      "FastEstimator-Warn: No ModelSaver Trace detected. Models will not be saved.\n",
      "FastEstimator-Start: step: 0; lenet_lr: 0.001; \n",
      "step: 0\n",
      "batch data has following keys: ['y_pred', 'y', 'x', 'loss', 'y_pred_scaled']\n",
      "scaled_prediction is:\n",
      "tf.Tensor(\n",
      "[[1.0597024  0.88230646 0.9054666  1.0526242  1.0112537  1.1514847\n",
      "  0.9731587  0.9711996  0.84732836 1.1454759 ]\n",
      " [1.0177196  0.96111745 0.8916435  1.0738678  0.9751328  1.2481465\n",
      "  0.9405147  0.87076896 0.8726471  1.148442  ]\n",
      " [1.0760062  0.94326234 0.9008551  1.0322686  1.0499443  1.1253775\n",
      "  0.93624175 0.9271722  0.90360963 1.1052628 ]\n",
      " [1.0469304  0.89323467 0.91441756 1.0751362  0.9745273  1.1652466\n",
      "  0.96247584 0.9406713  0.8315316  1.1958287 ]\n",
      " [1.0219785  0.929411   0.89820254 1.0585518  0.93793464 1.2132744\n",
      "  0.9584836  0.951019   0.8594369  1.1717079 ]\n",
      " [1.0567241  0.9066122  0.9052205  1.0659181  1.0157421  1.2072058\n",
      "  0.96398747 0.8855149  0.8579869  1.1350882 ]\n",
      " [1.0661185  0.91435105 0.89010346 1.0575683  0.9922614  1.2262878\n",
      "  0.93575335 0.91625047 0.86531997 1.135985  ]\n",
      " [1.0357784  0.8888004  0.8541077  1.0948972  0.98482585 1.283034\n",
      "  0.90922797 0.9051948  0.9000034  1.1441307 ]\n",
      " [1.0599277  0.90635175 0.89042604 1.0980016  1.0003179  1.2005775\n",
      "  0.97344226 0.904382   0.81406707 1.152506  ]\n",
      " [1.0498649  0.95371425 0.9321244  1.0166047  1.0222087  1.1368012\n",
      "  0.9753012  0.91623485 0.8738795  1.123267  ]\n",
      " [1.103452   0.903526   0.9064317  1.0117977  1.0413742  1.1384664\n",
      "  0.96658295 0.93786097 0.8479606  1.1425483 ]\n",
      " [1.029507   0.92203546 0.9414134  1.023415   1.0161355  1.1061418\n",
      "  0.98370135 0.97101694 0.90548897 1.1011443 ]\n",
      " [1.0279974  0.95044667 0.93619615 1.0110079  1.0024072  1.1394106\n",
      "  0.9575084  0.8984376  0.89733607 1.1792525 ]\n",
      " [1.0699053  0.87303096 0.9200075  1.0734357  1.0142893  1.1181858\n",
      "  0.9856108  0.93070036 0.8564811  1.1583531 ]\n",
      " [1.0348419  0.9044772  0.8707888  1.0723933  1.0153837  1.1527358\n",
      "  0.9473658  0.93430406 0.8998435  1.1678661 ]\n",
      " [1.0630001  0.8815649  0.8781316  1.080618   0.99296457 1.2163352\n",
      "  0.95687056 0.9228797  0.8936867  1.1139493 ]\n",
      " [1.0232941  0.8857512  0.8840588  1.092468   0.99615574 1.2249657\n",
      "  0.92473567 0.9100239  0.8655537  1.1929938 ]\n",
      " [1.0537924  0.88076466 0.8679014  1.1071997  1.006206   1.1429375\n",
      "  0.93528    0.9362229  0.8875452  1.1821507 ]\n",
      " [1.0308622  0.93516076 0.9209412  1.0852494  1.0089574  1.1817933\n",
      "  0.94350743 0.896239   0.8588871  1.138402  ]\n",
      " [1.0389919  0.91212773 0.9013858  1.038586   1.0234965  1.1859746\n",
      "  0.95688295 0.9387725  0.84085584 1.1629258 ]\n",
      " [1.0600939  0.94089186 0.9131027  1.0013218  1.0147965  1.1764416\n",
      "  0.965766   0.95196784 0.870939   1.1046789 ]\n",
      " [1.1057894  0.8504439  0.83679646 1.1040735  0.9999001  1.2389936\n",
      "  0.9062878  0.9403291  0.8776086  1.1397778 ]\n",
      " [1.0217856  0.9747643  0.9006238  1.0764693  0.9715878  1.2085975\n",
      "  0.9288042  0.89752984 0.8574368  1.1624014 ]\n",
      " [1.0469611  0.9568805  0.92177266 1.0700536  0.993606   1.2035027\n",
      "  0.9525442  0.9015994  0.8851406  1.067939  ]\n",
      " [0.9877974  0.901551   0.93022996 1.0543675  1.0002809  1.1707911\n",
      "  0.94319403 0.971319   0.94477963 1.09569   ]\n",
      " [0.9924806  0.92723554 0.9150472  1.0373987  1.000831   1.1852853\n",
      "  0.9879187  0.9019555  0.8348947  1.216953  ]\n",
      " [1.0991246  0.8782563  0.8438319  1.1016914  0.9863124  1.2292806\n",
      "  0.9132333  0.9342602  0.892106   1.1219026 ]\n",
      " [0.9851291  0.9535258  0.8752247  1.1077297  1.0111363  1.166092\n",
      "  0.969571   0.91310537 0.89379835 1.1246873 ]\n",
      " [1.0290915  0.88374877 0.84945655 1.0189545  1.0234096  1.2094458\n",
      "  0.88590777 0.9749155  0.9239709  1.2010993 ]\n",
      " [1.0008084  0.9482253  0.8974297  1.0725788  0.99595183 1.1546551\n",
      "  0.9506333  0.9104537  0.90859526 1.1606691 ]\n",
      " [1.0367537  0.9001863  0.8841595  1.0721065  0.9803247  1.2551355\n",
      "  0.9427656  0.92319757 0.87253726 1.1328338 ]\n",
      " [0.9999633  0.9283558  0.8862161  1.0871539  1.0199494  1.1970563\n",
      "  0.9454409  0.9472147  0.92662996 1.0620204 ]], shape=(32, 10), dtype=float32)\n",
      "FastEstimator-Train: step: 0; loss: 2.3327756; \n",
      "FastEstimator-Eval: step: 1; epoch: 0; loss: 2.280537; min_loss: 2.280537; since_best_loss: 0; \n",
      "FastEstimator-Finish: step: 1; total_time: 2.58 sec; lenet_lr: 0.001; \n"
     ]
    }
   ],
   "source": [
    "estimator.fit()"
   ]
  },
  {
   "cell_type": "code",
   "execution_count": null,
   "metadata": {},
   "outputs": [],
   "source": []
  }
 ],
 "metadata": {
  "kernelspec": {
   "display_name": "Python 3",
   "language": "python",
   "name": "python3"
  },
  "language_info": {
   "codemirror_mode": {
    "name": "ipython",
    "version": 3
   },
   "file_extension": ".py",
   "mimetype": "text/x-python",
   "name": "python",
   "nbconvert_exporter": "python",
   "pygments_lexer": "ipython3",
   "version": "3.6.5"
  }
 },
 "nbformat": 4,
 "nbformat_minor": 2
}
