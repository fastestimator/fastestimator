{
 "cells": [
  {
   "cell_type": "markdown",
   "metadata": {},
   "source": [
    "# Tutorial 5: Trace - training control and debugging\n",
    "\n",
    "In this tutorial, we will talk about another important concept in FastEstimator - __Trace__. It will mainly be used to control training and for debugging.\n",
    "\n",
    "`Trace` is a class, which contains 6 event functions listed below. Each event function will be executed on different events of the training loop when the user adds `Trace` inside `Estimator`. If you are a Keras user, you can think of `Trace` as a combination of callbacks and metrics. \n",
    "* on_begin\n",
    "* on_epoch_begin\n",
    "* on_batch_begin\n",
    "* on_batch_end\n",
    "* on_epoch_end\n",
    "* on_end\n",
    "\n",
    "`Trace` differs from keras's callback in the following places:\n",
    "1. Trace has full access to the preprocessing data and prediction data\n",
    "2. Different traces can pass data among each other\n",
    "3. Trace is simpler and has fewer event functions than keras callbacks\n",
    "\n",
    "`Trace` can be used for anything that involves training loop, such as changing learning rate, calculating metrics, writing checkpoints..."
   ]
  },
  {
   "cell_type": "code",
   "execution_count": 1,
   "metadata": {},
   "outputs": [],
   "source": [
    "# Import libraries\n",
    "import tempfile\n",
    "import numpy as np\n",
    "import tensorflow as tf\n",
    "import fastestimator as fe"
   ]
  },
  {
   "cell_type": "markdown",
   "metadata": {},
   "source": [
    "## Using Trace to debug training loop\n",
    "\n",
    "Since `Trace` can have full access to data used in training loop, one natural usage of `Trace` is debugging training loop, for example, printing network prediction for each batch.\n",
    "\n",
    "Remember in tutorial 3, we customized an operation that scales the prediction score by 10 and writes a new key, let's see whether the operation is working correctly using `Trace`."
   ]
  },
  {
   "cell_type": "markdown",
   "metadata": {},
   "source": [
    "### 1) Define the operation to test,  pipeline and network."
   ]
  },
  {
   "cell_type": "code",
   "execution_count": 2,
   "metadata": {},
   "outputs": [],
   "source": [
    "from fastestimator.architecture import LeNet\n",
    "from fastestimator.op.tensorop.model import ModelOp\n",
    "from fastestimator.op.tensorop.loss import SparseCategoricalCrossentropy\n",
    "from fastestimator.op.tensorop import Minmax\n",
    "from fastestimator.op import TensorOp\n",
    "\n",
    "# We define the scaling operation.\n",
    "class Scale(TensorOp):\n",
    "    def forward(self, data, state):\n",
    "        data = data * 10\n",
    "        return data\n",
    "\n",
    "# We load data, create dictionnaries and prepare the Pipeline.\n",
    "(x_train, y_train), (x_eval, y_eval) = tf.keras.datasets.mnist.load_data()\n",
    "train_data = {\"x\": np.expand_dims(x_train, -1), \"y\": y_train}\n",
    "eval_data = {\"x\": np.expand_dims(x_eval, -1), \"y\": y_eval}\n",
    "data = {\"train\": train_data, \"eval\": eval_data}\n",
    "pipeline = fe.Pipeline(batch_size=32, data=data, ops=Minmax(inputs=\"x\", outputs=\"x\"))\n",
    "\n",
    "# We prepare the model and network, which will use the scaling operation.\n",
    "model = fe.build(model_def=LeNet, model_name=\"lenet\", optimizer=\"adam\", loss_name=\"loss\")\n",
    "network = fe.Network(\n",
    "    ops=[ModelOp(inputs=\"x\", model=model, outputs=\"y_pred\"), \n",
    "         SparseCategoricalCrossentropy(inputs=(\"y\", \"y_pred\"),outputs=\"loss\"), \n",
    "         Scale(inputs=\"y_pred\", outputs=\"y_pred_scaled\")])"
   ]
  },
  {
   "cell_type": "markdown",
   "metadata": {},
   "source": [
    "### 2) Define the trace\n",
    "We want to display, at the end of each batch during training, the scaled prediction.\n",
    "\n",
    "We can access the batch_data with `state[\"batch\"]` and then print the information we want to check, here:\n",
    "- the step (\"batch_idx\")\n",
    "- keys of the data (what is contained in each batch data: y, y_pred, y_pred_scaled, loss...)\n",
    "- scaled prediction (\"y_pred_scaled\")."
   ]
  },
  {
   "cell_type": "code",
   "execution_count": 3,
   "metadata": {},
   "outputs": [],
   "source": [
    "from fastestimator.trace import Trace\n",
    "from fastestimator.trace import Accuracy, ModelSaver\n",
    "\n",
    "# We define a trace to show the predictions and test the scaling op.\n",
    "class ShowPred(Trace):\n",
    "\n",
    "    def on_batch_end(self, state): # We only want to show predictions at the end of the batch\n",
    "        if state[\"mode\"] == \"train\": # and only during training\n",
    "            batch_data = state[\"batch\"] \n",
    "            print(\"step: {}\".format(state[\"batch_idx\"]))\n",
    "            print(\"batch data has following keys: {}\".format(list(batch_data.keys())))\n",
    "            print(\"scaled_prediction is:\")\n",
    "            print(batch_data[\"y_pred_scaled\"])\n",
    "\n",
    "# We finally define the estimator, specifying the trace argument. For debugging, we only use one epoch with one step.\n",
    "estimator = fe.Estimator(network=network, pipeline=pipeline, epochs=1, traces=ShowPred(), steps_per_epoch=1)"
   ]
  },
  {
   "cell_type": "code",
   "execution_count": 4,
   "metadata": {
    "scrolled": true
   },
   "outputs": [
    {
     "name": "stdout",
     "output_type": "stream",
     "text": [
      "    ______           __  ______     __  _                 __            \n",
      "   / ____/___ ______/ /_/ ____/____/ /_(_)___ ___  ____ _/ /_____  _____\n",
      "  / /_  / __ `/ ___/ __/ __/ / ___/ __/ / __ `__ \\/ __ `/ __/ __ \\/ ___/\n",
      " / __/ / /_/ (__  ) /_/ /___(__  ) /_/ / / / / / / /_/ / /_/ /_/ / /    \n",
      "/_/    \\__,_/____/\\__/_____/____/\\__/_/_/ /_/ /_/\\__,_/\\__/\\____/_/     \n",
      "                                                                        \n",
      "\n",
      "FastEstimator-Warn: No ModelSaver Trace detected. Models will not be saved.\n",
      "FastEstimator-Start: step: 0; total_train_steps: 1; lenet_lr: 0.001; \n",
      "step: 0\n",
      "batch data has following keys: ['y_pred_scaled', 'x', 'loss', 'y_pred', 'y']\n",
      "scaled_prediction is:\n",
      "tf.Tensor(\n",
      "[[1.0333095  0.965755   0.8713401  1.0239396  0.98717743 1.0448884\n",
      "  0.979576   1.0064639  1.0856192  1.0019307 ]\n",
      " [0.99756503 0.99114466 0.93084896 0.98231745 0.98490036 1.0243438\n",
      "  1.0090246  1.010706   1.0532932  1.0158558 ]\n",
      " [1.069226   0.9879677  0.93093395 0.9557743  0.9657108  1.0197785\n",
      "  1.0039197  1.0128305  1.0501157  1.0037435 ]\n",
      " [1.0090917  0.97071534 0.9006057  1.0687803  1.0009184  0.9887209\n",
      "  0.9568607  1.0286406  1.0738813  1.0017858 ]\n",
      " [0.9886355  0.96973336 0.8791765  1.0326499  0.9816716  1.0285684\n",
      "  1.00405    1.0139306  1.0941385  1.0074452 ]\n",
      " [1.0725024  0.9891436  0.9426356  1.001837   0.945231   1.0384223\n",
      "  1.0073805  1.0068867  0.9989336  0.9970269 ]\n",
      " [1.0790501  0.98381215 0.92385185 1.0055892  0.92258763 1.0437891\n",
      "  0.95899194 0.9938562  1.0745918  1.0138803 ]\n",
      " [1.0784883  0.9824706  0.9460172  0.9934193  0.9415016  1.0574976\n",
      "  0.954878   1.0187076  1.058452   0.96856743]\n",
      " [1.0394537  0.9712665  0.9568782  0.96846104 1.0115309  1.032603\n",
      "  1.0093762  1.0220886  1.0298218  0.95852005]\n",
      " [1.0737982  1.032247   0.9383824  0.973838   0.9560816  1.0242968\n",
      "  0.95737755 1.0090058  1.0589117  0.97606117]\n",
      " [1.0332793  0.969622   0.8853983  1.0038133  0.9513182  1.0635635\n",
      "  0.98725206 0.98034954 1.1118355  1.0135683 ]\n",
      " [1.034798   0.9858713  0.9359622  1.0140955  0.940362   1.0392526\n",
      "  0.96965337 0.9719402  1.0787591  1.0293052 ]\n",
      " [1.0333213  1.0285965  0.94286853 0.95881355 0.94232684 1.0080506\n",
      "  0.9591882  1.0469393  1.0929563  0.9869391 ]\n",
      " [1.0161103  0.9754657  0.9465251  0.9763433  0.98020196 1.0296948\n",
      "  0.97063214 1.0127211  1.0855308  1.0067744 ]\n",
      " [1.0151497  0.96596664 0.88368416 0.9945308  0.99934345 1.0246599\n",
      "  1.0111963  1.0791638  1.0920708  0.9342345 ]\n",
      " [1.022321   1.0085827  0.9060552  1.0319859  0.9457849  1.0154046\n",
      "  0.9829391  1.0159289  1.0905441  0.9804535 ]\n",
      " [1.0714731  0.9876069  0.93109065 0.97037566 0.9376544  1.0166589\n",
      "  1.0149277  1.0554035  1.0364062  0.97840303]\n",
      " [1.0143905  0.9892994  0.8602669  0.99885195 0.98075277 0.9962139\n",
      "  1.0112315  1.0478761  1.0862682  1.0148491 ]\n",
      " [1.029134   0.9645218  0.91527706 1.027145   0.95983243 1.0181983\n",
      "  0.9813213  1.0070384  1.0729455  1.0245864 ]\n",
      " [1.026973   0.938383   0.8872067  1.0468473  0.9724567  1.0250427\n",
      "  1.0026001  1.0257782  1.0816449  0.9930681 ]\n",
      " [0.9846201  0.9699496  0.8664271  1.045586   0.9919286  1.0375438\n",
      "  1.0036814  1.0095861  1.1123841  0.9782938 ]\n",
      " [1.026981   0.9623721  0.92556983 1.0638039  0.9834343  1.0071507\n",
      "  0.93344665 1.0021299  1.0779366  1.0171748 ]\n",
      " [1.0184205  0.99697655 0.9101845  1.0478412  0.999496   1.013074\n",
      "  1.0067533  1.0249729  1.0254304  0.9568504 ]\n",
      " [1.0734537  0.9912764  0.9116658  0.9700434  0.9535464  1.0379009\n",
      "  1.0009254  0.99235475 1.0580748  1.0107584 ]\n",
      " [1.0568664  1.0215827  0.93387896 0.96680236 0.9414554  1.025285\n",
      "  0.9565285  1.0214214  1.0873448  0.988835  ]\n",
      " [1.0832624  0.9959524  0.92301375 0.99447376 0.9528302  1.0402505\n",
      "  0.95113033 0.9739498  1.0470872  1.0380497 ]\n",
      " [0.99994946 0.9864516  0.8906872  1.013767   1.0161526  1.0051624\n",
      "  0.97758496 1.00598    1.0496296  1.0546347 ]\n",
      " [1.0271357  0.97713876 0.88107735 1.0169433  0.98478526 1.0374746\n",
      "  0.98113453 1.0344522  1.075148   0.98471093]\n",
      " [1.0773438  0.98789525 0.9127256  1.0013152  0.9607342  1.0510781\n",
      "  0.93939275 0.9903136  1.0929943  0.9862068 ]\n",
      " [1.1074622  0.952646   0.91221666 0.9916952  0.94224775 1.0435711\n",
      "  0.97241926 1.0169783  1.062868   0.99789554]\n",
      " [1.0513368  0.9791061  0.9303612  0.990559   0.9572624  1.0172036\n",
      "  0.97775686 0.9907103  1.1002963  1.0054077 ]\n",
      " [1.0559406  1.0051883  0.9120035  1.0213903  0.96334887 1.0453771\n",
      "  0.94417244 0.9882677  1.0348365  1.0294745 ]], shape=(32, 10), dtype=float32)\n",
      "FastEstimator-Train: step: 0; loss: 2.2995872; \n",
      "FastEstimator-Eval: step: 1; epoch: 0; loss: 2.2911909; min_loss: 2.2911909; since_best_loss: 0; \n",
      "FastEstimator-Finish: step: 1; total_time: 2.04 sec; lenet_lr: 0.001; \n"
     ]
    }
   ],
   "source": [
    "# We launch the training and can see what the scaled prediction looks like.\n",
    "estimator.fit()"
   ]
  },
  {
   "cell_type": "code",
   "execution_count": null,
   "metadata": {},
   "outputs": [],
   "source": []
  }
 ],
 "metadata": {
  "kernelspec": {
   "display_name": "conda_tensorflow_p36",
   "language": "python",
   "name": "conda_tensorflow_p36"
  },
  "language_info": {
   "codemirror_mode": {
    "name": "ipython",
    "version": 3
   },
   "file_extension": ".py",
   "mimetype": "text/x-python",
   "name": "python",
   "nbconvert_exporter": "python",
   "pygments_lexer": "ipython3",
   "version": "3.6.5"
  }
 },
 "nbformat": 4,
 "nbformat_minor": 2
}
