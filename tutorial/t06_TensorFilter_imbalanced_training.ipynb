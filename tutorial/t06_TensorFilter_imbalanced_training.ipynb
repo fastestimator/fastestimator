{
 "cells": [
  {
   "cell_type": "markdown",
   "metadata": {},
   "source": [
    "# Tutorial 6:  TensorFilter - imbalanced training\n",
    "\n",
    "When dataset is imbalanced, training data needs to maintain certain distribution to make sure minority classes are not ommitted during the training. In FastEstimator, `TensorFilter` is designed for that purpose.\n",
    "\n",
    "`TensorFilter` is a Tensor Operator that is used in `Pipeline` along with other tensor operators such as `MinMax` and `Resize`.\n",
    "\n",
    "There is only two differences between `TensorFilter` and `TensorOp`: \n",
    "1. `TensorFilter` does not have outputs\n",
    "2. the forward function of `TensorFilter` produce a boolean value which indicates whether to keep the data."
   ]
  },
  {
   "cell_type": "markdown",
   "metadata": {},
   "source": [
    "## Prepare data (same as tutorial 1)"
   ]
  },
  {
   "cell_type": "code",
   "execution_count": null,
   "metadata": {},
   "outputs": [],
   "source": [
    "import numpy as np\n",
    "import tensorflow as tf\n",
    "import fastestimator as fe\n",
    "from fastestimator.pipeline.processing import Minmax\n",
    "\n",
    "(x_train, y_train), (x_eval, y_eval) = tf.keras.datasets.mnist.load_data()\n",
    "train_data = {\"x\": np.expand_dims(x_train, -1), \"y\": y_train}\n",
    "eval_data = {\"x\": np.expand_dims(x_eval, -1), \"y\": y_eval}\n",
    "data = {\"train\": train_data, \"eval\": eval_data}"
   ]
  },
  {
   "cell_type": "markdown",
   "metadata": {},
   "source": [
    "## Customize your own Filter\n",
    "In this example, let's get rid of all image that has label less than 5"
   ]
  },
  {
   "cell_type": "code",
   "execution_count": 3,
   "metadata": {},
   "outputs": [],
   "source": [
    "from fastestimator.pipeline.processing import TensorFilter\n",
    "\n",
    "class MyFilter(TensorFilter):\n",
    "    def forward(self, data, state):\n",
    "        pass_filter = data >= 5\n",
    "        return pass_filter\n",
    "\n",
    "pipeline = fe.Pipeline(batch_size=32, data=data, ops=[MyFilter(inputs=\"y\"), Minmax(inputs=\"x\", outputs=\"x\")])"
   ]
  },
  {
   "cell_type": "code",
   "execution_count": 7,
   "metadata": {
    "scrolled": false
   },
   "outputs": [
    {
     "name": "stdout",
     "output_type": "stream",
     "text": [
      "filtering out all data with label less than 5, the label of current batch is:\n",
      "tf.Tensor([9 9 6 9 7 9 6 8 9 5 7 9 5 5 9 9 9 6 9 8 8 6 6 8 9 5 5 6 7 8 5 5], shape=(32,), dtype=uint8)\n"
     ]
    }
   ],
   "source": [
    "results = pipeline.show_results()\n",
    "print(\"filtering out all data with label less than 5, the label of current batch is:\")\n",
    "print(results[0][\"y\"])"
   ]
  },
  {
   "cell_type": "markdown",
   "metadata": {},
   "source": [
    "## Using pre-built ScalarFilter\n",
    "\n",
    "In FastEstimator, if user needs to filter on scalar value with probability, one can use pre-built filter `ScalarFilter`. Let's filter out even number label with 50% probility:"
   ]
  },
  {
   "cell_type": "code",
   "execution_count": 8,
   "metadata": {},
   "outputs": [],
   "source": [
    "from fastestimator.pipeline.processing import ScalarFilter\n",
    "\n",
    "pipeline = fe.Pipeline(batch_size=32, \n",
    "                       data=data, \n",
    "                       ops=[ScalarFilter(inputs=\"y\", filter_value=[0, 2, 4, 6, 8], keep_prob=[0.5, 0.5, 0.5, 0.5, 0.5]), \n",
    "                            Minmax(inputs=\"x\", outputs=\"x\")])"
   ]
  },
  {
   "cell_type": "code",
   "execution_count": 18,
   "metadata": {},
   "outputs": [
    {
     "name": "stdout",
     "output_type": "stream",
     "text": [
      "in batch number 0, there are 20 odd labels and 12 even labels\n",
      "in batch number 1, there are 26 odd labels and 6 even labels\n",
      "in batch number 2, there are 25 odd labels and 7 even labels\n",
      "in batch number 3, there are 27 odd labels and 5 even labels\n",
      "in batch number 4, there are 19 odd labels and 13 even labels\n",
      "in batch number 5, there are 19 odd labels and 13 even labels\n",
      "in batch number 6, there are 21 odd labels and 11 even labels\n",
      "in batch number 7, there are 17 odd labels and 15 even labels\n",
      "in batch number 8, there are 20 odd labels and 12 even labels\n",
      "in batch number 9, there are 21 odd labels and 11 even labels\n"
     ]
    }
   ],
   "source": [
    "results = pipeline.show_results(num_steps=10)\n",
    "for idx in range(10):\n",
    "    batch_label = results[idx][\"y\"].numpy()\n",
    "    even_count = 0\n",
    "    odd_count = 0\n",
    "    for elem in batch_label:\n",
    "        if elem % 2 == 0:\n",
    "            even_count += 1\n",
    "        else:\n",
    "            odd_count += 1\n",
    "    print(\"in batch number {}, there are {} odd labels and {} even labels\".format(idx, odd_count, even_count))"
   ]
  }
 ],
 "metadata": {
  "kernelspec": {
   "display_name": "Python 3",
   "language": "python",
   "name": "python3"
  },
  "language_info": {
   "codemirror_mode": {
    "name": "ipython",
    "version": 3
   },
   "file_extension": ".py",
   "mimetype": "text/x-python",
   "name": "python",
   "nbconvert_exporter": "python",
   "pygments_lexer": "ipython3",
   "version": "3.6.5"
  }
 },
 "nbformat": 4,
 "nbformat_minor": 2
}
