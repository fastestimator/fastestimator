{
 "cells": [
  {
   "cell_type": "markdown",
   "metadata": {},
   "source": [
    "# Tutorial 5: Model\n",
    "\n",
    "## Overview\n",
    "\n",
    "In this tutorial we will cover:\n",
    "\n",
    "* [Instantiating and Compiling a Model](#t05compile)\n",
    "* [The Model Function](#t05model)\n",
    "    * [Custom Models](#t05custom)\n",
    "    * [FastEstimator Models](#t05fe)\n",
    "    * [Pre-Trained Models](#t05trained)\n",
    "* [The Optimizer Function](#t05optimizer)\n",
    "* [Loading Model Weights](#t05weights)\n",
    "* [Specifying a Model Name](#t05name)\n",
    "* [Related Apphub Examples](#t05apphub)"
   ]
  },
  {
   "cell_type": "markdown",
   "metadata": {},
   "source": [
    "<a id='t05compile'></a>"
   ]
  },
  {
   "cell_type": "markdown",
   "metadata": {},
   "source": [
    "## Instantiating and Compiling a model\n",
    "\n",
    "We need to specify two things to instantiate and compile a model:\n",
    "* model_fn\n",
    "* optimizer_fn\n",
    "\n",
    "Model definitions can be implemented in Tensorflow or Pytorch and instantiated by calling **`fe.build`** which constructs a model instance and associates it with the specified optimizer."
   ]
  },
  {
   "cell_type": "markdown",
   "metadata": {},
   "source": [
    "<a id='t05model'></a>"
   ]
  },
  {
   "cell_type": "markdown",
   "metadata": {},
   "source": [
    "## Model Function\n",
    "\n",
    "`model_fn` should be a function/lambda function which returns either a `tf.keras.Model` or `torch.nn.Module`. FastEstimator provides several ways to specify the model architecture:\n",
    "\n",
    "* Custom model architecture\n",
    "* Importing a pre-built model architecture from FastEstimator\n",
    "* Importing pre-trained models/architectures from PyTorch or TensorFlow"
   ]
  },
  {
   "cell_type": "markdown",
   "metadata": {},
   "source": [
    "<a id='t05custom'></a>"
   ]
  },
  {
   "cell_type": "markdown",
   "metadata": {},
   "source": [
    "### Custom model architecture\n",
    "Let's create a custom model in TensorFlow for demonstration."
   ]
  },
  {
   "cell_type": "markdown",
   "metadata": {},
   "source": [
    "#### tf.keras.Model"
   ]
  },
  {
   "cell_type": "code",
   "execution_count": null,
   "metadata": {},
   "outputs": [],
   "source": [
    "import os\n",
    "import tempfile\n",
    "\n",
    "import torch\n",
    "import torch.nn as nn\n",
    "import torch.nn.functional as fn\n",
    "from torchvision import models\n",
    "\n",
    "import fastestimator as fe\n",
    "from fastestimator.architecture.tensorflow import LeNet\n",
    "from fastestimator.dataset.data import cifair10, cifair100\n",
    "from fastestimator.op.tensorop.loss import CrossEntropy\n",
    "from fastestimator.op.tensorop.model import ModelOp, UpdateOp\n",
    "from fastestimator.trace.io import BestModelSaver\n",
    "from fastestimator.trace.metric import Accuracy\n",
    "from fastestimator.op.numpyop.univariate import Minmax\n"
   ]
  },
  {
   "cell_type": "code",
   "execution_count": null,
   "metadata": {},
   "outputs": [],
   "source": [
    "model = models.resnet50(pretrained=True)\n",
    "\n",
    "model = model.cuda() if use_cuda else model\n",
    "    \n",
    "\n",
    "\n",
    "model.fc = model.fc.cuda() if use_cuda else model.fc"
   ]
  },
  {
   "cell_type": "code",
   "execution_count": null,
   "metadata": {},
   "outputs": [],
   "source": [
    "class my_model_torch():\n",
    "    def __init__(self, model):\n",
    "        self.model = model\n",
    "\n",
    "    def get_classification_model(self, num_classes=10):\n",
    "        base_model = self.model\n",
    "        num_ftrs = base_model.fc.in_features\n",
    "        base_model.fc = torch.nn.Linear(num_ftrs, 1024)\n",
    "        base_model.fc = nn.Sequential(\n",
    "            torch.nn.Dropout(0.5),\n",
    "            torch.nn.Linear(num_ftrs, 1024),\n",
    "            torch.nn.Dropout(0.2),\n",
    "            torch.nn.Linear(1024, 512),\n",
    "            torch.nn.Dropout(0.2),\n",
    "            torch.nn.Linear(512, 256),\n",
    "            torch.nn.Dropout(0.2),\n",
    "            torch.nn.Linear(256, 128),\n",
    "            torch.nn.Dropout(0.2),\n",
    "            torch.nn.Linear(128, num_classes))\n",
    "        return base_model"
   ]
  },
  {
   "cell_type": "code",
   "execution_count": null,
   "metadata": {},
   "outputs": [],
   "source": [
    "model_dir = tempfile.mkdtemp()"
   ]
  },
  {
   "cell_type": "code",
   "execution_count": null,
   "metadata": {},
   "outputs": [],
   "source": [
    "train_data, eval_data = cifair100.load_data()\n",
    "\n",
    "pipeline = fe.Pipeline(train_data=train_data,\n",
    "                       eval_data=eval_data,\n",
    "                       batch_size=32,\n",
    "                       ops=[Minmax(inputs=\"x\", outputs=\"x\")])"
   ]
  },
  {
   "cell_type": "code",
   "execution_count": null,
   "metadata": {},
   "outputs": [],
   "source": [
    "base_model = LeNet(input_shape=(32, 32, 3), classes=100)\n",
    "\n",
    "model = fe.build(model_fn=lambda: base_model, optimizer_fn=\"adam\")\n",
    "\n",
    "network = fe.Network(ops=[\n",
    "        ModelOp(model=model, inputs=\"x\", outputs=\"y_pred\"),\n",
    "        CrossEntropy(inputs=(\"y_pred\", \"y\"), outputs=\"ce\"),\n",
    "        UpdateOp(model=model, loss_name=\"ce\") ])"
   ]
  },
  {
   "cell_type": "code",
   "execution_count": null,
   "metadata": {},
   "outputs": [],
   "source": [
    "traces = [Accuracy(true_key=\"y\", pred_key=\"y_pred\"),\n",
    "          BestModelSaver(model=model, save_dir=model_dir, metric=\"accuracy\", save_best_mode=\"max\")]\n",
    "\n",
    "estimator = fe.Estimator(pipeline=pipeline,\n",
    "                         network=network,\n",
    "                         epochs=10,\n",
    "                         traces=traces)"
   ]
  },
  {
   "cell_type": "code",
   "execution_count": null,
   "metadata": {},
   "outputs": [],
   "source": [
    "estimator.fit()"
   ]
  },
  {
   "cell_type": "code",
   "execution_count": null,
   "metadata": {},
   "outputs": [],
   "source": [
    "# TensorFlow\n",
    "fe.backend.save_model(model, save_dir=model_dir, model_name= \"lenet_tf\")"
   ]
  },
  {
   "cell_type": "code",
   "execution_count": null,
   "metadata": {},
   "outputs": [],
   "source": [
    "import numpy as np\n",
    "import random\n",
    "\n",
    "data = eval_data[random.choice(range(0, len(eval_data)))]\n",
    "data = pipeline.transform(data, mode=\"eval\")\n",
    "data = network.transform(data, mode=\"eval\")\n",
    "\n",
    "print(\"Ground truth class is {}\".format(data[\"y\"][0]))\n",
    "print(\"Predicted class is {}\".format(np.argmax(data[\"y_pred\"])))\n",
    "img = fe.util.ImgData(x=data[\"x\"])\n",
    "fig = img.paint_figure()"
   ]
  },
  {
   "cell_type": "markdown",
   "metadata": {},
   "source": [
    "Importing the pretrained weights to load a new model "
   ]
  },
  {
   "cell_type": "code",
   "execution_count": null,
   "metadata": {},
   "outputs": [],
   "source": [
    "model_path = os.path.join(model_dir, 'lenet_tf.h5')\n",
    "# TensorFlow\n",
    "custom_model2 = LeNet(input_shape=(32, 32, 3), classes=10)\n",
    "\n",
    "custom_model2.load_weights(model_path, by_name=True)"
   ]
  },
  {
   "cell_type": "code",
   "execution_count": null,
   "metadata": {},
   "outputs": [],
   "source": [
    "no_of_non_trainabe_layers = 3\n",
    "range_of_non_trainable_layers = range(3)\n",
    "for i in range_of_non_trainable_layers:\n",
    "    custom_model2.layers[i] = False"
   ]
  },
  {
   "cell_type": "markdown",
   "metadata": {},
   "source": []
  },
  {
   "cell_type": "code",
   "execution_count": null,
   "metadata": {},
   "outputs": [],
   "source": [
    "custom_model2 = fe.build(model_fn=lambda: custom_model2, optimizer_fn=\"adam\")\n",
    "\n",
    "custom_network = fe.Network(ops=[\n",
    "        ModelOp(model=custom_model2, inputs=\"x\", outputs=\"y_pred\"),\n",
    "        CrossEntropy(inputs=(\"y_pred\", \"y\"), outputs=\"ce\"),\n",
    "        UpdateOp(model=custom_model2, loss_name=\"ce\") \n",
    "    ])"
   ]
  },
  {
   "cell_type": "code",
   "execution_count": null,
   "metadata": {},
   "outputs": [],
   "source": [
    "custom_train_data, custom_eval_data = cifair10.load_data()\n",
    "\n",
    "custom_pipeline = fe.Pipeline(train_data=custom_train_data,\n",
    "                       eval_data=custom_eval_data,\n",
    "                       batch_size=32,\n",
    "                       ops=[Minmax(inputs=\"x\", outputs=\"x\")])"
   ]
  },
  {
   "cell_type": "code",
   "execution_count": null,
   "metadata": {},
   "outputs": [],
   "source": [
    "custom_traces = [Accuracy(true_key=\"y\", pred_key=\"y_pred\"),\n",
    "          BestModelSaver(model=custom_model2, save_dir=model_dir, metric=\"accuracy\", save_best_mode=\"max\")]\n",
    "\n",
    "customer_estimator = fe.Estimator(pipeline=custom_pipeline,\n",
    "                         network=custom_network,\n",
    "                         epochs=5,\n",
    "                         traces=custom_traces)"
   ]
  },
  {
   "cell_type": "code",
   "execution_count": null,
   "metadata": {},
   "outputs": [],
   "source": [
    "customer_estimator.fit()"
   ]
  },
  {
   "cell_type": "code",
   "execution_count": null,
   "metadata": {},
   "outputs": [],
   "source": [
    "for i in range(0, len(custom_model2.layers)):\n",
    "    custom_model2.layers[i] = True"
   ]
  },
  {
   "cell_type": "code",
   "execution_count": null,
   "metadata": {},
   "outputs": [],
   "source": [
    "customer_estimator.fit()"
   ]
  },
  {
   "cell_type": "code",
   "execution_count": null,
   "metadata": {},
   "outputs": [],
   "source": [
    "import numpy as np\n",
    "\n",
    "data = custom_eval_data[random.choice(range(0, len(custom_eval_data)))]\n",
    "data = custom_pipeline.transform(data, mode=\"eval\")\n",
    "data = custom_network.transform(data, mode=\"eval\")\n",
    "\n",
    "print(\"Ground truth class is {}\".format(data[\"y\"][0]))\n",
    "print(\"Predicted class is {}\".format(np.argmax(data[\"y_pred\"])))\n",
    "img = fe.util.ImgData(x=data[\"x\"])\n",
    "fig = img.paint_figure()"
   ]
  },
  {
   "cell_type": "markdown",
   "metadata": {},
   "source": [
    "### Importing pre-trained models/architectures from PyTorch or TensorFlow\n",
    "\n",
    "Below we show how to define a model function using a pre-trained resnet model provided by TensorFlow and PyTorch respectively. We load the pre-trained models using a lambda function."
   ]
  },
  {
   "cell_type": "markdown",
   "metadata": {},
   "source": [
    "#### Pre-trained model from tf.keras.applications "
   ]
  },
  {
   "cell_type": "code",
   "execution_count": null,
   "metadata": {},
   "outputs": [],
   "source": [
    "from tensorflow.keras.applications import ResNet50\n",
    "resnet50_tf = fe.build(model_fn=lambda: ResNet50(weights='imagenet'), optimizer_fn=\"adam\")"
   ]
  },
  {
   "cell_type": "markdown",
   "metadata": {},
   "source": [
    "<a id='t05optimizer'></a>"
   ]
  },
  {
   "cell_type": "markdown",
   "metadata": {},
   "source": [
    "If a model function returns multiple models, a list of optimizers can be provided. See the **[pggan apphub](../../apphub/image_generation/pggan/pggan.ipynb)** for an example with multiple models and optimizers."
   ]
  },
  {
   "cell_type": "markdown",
   "metadata": {},
   "source": [
    "<a id='t05weights'></a>"
   ]
  },
  {
   "cell_type": "markdown",
   "metadata": {},
   "source": [
    "## Loading model weights\n",
    "\n",
    "We often need to load the weights of a saved model. Model weights can be loaded by specifying the path of the saved weights using the `weights_path` parameter. Let's use the resnet models created earlier to showcase this."
   ]
  },
  {
   "cell_type": "markdown",
   "metadata": {},
   "source": [
    "#### Saving model weights\n",
    "Here, we create a temporary directory and use FastEstimator backend to save the weights of our previously created resnet50 models:"
   ]
  },
  {
   "cell_type": "code",
   "execution_count": null,
   "metadata": {},
   "outputs": [],
   "source": [
    "import os\n",
    "import tempfile\n",
    "\n",
    "model_dir = tempfile.mkdtemp()\n",
    "\n",
    "# TensorFlow\n",
    "fe.backend.save_model(resnet50_tf, save_dir=model_dir, model_name= \"resnet50_tf\")\n",
    "\n",
    "# PyTorch\n",
    "fe.backend.save_model(resnet50_torch, save_dir=model_dir, model_name= \"resnet50_torch\")"
   ]
  },
  {
   "cell_type": "markdown",
   "metadata": {},
   "source": [
    "#### Loading weights for TensorFlow and PyTorch models"
   ]
  },
  {
   "cell_type": "code",
   "execution_count": null,
   "metadata": {},
   "outputs": [],
   "source": [
    "# TensorFlow\n",
    "resnet50_tf = fe.build(model_fn=lambda: tf.keras.applications.ResNet50(weights=None), \n",
    "                       optimizer_fn=\"adam\", \n",
    "                       weights_path=os.path.join(model_dir, \"resnet50_tf.h5\"))"
   ]
  },
  {
   "cell_type": "code",
   "execution_count": null,
   "metadata": {},
   "outputs": [],
   "source": [
    "# PyTorch\n",
    "resnet50_torch = fe.build(model_fn=lambda: models.resnet50(pretrained=False), \n",
    "                          optimizer_fn=\"adam\", \n",
    "                          weights_path=os.path.join(model_dir, \"resnet50_torch.pt\"))"
   ]
  },
  {
   "cell_type": "markdown",
   "metadata": {},
   "source": [
    "<a id='t05name'></a>"
   ]
  },
  {
   "cell_type": "markdown",
   "metadata": {},
   "source": [
    "## Specifying a Model Name\n",
    "\n",
    "The name of a model can be specified using the `model_name` parameter. The name of the model is helpful in distinguishing models when multiple are present."
   ]
  },
  {
   "cell_type": "code",
   "execution_count": null,
   "metadata": {},
   "outputs": [],
   "source": [
    "model = fe.build(model_fn=LeNet, optimizer_fn=\"adam\", model_name=\"LeNet\")\n",
    "print(\"Model Name: \", model.model_name)"
   ]
  },
  {
   "cell_type": "markdown",
   "metadata": {},
   "source": [
    "If a model function returns multiple models, a list of model_names can be given. See the **[pggan apphub](../../apphub/image_generation/pggan/pggan.ipynb)** for an illustration with multiple models and model names."
   ]
  },
  {
   "cell_type": "markdown",
   "metadata": {},
   "source": [
    "<a id='t05apphub'></a>"
   ]
  },
  {
   "cell_type": "markdown",
   "metadata": {},
   "source": [
    "## Apphub Examples\n",
    "You can find some practical examples of the concepts described here in the following FastEstimator Apphubs:\n",
    "\n",
    "* [PG-GAN](../../apphub/image_generation/pggan/pggan.ipynb)\n",
    "* [Uncertainty Weighted Loss](../../apphub/multi_task_learning/uncertainty_weighted_loss/uncertainty_loss.ipynb)"
   ]
  }
 ],
 "metadata": {
  "kernelspec": {
   "display_name": "Python 3",
   "language": "python",
   "name": "python3"
  },
  "language_info": {
   "codemirror_mode": {
    "name": "ipython",
    "version": 3
   },
   "file_extension": ".py",
   "mimetype": "text/x-python",
   "name": "python",
   "nbconvert_exporter": "python",
   "pygments_lexer": "ipython3",
   "version": "3.8.10"
  }
 },
 "nbformat": 4,
 "nbformat_minor": 4
}
