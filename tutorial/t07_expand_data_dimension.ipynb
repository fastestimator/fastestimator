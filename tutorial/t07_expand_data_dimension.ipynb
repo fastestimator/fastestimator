{
 "cells": [
  {
   "cell_type": "markdown",
   "metadata": {},
   "source": [
    "# Tutorial 7: expanding data dimension in recordwriter and pipeline\n",
    "\n",
    "In many domains (especially medical imaging), multiple examples are sampled from the same data, we call it data dimension expansion. In this tutorial we will show you how to do data dimension expansion in FastEstimator.\n",
    "\n",
    "In general, expanding data dimension can be achieved in both `RecordWriter` and `Pipeline`. Here are the differences:\n",
    "\n",
    "* Expanding data in `RecordWriter` means occupying more disk-space, and the expanded samples are fixed during the training. The good thing is that it saves preprocessing computation during training.\n",
    "\n",
    "* Expanding data in `Pipeline` means expanded data can be different for every batch during training, the computation is done in-memory therefore no extra disk space is required. The drawback is additional computation is required."
   ]
  },
  {
   "cell_type": "markdown",
   "metadata": {},
   "source": [
    "## RecordWriter: expanding dimension and write to disk\n",
    "\n",
    "In recordwriter, for each 28x28 image, let's create 4 different 27x27 images from corners:"
   ]
  },
  {
   "cell_type": "code",
   "execution_count": null,
   "metadata": {},
   "outputs": [],
   "source": [
    "from fastestimator.dataset.mnist import load_data\n",
    "from fastestimator.util.op import NumpyOp\n",
    "from fastestimator.record.preprocess import ImageReader\n",
    "import fastestimator as fe\n",
    "import numpy as np\n",
    "import os\n",
    "\n",
    "train_csv, eval_csv, data_path = load_data()\n",
    "\n",
    "class SampleCorner(NumpyOp):\n",
    "    def forward(self, data, state):\n",
    "        x, y = data\n",
    "        x = np.array([x[:27, :27, :],\n",
    "                      x[1:, 1:, :],\n",
    "                      x[:27, 1:, :],\n",
    "                      x[1:, :27, :]])\n",
    "        y = np.array([y, y, y, y])\n",
    "        return x, y\n",
    "\n",
    "writer = fe.RecordWriter(save_dir=os.path.join(data_path, \"FEdata_replicate\"),\n",
    "                         train_data=train_csv,\n",
    "                         validation_data=eval_csv,\n",
    "                         ops=[ImageReader(inputs=\"x\", outputs=\"x\", parent_path=data_path, grey_scale=True),\n",
    "                              SampleCorner(inputs=(\"x\", \"y\"), outputs=(\"x\", \"y\"))],\n",
    "                         expand_dims=True)"
   ]
  },
  {
   "cell_type": "markdown",
   "metadata": {},
   "source": [
    "## Pipeline: expanding dimension on the fly\n",
    "\n",
    "In the last step, we extracted 4 different 27x27 sub-images for each image. Now for each 27x27 image, let's randomly sub-sample two 20x20 images during the training:"
   ]
  },
  {
   "cell_type": "code",
   "execution_count": 2,
   "metadata": {},
   "outputs": [],
   "source": [
    "from fastestimator.pipeline.processing import Minmax\n",
    "from fastestimator.util.op import TensorOp\n",
    "import tensorflow as tf\n",
    "\n",
    "class RandomSample(TensorOp):\n",
    "    def forward(self, data, state):\n",
    "        x, y = data\n",
    "        x1_top_left = tf.random.uniform([], maxval=8, dtype=tf.int32)\n",
    "        y1_top_left = tf.random.uniform([], maxval=8, dtype=tf.int32)\n",
    "        x2_top_left = tf.random.uniform([], maxval=8, dtype=tf.int32)\n",
    "        y2_top_left = tf.random.uniform([], maxval=8, dtype=tf.int32)\n",
    "        x = tf.stack([x[x1_top_left:x1_top_left+20, y1_top_left:y1_top_left+20, :], \n",
    "                      x[x2_top_left:x2_top_left+20, y2_top_left:y2_top_left+20, :]])\n",
    "        y = tf.stack([y, y])\n",
    "        return x, y\n",
    "\n",
    "pipeline = fe.Pipeline(data=writer,\n",
    "                       batch_size=32,\n",
    "                       ops=[Minmax(inputs=\"x\", outputs=\"x\"),\n",
    "                            RandomSample(inputs=(\"x\", \"y\"), outputs=(\"x\", \"y\"))],\n",
    "                       expand_dims=True)"
   ]
  },
  {
   "cell_type": "markdown",
   "metadata": {},
   "source": [
    "## access the pipeline results"
   ]
  },
  {
   "cell_type": "code",
   "execution_count": 3,
   "metadata": {
    "scrolled": false
   },
   "outputs": [
    {
     "name": "stdout",
     "output_type": "stream",
     "text": [
      "FastEstimator: Reading non-empty directory: /var/folders/5g/d_ny7h211cj3zqkzrtq01s480000gn/T/.fe/Mnist/FEdata_replicate\n",
      "FastEstimator: Found 240000 examples for train in /var/folders/5g/d_ny7h211cj3zqkzrtq01s480000gn/T/.fe/Mnist/FEdata_replicate/train_summary0.json\n",
      "FastEstimator: Found 40000 examples for eval in /var/folders/5g/d_ny7h211cj3zqkzrtq01s480000gn/T/.fe/Mnist/FEdata_replicate/eval_summary0.json\n",
      "shape of feature x is (32, 20, 20, 1)\n",
      "shape of feature y is (32,)\n"
     ]
    }
   ],
   "source": [
    "result = pipeline.show_results()\n",
    "x = result[0][\"x\"]\n",
    "y = result[0][\"y\"]\n",
    "print(\"shape of feature x is {}\".format(x.shape))\n",
    "print(\"shape of feature y is {}\".format(y.shape))"
   ]
  },
  {
   "cell_type": "markdown",
   "metadata": {},
   "source": [
    "## visualize"
   ]
  },
  {
   "cell_type": "code",
   "execution_count": 6,
   "metadata": {},
   "outputs": [
    {
     "name": "stdout",
     "output_type": "stream",
     "text": [
      "ground truth label is 9\n",
      "ground truth label is 9\n",
      "ground truth label is 7\n",
      "ground truth label is 7\n"
     ]
    },
    {
     "data": {
      "image/png": "[encoded data removed]",
      "text/plain": [
       "<Figure size 432x288 with 4 Axes>"
      ]
     },
     "metadata": {},
     "output_type": "display_data"
    }
   ],
   "source": [
    "import matplotlib.pyplot as plt\n",
    "\n",
    "fig, axes = plt.subplots(1, 4)\n",
    "for i in range(4):\n",
    "    axes[i].axis('off')\n",
    "    axes[i].imshow(np.squeeze(x[i]), cmap='gray')\n",
    "    print(\"ground truth label is {}\".format(y[i]))"
   ]
  },
  {
   "cell_type": "markdown",
   "metadata": {},
   "source": [
    "As we can see, each image is indeed generating two random patches."
   ]
  },
  {
   "cell_type": "code",
   "execution_count": null,
   "metadata": {},
   "outputs": [],
   "source": []
  }
 ],
 "metadata": {
  "kernelspec": {
   "display_name": "Python 3",
   "language": "python",
   "name": "python3"
  },
  "language_info": {
   "codemirror_mode": {
    "name": "ipython",
    "version": 3
   },
   "file_extension": ".py",
   "mimetype": "text/x-python",
   "name": "python",
   "nbconvert_exporter": "python",
   "pygments_lexer": "ipython3",
   "version": "3.6.5"
  }
 },
 "nbformat": 4,
 "nbformat_minor": 2
}
