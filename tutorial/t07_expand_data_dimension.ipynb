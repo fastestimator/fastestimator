{
 "cells": [
  {
   "cell_type": "markdown",
   "metadata": {},
   "source": [
    "# Tutorial 7: Expanding data dimension in RecordWriter and Pipeline\n",
    "\n",
    "In many domains (especially medical imaging), multiple examples are sampled from the same data, we call it __data dimension expansion__. In this tutorial we will show you how to do data dimension expansion in FastEstimator.\n",
    "\n",
    "In general, expanding data dimension can be achieved in both `RecordWriter` and `Pipeline`. Here are the differences:\n",
    "\n",
    "* Expanding data in `RecordWriter` means occupying __more disk-space__, and the expanded samples are fixed during the training. The good thing is that it __saves preprocessing computation__ during training.\n",
    "\n",
    "* Expanding data in `Pipeline` means expanded data can be different for every batch during training, the computation is done __in-memory__ therefore __no extra disk space__ is required. The drawback is that __additional computation__ is required."
   ]
  },
  {
   "cell_type": "code",
   "execution_count": null,
   "metadata": {},
   "outputs": [],
   "source": [
    "# Import libraries\n",
    "import fastestimator as fe\n",
    "import numpy as np\n",
    "import os\n",
    "import matplotlib.pyplot as plt"
   ]
  },
  {
   "cell_type": "markdown",
   "metadata": {},
   "source": [
    "## Step 1 - RecordWriter: expand data dimension and write it to the disk\n",
    "\n",
    "In RecordWriter, for each 28x28 image, let's create 4 different 27x27 images from corners:"
   ]
  },
  {
   "cell_type": "code",
   "execution_count": 2,
   "metadata": {},
   "outputs": [],
   "source": [
    "from fastestimator.dataset.mnist import load_data\n",
    "from fastestimator.op import NumpyOp\n",
    "from fastestimator import RecordWriter\n",
    "from fastestimator.op.numpyop import ImageReader\n",
    "\n",
    "# Load Mnist data\n",
    "train_csv, eval_csv, data_path = load_data()\n",
    "\n",
    "# Create a custom Numpy op to sample 4 images from the corners of each image\n",
    "class SampleCorner(NumpyOp):\n",
    "    def forward(self, data, state):\n",
    "        x, y = data\n",
    "        # we sample 4 27x27 images from the corners:\n",
    "        x = np.array([x[:27, :27, :],\n",
    "                      x[1:, 1:, :],\n",
    "                      x[:27, 1:, :],\n",
    "                      x[1:, :27, :]])\n",
    "        y = np.array([y, y, y, y]) # the label does not change for each sampled image\n",
    "        return x, y\n",
    "\n",
    "# We insert this custom op in the ops list of RecordWriter.\n",
    "# We have to specify expand_dims=True to allow data dimension expansion.\n",
    "writer = RecordWriter(save_dir=os.path.join(data_path, \"tfrecords_replicate\"),\n",
    "                         train_data=train_csv,\n",
    "                         validation_data=eval_csv,\n",
    "                         ops=[ImageReader(inputs=\"x\", outputs=\"x\", parent_path=data_path, grey_scale=True),\n",
    "                              SampleCorner(inputs=(\"x\", \"y\"), outputs=(\"x\", \"y\"))],\n",
    "                         expand_dims=True)"
   ]
  },
  {
   "cell_type": "markdown",
   "metadata": {},
   "source": [
    "## Step 2 - Pipeline: expand dimension on the fly\n",
    "\n",
    "In the last step, we extracted 4 different 27x27 sub-images for each image. Now for each 27x27 image, let's randomly sub-sample two 20x20 images during the training:"
   ]
  },
  {
   "cell_type": "code",
   "execution_count": 3,
   "metadata": {},
   "outputs": [],
   "source": [
    "from fastestimator.op.tensorop import Minmax\n",
    "from fastestimator.op import TensorOp\n",
    "import tensorflow as tf\n",
    "\n",
    "# We create a custom op for random sampling \n",
    "class RandomSample(TensorOp):\n",
    "    def forward(self, data, state):\n",
    "        x, y = data\n",
    "        # We randomly select the top-left point of our image for each sample (x and y coordinate)\n",
    "        # It cannot be greater than 8 as we will sample a 20x20 image from a 27x27 one\n",
    "        coord_x1_top_left = tf.random.uniform([], maxval=8, dtype=tf.int32)\n",
    "        coord_y1_top_left = tf.random.uniform([], maxval=8, dtype=tf.int32)\n",
    "        coord_x2_top_left = tf.random.uniform([], maxval=8, dtype=tf.int32)\n",
    "        coord_y2_top_left = tf.random.uniform([], maxval=8, dtype=tf.int32)\n",
    "        # We sample two 20x20 images with (x1,y1) and (x2,y2) top-left corner.\n",
    "        x = tf.stack([x[coord_x1_top_left:coord_x1_top_left+20, coord_y1_top_left:coord_y1_top_left+20, :], \n",
    "                      x[coord_x2_top_left:coord_x2_top_left+20, coord_y2_top_left:coord_y2_top_left+20, :]])\n",
    "        y = tf.stack([y, y]) # same label\n",
    "        return x, y\n",
    "\n",
    "# Create Pipeline with RandomSample op and expand_dims=True\n",
    "pipeline = fe.Pipeline(data=writer,\n",
    "                       batch_size=32,\n",
    "                       ops=[Minmax(inputs=\"x\", outputs=\"x\"),\n",
    "                            RandomSample(inputs=(\"x\", \"y\"), outputs=(\"x\", \"y\"))],\n",
    "                       expand_dims=True)"
   ]
  },
  {
   "cell_type": "markdown",
   "metadata": {},
   "source": [
    "## Step 3 - Check pipeline results..."
   ]
  },
  {
   "cell_type": "code",
   "execution_count": null,
   "metadata": {
    "scrolled": false
   },
   "outputs": [],
   "source": [
    "# Let's check our pipeline ops results with show_results\n",
    "\n",
    "result = pipeline.show_results()\n",
    "\n",
    "x = result[0][\"x\"]\n",
    "y = result[0][\"y\"]\n",
    "print(\"shape of feature x is {}\".format(x.shape))\n",
    "print(\"shape of feature y is {}\".format(y.shape))"
   ]
  },
  {
   "cell_type": "markdown",
   "metadata": {},
   "source": [
    "## .... and visualize!"
   ]
  },
  {
   "cell_type": "code",
   "execution_count": 7,
   "metadata": {},
   "outputs": [
    {
     "name": "stdout",
     "output_type": "stream",
     "text": [
      "ground truth label is 2\n",
      "ground truth label is 2\n",
      "ground truth label is 5\n",
      "ground truth label is 5\n"
     ]
    },
    {
     "data": {
      "image/png": "[encoded data removed]",
      "text/plain": [
       "<Figure size 432x288 with 4 Axes>"
      ]
     },
     "metadata": {},
     "output_type": "display_data"
    }
   ],
   "source": [
    "# Let's visualize the first 4 images (keeping the order) from our post-pipeline data:\n",
    "fig, axes = plt.subplots(1, 4)\n",
    "for i in range(4):\n",
    "    axes[i].axis('off')\n",
    "    axes[i].imshow(np.squeeze(x[i]), cmap='gray')\n",
    "    print(\"ground truth label is {}\".format(y[i]))"
   ]
  },
  {
   "cell_type": "markdown",
   "metadata": {},
   "source": [
    "As we can see, each image is indeed generating two random patches."
   ]
  }
 ],
 "metadata": {
  "kernelspec": {
   "display_name": "Python 3",
   "language": "python",
   "name": "python3"
  },
  "language_info": {
   "codemirror_mode": {
    "name": "ipython",
    "version": 3
   },
   "file_extension": ".py",
   "mimetype": "text/x-python",
   "name": "python",
   "nbconvert_exporter": "python",
   "pygments_lexer": "ipython3",
   "version": "3.6.5"
  }
 },
 "nbformat": 4,
 "nbformat_minor": 2
}
