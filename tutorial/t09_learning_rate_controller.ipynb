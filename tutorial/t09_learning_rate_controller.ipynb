{
 "cells": [
  {
   "cell_type": "markdown",
   "metadata": {},
   "source": [
    "# Tutorial 9: Learning Rate Controller\n",
    "___\n",
    "In this tutorial, we are going to show you how to use a specific Trace - `LRController` to __change your learning rate during the training__.  In general, `LRController` takes care of both learning rate scheduling as well as changing learning rate on validation.\n",
    "\n",
    "If you are a keras user, you can see `LRController` as a combination of LRScheduler and ReduceLROnPlateau."
   ]
  },
  {
   "cell_type": "code",
   "execution_count": 1,
   "metadata": {},
   "outputs": [],
   "source": [
    "import numpy as np\n",
    "import tensorflow as tf\n",
    "import fastestimator as fe\n",
    "import matplotlib.pyplot as plt"
   ]
  },
  {
   "cell_type": "markdown",
   "metadata": {},
   "source": [
    "## Step 0- Preparation"
   ]
  },
  {
   "cell_type": "code",
   "execution_count": 7,
   "metadata": {},
   "outputs": [],
   "source": [
    "from fastestimator.architecture import LeNet\n",
    "from fastestimator.op.tensorop.model import ModelOp\n",
    "from fastestimator.op.tensorop.loss import SparseCategoricalCrossentropy\n",
    "from fastestimator.op.tensorop import Minmax\n",
    "\n",
    "# Create a function to get Pipeline and Network\n",
    "def get_pipeline_network():\n",
    "    # step 1. Prepare data\n",
    "    (x_train, y_train), (x_eval, y_eval) = tf.keras.datasets.mnist.load_data()\n",
    "    train_data = {\"x\": np.expand_dims(x_train, -1), \"y\": y_train}\n",
    "    eval_data = {\"x\": np.expand_dims(x_eval, -1), \"y\": y_eval}\n",
    "    data = {\"train\": train_data, \"eval\": eval_data}\n",
    "    pipeline = fe.Pipeline(batch_size=32, data=data, ops=Minmax(inputs=\"x\", outputs=\"x\"))\n",
    "\n",
    "    # step 2. Prepare model\n",
    "    model = fe.build(model_def=LeNet, model_name=\"lenet\", optimizer=\"adam\", loss_name=\"my_loss\")\n",
    "    network = fe.Network(ops=[ModelOp(inputs=\"x\", model=model, outputs=\"y_pred\"), \n",
    "                              SparseCategoricalCrossentropy(inputs=(\"y\", \"y_pred\"), outputs=\"my_loss\")])\n",
    "    return pipeline, network"
   ]
  },
  {
   "cell_type": "markdown",
   "metadata": {},
   "source": [
    "## Option 1- Customize the learning rate: step-wise control\n",
    "\n",
    "Let's define our learning rate scheduler to be 0.001 * (1 + step // 500)."
   ]
  },
  {
   "cell_type": "code",
   "execution_count": 8,
   "metadata": {},
   "outputs": [],
   "source": [
    "from fastestimator.trace import LRController\n",
    "from fastestimator.schedule import LRSchedule\n",
    "\n",
    "# Create a LR Scheduler with a custom schedule_fn\n",
    "class MyLRSchedule1(LRSchedule):\n",
    "    def schedule_fn(self, current_step_or_epoch, lr):\n",
    "        lr = 0.001 * (1 + current_step_or_epoch // 500)\n",
    "        return lr\n",
    "\n",
    "# Create pipeline, network and lr_scheduler\n",
    "pipeline1, network1 = get_pipeline_network()\n",
    "lr_scheduler1 = MyLRSchedule1(schedule_mode=\"step\") # we want to change the lr at a step level\n",
    "\n",
    "# In Estimator, indicate in traces the LR Scheduler using LR Controller, you also have to specify the model_name.\n",
    "estimator1 = fe.Estimator(pipeline=pipeline1, \n",
    "                         network=network1, \n",
    "                         epochs=2,\n",
    "                         traces=LRController(model_name=\"lenet\", lr_schedule=lr_scheduler1))"
   ]
  },
  {
   "cell_type": "code",
   "execution_count": 9,
   "metadata": {},
   "outputs": [
    {
     "name": "stdout",
     "output_type": "stream",
     "text": [
      "    ______           __  ______     __  _                 __            \n",
      "   / ____/___ ______/ /_/ ____/____/ /_(_)___ ___  ____ _/ /_____  _____\n",
      "  / /_  / __ `/ ___/ __/ __/ / ___/ __/ / __ `__ \\/ __ `/ __/ __ \\/ ___/\n",
      " / __/ / /_/ (__  ) /_/ /___(__  ) /_/ / / / / / / /_/ / /_/ /_/ / /    \n",
      "/_/    \\__,_/____/\\__/_____/____/\\__/_/_/ /_/ /_/\\__,_/\\__/\\____/_/     \n",
      "                                                                        \n",
      "\n",
      "FastEstimator-Warn: No ModelSaver Trace detected. Models will not be saved.\n",
      "FastEstimator-Start: step: 0; total_train_steps: 3750; lenet_lr: 0.001; \n",
      "FastEstimator-Train: step: 0; my_loss: 2.2888482; lenet_lr: 0.001; \n",
      "FastEstimator-Train: step: 100; my_loss: 0.5100794; examples/sec: 3896.0; progress: 2.7%; lenet_lr: 0.001; \n",
      "FastEstimator-Train: step: 200; my_loss: 0.2533394; examples/sec: 3931.9; progress: 5.3%; lenet_lr: 0.001; \n",
      "FastEstimator-Train: step: 300; my_loss: 0.128243; examples/sec: 3961.0; progress: 8.0%; lenet_lr: 0.001; \n",
      "FastEstimator-Train: step: 400; my_loss: 0.1083025; examples/sec: 3972.0; progress: 10.7%; lenet_lr: 0.001; \n",
      "FastEstimator-Train: step: 500; my_loss: 0.1250492; examples/sec: 3957.0; progress: 13.3%; lenet_lr: 0.002; \n",
      "FastEstimator-Train: step: 600; my_loss: 0.0620192; examples/sec: 3950.9; progress: 16.0%; lenet_lr: 0.002; \n",
      "FastEstimator-Train: step: 700; my_loss: 0.009061; examples/sec: 3970.8; progress: 18.7%; lenet_lr: 0.002; \n",
      "FastEstimator-Train: step: 800; my_loss: 0.0284444; examples/sec: 3972.0; progress: 21.3%; lenet_lr: 0.002; \n",
      "FastEstimator-Train: step: 900; my_loss: 0.0203179; examples/sec: 3968.6; progress: 24.0%; lenet_lr: 0.002; \n",
      "FastEstimator-Train: step: 1000; my_loss: 0.1013497; examples/sec: 3973.1; progress: 26.7%; lenet_lr: 0.003; \n",
      "FastEstimator-Train: step: 1100; my_loss: 0.0853087; examples/sec: 3979.9; progress: 29.3%; lenet_lr: 0.003; \n",
      "FastEstimator-Train: step: 1200; my_loss: 0.0444975; examples/sec: 3988.6; progress: 32.0%; lenet_lr: 0.003; \n",
      "FastEstimator-Train: step: 1300; my_loss: 0.0625045; examples/sec: 3948.5; progress: 34.7%; lenet_lr: 0.003; \n",
      "FastEstimator-Train: step: 1400; my_loss: 0.0714587; examples/sec: 3969.4; progress: 37.3%; lenet_lr: 0.003; \n",
      "FastEstimator-Train: step: 1500; my_loss: 0.2313882; examples/sec: 3952.5; progress: 40.0%; lenet_lr: 0.004; \n",
      "FastEstimator-Train: step: 1600; my_loss: 0.0008636; examples/sec: 3948.7; progress: 42.7%; lenet_lr: 0.004; \n",
      "FastEstimator-Train: step: 1700; my_loss: 0.030587; examples/sec: 3915.9; progress: 45.3%; lenet_lr: 0.004; \n",
      "FastEstimator-Train: step: 1800; my_loss: 0.0263997; examples/sec: 3952.1; progress: 48.0%; lenet_lr: 0.004; \n",
      "FastEstimator-Eval: step: 1875; epoch: 0; my_loss: 0.0822457; min_my_loss: 0.08224571; since_best_loss: 0; \n",
      "FastEstimator-Train: step: 1900; my_loss: 0.0063102; examples/sec: 3599.3; progress: 50.7%; lenet_lr: 0.004; \n",
      "FastEstimator-Train: step: 2000; my_loss: 0.0005939; examples/sec: 3980.7; progress: 53.3%; lenet_lr: 0.005; \n",
      "FastEstimator-Train: step: 2100; my_loss: 0.0688064; examples/sec: 3962.6; progress: 56.0%; lenet_lr: 0.005; \n",
      "FastEstimator-Train: step: 2200; my_loss: 0.0392575; examples/sec: 3966.7; progress: 58.7%; lenet_lr: 0.005; \n",
      "FastEstimator-Train: step: 2300; my_loss: 0.1063022; examples/sec: 3984.8; progress: 61.3%; lenet_lr: 0.005; \n",
      "FastEstimator-Train: step: 2400; my_loss: 0.0855758; examples/sec: 4008.1; progress: 64.0%; lenet_lr: 0.005; \n",
      "FastEstimator-Train: step: 2500; my_loss: 0.0063999; examples/sec: 3994.5; progress: 66.7%; lenet_lr: 0.006; \n",
      "FastEstimator-Train: step: 2600; my_loss: 0.0134795; examples/sec: 4011.4; progress: 69.3%; lenet_lr: 0.006; \n",
      "FastEstimator-Train: step: 2700; my_loss: 0.0793164; examples/sec: 4016.5; progress: 72.0%; lenet_lr: 0.006; \n",
      "FastEstimator-Train: step: 2800; my_loss: 0.0005881; examples/sec: 4006.8; progress: 74.7%; lenet_lr: 0.006; \n",
      "FastEstimator-Train: step: 2900; my_loss: 0.0106941; examples/sec: 3953.2; progress: 77.3%; lenet_lr: 0.006; \n",
      "FastEstimator-Train: step: 3000; my_loss: 0.0131055; examples/sec: 4004.1; progress: 80.0%; lenet_lr: 0.007; \n",
      "FastEstimator-Train: step: 3100; my_loss: 0.1210043; examples/sec: 4019.9; progress: 82.7%; lenet_lr: 0.007; \n",
      "FastEstimator-Train: step: 3200; my_loss: 0.2668515; examples/sec: 3984.7; progress: 85.3%; lenet_lr: 0.007; \n",
      "FastEstimator-Train: step: 3300; my_loss: 0.000567; examples/sec: 3973.1; progress: 88.0%; lenet_lr: 0.007; \n",
      "FastEstimator-Train: step: 3400; my_loss: 0.0089378; examples/sec: 4012.1; progress: 90.7%; lenet_lr: 0.007; \n",
      "FastEstimator-Train: step: 3500; my_loss: 0.0057933; examples/sec: 3772.2; progress: 93.3%; lenet_lr: 0.008; \n",
      "FastEstimator-Train: step: 3600; my_loss: 0.0400752; examples/sec: 3645.9; progress: 96.0%; lenet_lr: 0.008; \n",
      "FastEstimator-Train: step: 3700; my_loss: 0.3283464; examples/sec: 3608.5; progress: 98.7%; lenet_lr: 0.008; \n",
      "FastEstimator-Eval: step: 3750; epoch: 1; my_loss: 0.1096223; min_my_loss: 0.08224571; since_best_loss: 1; \n",
      "FastEstimator-Finish: step: 3750; total_time: 33.55 sec; lenet_lr: 0.008; \n"
     ]
    }
   ],
   "source": [
    "# Save the training history and train the model\n",
    "history1 = estimator1.fit(summary=\"custom_lr_scheduler_step\")"
   ]
  },
  {
   "cell_type": "markdown",
   "metadata": {},
   "source": [
    "We will use visualize_logs to plot the learning rate. We only want to display this metric, so we specify the others in ignore_metrics."
   ]
  },
  {
   "cell_type": "code",
   "execution_count": 24,
   "metadata": {},
   "outputs": [
    {
     "data": {
      "image/png": "[encoded data removed]",
      "text/plain": [
       "<Figure size 288x201.6 with 1 Axes>"
      ]
     },
     "metadata": {},
     "output_type": "display_data"
    }
   ],
   "source": [
    "from fastestimator.summary import visualize_logs\n",
    "\n",
    "# Show the learning rates history for each step\n",
    "visualize_logs(history1, ignore_metrics = {\"min_my_loss\", \"examples/sec\", \"my_loss\", \"since_best_loss\", \"total_time\"})"
   ]
  },
  {
   "cell_type": "markdown",
   "metadata": {},
   "source": [
    "## Option 2 - Customize the learning rate: epoch-wise control\n",
    "\n",
    "Let's now define learning rate to be (epoch +1 ) * 0.002. The only change will be in schedule_mode."
   ]
  },
  {
   "cell_type": "code",
   "execution_count": 11,
   "metadata": {},
   "outputs": [],
   "source": [
    "from fastestimator.trace import LRController\n",
    "from fastestimator.schedule import LRSchedule\n",
    "\n",
    "# We define our custom Scheduler in the same way as above.\n",
    "class MyLRSchedule2(LRSchedule):\n",
    "    def schedule_fn(self, current_step_or_epoch, lr):\n",
    "        lr = 0.002 * (1 + current_step_or_epoch)\n",
    "        return lr\n",
    "\n",
    "# Create pipeline and network.\n",
    "pipeline2, network2 = get_pipeline_network()\n",
    "\n",
    "# Here we now indicate epoch as schedule_mode.\n",
    "lr_scheduler2 = MyLRSchedule2(schedule_mode=\"epoch\")\n",
    "estimator2 = fe.Estimator(pipeline=pipeline2, \n",
    "                         network=network2, \n",
    "                         epochs=2,\n",
    "                         traces=LRController(model_name=\"lenet\", lr_schedule=lr_scheduler2))"
   ]
  },
  {
   "cell_type": "code",
   "execution_count": 12,
   "metadata": {
    "scrolled": false
   },
   "outputs": [
    {
     "name": "stdout",
     "output_type": "stream",
     "text": [
      "    ______           __  ______     __  _                 __            \n",
      "   / ____/___ ______/ /_/ ____/____/ /_(_)___ ___  ____ _/ /_____  _____\n",
      "  / /_  / __ `/ ___/ __/ __/ / ___/ __/ / __ `__ \\/ __ `/ __/ __ \\/ ___/\n",
      " / __/ / /_/ (__  ) /_/ /___(__  ) /_/ / / / / / / /_/ / /_/ /_/ / /    \n",
      "/_/    \\__,_/____/\\__/_____/____/\\__/_/_/ /_/ /_/\\__,_/\\__/\\____/_/     \n",
      "                                                                        \n",
      "\n",
      "FastEstimator-Warn: No ModelSaver Trace detected. Models will not be saved.\n",
      "FastEstimator-Start: step: 0; total_train_steps: 3750; lenet_lr: 0.001; \n",
      "FastEstimator-Train: step: 0; my_loss: 2.3025756; lenet_lr: 0.002; \n",
      "FastEstimator-Train: step: 100; my_loss: 0.2721966; examples/sec: 3960.2; progress: 2.7%; lenet_lr: 0.002; \n",
      "FastEstimator-Train: step: 200; my_loss: 0.0717329; examples/sec: 3978.8; progress: 5.3%; lenet_lr: 0.002; \n",
      "FastEstimator-Train: step: 300; my_loss: 0.0273904; examples/sec: 3937.9; progress: 8.0%; lenet_lr: 0.002; \n",
      "FastEstimator-Train: step: 400; my_loss: 0.0704985; examples/sec: 3984.2; progress: 10.7%; lenet_lr: 0.002; \n",
      "FastEstimator-Train: step: 500; my_loss: 0.3219198; examples/sec: 3938.5; progress: 13.3%; lenet_lr: 0.002; \n",
      "FastEstimator-Train: step: 600; my_loss: 0.0063683; examples/sec: 3947.9; progress: 16.0%; lenet_lr: 0.002; \n",
      "FastEstimator-Train: step: 700; my_loss: 0.0867924; examples/sec: 3963.6; progress: 18.7%; lenet_lr: 0.002; \n",
      "FastEstimator-Train: step: 800; my_loss: 0.0173541; examples/sec: 3991.8; progress: 21.3%; lenet_lr: 0.002; \n",
      "FastEstimator-Train: step: 900; my_loss: 0.0335448; examples/sec: 3978.6; progress: 24.0%; lenet_lr: 0.002; \n",
      "FastEstimator-Train: step: 1000; my_loss: 0.0663465; examples/sec: 3996.2; progress: 26.7%; lenet_lr: 0.002; \n",
      "FastEstimator-Train: step: 1100; my_loss: 0.0953021; examples/sec: 3968.9; progress: 29.3%; lenet_lr: 0.002; \n",
      "FastEstimator-Train: step: 1200; my_loss: 0.0047956; examples/sec: 3956.1; progress: 32.0%; lenet_lr: 0.002; \n",
      "FastEstimator-Train: step: 1300; my_loss: 0.0494369; examples/sec: 3979.5; progress: 34.7%; lenet_lr: 0.002; \n",
      "FastEstimator-Train: step: 1400; my_loss: 0.1418585; examples/sec: 3959.6; progress: 37.3%; lenet_lr: 0.002; \n",
      "FastEstimator-Train: step: 1500; my_loss: 0.0980848; examples/sec: 3974.9; progress: 40.0%; lenet_lr: 0.002; \n",
      "FastEstimator-Train: step: 1600; my_loss: 0.0177652; examples/sec: 3997.4; progress: 42.7%; lenet_lr: 0.002; \n",
      "FastEstimator-Train: step: 1700; my_loss: 0.0085248; examples/sec: 4004.5; progress: 45.3%; lenet_lr: 0.002; \n",
      "FastEstimator-Train: step: 1800; my_loss: 0.0104187; examples/sec: 4014.2; progress: 48.0%; lenet_lr: 0.002; \n",
      "FastEstimator-Eval: step: 1875; epoch: 0; my_loss: 0.0491042; min_my_loss: 0.049104225; since_best_loss: 0; \n",
      "FastEstimator-Train: step: 1900; my_loss: 0.0066214; examples/sec: 3548.5; progress: 50.7%; lenet_lr: 0.004; \n",
      "FastEstimator-Train: step: 2000; my_loss: 0.043445; examples/sec: 3987.6; progress: 53.3%; lenet_lr: 0.004; \n",
      "FastEstimator-Train: step: 2100; my_loss: 0.0026124; examples/sec: 3999.8; progress: 56.0%; lenet_lr: 0.004; \n",
      "FastEstimator-Train: step: 2200; my_loss: 0.1719017; examples/sec: 4037.8; progress: 58.7%; lenet_lr: 0.004; \n",
      "FastEstimator-Train: step: 2300; my_loss: 0.081366; examples/sec: 4015.9; progress: 61.3%; lenet_lr: 0.004; \n",
      "FastEstimator-Train: step: 2400; my_loss: 0.246665; examples/sec: 4018.9; progress: 64.0%; lenet_lr: 0.004; \n",
      "FastEstimator-Train: step: 2500; my_loss: 0.0325989; examples/sec: 4017.0; progress: 66.7%; lenet_lr: 0.004; \n",
      "FastEstimator-Train: step: 2600; my_loss: 0.0941026; examples/sec: 4002.8; progress: 69.3%; lenet_lr: 0.004; \n",
      "FastEstimator-Train: step: 2700; my_loss: 0.0014212; examples/sec: 4043.3; progress: 72.0%; lenet_lr: 0.004; \n",
      "FastEstimator-Train: step: 2800; my_loss: 0.0614315; examples/sec: 4024.2; progress: 74.7%; lenet_lr: 0.004; \n",
      "FastEstimator-Train: step: 2900; my_loss: 0.0232563; examples/sec: 3983.9; progress: 77.3%; lenet_lr: 0.004; \n",
      "FastEstimator-Train: step: 3000; my_loss: 0.0777129; examples/sec: 4009.2; progress: 80.0%; lenet_lr: 0.004; \n",
      "FastEstimator-Train: step: 3100; my_loss: 0.002428; examples/sec: 4037.0; progress: 82.7%; lenet_lr: 0.004; \n",
      "FastEstimator-Train: step: 3200; my_loss: 0.0102054; examples/sec: 3997.5; progress: 85.3%; lenet_lr: 0.004; \n",
      "FastEstimator-Train: step: 3300; my_loss: 0.1672973; examples/sec: 4008.3; progress: 88.0%; lenet_lr: 0.004; \n",
      "FastEstimator-Train: step: 3400; my_loss: 0.0197177; examples/sec: 3998.7; progress: 90.7%; lenet_lr: 0.004; \n",
      "FastEstimator-Train: step: 3500; my_loss: 0.0255214; examples/sec: 4046.8; progress: 93.3%; lenet_lr: 0.004; \n",
      "FastEstimator-Train: step: 3600; my_loss: 0.0055491; examples/sec: 4016.5; progress: 96.0%; lenet_lr: 0.004; \n",
      "FastEstimator-Train: step: 3700; my_loss: 0.1649434; examples/sec: 4060.2; progress: 98.7%; lenet_lr: 0.004; \n",
      "FastEstimator-Eval: step: 3750; epoch: 1; my_loss: 0.0591261; min_my_loss: 0.049104225; since_best_loss: 1; \n",
      "FastEstimator-Finish: step: 3750; total_time: 32.34 sec; lenet_lr: 0.004; \n"
     ]
    }
   ],
   "source": [
    "# Train and save history\n",
    "history2 = estimator2.fit(summary=\"custom_lr_scheduler_epoch\")"
   ]
  },
  {
   "cell_type": "code",
   "execution_count": 25,
   "metadata": {},
   "outputs": [
    {
     "data": {
      "image/png": "[encoded data removed]",
      "text/plain": [
       "<Figure size 288x201.6 with 1 Axes>"
      ]
     },
     "metadata": {},
     "output_type": "display_data"
    }
   ],
   "source": [
    "# Show the learning rate for each step: it changes only at an epoch level!\n",
    "visualize_logs(history2, ignore_metrics = {\"min_my_loss\", \"examples/sec\", \"my_loss\", \"since_best_loss\", \"total_time\"})"
   ]
  },
  {
   "cell_type": "markdown",
   "metadata": {},
   "source": [
    "## Option 3- Built-in Cyclic Learning Rate - example 1\n",
    "\n",
    "FastEstimator provides many pre-implemented popular learning rate shedulers for users. \n",
    "Here, we are going to use `CyclicLRSchedule`: it is a generalization of many learning rate schedulers.\n",
    "\n",
    "In the next example, let's decay the learning rate by half of cosine curve."
   ]
  },
  {
   "cell_type": "code",
   "execution_count": 14,
   "metadata": {},
   "outputs": [],
   "source": [
    "from fastestimator.trace import LRController\n",
    "from fastestimator.schedule import CyclicLRSchedule\n",
    "\n",
    "# Create pipeline and network\n",
    "pipeline3, network3 = get_pipeline_network()\n",
    "\n",
    "# Directly use the pre-built CyclicLRSchedule, with a cosine decrease method and one cycle.\n",
    "estimator3 = fe.Estimator(pipeline=pipeline3, \n",
    "                         network=network3, \n",
    "                         epochs=2,\n",
    "                         traces=LRController(model_name=\"lenet\", \n",
    "                                             lr_schedule=CyclicLRSchedule(num_cycle=1, decrease_method=\"cosine\")))"
   ]
  },
  {
   "cell_type": "code",
   "execution_count": 15,
   "metadata": {
    "scrolled": false
   },
   "outputs": [
    {
     "name": "stdout",
     "output_type": "stream",
     "text": [
      "    ______           __  ______     __  _                 __            \n",
      "   / ____/___ ______/ /_/ ____/____/ /_(_)___ ___  ____ _/ /_____  _____\n",
      "  / /_  / __ `/ ___/ __/ __/ / ___/ __/ / __ `__ \\/ __ `/ __/ __ \\/ ___/\n",
      " / __/ / /_/ (__  ) /_/ /___(__  ) /_/ / / / / / / /_/ / /_/ /_/ / /    \n",
      "/_/    \\__,_/____/\\__/_____/____/\\__/_/_/ /_/ /_/\\__,_/\\__/\\____/_/     \n",
      "                                                                        \n",
      "\n",
      "FastEstimator-Warn: No ModelSaver Trace detected. Models will not be saved.\n",
      "FastEstimator-Start: step: 0; total_train_steps: 3750; lenet_lr: 0.001; \n",
      "FastEstimator-Train: step: 0; my_loss: 2.3278143; lenet_lr: 0.001; \n",
      "FastEstimator-Train: step: 100; my_loss: 0.3265492; examples/sec: 3873.0; progress: 2.7%; lenet_lr: 0.000998; \n",
      "FastEstimator-Train: step: 200; my_loss: 0.287258; examples/sec: 3884.8; progress: 5.3%; lenet_lr: 0.000993; \n",
      "FastEstimator-Train: step: 300; my_loss: 0.0871949; examples/sec: 3880.9; progress: 8.0%; lenet_lr: 0.000984; \n",
      "FastEstimator-Train: step: 400; my_loss: 0.1784107; examples/sec: 3902.9; progress: 10.7%; lenet_lr: 0.000972; \n",
      "FastEstimator-Train: step: 500; my_loss: 0.4700381; examples/sec: 3891.6; progress: 13.3%; lenet_lr: 0.000957; \n",
      "FastEstimator-Train: step: 600; my_loss: 0.4894411; examples/sec: 3884.8; progress: 16.0%; lenet_lr: 0.000938; \n",
      "FastEstimator-Train: step: 700; my_loss: 0.0916378; examples/sec: 3899.4; progress: 18.7%; lenet_lr: 0.000917; \n",
      "FastEstimator-Train: step: 800; my_loss: 0.0553569; examples/sec: 3873.1; progress: 21.3%; lenet_lr: 0.000892; \n",
      "FastEstimator-Train: step: 900; my_loss: 0.0268171; examples/sec: 3847.3; progress: 24.0%; lenet_lr: 0.000865; \n",
      "FastEstimator-Train: step: 1000; my_loss: 0.0134905; examples/sec: 3842.8; progress: 26.7%; lenet_lr: 0.000835; \n",
      "FastEstimator-Train: step: 1100; my_loss: 0.0094531; examples/sec: 3855.9; progress: 29.3%; lenet_lr: 0.000802; \n",
      "FastEstimator-Train: step: 1200; my_loss: 0.0722081; examples/sec: 3870.4; progress: 32.0%; lenet_lr: 0.000768; \n",
      "FastEstimator-Train: step: 1300; my_loss: 0.0195664; examples/sec: 3839.9; progress: 34.7%; lenet_lr: 0.000732; \n",
      "FastEstimator-Train: step: 1400; my_loss: 0.083041; examples/sec: 3803.7; progress: 37.3%; lenet_lr: 0.000694; \n",
      "FastEstimator-Train: step: 1500; my_loss: 0.0126162; examples/sec: 3847.0; progress: 40.0%; lenet_lr: 0.000655; \n",
      "FastEstimator-Train: step: 1600; my_loss: 0.0284383; examples/sec: 3870.3; progress: 42.7%; lenet_lr: 0.000615; \n",
      "FastEstimator-Train: step: 1700; my_loss: 0.0383853; examples/sec: 3880.3; progress: 45.3%; lenet_lr: 0.000573; \n",
      "FastEstimator-Train: step: 1800; my_loss: 0.0065974; examples/sec: 3866.2; progress: 48.0%; lenet_lr: 0.000532; \n",
      "FastEstimator-Eval: step: 1875; epoch: 0; my_loss: 0.0393224; min_my_loss: 0.039322365; since_best_loss: 0; \n",
      "FastEstimator-Train: step: 1900; my_loss: 0.0055467; examples/sec: 3498.4; progress: 50.7%; lenet_lr: 0.00049; \n",
      "FastEstimator-Train: step: 2000; my_loss: 0.2105115; examples/sec: 3839.9; progress: 53.3%; lenet_lr: 0.000448; \n",
      "FastEstimator-Train: step: 2100; my_loss: 0.0120957; examples/sec: 3856.4; progress: 56.0%; lenet_lr: 0.000407; \n",
      "FastEstimator-Train: step: 2200; my_loss: 0.0149627; examples/sec: 3883.0; progress: 58.7%; lenet_lr: 0.000366; \n",
      "FastEstimator-Train: step: 2300; my_loss: 0.0017223; examples/sec: 3871.7; progress: 61.3%; lenet_lr: 0.000326; \n",
      "FastEstimator-Train: step: 2400; my_loss: 0.0814043; examples/sec: 3884.7; progress: 64.0%; lenet_lr: 0.000288; \n",
      "FastEstimator-Train: step: 2500; my_loss: 0.0039133; examples/sec: 3857.8; progress: 66.7%; lenet_lr: 0.000251; \n",
      "FastEstimator-Train: step: 2600; my_loss: 0.0296291; examples/sec: 3850.4; progress: 69.3%; lenet_lr: 0.000215; \n",
      "FastEstimator-Train: step: 2700; my_loss: 0.0182726; examples/sec: 3860.1; progress: 72.0%; lenet_lr: 0.000182; \n",
      "FastEstimator-Train: step: 2800; my_loss: 0.0261605; examples/sec: 3828.7; progress: 74.7%; lenet_lr: 0.000151; \n",
      "FastEstimator-Train: step: 2900; my_loss: 0.0161429; examples/sec: 3851.5; progress: 77.3%; lenet_lr: 0.000122; \n",
      "FastEstimator-Train: step: 3000; my_loss: 0.0009559; examples/sec: 3860.0; progress: 80.0%; lenet_lr: 9.6e-05; \n",
      "FastEstimator-Train: step: 3100; my_loss: 0.0025788; examples/sec: 3832.8; progress: 82.7%; lenet_lr: 7.3e-05; \n",
      "FastEstimator-Train: step: 3200; my_loss: 0.0119457; examples/sec: 3867.7; progress: 85.3%; lenet_lr: 5.3e-05; \n",
      "FastEstimator-Train: step: 3300; my_loss: 0.0342976; examples/sec: 3863.0; progress: 88.0%; lenet_lr: 3.6e-05; \n",
      "FastEstimator-Train: step: 3400; my_loss: 0.0155578; examples/sec: 3848.9; progress: 90.7%; lenet_lr: 2.2e-05; \n",
      "FastEstimator-Train: step: 3500; my_loss: 0.0474691; examples/sec: 3843.4; progress: 93.3%; lenet_lr: 1.2e-05; \n",
      "FastEstimator-Train: step: 3600; my_loss: 0.0010362; examples/sec: 3854.9; progress: 96.0%; lenet_lr: 5e-06; \n",
      "FastEstimator-Train: step: 3700; my_loss: 0.0025958; examples/sec: 3857.6; progress: 98.7%; lenet_lr: 1e-06; \n",
      "FastEstimator-Eval: step: 3750; epoch: 1; my_loss: 0.0273828; min_my_loss: 0.027382798; since_best_loss: 0; \n",
      "FastEstimator-Finish: step: 3750; total_time: 33.51 sec; lenet_lr: 1e-06; \n"
     ]
    }
   ],
   "source": [
    "# Train and save history\n",
    "history3 = estimator3.fit(summary=\"cyclic_1\")"
   ]
  },
  {
   "cell_type": "code",
   "execution_count": 26,
   "metadata": {},
   "outputs": [
    {
     "data": {
      "image/png": "[encoded data removed]",
      "text/plain": [
       "<Figure size 288x201.6 with 1 Axes>"
      ]
     },
     "metadata": {},
     "output_type": "display_data"
    }
   ],
   "source": [
    "# Plot the learning rate for each step\n",
    "visualize_logs(history3, ignore_metrics = {\"min_my_loss\", \"examples/sec\", \"my_loss\", \"since_best_loss\", \"total_time\"})"
   ]
  },
  {
   "cell_type": "markdown",
   "metadata": {},
   "source": [
    "## Option 3- Built-in Cyclic Learning Rate: example 2\n",
    "\n",
    "Users can also choose to add more cycles of the learning rate with `num_cycle`, and to change the subsequent cycle length using `cycle_multiplier`. If `cycle_multiplier=2`, the second cycle will be twice as long as the first one."
   ]
  },
  {
   "cell_type": "code",
   "execution_count": 16,
   "metadata": {},
   "outputs": [],
   "source": [
    "from fastestimator.trace import LRController\n",
    "from fastestimator.schedule import CyclicLRSchedule\n",
    "\n",
    "# We create pipeline and network.\n",
    "pipeline4, network4 = get_pipeline_network()\n",
    "\n",
    "# We specify num_cycle and cycle_multiplier in CyclicLRSchedule.\n",
    "estimator4 = fe.Estimator(pipeline=pipeline4, \n",
    "                         network=network4, \n",
    "                         epochs=2,\n",
    "                         traces=LRController(model_name=\"lenet\", \n",
    "                                             lr_schedule=CyclicLRSchedule(num_cycle=2, \n",
    "                                                                          cycle_multiplier=2, \n",
    "                                                                          decrease_method=\"cosine\")))"
   ]
  },
  {
   "cell_type": "code",
   "execution_count": 17,
   "metadata": {},
   "outputs": [
    {
     "name": "stdout",
     "output_type": "stream",
     "text": [
      "    ______           __  ______     __  _                 __            \n",
      "   / ____/___ ______/ /_/ ____/____/ /_(_)___ ___  ____ _/ /_____  _____\n",
      "  / /_  / __ `/ ___/ __/ __/ / ___/ __/ / __ `__ \\/ __ `/ __/ __ \\/ ___/\n",
      " / __/ / /_/ (__  ) /_/ /___(__  ) /_/ / / / / / / /_/ / /_/ /_/ / /    \n",
      "/_/    \\__,_/____/\\__/_____/____/\\__/_/_/ /_/ /_/\\__,_/\\__/\\____/_/     \n",
      "                                                                        \n",
      "\n",
      "FastEstimator-Warn: No ModelSaver Trace detected. Models will not be saved.\n",
      "FastEstimator-Start: step: 0; total_train_steps: 3750; lenet_lr: 0.001; \n",
      "FastEstimator-Train: step: 0; my_loss: 2.3363483; lenet_lr: 0.001; \n",
      "FastEstimator-Train: step: 100; my_loss: 0.4472597; examples/sec: 3835.6; progress: 2.7%; lenet_lr: 0.000984; \n",
      "FastEstimator-Train: step: 200; my_loss: 0.0681025; examples/sec: 3878.6; progress: 5.3%; lenet_lr: 0.000938; \n",
      "FastEstimator-Train: step: 300; my_loss: 0.2049414; examples/sec: 3850.5; progress: 8.0%; lenet_lr: 0.000865; \n",
      "FastEstimator-Train: step: 400; my_loss: 0.117719; examples/sec: 3822.1; progress: 10.7%; lenet_lr: 0.000768; \n",
      "FastEstimator-Train: step: 500; my_loss: 0.0960631; examples/sec: 3875.0; progress: 13.3%; lenet_lr: 0.000655; \n",
      "FastEstimator-Train: step: 600; my_loss: 0.0856763; examples/sec: 3831.9; progress: 16.0%; lenet_lr: 0.000532; \n",
      "FastEstimator-Train: step: 700; my_loss: 0.0560528; examples/sec: 3852.8; progress: 18.7%; lenet_lr: 0.000407; \n",
      "FastEstimator-Train: step: 800; my_loss: 0.1688411; examples/sec: 3857.3; progress: 21.3%; lenet_lr: 0.000288; \n",
      "FastEstimator-Train: step: 900; my_loss: 0.0903378; examples/sec: 3835.5; progress: 24.0%; lenet_lr: 0.000182; \n",
      "FastEstimator-Train: step: 1000; my_loss: 0.0260965; examples/sec: 3885.5; progress: 26.7%; lenet_lr: 9.6e-05; \n",
      "FastEstimator-Train: step: 1100; my_loss: 0.0482137; examples/sec: 3896.7; progress: 29.3%; lenet_lr: 3.6e-05; \n",
      "FastEstimator-Train: step: 1200; my_loss: 0.0449507; examples/sec: 3871.9; progress: 32.0%; lenet_lr: 5e-06; \n",
      "FastEstimator-Train: step: 1300; my_loss: 0.0407426; examples/sec: 3882.5; progress: 34.7%; lenet_lr: 0.000999; \n",
      "FastEstimator-Train: step: 1400; my_loss: 0.2899769; examples/sec: 3825.4; progress: 37.3%; lenet_lr: 0.000991; \n",
      "FastEstimator-Train: step: 1500; my_loss: 0.0407275; examples/sec: 3820.4; progress: 40.0%; lenet_lr: 0.000976; \n",
      "FastEstimator-Train: step: 1600; my_loss: 0.0748142; examples/sec: 3860.1; progress: 42.7%; lenet_lr: 0.000952; \n",
      "FastEstimator-Train: step: 1700; my_loss: 0.2303891; examples/sec: 3846.0; progress: 45.3%; lenet_lr: 0.000922; \n",
      "FastEstimator-Train: step: 1800; my_loss: 0.0568271; examples/sec: 3839.6; progress: 48.0%; lenet_lr: 0.000885; \n",
      "FastEstimator-Eval: step: 1875; epoch: 0; my_loss: 0.0642645; min_my_loss: 0.064264506; since_best_loss: 0; \n",
      "FastEstimator-Train: step: 1900; my_loss: 0.0113349; examples/sec: 3485.6; progress: 50.7%; lenet_lr: 0.000842; \n",
      "FastEstimator-Train: step: 2000; my_loss: 0.0372576; examples/sec: 3861.8; progress: 53.3%; lenet_lr: 0.000794; \n",
      "FastEstimator-Train: step: 2100; my_loss: 0.0041966; examples/sec: 3869.0; progress: 56.0%; lenet_lr: 0.000741; \n",
      "FastEstimator-Train: step: 2200; my_loss: 0.2365212; examples/sec: 3835.5; progress: 58.7%; lenet_lr: 0.000684; \n",
      "FastEstimator-Train: step: 2300; my_loss: 0.0074239; examples/sec: 3851.6; progress: 61.3%; lenet_lr: 0.000625; \n",
      "FastEstimator-Train: step: 2400; my_loss: 0.0461862; examples/sec: 3872.3; progress: 64.0%; lenet_lr: 0.000563; \n",
      "FastEstimator-Train: step: 2500; my_loss: 0.0036448; examples/sec: 3856.0; progress: 66.7%; lenet_lr: 0.000501; \n",
      "FastEstimator-Train: step: 2600; my_loss: 0.0125788; examples/sec: 3826.4; progress: 69.3%; lenet_lr: 0.000438; \n",
      "FastEstimator-Train: step: 2700; my_loss: 0.1092658; examples/sec: 3854.7; progress: 72.0%; lenet_lr: 0.000376; \n",
      "FastEstimator-Train: step: 2800; my_loss: 0.0226009; examples/sec: 3832.1; progress: 74.7%; lenet_lr: 0.000317; \n",
      "FastEstimator-Train: step: 2900; my_loss: 0.0243355; examples/sec: 3833.5; progress: 77.3%; lenet_lr: 0.00026; \n",
      "FastEstimator-Train: step: 3000; my_loss: 0.0244148; examples/sec: 3855.0; progress: 80.0%; lenet_lr: 0.000207; \n",
      "FastEstimator-Train: step: 3100; my_loss: 0.1402043; examples/sec: 3853.1; progress: 82.7%; lenet_lr: 0.000159; \n",
      "FastEstimator-Train: step: 3200; my_loss: 0.0158897; examples/sec: 3855.0; progress: 85.3%; lenet_lr: 0.000116; \n",
      "FastEstimator-Train: step: 3300; my_loss: 0.0320151; examples/sec: 3854.8; progress: 88.0%; lenet_lr: 7.9e-05; \n",
      "FastEstimator-Train: step: 3400; my_loss: 0.1201441; examples/sec: 3869.7; progress: 90.7%; lenet_lr: 4.9e-05; \n",
      "FastEstimator-Train: step: 3500; my_loss: 0.0432729; examples/sec: 3872.7; progress: 93.3%; lenet_lr: 2.5e-05; \n",
      "FastEstimator-Train: step: 3600; my_loss: 0.017112; examples/sec: 3854.4; progress: 96.0%; lenet_lr: 1e-05; \n",
      "FastEstimator-Train: step: 3700; my_loss: 0.0080384; examples/sec: 3874.0; progress: 98.7%; lenet_lr: 2e-06; \n",
      "FastEstimator-Eval: step: 3750; epoch: 1; my_loss: 0.0279318; min_my_loss: 0.027931781; since_best_loss: 0; \n",
      "FastEstimator-Finish: step: 3750; total_time: 33.42 sec; lenet_lr: 1e-06; \n"
     ]
    }
   ],
   "source": [
    "# Train and save history\n",
    "history4 = estimator4.fit(summary=\"cyclic_2\")"
   ]
  },
  {
   "cell_type": "code",
   "execution_count": 27,
   "metadata": {},
   "outputs": [
    {
     "data": {
      "image/png": "[encoded data removed]",
      "text/plain": [
       "<Figure size 288x201.6 with 1 Axes>"
      ]
     },
     "metadata": {},
     "output_type": "display_data"
    }
   ],
   "source": [
    "# Plot the learning rate\n",
    "visualize_logs(history4, ignore_metrics = {\"min_my_loss\", \"examples/sec\", \"my_loss\", \"since_best_loss\", \"total_time\"})"
   ]
  },
  {
   "cell_type": "markdown",
   "metadata": {},
   "source": [
    "We observe that we have two cycles of decreasing learning rate, and the second one is twice as long as the first one."
   ]
  },
  {
   "cell_type": "code",
   "execution_count": null,
   "metadata": {},
   "outputs": [],
   "source": []
  }
 ],
 "metadata": {
  "kernelspec": {
   "display_name": "conda_tensorflow_p36",
   "language": "python",
   "name": "conda_tensorflow_p36"
  },
  "language_info": {
   "codemirror_mode": {
    "name": "ipython",
    "version": 3
   },
   "file_extension": ".py",
   "mimetype": "text/x-python",
   "name": "python",
   "nbconvert_exporter": "python",
   "pygments_lexer": "ipython3",
   "version": "3.6.5"
  }
 },
 "nbformat": 4,
 "nbformat_minor": 2
}
