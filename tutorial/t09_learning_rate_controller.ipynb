{
 "cells": [
  {
   "cell_type": "markdown",
   "metadata": {},
   "source": [
    "# Tutorial 9: Learning Rate Controller\n",
    "___\n",
    "In this tutorial, we are going to show you how to use a specific Trace - `LRController` to __change your learning rate during the training__.  In general, `LRController` takes care of both learning rate scheduling as well as changing learning rate on validation.\n",
    "\n",
    "If you are a keras user, you can see `LRController` as a combination of LRScheduler and ReduceLROnPlateau."
   ]
  },
  {
   "cell_type": "code",
   "execution_count": null,
   "metadata": {},
   "outputs": [],
   "source": [
    "import numpy as np\n",
    "import tensorflow as tf\n",
    "import fastestimator as fe\n",
    "import matplotlib.pyplot as plt"
   ]
  },
  {
   "cell_type": "markdown",
   "metadata": {},
   "source": [
    "## Step 0- Preparation"
   ]
  },
  {
   "cell_type": "code",
   "execution_count": 2,
   "metadata": {},
   "outputs": [],
   "source": [
    "from fastestimator.architecture import LeNet\n",
    "from fastestimator.op.tensorop.model import ModelOp\n",
    "from fastestimator.op.tensorop.loss import SparseCategoricalCrossentropy\n",
    "from fastestimator.op.tensorop import Minmax\n",
    "\n",
    "# Create a function to get Pipeline and Network\n",
    "def get_pipeline_network():\n",
    "    # step 1. Prepare data\n",
    "    (x_train, y_train), (x_eval, y_eval) = tf.keras.datasets.mnist.load_data()\n",
    "    train_data = {\"x\": np.expand_dims(x_train, -1), \"y\": y_train}\n",
    "    eval_data = {\"x\": np.expand_dims(x_eval, -1), \"y\": y_eval}\n",
    "    data = {\"train\": train_data, \"eval\": eval_data}\n",
    "    pipeline = fe.Pipeline(batch_size=32, data=data, ops=Minmax(inputs=\"x\", outputs=\"x\"))\n",
    "\n",
    "    # step 2. Prepare model\n",
    "    model = fe.build(model_def=LeNet, model_name=\"lenet\", optimizer=\"adam\", loss_name=\"my_loss\")\n",
    "    network = fe.Network(ops=[ModelOp(inputs=\"x\", model=model, outputs=\"y_pred\"), \n",
    "                              SparseCategoricalCrossentropy(inputs=(\"y\", \"y_pred\"), outputs=\"my_loss\")])\n",
    "    return pipeline, network"
   ]
  },
  {
   "cell_type": "markdown",
   "metadata": {},
   "source": [
    "## Option 1- Customize the learning rate: step-wise control\n",
    "\n",
    "Let's define our learning rate scheduler to be 0.001 * (1 + step // 500)."
   ]
  },
  {
   "cell_type": "code",
   "execution_count": 3,
   "metadata": {},
   "outputs": [],
   "source": [
    "from fastestimator.trace import LRController\n",
    "from fastestimator.schedule import LRSchedule\n",
    "\n",
    "# Create a LR Scheduler with a custom schedule_fn\n",
    "class MyLRSchedule1(LRSchedule):\n",
    "    def schedule_fn(self, current_step_or_epoch, lr):\n",
    "        lr = 0.001 * (1 + current_step_or_epoch // 500)\n",
    "        return lr\n",
    "\n",
    "# Create pipeline, network and lr_scheduler\n",
    "pipeline1, network1 = get_pipeline_network()\n",
    "lr_scheduler1 = MyLRSchedule1(schedule_mode=\"step\") # we want to change the lr at a step level\n",
    "\n",
    "# In Estimator, indicate in traces the LR Scheduler using LR Controller, you also have to specify the model_name.\n",
    "estimator1 = fe.Estimator(pipeline=pipeline1, \n",
    "                         network=network1, \n",
    "                         epochs=2,\n",
    "                         traces=LRController(model_name=\"lenet\", lr_schedule=lr_scheduler1))"
   ]
  },
  {
   "cell_type": "code",
   "execution_count": null,
   "metadata": {},
   "outputs": [],
   "source": [
    "# Save the training history and train the model\n",
    "history1 = estimator1.fit(summary=\"custom_lr_scheduler_step\")"
   ]
  },
  {
   "cell_type": "markdown",
   "metadata": {},
   "source": [
    "We will use visualize_logs to plot the learning rate. We only want to display this metric, so we specify the others in ignore_metrics."
   ]
  },
  {
   "cell_type": "code",
   "execution_count": 5,
   "metadata": {},
   "outputs": [
    {
     "data": {
      "image/png": "[encoded data removed]",
      "text/plain": [
       "<Figure size 288x201.6 with 1 Axes>"
      ]
     },
     "metadata": {},
     "output_type": "display_data"
    }
   ],
   "source": [
    "from fastestimator.summary import visualize_logs\n",
    "\n",
    "# Show the learning rates history for each step\n",
    "visualize_logs(history1, ignore_metrics = {\"min_my_loss\", \"examples/sec\", \"my_loss\", \"since_best_loss\", \"total_time\"})"
   ]
  },
  {
   "cell_type": "markdown",
   "metadata": {},
   "source": [
    "## Option 2 - Customize the learning rate: epoch-wise control\n",
    "\n",
    "Let's now define learning rate to be (epoch +1 ) * 0.002. The only change will be in schedule_mode."
   ]
  },
  {
   "cell_type": "code",
   "execution_count": 6,
   "metadata": {},
   "outputs": [],
   "source": [
    "from fastestimator.trace import LRController\n",
    "from fastestimator.schedule import LRSchedule\n",
    "\n",
    "# We define our custom Scheduler in the same way as above.\n",
    "class MyLRSchedule2(LRSchedule):\n",
    "    def schedule_fn(self, current_step_or_epoch, lr):\n",
    "        lr = 0.002 * (1 + current_step_or_epoch)\n",
    "        return lr\n",
    "\n",
    "# Create pipeline and network.\n",
    "pipeline2, network2 = get_pipeline_network()\n",
    "\n",
    "# Here we now indicate epoch as schedule_mode.\n",
    "lr_scheduler2 = MyLRSchedule2(schedule_mode=\"epoch\")\n",
    "estimator2 = fe.Estimator(pipeline=pipeline2, \n",
    "                         network=network2, \n",
    "                         epochs=2,\n",
    "                         traces=LRController(model_name=\"lenet\", lr_schedule=lr_scheduler2))"
   ]
  },
  {
   "cell_type": "code",
   "execution_count": null,
   "metadata": {
    "scrolled": false
   },
   "outputs": [],
   "source": [
    "# Train and save history\n",
    "history2 = estimator2.fit(summary=\"custom_lr_scheduler_epoch\")"
   ]
  },
  {
   "cell_type": "code",
   "execution_count": 8,
   "metadata": {},
   "outputs": [
    {
     "data": {
      "image/png": "[encoded data removed]",
      "text/plain": [
       "<Figure size 288x201.6 with 1 Axes>"
      ]
     },
     "metadata": {},
     "output_type": "display_data"
    }
   ],
   "source": [
    "# Show the learning rate for each step: it changes only at an epoch level!\n",
    "visualize_logs(history2, ignore_metrics = {\"min_my_loss\", \"examples/sec\", \"my_loss\", \"since_best_loss\", \"total_time\"})"
   ]
  },
  {
   "cell_type": "markdown",
   "metadata": {},
   "source": [
    "## Option 3- Built-in Cyclic Learning Rate - example 1\n",
    "\n",
    "FastEstimator provides many pre-implemented popular learning rate shedulers for users. \n",
    "Here, we are going to use `CyclicLRSchedule`: it is a generalization of many learning rate schedulers.\n",
    "\n",
    "In the next example, let's decay the learning rate by half of cosine curve."
   ]
  },
  {
   "cell_type": "code",
   "execution_count": 9,
   "metadata": {},
   "outputs": [],
   "source": [
    "from fastestimator.trace import LRController\n",
    "from fastestimator.schedule import CyclicLRSchedule\n",
    "\n",
    "# Create pipeline and network\n",
    "pipeline3, network3 = get_pipeline_network()\n",
    "\n",
    "# Directly use the pre-built CyclicLRSchedule, with a cosine decrease method and one cycle.\n",
    "estimator3 = fe.Estimator(pipeline=pipeline3, \n",
    "                         network=network3, \n",
    "                         epochs=2,\n",
    "                         traces=LRController(model_name=\"lenet\", \n",
    "                                             lr_schedule=CyclicLRSchedule(num_cycle=1, decrease_method=\"cosine\")))"
   ]
  },
  {
   "cell_type": "code",
   "execution_count": null,
   "metadata": {
    "scrolled": false
   },
   "outputs": [],
   "source": [
    "# Train and save history\n",
    "history3 = estimator3.fit(summary=\"cyclic_1\")"
   ]
  },
  {
   "cell_type": "code",
   "execution_count": 11,
   "metadata": {},
   "outputs": [
    {
     "data": {
      "image/png": "[encoded data removed]",
      "text/plain": [
       "<Figure size 288x201.6 with 1 Axes>"
      ]
     },
     "metadata": {},
     "output_type": "display_data"
    }
   ],
   "source": [
    "# Plot the learning rate for each step\n",
    "visualize_logs(history3, ignore_metrics = {\"min_my_loss\", \"examples/sec\", \"my_loss\", \"since_best_loss\", \"total_time\"})"
   ]
  },
  {
   "cell_type": "markdown",
   "metadata": {},
   "source": [
    "## Option 3- Built-in Cyclic Learning Rate: example 2\n",
    "\n",
    "Users can also choose to add more cycles of the learning rate with `num_cycle`, and to change the subsequent cycle length using `cycle_multiplier`. If `cycle_multiplier=2`, the second cycle will be twice as long as the first one."
   ]
  },
  {
   "cell_type": "code",
   "execution_count": 12,
   "metadata": {},
   "outputs": [],
   "source": [
    "from fastestimator.trace import LRController\n",
    "from fastestimator.schedule import CyclicLRSchedule\n",
    "\n",
    "# We create pipeline and network.\n",
    "pipeline4, network4 = get_pipeline_network()\n",
    "\n",
    "# We specify num_cycle and cycle_multiplier in CyclicLRSchedule.\n",
    "estimator4 = fe.Estimator(pipeline=pipeline4, \n",
    "                         network=network4, \n",
    "                         epochs=2,\n",
    "                         traces=LRController(model_name=\"lenet\", \n",
    "                                             lr_schedule=CyclicLRSchedule(num_cycle=2, \n",
    "                                                                          cycle_multiplier=2, \n",
    "                                                                          decrease_method=\"cosine\")))"
   ]
  },
  {
   "cell_type": "code",
   "execution_count": null,
   "metadata": {},
   "outputs": [],
   "source": [
    "# Train and save history\n",
    "history4 = estimator4.fit(summary=\"cyclic_2\")"
   ]
  },
  {
   "cell_type": "code",
   "execution_count": 14,
   "metadata": {},
   "outputs": [
    {
     "data": {
      "image/png": "[encoded data removed]",
      "text/plain": [
       "<Figure size 288x201.6 with 1 Axes>"
      ]
     },
     "metadata": {},
     "output_type": "display_data"
    }
   ],
   "source": [
    "# Plot the learning rate\n",
    "visualize_logs(history4, ignore_metrics = {\"min_my_loss\", \"examples/sec\", \"my_loss\", \"since_best_loss\", \"total_time\"})"
   ]
  },
  {
   "cell_type": "markdown",
   "metadata": {},
   "source": [
    "We observe that we have two cycles of decreasing learning rate, and the second one is twice as long as the first one."
   ]
  }
 ],
 "metadata": {
  "kernelspec": {
   "display_name": "Python 3",
   "language": "python",
   "name": "python3"
  },
  "language_info": {
   "codemirror_mode": {
    "name": "ipython",
    "version": 3
   },
   "file_extension": ".py",
   "mimetype": "text/x-python",
   "name": "python",
   "nbconvert_exporter": "python",
   "pygments_lexer": "ipython3",
   "version": "3.6.5"
  }
 },
 "nbformat": 4,
 "nbformat_minor": 2
}
