{
 "cells": [
  {
   "cell_type": "markdown",
   "metadata": {},
   "source": [
    "# Tutorial 9: Learning Rate Controller\n",
    "___\n",
    "In this tutorial, we are going to show you how to use a specific Trace - `LRController` to __change your learning rate during the training__.  In general, `LRController` takes care of both learning rate scheduling as well as changing learning rate on validation.\n",
    "\n",
    "If you are a keras user, you can see `LRController` as a combination of LRScheduler and ReduceLROnPlateau."
   ]
  },
  {
   "cell_type": "code",
   "execution_count": 1,
   "metadata": {},
   "outputs": [],
   "source": [
    "import numpy as np\n",
    "import tensorflow as tf\n",
    "import fastestimator as fe\n",
    "import matplotlib.pyplot as plt"
   ]
  },
  {
   "cell_type": "markdown",
   "metadata": {},
   "source": [
    "## Step 0- Preparation"
   ]
  },
  {
   "cell_type": "code",
   "execution_count": 2,
   "metadata": {},
   "outputs": [],
   "source": [
    "from fastestimator.architecture import LeNet\n",
    "from fastestimator.op.tensorop.model import ModelOp\n",
    "from fastestimator.op.tensorop.loss import SparseCategoricalCrossentropy\n",
    "from fastestimator.op.tensorop import Minmax\n",
    "\n",
    "# Create a function to get Pipeline and Network\n",
    "def get_pipeline_network():\n",
    "    # step 1. Prepare data\n",
    "    (x_train, y_train), (x_eval, y_eval) = tf.keras.datasets.mnist.load_data()\n",
    "    train_data = {\"x\": np.expand_dims(x_train, -1), \"y\": y_train}\n",
    "    eval_data = {\"x\": np.expand_dims(x_eval, -1), \"y\": y_eval}\n",
    "    data = {\"train\": train_data, \"eval\": eval_data}\n",
    "    pipeline = fe.Pipeline(batch_size=32, data=data, ops=Minmax(inputs=\"x\", outputs=\"x\"))\n",
    "\n",
    "    # step 2. Prepare model\n",
    "    model = fe.build(model_def=LeNet, model_name=\"lenet\", optimizer=\"adam\", loss_name=\"my_loss\")\n",
    "    network = fe.Network(ops=[ModelOp(inputs=\"x\", model=model, outputs=\"y_pred\"), \n",
    "                              SparseCategoricalCrossentropy(inputs=(\"y\", \"y_pred\"), outputs=\"my_loss\")])\n",
    "    return pipeline, network"
   ]
  },
  {
   "cell_type": "markdown",
   "metadata": {},
   "source": [
    "## Option 1- Customize the learning rate: step-wise control\n",
    "\n",
    "Let's define our learning rate scheduler to be 0.001 * (1 + step // 500)."
   ]
  },
  {
   "cell_type": "code",
   "execution_count": 3,
   "metadata": {},
   "outputs": [],
   "source": [
    "from fastestimator.trace import LRController\n",
    "from fastestimator.schedule import LRSchedule\n",
    "\n",
    "# Create a LR Scheduler with a custom schedule_fn\n",
    "class MyLRSchedule1(LRSchedule):\n",
    "    def schedule_fn(self, current_step_or_epoch, lr):\n",
    "        lr = 0.001 * (1 + current_step_or_epoch // 500)\n",
    "        return lr\n",
    "\n",
    "# Create pipeline, network and lr_scheduler\n",
    "pipeline1, network1 = get_pipeline_network()\n",
    "lr_scheduler1 = MyLRSchedule1(schedule_mode=\"step\") # we want to change the lr at a step level\n",
    "\n",
    "# In Estimator, indicate in traces the LR Scheduler using LR Controller, you also have to specify the model_name.\n",
    "estimator1 = fe.Estimator(pipeline=pipeline1, \n",
    "                         network=network1, \n",
    "                         epochs=2,\n",
    "                         traces=LRController(model_name=\"lenet\", lr_schedule=lr_scheduler1))"
   ]
  },
  {
   "cell_type": "code",
   "execution_count": 4,
   "metadata": {},
   "outputs": [
    {
     "name": "stdout",
     "output_type": "stream",
     "text": [
      "    ______           __  ______     __  _                 __            \n",
      "   / ____/___ ______/ /_/ ____/____/ /_(_)___ ___  ____ _/ /_____  _____\n",
      "  / /_  / __ `/ ___/ __/ __/ / ___/ __/ / __ `__ \\/ __ `/ __/ __ \\/ ___/\n",
      " / __/ / /_/ (__  ) /_/ /___(__  ) /_/ / / / / / / /_/ / /_/ /_/ / /    \n",
      "/_/    \\__,_/____/\\__/_____/____/\\__/_/_/ /_/ /_/\\__,_/\\__/\\____/_/     \n",
      "                                                                        \n",
      "\n",
      "FastEstimator-Warn: No ModelSaver Trace detected. Models will not be saved.\n",
      "FastEstimator-Start: step: 0; total_train_steps: 3750; lenet_lr: 0.001; \n",
      "FastEstimator-Train: step: 0; my_loss: 2.3263931; lenet_lr: 0.001; \n",
      "FastEstimator-Train: step: 100; my_loss: 0.537272; examples/sec: 1985.7; progress: 2.7%; lenet_lr: 0.001; \n",
      "FastEstimator-Train: step: 200; my_loss: 0.3569404; examples/sec: 1984.7; progress: 5.3%; lenet_lr: 0.001; \n",
      "FastEstimator-Train: step: 300; my_loss: 0.1743724; examples/sec: 1980.0; progress: 8.0%; lenet_lr: 0.001; \n",
      "FastEstimator-Train: step: 400; my_loss: 0.2768605; examples/sec: 1934.2; progress: 10.7%; lenet_lr: 0.001; \n",
      "FastEstimator-Train: step: 500; my_loss: 0.083456; examples/sec: 1913.8; progress: 13.3%; lenet_lr: 0.002; \n",
      "FastEstimator-Train: step: 600; my_loss: 0.0358794; examples/sec: 1832.3; progress: 16.0%; lenet_lr: 0.002; \n",
      "FastEstimator-Train: step: 700; my_loss: 0.069946; examples/sec: 1847.7; progress: 18.7%; lenet_lr: 0.002; \n",
      "FastEstimator-Train: step: 800; my_loss: 0.0601535; examples/sec: 1907.5; progress: 21.3%; lenet_lr: 0.002; \n",
      "FastEstimator-Train: step: 900; my_loss: 0.011605; examples/sec: 1781.1; progress: 24.0%; lenet_lr: 0.002; \n",
      "FastEstimator-Train: step: 1000; my_loss: 0.1091592; examples/sec: 1808.1; progress: 26.7%; lenet_lr: 0.003; \n",
      "FastEstimator-Train: step: 1100; my_loss: 0.0181961; examples/sec: 1893.8; progress: 29.3%; lenet_lr: 0.003; \n",
      "FastEstimator-Train: step: 1200; my_loss: 0.0144476; examples/sec: 1876.4; progress: 32.0%; lenet_lr: 0.003; \n",
      "FastEstimator-Train: step: 1300; my_loss: 0.1639937; examples/sec: 1819.7; progress: 34.7%; lenet_lr: 0.003; \n",
      "FastEstimator-Train: step: 1400; my_loss: 0.1545962; examples/sec: 1763.3; progress: 37.3%; lenet_lr: 0.003; \n",
      "FastEstimator-Train: step: 1500; my_loss: 0.1487337; examples/sec: 1721.8; progress: 40.0%; lenet_lr: 0.004; \n",
      "FastEstimator-Train: step: 1600; my_loss: 0.0558431; examples/sec: 1801.7; progress: 42.7%; lenet_lr: 0.004; \n",
      "FastEstimator-Train: step: 1700; my_loss: 0.005184; examples/sec: 1786.4; progress: 45.3%; lenet_lr: 0.004; \n",
      "FastEstimator-Train: step: 1800; my_loss: 0.135528; examples/sec: 1716.2; progress: 48.0%; lenet_lr: 0.004; \n",
      "FastEstimator-Eval: step: 1875; epoch: 0; my_loss: 0.0615862; min_my_loss: 0.06158621; since_best_loss: 0; \n",
      "FastEstimator-Train: step: 1900; my_loss: 0.0112779; examples/sec: 1724.0; progress: 50.7%; lenet_lr: 0.004; \n",
      "FastEstimator-Train: step: 2000; my_loss: 0.0521599; examples/sec: 1777.1; progress: 53.3%; lenet_lr: 0.005; \n",
      "FastEstimator-Train: step: 2100; my_loss: 0.0394877; examples/sec: 1863.7; progress: 56.0%; lenet_lr: 0.005; \n",
      "FastEstimator-Train: step: 2200; my_loss: 0.2351364; examples/sec: 1856.1; progress: 58.7%; lenet_lr: 0.005; \n",
      "FastEstimator-Train: step: 2300; my_loss: 0.0740266; examples/sec: 1875.1; progress: 61.3%; lenet_lr: 0.005; \n",
      "FastEstimator-Train: step: 2400; my_loss: 0.0067; examples/sec: 1858.0; progress: 64.0%; lenet_lr: 0.005; \n",
      "FastEstimator-Train: step: 2500; my_loss: 0.0678136; examples/sec: 1807.9; progress: 66.7%; lenet_lr: 0.006; \n",
      "FastEstimator-Train: step: 2600; my_loss: 0.5725344; examples/sec: 1809.9; progress: 69.3%; lenet_lr: 0.006; \n",
      "FastEstimator-Train: step: 2700; my_loss: 0.2452708; examples/sec: 1769.5; progress: 72.0%; lenet_lr: 0.006; \n",
      "FastEstimator-Train: step: 2800; my_loss: 0.038009; examples/sec: 1840.5; progress: 74.7%; lenet_lr: 0.006; \n",
      "FastEstimator-Train: step: 2900; my_loss: 0.013784; examples/sec: 1825.7; progress: 77.3%; lenet_lr: 0.006; \n",
      "FastEstimator-Train: step: 3000; my_loss: 0.0269237; examples/sec: 1783.1; progress: 80.0%; lenet_lr: 0.007; \n",
      "FastEstimator-Train: step: 3100; my_loss: 0.0001955; examples/sec: 1773.6; progress: 82.7%; lenet_lr: 0.007; \n",
      "FastEstimator-Train: step: 3200; my_loss: 0.134046; examples/sec: 1766.4; progress: 85.3%; lenet_lr: 0.007; \n",
      "FastEstimator-Train: step: 3300; my_loss: 0.1704009; examples/sec: 1745.7; progress: 88.0%; lenet_lr: 0.007; \n",
      "FastEstimator-Train: step: 3400; my_loss: 0.0403396; examples/sec: 1743.3; progress: 90.7%; lenet_lr: 0.007; \n",
      "FastEstimator-Train: step: 3500; my_loss: 0.0128283; examples/sec: 1836.5; progress: 93.3%; lenet_lr: 0.008; \n",
      "FastEstimator-Train: step: 3600; my_loss: 0.0222437; examples/sec: 1831.7; progress: 96.0%; lenet_lr: 0.008; \n",
      "FastEstimator-Train: step: 3700; my_loss: 0.0360383; examples/sec: 1844.3; progress: 98.7%; lenet_lr: 0.008; \n",
      "FastEstimator-Eval: step: 3750; epoch: 1; my_loss: 0.1013229; min_my_loss: 0.06158621; since_best_loss: 1; \n",
      "FastEstimator-Finish: step: 3750; total_time: 69.65 sec; lenet_lr: 0.008; \n"
     ]
    }
   ],
   "source": [
    "# Save the training history and train the model\n",
    "history1 = estimator1.fit(summary=\"custom_lr_scheduler_step\")"
   ]
  },
  {
   "cell_type": "markdown",
   "metadata": {},
   "source": [
    "We will use visualize_logs to plot the learning rate. We only want to display this metric, so we specify it in include_metrics."
   ]
  },
  {
   "cell_type": "code",
   "execution_count": 5,
   "metadata": {},
   "outputs": [
    {
     "data": {
      "image/png": "[encoded data removed]",
      "text/plain": [
       "<Figure size 288x201.6 with 1 Axes>"
      ]
     },
     "metadata": {
      "needs_background": "light"
     },
     "output_type": "display_data"
    }
   ],
   "source": [
    "from fastestimator.summary import visualize_logs\n",
    "\n",
    "# Show the learning rates history for each step\n",
    "visualize_logs(history1, include_metrics=\"lenet_lr\")"
   ]
  },
  {
   "cell_type": "markdown",
   "metadata": {},
   "source": [
    "## Option 2 - Customize the learning rate: epoch-wise control\n",
    "\n",
    "Let's now define learning rate to be (epoch +1 ) * 0.002. The only change will be in schedule_mode."
   ]
  },
  {
   "cell_type": "code",
   "execution_count": 6,
   "metadata": {},
   "outputs": [],
   "source": [
    "from fastestimator.trace import LRController\n",
    "from fastestimator.schedule import LRSchedule\n",
    "\n",
    "# We define our custom Scheduler in the same way as above.\n",
    "class MyLRSchedule2(LRSchedule):\n",
    "    def schedule_fn(self, current_step_or_epoch, lr):\n",
    "        lr = 0.002 * (1 + current_step_or_epoch)\n",
    "        return lr\n",
    "\n",
    "# Create pipeline and network.\n",
    "pipeline2, network2 = get_pipeline_network()\n",
    "\n",
    "# Here we now indicate epoch as schedule_mode.\n",
    "lr_scheduler2 = MyLRSchedule2(schedule_mode=\"epoch\")\n",
    "estimator2 = fe.Estimator(pipeline=pipeline2, \n",
    "                         network=network2, \n",
    "                         epochs=2,\n",
    "                         traces=LRController(model_name=\"lenet\", lr_schedule=lr_scheduler2))"
   ]
  },
  {
   "cell_type": "code",
   "execution_count": 7,
   "metadata": {},
   "outputs": [
    {
     "name": "stdout",
     "output_type": "stream",
     "text": [
      "    ______           __  ______     __  _                 __            \n",
      "   / ____/___ ______/ /_/ ____/____/ /_(_)___ ___  ____ _/ /_____  _____\n",
      "  / /_  / __ `/ ___/ __/ __/ / ___/ __/ / __ `__ \\/ __ `/ __/ __ \\/ ___/\n",
      " / __/ / /_/ (__  ) /_/ /___(__  ) /_/ / / / / / / /_/ / /_/ /_/ / /    \n",
      "/_/    \\__,_/____/\\__/_____/____/\\__/_/_/ /_/ /_/\\__,_/\\__/\\____/_/     \n",
      "                                                                        \n",
      "\n",
      "FastEstimator-Warn: No ModelSaver Trace detected. Models will not be saved.\n",
      "FastEstimator-Start: step: 0; total_train_steps: 3750; lenet_lr: 0.001; \n",
      "FastEstimator-Train: step: 0; my_loss: 2.2759442; lenet_lr: 0.002; \n",
      "FastEstimator-Train: step: 100; my_loss: 0.1299229; examples/sec: 2057.3; progress: 2.7%; lenet_lr: 0.002; \n",
      "FastEstimator-Train: step: 200; my_loss: 0.1066295; examples/sec: 2031.6; progress: 5.3%; lenet_lr: 0.002; \n",
      "FastEstimator-Train: step: 300; my_loss: 0.0411298; examples/sec: 2032.4; progress: 8.0%; lenet_lr: 0.002; \n",
      "FastEstimator-Train: step: 400; my_loss: 0.0211687; examples/sec: 2087.9; progress: 10.7%; lenet_lr: 0.002; \n",
      "FastEstimator-Train: step: 500; my_loss: 0.0108124; examples/sec: 2042.3; progress: 13.3%; lenet_lr: 0.002; \n",
      "FastEstimator-Train: step: 600; my_loss: 0.0170893; examples/sec: 2023.9; progress: 16.0%; lenet_lr: 0.002; \n",
      "FastEstimator-Train: step: 700; my_loss: 0.0197148; examples/sec: 2034.1; progress: 18.7%; lenet_lr: 0.002; \n",
      "FastEstimator-Train: step: 800; my_loss: 0.0544964; examples/sec: 1987.1; progress: 21.3%; lenet_lr: 0.002; \n",
      "FastEstimator-Train: step: 900; my_loss: 0.0358837; examples/sec: 2014.4; progress: 24.0%; lenet_lr: 0.002; \n",
      "FastEstimator-Train: step: 1000; my_loss: 0.0702238; examples/sec: 2065.8; progress: 26.7%; lenet_lr: 0.002; \n",
      "FastEstimator-Train: step: 1100; my_loss: 0.0191129; examples/sec: 2006.7; progress: 29.3%; lenet_lr: 0.002; \n",
      "FastEstimator-Train: step: 1200; my_loss: 0.0020165; examples/sec: 1930.4; progress: 32.0%; lenet_lr: 0.002; \n",
      "FastEstimator-Train: step: 1300; my_loss: 0.0867758; examples/sec: 2022.5; progress: 34.7%; lenet_lr: 0.002; \n",
      "FastEstimator-Train: step: 1400; my_loss: 0.0124617; examples/sec: 1947.4; progress: 37.3%; lenet_lr: 0.002; \n",
      "FastEstimator-Train: step: 1500; my_loss: 0.0143708; examples/sec: 1923.5; progress: 40.0%; lenet_lr: 0.002; \n",
      "FastEstimator-Train: step: 1600; my_loss: 0.0054422; examples/sec: 1930.8; progress: 42.7%; lenet_lr: 0.002; \n",
      "FastEstimator-Train: step: 1700; my_loss: 0.0164208; examples/sec: 1993.2; progress: 45.3%; lenet_lr: 0.002; \n",
      "FastEstimator-Train: step: 1800; my_loss: 0.0138493; examples/sec: 1894.6; progress: 48.0%; lenet_lr: 0.002; \n",
      "FastEstimator-Eval: step: 1875; epoch: 0; my_loss: 0.0428738; min_my_loss: 0.042873763; since_best_loss: 0; \n",
      "FastEstimator-Train: step: 1900; my_loss: 0.326837; examples/sec: 1882.9; progress: 50.7%; lenet_lr: 0.004; \n",
      "FastEstimator-Train: step: 2000; my_loss: 0.0491169; examples/sec: 1958.0; progress: 53.3%; lenet_lr: 0.004; \n",
      "FastEstimator-Train: step: 2100; my_loss: 0.1574683; examples/sec: 1933.1; progress: 56.0%; lenet_lr: 0.004; \n",
      "FastEstimator-Train: step: 2200; my_loss: 0.0193646; examples/sec: 1952.2; progress: 58.7%; lenet_lr: 0.004; \n",
      "FastEstimator-Train: step: 2300; my_loss: 0.0077512; examples/sec: 1883.0; progress: 61.3%; lenet_lr: 0.004; \n",
      "FastEstimator-Train: step: 2400; my_loss: 0.2359152; examples/sec: 1901.5; progress: 64.0%; lenet_lr: 0.004; \n",
      "FastEstimator-Train: step: 2500; my_loss: 0.0122987; examples/sec: 1949.8; progress: 66.7%; lenet_lr: 0.004; \n",
      "FastEstimator-Train: step: 2600; my_loss: 0.1078118; examples/sec: 1894.5; progress: 69.3%; lenet_lr: 0.004; \n",
      "FastEstimator-Train: step: 2700; my_loss: 0.0096763; examples/sec: 2023.8; progress: 72.0%; lenet_lr: 0.004; \n",
      "FastEstimator-Train: step: 2800; my_loss: 0.0130665; examples/sec: 1936.6; progress: 74.7%; lenet_lr: 0.004; \n",
      "FastEstimator-Train: step: 2900; my_loss: 0.0057829; examples/sec: 1988.6; progress: 77.3%; lenet_lr: 0.004; \n",
      "FastEstimator-Train: step: 3000; my_loss: 0.0003821; examples/sec: 1924.6; progress: 80.0%; lenet_lr: 0.004; \n",
      "FastEstimator-Train: step: 3100; my_loss: 0.1968754; examples/sec: 1963.7; progress: 82.7%; lenet_lr: 0.004; \n",
      "FastEstimator-Train: step: 3200; my_loss: 0.0074951; examples/sec: 1977.3; progress: 85.3%; lenet_lr: 0.004; \n",
      "FastEstimator-Train: step: 3300; my_loss: 0.0176953; examples/sec: 1941.3; progress: 88.0%; lenet_lr: 0.004; \n",
      "FastEstimator-Train: step: 3400; my_loss: 0.0269415; examples/sec: 1981.3; progress: 90.7%; lenet_lr: 0.004; \n",
      "FastEstimator-Train: step: 3500; my_loss: 0.0068832; examples/sec: 1947.8; progress: 93.3%; lenet_lr: 0.004; \n",
      "FastEstimator-Train: step: 3600; my_loss: 0.0092299; examples/sec: 1935.9; progress: 96.0%; lenet_lr: 0.004; \n",
      "FastEstimator-Train: step: 3700; my_loss: 0.0023347; examples/sec: 1953.7; progress: 98.7%; lenet_lr: 0.004; \n",
      "FastEstimator-Eval: step: 3750; epoch: 1; my_loss: 0.0516052; min_my_loss: 0.042873763; since_best_loss: 1; \n",
      "FastEstimator-Finish: step: 3750; total_time: 63.75 sec; lenet_lr: 0.004; \n"
     ]
    }
   ],
   "source": [
    "# Train and save history\n",
    "history2 = estimator2.fit(summary=\"custom_lr_scheduler_epoch\")"
   ]
  },
  {
   "cell_type": "code",
   "execution_count": 8,
   "metadata": {},
   "outputs": [
    {
     "data": {
      "image/png": "[encoded data removed]",
      "text/plain": [
       "<Figure size 288x201.6 with 1 Axes>"
      ]
     },
     "metadata": {
      "needs_background": "light"
     },
     "output_type": "display_data"
    }
   ],
   "source": [
    "# Show the learning rate for each step: it changes only at an epoch level!\n",
    "visualize_logs(history2, include_metrics=\"lenet_lr\")"
   ]
  },
  {
   "cell_type": "markdown",
   "metadata": {},
   "source": [
    "## Option 3- Built-in Cyclic Learning Rate - example 1\n",
    "\n",
    "FastEstimator provides many pre-implemented popular learning rate shedulers for users. \n",
    "Here, we are going to use `CyclicLRSchedule`: it is a generalization of many learning rate schedulers.\n",
    "\n",
    "In the next example, let's decay the learning rate by half of cosine curve."
   ]
  },
  {
   "cell_type": "code",
   "execution_count": 9,
   "metadata": {},
   "outputs": [],
   "source": [
    "from fastestimator.trace import LRController\n",
    "from fastestimator.schedule import CyclicLRSchedule\n",
    "\n",
    "# Create pipeline and network\n",
    "pipeline3, network3 = get_pipeline_network()\n",
    "\n",
    "# Directly use the pre-built CyclicLRSchedule, with a cosine decrease method and one cycle.\n",
    "estimator3 = fe.Estimator(pipeline=pipeline3, \n",
    "                         network=network3, \n",
    "                         epochs=2,\n",
    "                         traces=LRController(model_name=\"lenet\", \n",
    "                                             lr_schedule=CyclicLRSchedule(num_cycle=1, decrease_method=\"cosine\")))"
   ]
  },
  {
   "cell_type": "code",
   "execution_count": 10,
   "metadata": {},
   "outputs": [
    {
     "name": "stdout",
     "output_type": "stream",
     "text": [
      "    ______           __  ______     __  _                 __            \n",
      "   / ____/___ ______/ /_/ ____/____/ /_(_)___ ___  ____ _/ /_____  _____\n",
      "  / /_  / __ `/ ___/ __/ __/ / ___/ __/ / __ `__ \\/ __ `/ __/ __ \\/ ___/\n",
      " / __/ / /_/ (__  ) /_/ /___(__  ) /_/ / / / / / / /_/ / /_/ /_/ / /    \n",
      "/_/    \\__,_/____/\\__/_____/____/\\__/_/_/ /_/ /_/\\__,_/\\__/\\____/_/     \n",
      "                                                                        \n",
      "\n",
      "FastEstimator-Warn: No ModelSaver Trace detected. Models will not be saved.\n",
      "FastEstimator-Start: step: 0; total_train_steps: 3750; lenet_lr: 0.001; \n",
      "FastEstimator-Train: step: 0; my_loss: 2.3072138; lenet_lr: 0.001; \n",
      "FastEstimator-Train: step: 100; my_loss: 0.649567; examples/sec: 1976.5; progress: 2.7%; lenet_lr: 0.000998; \n",
      "FastEstimator-Train: step: 200; my_loss: 0.3672558; examples/sec: 1956.0; progress: 5.3%; lenet_lr: 0.000993; \n",
      "FastEstimator-Train: step: 300; my_loss: 0.2800382; examples/sec: 1925.8; progress: 8.0%; lenet_lr: 0.000984; \n",
      "FastEstimator-Train: step: 400; my_loss: 0.12456; examples/sec: 1988.4; progress: 10.7%; lenet_lr: 0.000972; \n",
      "FastEstimator-Train: step: 500; my_loss: 0.3334443; examples/sec: 2026.2; progress: 13.3%; lenet_lr: 0.000957; \n",
      "FastEstimator-Train: step: 600; my_loss: 0.1895624; examples/sec: 2024.3; progress: 16.0%; lenet_lr: 0.000938; \n",
      "FastEstimator-Train: step: 700; my_loss: 0.0284352; examples/sec: 2043.0; progress: 18.7%; lenet_lr: 0.000917; \n",
      "FastEstimator-Train: step: 800; my_loss: 0.2896601; examples/sec: 2061.0; progress: 21.3%; lenet_lr: 0.000892; \n",
      "FastEstimator-Train: step: 900; my_loss: 0.084827; examples/sec: 2054.7; progress: 24.0%; lenet_lr: 0.000865; \n",
      "FastEstimator-Train: step: 1000; my_loss: 0.0168757; examples/sec: 1983.3; progress: 26.7%; lenet_lr: 0.000835; \n",
      "FastEstimator-Train: step: 1100; my_loss: 0.0159426; examples/sec: 2025.6; progress: 29.3%; lenet_lr: 0.000802; \n",
      "FastEstimator-Train: step: 1200; my_loss: 0.0454424; examples/sec: 1959.0; progress: 32.0%; lenet_lr: 0.000768; \n",
      "FastEstimator-Train: step: 1300; my_loss: 0.0509716; examples/sec: 2025.1; progress: 34.7%; lenet_lr: 0.000732; \n",
      "FastEstimator-Train: step: 1400; my_loss: 0.0181167; examples/sec: 2051.6; progress: 37.3%; lenet_lr: 0.000694; \n",
      "FastEstimator-Train: step: 1500; my_loss: 0.0080612; examples/sec: 2000.8; progress: 40.0%; lenet_lr: 0.000655; \n",
      "FastEstimator-Train: step: 1600; my_loss: 0.0595305; examples/sec: 2004.3; progress: 42.7%; lenet_lr: 0.000615; \n",
      "FastEstimator-Train: step: 1700; my_loss: 0.0211212; examples/sec: 1934.6; progress: 45.3%; lenet_lr: 0.000573; \n",
      "FastEstimator-Train: step: 1800; my_loss: 0.1923182; examples/sec: 1804.8; progress: 48.0%; lenet_lr: 0.000532; \n",
      "FastEstimator-Eval: step: 1875; epoch: 0; my_loss: 0.042895; min_my_loss: 0.042894952; since_best_loss: 0; \n",
      "FastEstimator-Train: step: 1900; my_loss: 0.0887094; examples/sec: 1768.5; progress: 50.7%; lenet_lr: 0.00049; \n",
      "FastEstimator-Train: step: 2000; my_loss: 0.1388015; examples/sec: 1870.0; progress: 53.3%; lenet_lr: 0.000448; \n",
      "FastEstimator-Train: step: 2100; my_loss: 0.0863279; examples/sec: 1924.0; progress: 56.0%; lenet_lr: 0.000407; \n",
      "FastEstimator-Train: step: 2200; my_loss: 0.0021876; examples/sec: 1926.5; progress: 58.7%; lenet_lr: 0.000366; \n",
      "FastEstimator-Train: step: 2300; my_loss: 0.0211511; examples/sec: 1912.0; progress: 61.3%; lenet_lr: 0.000326; \n",
      "FastEstimator-Train: step: 2400; my_loss: 0.092687; examples/sec: 1945.0; progress: 64.0%; lenet_lr: 0.000288; \n",
      "FastEstimator-Train: step: 2500; my_loss: 0.0684259; examples/sec: 1986.0; progress: 66.7%; lenet_lr: 0.000251; \n",
      "FastEstimator-Train: step: 2600; my_loss: 0.0046735; examples/sec: 1932.2; progress: 69.3%; lenet_lr: 0.000215; \n",
      "FastEstimator-Train: step: 2700; my_loss: 0.0054703; examples/sec: 1945.6; progress: 72.0%; lenet_lr: 0.000182; \n",
      "FastEstimator-Train: step: 2800; my_loss: 0.0019746; examples/sec: 1979.0; progress: 74.7%; lenet_lr: 0.000151; \n",
      "FastEstimator-Train: step: 2900; my_loss: 0.0077637; examples/sec: 1907.1; progress: 77.3%; lenet_lr: 0.000122; \n",
      "FastEstimator-Train: step: 3000; my_loss: 0.0632209; examples/sec: 1908.9; progress: 80.0%; lenet_lr: 9.6e-05; \n",
      "FastEstimator-Train: step: 3100; my_loss: 0.0092543; examples/sec: 1952.1; progress: 82.7%; lenet_lr: 7.3e-05; \n",
      "FastEstimator-Train: step: 3200; my_loss: 0.0353696; examples/sec: 1897.0; progress: 85.3%; lenet_lr: 5.3e-05; \n",
      "FastEstimator-Train: step: 3300; my_loss: 0.0518244; examples/sec: 1938.7; progress: 88.0%; lenet_lr: 3.6e-05; \n",
      "FastEstimator-Train: step: 3400; my_loss: 0.0016525; examples/sec: 1938.6; progress: 90.7%; lenet_lr: 2.2e-05; \n",
      "FastEstimator-Train: step: 3500; my_loss: 0.0048221; examples/sec: 1905.3; progress: 93.3%; lenet_lr: 1.2e-05; \n",
      "FastEstimator-Train: step: 3600; my_loss: 0.0487344; examples/sec: 1964.5; progress: 96.0%; lenet_lr: 5e-06; \n",
      "FastEstimator-Train: step: 3700; my_loss: 0.0305461; examples/sec: 1993.5; progress: 98.7%; lenet_lr: 1e-06; \n",
      "FastEstimator-Eval: step: 3750; epoch: 1; my_loss: 0.0228704; min_my_loss: 0.022870373; since_best_loss: 0; \n",
      "FastEstimator-Finish: step: 3750; total_time: 64.21 sec; lenet_lr: 1e-06; \n"
     ]
    }
   ],
   "source": [
    "# Train and save history\n",
    "history3 = estimator3.fit(summary=\"cyclic_1\")"
   ]
  },
  {
   "cell_type": "code",
   "execution_count": 11,
   "metadata": {},
   "outputs": [
    {
     "data": {
      "image/png": "[encoded data removed]",
      "text/plain": [
       "<Figure size 288x201.6 with 1 Axes>"
      ]
     },
     "metadata": {
      "needs_background": "light"
     },
     "output_type": "display_data"
    }
   ],
   "source": [
    "# Plot the learning rate for each step\n",
    "visualize_logs(history3, include_metrics=\"lenet_lr\")"
   ]
  },
  {
   "cell_type": "markdown",
   "metadata": {},
   "source": [
    "## Option 3- Built-in Cyclic Learning Rate: example 2\n",
    "\n",
    "Users can also choose to add more cycles of the learning rate with `num_cycle`, and to change the subsequent cycle length using `cycle_multiplier`. If `cycle_multiplier=2`, the second cycle will be twice as long as the first one."
   ]
  },
  {
   "cell_type": "code",
   "execution_count": 12,
   "metadata": {},
   "outputs": [],
   "source": [
    "from fastestimator.trace import LRController\n",
    "from fastestimator.schedule import CyclicLRSchedule\n",
    "\n",
    "# We create pipeline and network.\n",
    "pipeline4, network4 = get_pipeline_network()\n",
    "\n",
    "# We specify num_cycle and cycle_multiplier in CyclicLRSchedule.\n",
    "estimator4 = fe.Estimator(pipeline=pipeline4, \n",
    "                         network=network4, \n",
    "                         epochs=2,\n",
    "                         traces=LRController(model_name=\"lenet\", \n",
    "                                             lr_schedule=CyclicLRSchedule(num_cycle=2, \n",
    "                                                                          cycle_multiplier=2, \n",
    "                                                                          decrease_method=\"cosine\")))"
   ]
  },
  {
   "cell_type": "code",
   "execution_count": 13,
   "metadata": {},
   "outputs": [
    {
     "name": "stdout",
     "output_type": "stream",
     "text": [
      "    ______           __  ______     __  _                 __            \n",
      "   / ____/___ ______/ /_/ ____/____/ /_(_)___ ___  ____ _/ /_____  _____\n",
      "  / /_  / __ `/ ___/ __/ __/ / ___/ __/ / __ `__ \\/ __ `/ __/ __ \\/ ___/\n",
      " / __/ / /_/ (__  ) /_/ /___(__  ) /_/ / / / / / / /_/ / /_/ /_/ / /    \n",
      "/_/    \\__,_/____/\\__/_____/____/\\__/_/_/ /_/ /_/\\__,_/\\__/\\____/_/     \n",
      "                                                                        \n",
      "\n",
      "FastEstimator-Warn: No ModelSaver Trace detected. Models will not be saved.\n",
      "FastEstimator-Start: step: 0; total_train_steps: 3750; lenet_lr: 0.001; \n",
      "FastEstimator-Train: step: 0; my_loss: 2.307187; lenet_lr: 0.001; \n",
      "FastEstimator-Train: step: 100; my_loss: 0.2040534; examples/sec: 1925.7; progress: 2.7%; lenet_lr: 0.000984; \n",
      "FastEstimator-Train: step: 200; my_loss: 0.0947927; examples/sec: 1941.5; progress: 5.3%; lenet_lr: 0.000938; \n",
      "FastEstimator-Train: step: 300; my_loss: 0.1095315; examples/sec: 1915.9; progress: 8.0%; lenet_lr: 0.000865; \n",
      "FastEstimator-Train: step: 400; my_loss: 0.0108787; examples/sec: 1985.6; progress: 10.7%; lenet_lr: 0.000768; \n",
      "FastEstimator-Train: step: 500; my_loss: 0.1745262; examples/sec: 2023.3; progress: 13.3%; lenet_lr: 0.000655; \n",
      "FastEstimator-Train: step: 600; my_loss: 0.127883; examples/sec: 2030.3; progress: 16.0%; lenet_lr: 0.000532; \n",
      "FastEstimator-Train: step: 700; my_loss: 0.0408472; examples/sec: 1991.7; progress: 18.7%; lenet_lr: 0.000407; \n",
      "FastEstimator-Train: step: 800; my_loss: 0.1552929; examples/sec: 2010.9; progress: 21.3%; lenet_lr: 0.000288; \n",
      "FastEstimator-Train: step: 900; my_loss: 0.090014; examples/sec: 2031.5; progress: 24.0%; lenet_lr: 0.000182; \n",
      "FastEstimator-Train: step: 1000; my_loss: 0.1335075; examples/sec: 1953.3; progress: 26.7%; lenet_lr: 9.6e-05; \n",
      "FastEstimator-Train: step: 1100; my_loss: 0.1283874; examples/sec: 2010.8; progress: 29.3%; lenet_lr: 3.6e-05; \n",
      "FastEstimator-Train: step: 1200; my_loss: 0.0864393; examples/sec: 1850.1; progress: 32.0%; lenet_lr: 5e-06; \n",
      "FastEstimator-Train: step: 1300; my_loss: 0.031138; examples/sec: 1829.0; progress: 34.7%; lenet_lr: 0.000999; \n",
      "FastEstimator-Train: step: 1400; my_loss: 0.3030996; examples/sec: 1768.9; progress: 37.3%; lenet_lr: 0.000991; \n",
      "FastEstimator-Train: step: 1500; my_loss: 0.0464299; examples/sec: 1825.5; progress: 40.0%; lenet_lr: 0.000976; \n",
      "FastEstimator-Train: step: 1600; my_loss: 0.0675207; examples/sec: 1829.3; progress: 42.7%; lenet_lr: 0.000952; \n",
      "FastEstimator-Train: step: 1700; my_loss: 0.0303616; examples/sec: 1853.3; progress: 45.3%; lenet_lr: 0.000922; \n",
      "FastEstimator-Train: step: 1800; my_loss: 0.252038; examples/sec: 1777.8; progress: 48.0%; lenet_lr: 0.000885; \n",
      "FastEstimator-Eval: step: 1875; epoch: 0; my_loss: 0.0509112; min_my_loss: 0.050911166; since_best_loss: 0; \n",
      "FastEstimator-Train: step: 1900; my_loss: 0.0131045; examples/sec: 1808.9; progress: 50.7%; lenet_lr: 0.000842; \n",
      "FastEstimator-Train: step: 2000; my_loss: 0.0817562; examples/sec: 1897.2; progress: 53.3%; lenet_lr: 0.000794; \n",
      "FastEstimator-Train: step: 2100; my_loss: 0.0886588; examples/sec: 1693.8; progress: 56.0%; lenet_lr: 0.000741; \n",
      "FastEstimator-Train: step: 2200; my_loss: 0.1239126; examples/sec: 1599.4; progress: 58.7%; lenet_lr: 0.000684; \n",
      "FastEstimator-Train: step: 2300; my_loss: 0.0175047; examples/sec: 1536.0; progress: 61.3%; lenet_lr: 0.000625; \n",
      "FastEstimator-Train: step: 2400; my_loss: 0.1017429; examples/sec: 1480.5; progress: 64.0%; lenet_lr: 0.000563; \n",
      "FastEstimator-Train: step: 2500; my_loss: 0.0069796; examples/sec: 1521.2; progress: 66.7%; lenet_lr: 0.000501; \n",
      "FastEstimator-Train: step: 2600; my_loss: 0.0162446; examples/sec: 1579.5; progress: 69.3%; lenet_lr: 0.000438; \n",
      "FastEstimator-Train: step: 2700; my_loss: 0.0234239; examples/sec: 1636.2; progress: 72.0%; lenet_lr: 0.000376; \n",
      "FastEstimator-Train: step: 2800; my_loss: 0.0543958; examples/sec: 1754.7; progress: 74.7%; lenet_lr: 0.000317; \n",
      "FastEstimator-Train: step: 2900; my_loss: 0.0230226; examples/sec: 1860.0; progress: 77.3%; lenet_lr: 0.00026; \n",
      "FastEstimator-Train: step: 3000; my_loss: 0.0026115; examples/sec: 1838.5; progress: 80.0%; lenet_lr: 0.000207; \n",
      "FastEstimator-Train: step: 3100; my_loss: 0.0487843; examples/sec: 1811.5; progress: 82.7%; lenet_lr: 0.000159; \n",
      "FastEstimator-Train: step: 3200; my_loss: 0.0619691; examples/sec: 1830.8; progress: 85.3%; lenet_lr: 0.000116; \n",
      "FastEstimator-Train: step: 3300; my_loss: 0.0097204; examples/sec: 1862.0; progress: 88.0%; lenet_lr: 7.9e-05; \n",
      "FastEstimator-Train: step: 3400; my_loss: 0.0027533; examples/sec: 1836.6; progress: 90.7%; lenet_lr: 4.9e-05; \n",
      "FastEstimator-Train: step: 3500; my_loss: 0.0025538; examples/sec: 1895.5; progress: 93.3%; lenet_lr: 2.5e-05; \n",
      "FastEstimator-Train: step: 3600; my_loss: 0.0563142; examples/sec: 1821.4; progress: 96.0%; lenet_lr: 1e-05; \n",
      "FastEstimator-Train: step: 3700; my_loss: 0.0016374; examples/sec: 1791.2; progress: 98.7%; lenet_lr: 2e-06; \n",
      "FastEstimator-Eval: step: 3750; epoch: 1; my_loss: 0.0250197; min_my_loss: 0.025019659; since_best_loss: 0; \n",
      "FastEstimator-Finish: step: 3750; total_time: 69.09 sec; lenet_lr: 1e-06; \n"
     ]
    }
   ],
   "source": [
    "# Train and save history\n",
    "history4 = estimator4.fit(summary=\"cyclic_2\")"
   ]
  },
  {
   "cell_type": "code",
   "execution_count": 14,
   "metadata": {},
   "outputs": [
    {
     "data": {
      "image/png": "[encoded data removed]",
      "text/plain": [
       "<Figure size 288x201.6 with 1 Axes>"
      ]
     },
     "metadata": {
      "needs_background": "light"
     },
     "output_type": "display_data"
    }
   ],
   "source": [
    "# Plot the learning rate\n",
    "visualize_logs(history4, include_metrics=\"lenet_lr\")"
   ]
  },
  {
   "cell_type": "markdown",
   "metadata": {},
   "source": [
    "We observe that we have two cycles of decreasing learning rate, and the second one is twice as long as the first one."
   ]
  }
 ],
 "metadata": {
  "kernelspec": {
   "display_name": "Python 3",
   "language": "python",
   "name": "python3"
  },
  "language_info": {
   "codemirror_mode": {
    "name": "ipython",
    "version": 3
   },
   "file_extension": ".py",
   "mimetype": "text/x-python",
   "name": "python",
   "nbconvert_exporter": "python",
   "pygments_lexer": "ipython3",
   "version": "3.6.8"
  }
 },
 "nbformat": 4,
 "nbformat_minor": 4
}
