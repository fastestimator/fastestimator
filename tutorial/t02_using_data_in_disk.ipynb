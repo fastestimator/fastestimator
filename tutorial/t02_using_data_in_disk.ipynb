{
 "cells": [
  {
   "cell_type": "markdown",
   "metadata": {},
   "source": [
    "# Tutorial 2: Dealing with large datasets with FastEstimator\n",
    "_____\n",
    "\n",
    "In Tutorial 1, we introduced our 3 main APIs and general workflow of a deep learning task using FastEstimator:  `Pipeline` -> `Network` -> `Estimator`. Then we used in-memory data for training.  \n",
    "*__But what if the dataset size was too big to fit in memory? Imagine data is the size of ImageNet?__*\n",
    "\n",
    "The short answer is: __the user will use one more API to use in disk data for training: `RecordWriter`__, such that the overall workflow becomes:   \n",
    "`RecordWriter` -> `Pipeline` -> `Network` -> `Estimator`. In this tutorial, we are going to show you how to do in-disk data training in FastEstimator."
   ]
  },
  {
   "cell_type": "markdown",
   "metadata": {},
   "source": [
    "## Before we start:\n",
    "\n",
    "Two things are required regarding in-disk data : \n",
    "* Data files, obviously :)\n",
    "* A csv file that describes the data (prepare two csv files if you have a separate validation set)\n",
    "\n",
    "In the csv file, the rows of csv represent different examples and columns represent different features within example. For example, for a classification task, a csv may look like this:\n",
    "\n",
    "| image  | label  |\n",
    "|---|---|\n",
    "|/data/image1.png   | 0  |\n",
    "|/data/image2.png   |  1 |\n",
    "|/data/image3.png | 0  |\n",
    "|... | .  |\n",
    "\n",
    "The csv of a multi-mask segmentation task may look like this:\n",
    "\n",
    "| img  | msk1  | msk2  |\n",
    "|---|---|---|\n",
    "|/data/image1.png   | /maska/mask1.png  |/maskb/mask1.png|\n",
    "|/data/image2.png   |  /maska/mask2.png |/maskb/mask2.png|\n",
    "|/data/image3.png | /maska/mask3.png  |/maskb/mask3.png|\n",
    "|... | ...  |...|\n",
    "\n",
    "\n",
    "Please keep in mind that, there is no restriction on the data folder structures, number of features or name of features.  \n",
    "\n",
    "Now, let's generate some in-disk data for this tutorial!"
   ]
  },
  {
   "cell_type": "markdown",
   "metadata": {},
   "source": [
    "## Step 0: Get the paths to the csv files\n",
    "\n",
    "For this example, we will use the function `load_data` from MNIST dataset to download the dataset and get the paths to the above-mentioned csv files for training, evaluation and to the data directory. \n",
    "You just have to use the paths for your specific case."
   ]
  },
  {
   "cell_type": "code",
   "execution_count": 1,
   "metadata": {},
   "outputs": [
    {
     "name": "stdout",
     "output_type": "stream",
     "text": [
      "training csv path is /tmp/.fe/Mnist/train.csv\n",
      "evaluation csv path is /tmp/.fe/Mnist/eval.csv\n",
      "mnist image path is /tmp/.fe/Mnist\n"
     ]
    }
   ],
   "source": [
    "from fastestimator.dataset.mnist import load_data\n",
    "\n",
    "train_csv, eval_csv, folder_path = load_data()\n",
    "print(\"training csv path is {}\".format(train_csv))\n",
    "print(\"evaluation csv path is {}\".format(eval_csv))\n",
    "print(\"mnist image path is {}\".format(folder_path))"
   ]
  },
  {
   "cell_type": "markdown",
   "metadata": {},
   "source": [
    "Let's take a look at the csv file and image file."
   ]
  },
  {
   "cell_type": "code",
   "execution_count": 2,
   "metadata": {},
   "outputs": [
    {
     "data": {
      "text/html": [
       "<div>\n",
       "<style scoped>\n",
       "    .dataframe tbody tr th:only-of-type {\n",
       "        vertical-align: middle;\n",
       "    }\n",
       "\n",
       "    .dataframe tbody tr th {\n",
       "        vertical-align: top;\n",
       "    }\n",
       "\n",
       "    .dataframe thead th {\n",
       "        text-align: right;\n",
       "    }\n",
       "</style>\n",
       "<table border=\"1\" class=\"dataframe\">\n",
       "  <thead>\n",
       "    <tr style=\"text-align: right;\">\n",
       "      <th></th>\n",
       "      <th>x</th>\n",
       "      <th>y</th>\n",
       "    </tr>\n",
       "  </thead>\n",
       "  <tbody>\n",
       "    <tr>\n",
       "      <th>0</th>\n",
       "      <td>image/train_0.png</td>\n",
       "      <td>5</td>\n",
       "    </tr>\n",
       "    <tr>\n",
       "      <th>1</th>\n",
       "      <td>image/train_1.png</td>\n",
       "      <td>0</td>\n",
       "    </tr>\n",
       "    <tr>\n",
       "      <th>2</th>\n",
       "      <td>image/train_2.png</td>\n",
       "      <td>4</td>\n",
       "    </tr>\n",
       "    <tr>\n",
       "      <th>3</th>\n",
       "      <td>image/train_3.png</td>\n",
       "      <td>1</td>\n",
       "    </tr>\n",
       "    <tr>\n",
       "      <th>4</th>\n",
       "      <td>image/train_4.png</td>\n",
       "      <td>9</td>\n",
       "    </tr>\n",
       "  </tbody>\n",
       "</table>\n",
       "</div>"
      ],
      "text/plain": [
       "                   x  y\n",
       "0  image/train_0.png  5\n",
       "1  image/train_1.png  0\n",
       "2  image/train_2.png  4\n",
       "3  image/train_3.png  1\n",
       "4  image/train_4.png  9"
      ]
     },
     "execution_count": 2,
     "metadata": {},
     "output_type": "execute_result"
    }
   ],
   "source": [
    "import pandas as pd\n",
    "df_train = pd.read_csv(train_csv)\n",
    "df_train.head()"
   ]
  },
  {
   "cell_type": "code",
   "execution_count": 3,
   "metadata": {},
   "outputs": [
    {
     "name": "stdout",
     "output_type": "stream",
     "text": [
      "ground truth of image is 0\n"
     ]
    },
    {
     "data": {
      "image/png": "[encoded data removed]",
      "text/plain": [
       "<Figure size 432x288 with 1 Axes>"
      ]
     },
     "metadata": {},
     "output_type": "display_data"
    }
   ],
   "source": [
    "import matplotlib.pyplot as plt\n",
    "import os\n",
    "img = plt.imread(os.path.join(folder_path, df_train[\"x\"][1]))\n",
    "plt.imshow(img)\n",
    "print(\"ground truth of image is {}\".format(df_train[\"y\"][1]))"
   ]
  },
  {
   "cell_type": "markdown",
   "metadata": {},
   "source": [
    "## Step 1: RecordWriter\n",
    "\n",
    "\n",
    "In FastEstimator, we convert user's in-disk data to TFRecord for the best training speed. The RecordWriter API takes care of it. \n",
    "\n",
    "You will have to specify : \n",
    "\n",
    "- `save_dir` : the path to write the record.    \n",
    "   \n",
    "   \n",
    "- `train_data` : can either be a csv path or a dictionary like the one used in tutorial 1.  \n",
    " \n",
    " \n",
    "- `validation_data` (optional) : it can take all input formats of `train_data`. In addition, `validation_data` can also take a floating point number between 0 to 1 which indicates the validation split ratio, then validation data will be randomly sampled from training data.  \n",
    " \n",
    " \n",
    "- `ops`: before converting data to TFRecord, users can apply a series of propcoessing tasks to the data in `ops` argument, we will talk about them in detail in tutorial 3."
   ]
  },
  {
   "cell_type": "code",
   "execution_count": 4,
   "metadata": {},
   "outputs": [],
   "source": [
    "from fastestimator.util import RecordWriter\n",
    "from fastestimator.op.numpyop import ImageReader\n",
    "import fastestimator as fe\n",
    "import tempfile\n",
    "\n",
    "# We simply create a RecordWriter will all required arguments. \n",
    "writer = RecordWriter(save_dir=os.path.join(folder_path, \"FEdata\"),\n",
    "                         train_data=train_csv,\n",
    "                         validation_data=eval_csv,\n",
    "                         ops=ImageReader(inputs=\"x\", parent_path=folder_path, outputs=\"x\", grey_scale=True))"
   ]
  },
  {
   "cell_type": "markdown",
   "metadata": {},
   "source": [
    "## Step 2: Pipeline -> Network -> Estimator (see tutorial 1 for details)"
   ]
  },
  {
   "cell_type": "code",
   "execution_count": 5,
   "metadata": {},
   "outputs": [],
   "source": [
    "from fastestimator.op.tensorop import Minmax\n",
    "from fastestimator.architecture import LeNet\n",
    "from fastestimator.op.tensorop.model import ModelOp\n",
    "from fastestimator.op.tensorop.loss import SparseCategoricalCrossentropy\n",
    "\n",
    "# Pipeline creation\n",
    "pipeline = fe.Pipeline(batch_size=32, data=writer, ops=Minmax(inputs=\"x\", outputs=\"x\"))\n",
    "\n",
    "# Model and network definition\n",
    "model = fe.build(model_def=LeNet, model_name=\"lenet\", optimizer=\"adam\", loss_name=\"loss\")\n",
    "network = fe.Network(ops=[ModelOp(inputs=\"x\", model=model, outputs=\"y_pred\"), \n",
    "                          SparseCategoricalCrossentropy(y_pred=\"y_pred\", y_true=\"y\", outputs=\"loss\")])\n",
    "\n",
    "# Estimator definition\n",
    "estimator = fe.Estimator(network=network, pipeline=pipeline, epochs=2)"
   ]
  },
  {
   "cell_type": "markdown",
   "metadata": {},
   "source": [
    "## Step 3: Start training"
   ]
  },
  {
   "cell_type": "code",
   "execution_count": 6,
   "metadata": {
    "scrolled": false
   },
   "outputs": [
    {
     "name": "stdout",
     "output_type": "stream",
     "text": [
      "    ______           __  ______     __  _                 __            \n",
      "   / ____/___ ______/ /_/ ____/____/ /_(_)___ ___  ____ _/ /_____  _____\n",
      "  / /_  / __ `/ ___/ __/ __/ / ___/ __/ / __ `__ \\/ __ `/ __/ __ \\/ ___/\n",
      " / __/ / /_/ (__  ) /_/ /___(__  ) /_/ / / / / / / /_/ / /_/ /_/ / /    \n",
      "/_/    \\__,_/____/\\__/_____/____/\\__/_/_/ /_/ /_/\\__,_/\\__/\\____/_/     \n",
      "                                                                        \n",
      "\n",
      "FastEstimator: Saving tfrecord to /tmp/.fe/Mnist/FEdata\n",
      "FastEstimator: Converting Train TFRecords 0.0%, Speed: 0.00 record/sec\n",
      "FastEstimator: Converting Train TFRecords 5.0%, Speed: 25311.16 record/sec\n",
      "FastEstimator: Converting Train TFRecords 10.0%, Speed: 16474.48 record/sec\n",
      "FastEstimator: Converting Train TFRecords 15.0%, Speed: 12341.98 record/sec\n",
      "FastEstimator: Converting Train TFRecords 20.0%, Speed: 11620.45 record/sec\n",
      "FastEstimator: Converting Train TFRecords 25.0%, Speed: 11131.52 record/sec\n",
      "FastEstimator: Converting Train TFRecords 30.0%, Speed: 10988.09 record/sec\n",
      "FastEstimator: Converting Train TFRecords 35.0%, Speed: 10596.24 record/sec\n",
      "FastEstimator: Converting Train TFRecords 40.0%, Speed: 10305.17 record/sec\n",
      "FastEstimator: Converting Train TFRecords 45.0%, Speed: 10228.76 record/sec\n",
      "FastEstimator: Converting Train TFRecords 50.0%, Speed: 10132.39 record/sec\n",
      "FastEstimator: Converting Train TFRecords 55.0%, Speed: 10084.15 record/sec\n",
      "FastEstimator: Converting Train TFRecords 60.0%, Speed: 10059.63 record/sec\n",
      "FastEstimator: Converting Train TFRecords 65.0%, Speed: 10015.38 record/sec\n",
      "FastEstimator: Converting Train TFRecords 70.0%, Speed: 9937.32 record/sec\n",
      "FastEstimator: Converting Train TFRecords 75.0%, Speed: 9863.26 record/sec\n",
      "FastEstimator: Converting Train TFRecords 80.0%, Speed: 9807.95 record/sec\n",
      "FastEstimator: Converting Train TFRecords 85.0%, Speed: 9787.11 record/sec\n",
      "FastEstimator: Converting Train TFRecords 90.0%, Speed: 9682.32 record/sec\n",
      "FastEstimator: Converting Train TFRecords 95.0%, Speed: 9687.31 record/sec\n",
      "FastEstimator: Converting Eval TFRecords 0.0%, Speed: 0.00 record/sec\n",
      "FastEstimator: Converting Eval TFRecords 5.0%, Speed: 71333.40 record/sec\n",
      "FastEstimator: Converting Eval TFRecords 9.9%, Speed: 33643.90 record/sec\n",
      "FastEstimator: Converting Eval TFRecords 14.9%, Speed: 41380.53 record/sec\n",
      "FastEstimator: Converting Eval TFRecords 19.8%, Speed: 30654.80 record/sec\n",
      "FastEstimator: Converting Eval TFRecords 24.8%, Speed: 28463.06 record/sec\n",
      "FastEstimator: Converting Eval TFRecords 29.8%, Speed: 27949.82 record/sec\n",
      "FastEstimator: Converting Eval TFRecords 34.7%, Speed: 21332.26 record/sec\n",
      "FastEstimator: Converting Eval TFRecords 39.7%, Speed: 17595.54 record/sec\n",
      "FastEstimator: Converting Eval TFRecords 44.6%, Speed: 19030.31 record/sec\n",
      "FastEstimator: Converting Eval TFRecords 49.6%, Speed: 16616.11 record/sec\n",
      "FastEstimator: Converting Eval TFRecords 54.6%, Speed: 16706.31 record/sec\n",
      "FastEstimator: Converting Eval TFRecords 59.5%, Speed: 14221.30 record/sec\n",
      "FastEstimator: Converting Eval TFRecords 64.5%, Speed: 13732.77 record/sec\n",
      "FastEstimator: Converting Eval TFRecords 69.4%, Speed: 13604.46 record/sec\n",
      "FastEstimator: Converting Eval TFRecords 74.4%, Speed: 12936.53 record/sec\n",
      "FastEstimator: Converting Eval TFRecords 79.4%, Speed: 12607.93 record/sec\n",
      "FastEstimator: Converting Eval TFRecords 84.3%, Speed: 11888.54 record/sec\n",
      "FastEstimator: Converting Eval TFRecords 89.3%, Speed: 12352.50 record/sec\n",
      "FastEstimator: Converting Eval TFRecords 94.2%, Speed: 11802.17 record/sec\n",
      "FastEstimator: Converting Eval TFRecords 99.2%, Speed: 12120.14 record/sec\n",
      "FastEstimator: Reading non-empty directory: /tmp/.fe/Mnist/FEdata\n",
      "FastEstimator: Found 60000 examples for train in /tmp/.fe/Mnist/FEdata/train_summary0.json\n",
      "FastEstimator: Found 10000 examples for eval in /tmp/.fe/Mnist/FEdata/eval_summary0.json\n",
      "FastEstimator-Warn: No ModelSaver Trace detected. Models will not be saved.\n",
      "FastEstimator-Start: step: 0; total_train_steps: 3750; lenet_lr: 0.001; \n",
      "FastEstimator-Train: step: 0; loss: 2.316646; \n",
      "FastEstimator-Train: step: 100; loss: 0.2023166; examples/sec: 1544.1; progress: 2.7%; \n",
      "FastEstimator-Train: step: 200; loss: 0.4131472; examples/sec: 1548.3; progress: 5.3%; \n",
      "FastEstimator-Train: step: 300; loss: 0.1216927; examples/sec: 1575.2; progress: 8.0%; \n",
      "FastEstimator-Train: step: 400; loss: 0.0763787; examples/sec: 1560.1; progress: 10.7%; \n",
      "FastEstimator-Train: step: 500; loss: 0.5539406; examples/sec: 1572.2; progress: 13.3%; \n",
      "FastEstimator-Train: step: 600; loss: 0.1830472; examples/sec: 1545.4; progress: 16.0%; \n",
      "FastEstimator-Train: step: 700; loss: 0.0571711; examples/sec: 1548.8; progress: 18.7%; \n",
      "FastEstimator-Train: step: 800; loss: 0.0670647; examples/sec: 1539.8; progress: 21.3%; \n",
      "FastEstimator-Train: step: 900; loss: 0.0689847; examples/sec: 1543.9; progress: 24.0%; \n",
      "FastEstimator-Train: step: 1000; loss: 0.2534505; examples/sec: 1534.3; progress: 26.7%; \n",
      "FastEstimator-Train: step: 1100; loss: 0.1595627; examples/sec: 1543.9; progress: 29.3%; \n",
      "FastEstimator-Train: step: 1200; loss: 0.1693894; examples/sec: 1535.8; progress: 32.0%; \n",
      "FastEstimator-Train: step: 1300; loss: 0.0614095; examples/sec: 1545.7; progress: 34.7%; \n",
      "FastEstimator-Train: step: 1400; loss: 0.02138; examples/sec: 1525.9; progress: 37.3%; \n",
      "FastEstimator-Train: step: 1500; loss: 0.0439597; examples/sec: 1531.7; progress: 40.0%; \n",
      "FastEstimator-Train: step: 1600; loss: 0.066583; examples/sec: 1523.1; progress: 42.7%; \n",
      "FastEstimator-Train: step: 1700; loss: 0.0377765; examples/sec: 1502.6; progress: 45.3%; \n",
      "FastEstimator-Train: step: 1800; loss: 0.044106; examples/sec: 1497.4; progress: 48.0%; \n",
      "FastEstimator-Eval: step: 1875; epoch: 0; loss: 0.0484788; min_loss: 0.048478775; since_best_loss: 0; \n",
      "FastEstimator-Train: step: 1900; loss: 0.0396217; examples/sec: 752.4; progress: 50.7%; \n",
      "FastEstimator-Train: step: 2000; loss: 0.0075153; examples/sec: 1544.8; progress: 53.3%; \n",
      "FastEstimator-Train: step: 2100; loss: 0.0014823; examples/sec: 1522.4; progress: 56.0%; \n",
      "FastEstimator-Train: step: 2200; loss: 0.0135821; examples/sec: 1532.0; progress: 58.7%; \n",
      "FastEstimator-Train: step: 2300; loss: 0.0017681; examples/sec: 1531.1; progress: 61.3%; \n",
      "FastEstimator-Train: step: 2400; loss: 0.025974; examples/sec: 1529.5; progress: 64.0%; \n",
      "FastEstimator-Train: step: 2500; loss: 0.1640374; examples/sec: 1541.8; progress: 66.7%; \n",
      "FastEstimator-Train: step: 2600; loss: 0.0118217; examples/sec: 1555.9; progress: 69.3%; \n",
      "FastEstimator-Train: step: 2700; loss: 0.0811621; examples/sec: 1575.7; progress: 72.0%; \n",
      "FastEstimator-Train: step: 2800; loss: 0.077312; examples/sec: 1566.0; progress: 74.7%; \n",
      "FastEstimator-Train: step: 2900; loss: 0.0056092; examples/sec: 1551.9; progress: 77.3%; \n",
      "FastEstimator-Train: step: 3000; loss: 0.004439; examples/sec: 1529.8; progress: 80.0%; \n",
      "FastEstimator-Train: step: 3100; loss: 0.1169912; examples/sec: 1536.4; progress: 82.7%; \n",
      "FastEstimator-Train: step: 3200; loss: 0.0165762; examples/sec: 1536.1; progress: 85.3%; \n",
      "FastEstimator-Train: step: 3300; loss: 0.0012112; examples/sec: 1549.6; progress: 88.0%; \n",
      "FastEstimator-Train: step: 3400; loss: 0.0454505; examples/sec: 1536.0; progress: 90.7%; \n",
      "FastEstimator-Train: step: 3500; loss: 0.0044532; examples/sec: 1525.3; progress: 93.3%; \n",
      "FastEstimator-Train: step: 3600; loss: 0.0086824; examples/sec: 1523.1; progress: 96.0%; \n",
      "FastEstimator-Train: step: 3700; loss: 0.0135707; examples/sec: 1490.3; progress: 98.7%; \n",
      "FastEstimator-Eval: step: 3750; epoch: 1; loss: 0.0374213; min_loss: 0.03742133; since_best_loss: 0; \n",
      "FastEstimator-Finish: step: 3750; total_time: 88.41 sec; lenet_lr: 0.001; \n"
     ]
    }
   ],
   "source": [
    "# Launch the training!\n",
    "estimator.fit()"
   ]
  },
  {
   "cell_type": "markdown",
   "metadata": {},
   "source": [
    "___\n",
    "## Key take-aways:\n",
    "\n",
    "As mentioned in tutorial 1, the preprocessing in the `RecordWriter` is a place for \"once-for-all\" type preprocessing. If a preprocessing function only needs to be done once (e,g, Resize and Rescale), then it is recommended to put them in `RecordWriter`. By doing this you can reduce the amount of computation needed during training and thereby train faster.\n",
    "\n",
    ">Now, let's summarize the **conceptual workflow** in FastEstimator for any deep learning task:\n",
    ">0. _[Optional]_ Do I have in-disk data or want to apply some preprocessing once and for all? _-> Express this in `RecordWriter`_\n",
    ">1. How do I want my data to be processed during the training? _-> Express this in `Pipeline`_\n",
    ">2. How do I want my network architecture and loss to be defined? what are the connections between networks if there are multiple of them? _-> Express this in `Network`_\n",
    ">3. How long do I train the model? what do I need during training loop? _-> Express this in `Estimator`_"
   ]
  },
  {
   "cell_type": "code",
   "execution_count": null,
   "metadata": {},
   "outputs": [],
   "source": []
  }
 ],
 "metadata": {
  "kernelspec": {
   "display_name": "conda_tensorflow_p36",
   "language": "python",
   "name": "conda_tensorflow_p36"
  },
  "language_info": {
   "codemirror_mode": {
    "name": "ipython",
    "version": 3
   },
   "file_extension": ".py",
   "mimetype": "text/x-python",
   "name": "python",
   "nbconvert_exporter": "python",
   "pygments_lexer": "ipython3",
   "version": "3.6.5"
  }
 },
 "nbformat": 4,
 "nbformat_minor": 2
}
