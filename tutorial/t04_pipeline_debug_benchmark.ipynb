{
 "cells": [
  {
   "cell_type": "markdown",
   "metadata": {},
   "source": [
    "# Tutorial 4: Pipeline debugging and benchmarking\n",
    "___\n",
    "When creating your own end-to-end deep learning workflow, things may go wrong anywhere along the way. You've probably experienced it... That's why it's very important to __access the data after the pipeline__ and examine the correctness of pipeline operations and preprocessing. Furthermore, in some cases, the pipeline may be too slow to keep the GPU busy. Users may need to __benchmark the pipeline speed__ to decide whether to move some operations to GPU or not.\n",
    "\n",
    "In this tutorial, we are going to show you how to access pipeline results and do pipeline benchmarking. We will use the same pipeline as in tutorial 3."
   ]
  },
  {
   "cell_type": "code",
   "execution_count": 1,
   "metadata": {},
   "outputs": [],
   "source": [
    "import fastestimator as fe\n",
    "import numpy as np\n",
    "import os\n",
    "import tensorflow as tf"
   ]
  },
  {
   "cell_type": "markdown",
   "metadata": {},
   "source": [
    "## 1) Define the pipeline *(same as tutorial 3)*"
   ]
  },
  {
   "cell_type": "code",
   "execution_count": 2,
   "metadata": {},
   "outputs": [
    {
     "name": "stdout",
     "output_type": "stream",
     "text": [
      "image data is generated in /tmp/.fe/Mnist\n"
     ]
    }
   ],
   "source": [
    "from fastestimator.dataset.mnist import load_data\n",
    "from fastestimator.op import NumpyOp\n",
    "from fastestimator.util import RecordWriter\n",
    "from fastestimator.op.numpyop import ImageReader\n",
    "from fastestimator.op.tensorop import Augmentation2D\n",
    "from fastestimator.op import TensorOp\n",
    "\n",
    "# Create Rescale and Resize custom ops\n",
    "class Rescale(NumpyOp):\n",
    "    def forward(self, data, state):\n",
    "        data = (data - 127.5) / 127.5\n",
    "        return data\n",
    "\n",
    "class Resize(TensorOp):\n",
    "    def __init__(self, inputs, outputs, size):\n",
    "        super().__init__(inputs=inputs, outputs=outputs)\n",
    "        self.size = size\n",
    "    \n",
    "    def forward(self, data, state):\n",
    "        data = tf.image.resize(data, self.size)\n",
    "        return data\n",
    "\n",
    "# Load data\n",
    "train_csv, eval_csv, data_path = load_data()\n",
    "\n",
    "print(\"image data is generated in {}\".format(data_path))\n",
    "\n",
    "# Create RecordWriter\n",
    "writer = RecordWriter(save_dir=os.path.join(data_path, \"FEdata\"),\n",
    "                         train_data=train_csv,\n",
    "                         validation_data=eval_csv,\n",
    "                         ops=[ImageReader(inputs=\"x\", parent_path=data_path, grey_scale=True), \n",
    "                              Rescale(outputs=\"x\")])\n",
    "# Create Pipeline\n",
    "pipeline = fe.Pipeline(data=writer,\n",
    "                       batch_size=32,\n",
    "                       ops=[Resize(inputs=\"x\", size=(30, 30), outputs=\"x\"),\n",
    "                            Augmentation2D(outputs=\"x\", mode=\"train\", rotation_range=15)])"
   ]
  },
  {
   "cell_type": "markdown",
   "metadata": {},
   "source": [
    "## 2) Access the pipeline results\n",
    "\n",
    "`pipeline.show_results` is built for accessing the pipeline data.  \n",
    "For example, if users want to access single batch of pipeline data on epoch 0 during training:"
   ]
  },
  {
   "cell_type": "code",
   "execution_count": 3,
   "metadata": {},
   "outputs": [
    {
     "name": "stdout",
     "output_type": "stream",
     "text": [
      "FastEstimator: Reading non-empty directory: /tmp/.fe/Mnist/FEdata\n",
      "FastEstimator: Found 60000 examples for train in /tmp/.fe/Mnist/FEdata/train_summary0.json\n",
      "FastEstimator: Found 10000 examples for eval in /tmp/.fe/Mnist/FEdata/eval_summary0.json\n",
      "shape of feature x is (32, 30, 30, 1)\n",
      "shape of feature y is (32,)\n"
     ]
    }
   ],
   "source": [
    "# Use show_results by specifying the epoch, mode and step (batch)\n",
    "result = pipeline.show_results(current_epoch=0, mode=\"train\", num_steps=1)\n",
    "\n",
    "# Isolate x and y from result\n",
    "x = result[0][\"x\"]\n",
    "y = result[0][\"y\"]\n",
    "print(\"shape of feature x is {}\".format(x.shape))\n",
    "print(\"shape of feature y is {}\".format(y.shape))"
   ]
  },
  {
   "cell_type": "code",
   "execution_count": 4,
   "metadata": {},
   "outputs": [
    {
     "name": "stdout",
     "output_type": "stream",
     "text": [
      "ground truth label is 8\n",
      "ground truth label is 1\n",
      "ground truth label is 9\n",
      "ground truth label is 5\n"
     ]
    },
    {
     "data": {
      "image/png": "[encoded data removed]",
      "text/plain": [
       "<Figure size 432x288 with 4 Axes>"
      ]
     },
     "metadata": {},
     "output_type": "display_data"
    }
   ],
   "source": [
    "import matplotlib.pyplot as plt\n",
    "\n",
    "#  Display 4 examples of data after Pipeline\n",
    "fig, axes = plt.subplots(1, 4)\n",
    "for i in range(4):\n",
    "    axes[i].axis('off')\n",
    "    axes[i].imshow(np.squeeze(x[i]), cmap='gray')\n",
    "    print(\"ground truth label is {}\".format(y[i]))"
   ]
  },
  {
   "cell_type": "markdown",
   "metadata": {},
   "source": [
    "## 3) Benchmark pipeline speed\n",
    "\n",
    "`pipeline.benchmark` can be used to benchmark the pipeline speed.  \n",
    "For example, if users want to benchmark on epoch 0 during training for 2000 steps (batches):"
   ]
  },
  {
   "cell_type": "code",
   "execution_count": 5,
   "metadata": {
    "scrolled": false
   },
   "outputs": [
    {
     "name": "stdout",
     "output_type": "stream",
     "text": [
      "FastEstimator: Reading non-empty directory: /tmp/.fe/Mnist/FEdata\n",
      "FastEstimator: Found 60000 examples for train in /tmp/.fe/Mnist/FEdata/train_summary0.json\n",
      "FastEstimator: Found 10000 examples for eval in /tmp/.fe/Mnist/FEdata/eval_summary0.json\n",
      "FastEstimator: Step: 100, Epoch: 0, Batch Size 32, Example/sec 27125.30\n",
      "FastEstimator: Step: 200, Epoch: 0, Batch Size 32, Example/sec 27397.79\n",
      "FastEstimator: Step: 300, Epoch: 0, Batch Size 32, Example/sec 27347.61\n",
      "FastEstimator: Step: 400, Epoch: 0, Batch Size 32, Example/sec 27330.95\n",
      "FastEstimator: Step: 500, Epoch: 0, Batch Size 32, Example/sec 27346.13\n",
      "FastEstimator: Step: 600, Epoch: 0, Batch Size 32, Example/sec 27343.98\n",
      "FastEstimator: Step: 700, Epoch: 0, Batch Size 32, Example/sec 27004.02\n",
      "FastEstimator: Step: 800, Epoch: 0, Batch Size 32, Example/sec 27087.50\n",
      "FastEstimator: Step: 900, Epoch: 0, Batch Size 32, Example/sec 26587.90\n",
      "FastEstimator: Step: 1000, Epoch: 0, Batch Size 32, Example/sec 27395.27\n",
      "FastEstimator: Step: 1100, Epoch: 0, Batch Size 32, Example/sec 26832.51\n",
      "FastEstimator: Step: 1200, Epoch: 0, Batch Size 32, Example/sec 26723.64\n",
      "FastEstimator: Step: 1300, Epoch: 0, Batch Size 32, Example/sec 26315.49\n",
      "FastEstimator: Step: 1400, Epoch: 0, Batch Size 32, Example/sec 27077.04\n",
      "FastEstimator: Step: 1500, Epoch: 0, Batch Size 32, Example/sec 26629.48\n"
     ]
    }
   ],
   "source": [
    "# You just have to specify the epoch, mode, and number of batches\n",
    "pipeline.benchmark(current_epoch=0,mode=\"train\", num_steps=1500)"
   ]
  },
  {
   "cell_type": "code",
   "execution_count": null,
   "metadata": {},
   "outputs": [],
   "source": []
  }
 ],
 "metadata": {
  "kernelspec": {
   "display_name": "conda_tensorflow_p36",
   "language": "python",
   "name": "conda_tensorflow_p36"
  },
  "language_info": {
   "codemirror_mode": {
    "name": "ipython",
    "version": 3
   },
   "file_extension": ".py",
   "mimetype": "text/x-python",
   "name": "python",
   "nbconvert_exporter": "python",
   "pygments_lexer": "ipython3",
   "version": "3.6.5"
  }
 },
 "nbformat": 4,
 "nbformat_minor": 2
}
