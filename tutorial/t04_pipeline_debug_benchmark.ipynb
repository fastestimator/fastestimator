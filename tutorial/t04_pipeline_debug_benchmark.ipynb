{
 "cells": [
  {
   "cell_type": "markdown",
   "metadata": {},
   "source": [
    "# Tutorial 4: Pipeline debugging and benchmarking\n",
    "\n",
    "When creating your own end-to-end deep learning workflow, things may go wrong anywhere along the way, it's very important to access the data after the pipeline and examine the correctness of pipeline operations. Furthermore, pipeline may be too slow to keep gpu busy, users may need to benchmark the pipeline speed to decide whether to move some operation to gpu.\n",
    "\n",
    "In this tutorial, we are going to show you how to access pipeline results and do pipeline benchmarking. We will use the same pipeline as tutorial 3."
   ]
  },
  {
   "cell_type": "markdown",
   "metadata": {},
   "source": [
    "## define the pipeline (same as tutorial 2)"
   ]
  },
  {
   "cell_type": "code",
   "execution_count": 1,
   "metadata": {},
   "outputs": [
    {
     "name": "stderr",
     "output_type": "stream",
     "text": [
      "/anaconda3/lib/python3.6/site-packages/h5py/__init__.py:36: FutureWarning: Conversion of the second argument of issubdtype from `float` to `np.floating` is deprecated. In future, it will be treated as `np.float64 == np.dtype(float).type`.\n",
      "  from ._conv import register_converters as _register_converters\n"
     ]
    },
    {
     "name": "stdout",
     "output_type": "stream",
     "text": [
      "image data is generated in /var/folders/5g/d_ny7h211cj3zqkzrtq01s480000gn/T/.fe/Mnist\n"
     ]
    }
   ],
   "source": [
    "from fastestimator.pipeline.augmentation import Augmentation2D\n",
    "from fastestimator.util.op import TensorOp\n",
    "from fastestimator.dataset.mnist import load_data\n",
    "from fastestimator.util.op import NumpyOp\n",
    "from fastestimator.record.preprocess import ImageReader\n",
    "import fastestimator as fe\n",
    "import numpy as np\n",
    "import os\n",
    "import tensorflow as tf\n",
    "\n",
    "class Rescale(NumpyOp):\n",
    "    def forward(self, data, state):\n",
    "        data = (data - 127.5) / 127.5\n",
    "        return data\n",
    "\n",
    "class Resize(TensorOp):\n",
    "    def __init__(self, inputs, outputs, size):\n",
    "        super().__init__(inputs=inputs, outputs=outputs)\n",
    "        self.size = size\n",
    "    \n",
    "    def forward(self, data, state):\n",
    "        data = tf.image.resize(data, self.size)\n",
    "        return data\n",
    "\n",
    "train_csv, eval_csv, data_path = load_data()\n",
    "\n",
    "print(\"image data is generated in {}\".format(data_path))\n",
    "\n",
    "writer = fe.RecordWriter(save_dir=os.path.join(data_path, \"FEdata\"),\n",
    "                         train_data=train_csv,\n",
    "                         validation_data=eval_csv,\n",
    "                         ops=[ImageReader(inputs=\"x\", parent_path=data_path, grey_scale=True), \n",
    "                              Rescale(outputs=\"x\")])\n",
    "\n",
    "pipeline = fe.Pipeline(data=writer,\n",
    "                       batch_size=32,\n",
    "                       ops=[Resize(inputs=\"x\", size=(30, 30), outputs=\"x\"),\n",
    "                            Augmentation2D(outputs=\"x\", mode=\"train\", rotation_range=15)])"
   ]
  },
  {
   "cell_type": "markdown",
   "metadata": {},
   "source": [
    "## access the pipeline results\n",
    "\n",
    "`pipeline.show_results` is built for accessing the pipeline data, for example, if users want to access single batch of pipeline data on epoch 0 during training:"
   ]
  },
  {
   "cell_type": "code",
   "execution_count": 2,
   "metadata": {},
   "outputs": [
    {
     "name": "stdout",
     "output_type": "stream",
     "text": [
      "FastEstimator: Reading non-empty directory: /var/folders/5g/d_ny7h211cj3zqkzrtq01s480000gn/T/.fe/Mnist/FEdata\n",
      "FastEstimator: Found 60000 examples for train in /var/folders/5g/d_ny7h211cj3zqkzrtq01s480000gn/T/.fe/Mnist/FEdata/train_summary0.json\n",
      "FastEstimator: Found 10000 examples for eval in /var/folders/5g/d_ny7h211cj3zqkzrtq01s480000gn/T/.fe/Mnist/FEdata/eval_summary0.json\n",
      "shape of feature x is (32, 30, 30, 1)\n",
      "shape of feature y is (32,)\n"
     ]
    }
   ],
   "source": [
    "result = pipeline.show_results(current_epoch=0, mode=\"train\", num_steps=1)\n",
    "\n",
    "x = result[0][\"x\"]\n",
    "y = result[0][\"y\"]\n",
    "print(\"shape of feature x is {}\".format(x.shape))\n",
    "print(\"shape of feature y is {}\".format(y.shape))"
   ]
  },
  {
   "cell_type": "code",
   "execution_count": 3,
   "metadata": {},
   "outputs": [
    {
     "name": "stdout",
     "output_type": "stream",
     "text": [
      "ground truth label is 3\n",
      "ground truth label is 5\n",
      "ground truth label is 5\n",
      "ground truth label is 6\n"
     ]
    },
    {
     "data": {
      "image/png": "[encoded data removed]",
      "text/plain": [
       "<Figure size 432x288 with 4 Axes>"
      ]
     },
     "metadata": {},
     "output_type": "display_data"
    }
   ],
   "source": [
    "import matplotlib.pyplot as plt\n",
    "\n",
    "fig, axes = plt.subplots(1, 4)\n",
    "for i in range(4):\n",
    "    axes[i].axis('off')\n",
    "    axes[i].imshow(np.squeeze(x[i]), cmap='gray')\n",
    "    print(\"ground truth label is {}\".format(y[i]))"
   ]
  },
  {
   "cell_type": "markdown",
   "metadata": {},
   "source": [
    "## benchmark pipeline speed\n",
    "\n",
    "`pipeline.benchmark` can be used to benchmark the pipeline speed, for example, if users want to benchmark on epoch 0 during training for 2000 steps (batches)."
   ]
  },
  {
   "cell_type": "code",
   "execution_count": 6,
   "metadata": {
    "scrolled": false
   },
   "outputs": [
    {
     "name": "stdout",
     "output_type": "stream",
     "text": [
      "FastEstimator: Reading non-empty directory: /var/folders/5g/d_ny7h211cj3zqkzrtq01s480000gn/T/.fe/Mnist/FEdata\n",
      "FastEstimator: Found 60000 examples for train in /var/folders/5g/d_ny7h211cj3zqkzrtq01s480000gn/T/.fe/Mnist/FEdata/train_summary0.json\n",
      "FastEstimator: Found 10000 examples for eval in /var/folders/5g/d_ny7h211cj3zqkzrtq01s480000gn/T/.fe/Mnist/FEdata/eval_summary0.json\n",
      "FastEstimator: Step: 100, Epoch: 0, Batch Size 32, Example/sec 21609.71\n",
      "FastEstimator: Step: 200, Epoch: 0, Batch Size 32, Example/sec 20687.99\n",
      "FastEstimator: Step: 300, Epoch: 0, Batch Size 32, Example/sec 20598.51\n",
      "FastEstimator: Step: 400, Epoch: 0, Batch Size 32, Example/sec 20761.09\n",
      "FastEstimator: Step: 500, Epoch: 0, Batch Size 32, Example/sec 21411.01\n",
      "FastEstimator: Step: 600, Epoch: 0, Batch Size 32, Example/sec 21501.51\n",
      "FastEstimator: Step: 700, Epoch: 0, Batch Size 32, Example/sec 19981.62\n",
      "FastEstimator: Step: 800, Epoch: 0, Batch Size 32, Example/sec 21540.19\n",
      "FastEstimator: Step: 900, Epoch: 0, Batch Size 32, Example/sec 21277.43\n",
      "FastEstimator: Step: 1000, Epoch: 0, Batch Size 32, Example/sec 21895.33\n",
      "FastEstimator: Step: 1100, Epoch: 0, Batch Size 32, Example/sec 20462.84\n",
      "FastEstimator: Step: 1200, Epoch: 0, Batch Size 32, Example/sec 21390.37\n",
      "FastEstimator: Step: 1300, Epoch: 0, Batch Size 32, Example/sec 21021.64\n",
      "FastEstimator: Step: 1400, Epoch: 0, Batch Size 32, Example/sec 17913.87\n",
      "FastEstimator: Step: 1500, Epoch: 0, Batch Size 32, Example/sec 19595.48\n"
     ]
    }
   ],
   "source": [
    "pipeline.benchmark(current_epoch=0,mode=\"train\", num_steps=1500)"
   ]
  },
  {
   "cell_type": "code",
   "execution_count": null,
   "metadata": {},
   "outputs": [],
   "source": []
  }
 ],
 "metadata": {
  "kernelspec": {
   "display_name": "Python 3",
   "language": "python",
   "name": "python3"
  },
  "language_info": {
   "codemirror_mode": {
    "name": "ipython",
    "version": 3
   },
   "file_extension": ".py",
   "mimetype": "text/x-python",
   "name": "python",
   "nbconvert_exporter": "python",
   "pygments_lexer": "ipython3",
   "version": "3.6.5"
  }
 },
 "nbformat": 4,
 "nbformat_minor": 2
}
