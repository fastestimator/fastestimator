{
 "cells": [
  {
   "cell_type": "markdown",
   "metadata": {},
   "source": [
    "# CIFAR10 Image Classification Using DenseNet-121\n"
   ]
  },
  {
   "cell_type": "markdown",
   "metadata": {},
   "source": [
    "## Basic import "
   ]
  },
  {
   "cell_type": "code",
   "execution_count": 1,
   "metadata": {},
   "outputs": [],
   "source": [
    "import tensorflow as tf\n",
    "import fastestimator as fe\n",
    "import matplotlib.pyplot as plt\n",
    "import numpy as np"
   ]
  },
  {
   "cell_type": "markdown",
   "metadata": {},
   "source": [
    "## Step1: Create FastEstimator `Pipeline`\n",
    "### Load Dataset \n",
    "First, we load the training and evaluation dataset into memory use keras API.\n",
    "   "
   ]
  },
  {
   "cell_type": "code",
   "execution_count": 2,
   "metadata": {},
   "outputs": [
    {
     "name": "stdout",
     "output_type": "stream",
     "text": [
      "train image shape is (50000, 32, 32, 3)\n",
      "train label shape is (50000, 1)\n",
      "eval image shape is (10000, 32, 32, 3)\n",
      "eval label shape is (10000, 1)\n"
     ]
    }
   ],
   "source": [
    "(x_train, y_train), (x_eval, y_eval) = tf.keras.datasets.cifar10.load_data()\n",
    "print(\"train image shape is {}\".format(x_train.shape))\n",
    "print(\"train label shape is {}\".format(y_train.shape))\n",
    "print(\"eval image shape is {}\".format(x_eval.shape))\n",
    "print(\"eval label shape is {}\".format(y_eval.shape))"
   ]
  },
  {
   "cell_type": "code",
   "execution_count": null,
   "metadata": {
    "tags": [
     "parameters"
    ]
   },
   "outputs": [],
   "source": [
    "#Parameters\n",
    "epochs = 50\n",
    "steps_per_epoch = None\n",
    "validation_steps = None\n",
    "batch_size = 64"
   ]
  },
  {
   "cell_type": "markdown",
   "metadata": {},
   "source": [
    "### Define `Pipeline`\n",
    "`Pipeline` is the object that define how the training and evaulation data being ingested to the network.\n",
    "It has three basic arguments: \n",
    "* **batch_size**: (int) The batch size \n",
    "* **data**: (dict) the data source. It should be the nested dictionary like {\"mode1\": {\"feature1\": numpy_array, \"feature2\": numpy_array, ...}, ...} \n",
    "* **ops**: (list, obj) The list of pipeline processs block. For this example, we only use Minmax, so it can be the object.  "
   ]
  },
  {
   "cell_type": "code",
   "execution_count": 4,
   "metadata": {},
   "outputs": [],
   "source": [
    "from fastestimator.op.tensorop import Minmax\n",
    "batch_size = batch_size\n",
    "data = {\"train\": {\"x\": x_train, \n",
    "                  \"y\": y_train}, \n",
    "        \"eval\": {\"x\": x_eval, \n",
    "                 \"y\": y_eval}}\n",
    "\n",
    "pipeline = fe.Pipeline(batch_size=batch_size, data=data, ops=Minmax(inputs=\"x\", outputs=\"x2\"))"
   ]
  },
  {
   "cell_type": "markdown",
   "metadata": {},
   "source": [
    "### Validate The Input Pipeline\n",
    "Once the pipeline was created, it is better to validate it with pipeline method, **show_results**, which will return a sample batch of pipeline data that give you a clue of how it works.  \n",
    "\n",
    "Because the pipeline has two different modes, \"train\" and \"eval\", we can take a looks of both examples."
   ]
  },
  {
   "cell_type": "code",
   "execution_count": 5,
   "metadata": {},
   "outputs": [
    {
     "name": "stdout",
     "output_type": "stream",
     "text": [
      "the shape of train image batch is (64, 32, 32, 3)\n",
      "the shape of train label batch is (64, 1)\n",
      "the shape of eval image batch is (64, 32, 32, 3)\n",
      "the shape of eval label batch is (64, 1)\n"
     ]
    },
    {
     "data": {
      "image/png": "[encoded data removed]",
      "text/plain": [
       "<Figure size 432x288 with 2 Axes>"
      ]
     },
     "metadata": {
      "needs_background": "light"
     },
     "output_type": "display_data"
    }
   ],
   "source": [
    "fig, ax = plt.subplots(1,2)\n",
    "train_sample = pipeline.show_results(mode=\"train\")\n",
    "print(\"the shape of train image batch is {}\".format(train_sample[0][\"x\"].numpy().shape))\n",
    "print(\"the shape of train label batch is {}\".format(train_sample[0][\"y\"].numpy().shape))\n",
    "ax[0].imshow(train_sample[0][\"x\"].numpy()[0])\n",
    "ax[0].set_title(\"the first image in train batch\")\n",
    "                \n",
    "eval_sample = pipeline.show_results(mode=\"eval\")\n",
    "print(\"the shape of eval image batch is {}\".format(eval_sample[0][\"x\"].numpy().shape))\n",
    "print(\"the shape of eval label batch is {}\".format(eval_sample[0][\"y\"].numpy().shape))\n",
    "ax[1].imshow(eval_sample[0][\"x\"].numpy()[0])\n",
    "ax[1].set_title(\"the first image in eval batch\")\n",
    "plt.show()"
   ]
  },
  {
   "cell_type": "markdown",
   "metadata": {},
   "source": [
    "### Validate The Pipeline Output\n",
    "There are totally three keys in the pipeline \n",
    "1. \"y\": the label\n",
    "2. \"x\": the input image \n",
    "3. \"x2\": the processed output image.\n",
    "In the previous example we only validate the input image. We still need to validate the processed output image, since it will be the actual input data source for the network after all. <br/>\n",
    "\n",
    "The image process chain only has Minmax operation, which will map the minimum pixel value to 0 and maximum to 1."
   ]
  },
  {
   "cell_type": "code",
   "execution_count": 6,
   "metadata": {},
   "outputs": [
    {
     "name": "stdout",
     "output_type": "stream",
     "text": [
      "In train_sample[\"x\"] the max is 255, the min is 0\n",
      "In train_sample[\"x2\"] the max is 1.0, the min is 0.0\n",
      "In eval_sample[\"x\"] the max is 255, the min is 0\n",
      "In eval_sample[\"x2\"] the max is 1.0, the min is 0.0\n"
     ]
    }
   ],
   "source": [
    "print(\"In train_sample[\\\"x\\\"] the max is {}, the min is {}\".format(np.max(train_sample[0][\"x\"].numpy()), np.min(train_sample[0][\"x\"].numpy())))\n",
    "print(\"In train_sample[\\\"x2\\\"] the max is {}, the min is {}\".format(np.max(train_sample[0][\"x2\"].numpy()), np.min(train_sample[0][\"x2\"].numpy())))\n",
    "print(\"In eval_sample[\\\"x\\\"] the max is {}, the min is {}\".format(np.max(eval_sample[0][\"x\"].numpy()), np.min(eval_sample[0][\"x\"].numpy())))\n",
    "print(\"In eval_sample[\\\"x2\\\"] the max is {}, the min is {}\".format(np.max(eval_sample[0][\"x2\"].numpy()), np.min(eval_sample[0][\"x2\"].numpy())))"
   ]
  },
  {
   "cell_type": "markdown",
   "metadata": {},
   "source": [
    "## Step2: Create FastEstimator `Network` \n",
    "`Network` is the object that define the whole logic of neural network, including models, loss functions, optimizers ... etc. \n",
    "A Network can have several different models and loss funcitons (like GAN), but in this case, we are going to build a single model network.   \n",
    "\n",
    "### Define Keras Model Function\n",
    "The Model architecture of Fastestimator is defined by Tensorflow API (Keras). Here we used the pre-defined Keras function for building DensNet-121, and follow it by the custom layer to make it fit the Cifar10 dataset.   \n"
   ]
  },
  {
   "cell_type": "code",
   "execution_count": 7,
   "metadata": {},
   "outputs": [],
   "source": [
    "from tensorflow.keras.applications.densenet import DenseNet121 \n",
    "from tensorflow.keras.layers import Dense, Input\n",
    "\n",
    "def DenseNet121_cifar10():\n",
    "    inputs = Input((32,32,3))\n",
    "    x = DenseNet121(weights=None, input_shape=(32,32,3), include_top=False, pooling='avg')(inputs)\n",
    "    outputs = Dense(10, activation='softmax')(x)\n",
    "    model = tf.keras.Model(inputs=inputs, outputs=outputs)\n",
    "    return model"
   ]
  },
  {
   "cell_type": "markdown",
   "metadata": {},
   "source": [
    "### Compile model\n",
    "Here We compile models with `fe.build`, which has four arguments:\n",
    "* **model_def**: The model definition function.\n",
    "* **model_name**: The name of the model. It will be used when storing the model. \n",
    "* **optimizer**: The optimizer. It can either be str or tf.optimizers object. \n",
    "* **loss_name**: The name of the loss. Pleas be aware it is the dictionary key name and will be used in `Network` definition.\n"
   ]
  },
  {
   "cell_type": "code",
   "execution_count": 8,
   "metadata": {},
   "outputs": [],
   "source": [
    "from fastestimator.op.tensorop import ModelOp, SparseCategoricalCrossentropy\n",
    "\n",
    "model = fe.build(model_def=DenseNet121_cifar10, \n",
    "                model_name=\"densenet121\", \n",
    "                optimizer=\"adam\", \n",
    "                loss_name=\"loss\")"
   ]
  },
  {
   "cell_type": "markdown",
   "metadata": {},
   "source": [
    "### Define `Network` from `FEMode`\n",
    "So far we already have `FEmodel` and `Pipeline`, but how those networks connect to each other is still not defined yet.\n",
    "`Network` API is created for this reason. Its input argument is a list of operations each have IO \"keys\". By sharing the keys, those operations can connect in the way you like."
   ]
  },
  {
   "cell_type": "code",
   "execution_count": 9,
   "metadata": {},
   "outputs": [],
   "source": [
    "network = fe.Network(ops=[\n",
    "    ModelOp(inputs=\"x2\", model=model, outputs=\"y_pred\"), \n",
    "    SparseCategoricalCrossentropy(y_true=\"y\", y_pred=\"y_pred\", outputs=\"loss\"),\n",
    "])"
   ]
  },
  {
   "cell_type": "markdown",
   "metadata": {},
   "source": [
    "The network will connect like the following graph \n",
    "<img src=\"network_workflow.png\">"
   ]
  },
  {
   "cell_type": "markdown",
   "metadata": {},
   "source": [
    "## Step 3: Create `Estimator` \n",
    "`Estimator` is the APi that wrap up the `Pipeline`, `Network` and other training metadata together.\n",
    "The `Estimator` basically have 4 arguments:\n",
    "* **pipeline**: the pipeline\n",
    "* **network** the network\n",
    "* **epoch** the epoch number of training\n",
    "* **traces** the list of `trace` object. They are pretty like the callbacks of Keras. The trace object will be called on specific timing during the training. Here we used **Accuracy** for getting model accuracy, **ModelSaver** for saving the best model checkpoint, and **LRController** for adapting learning rate. \n"
   ]
  },
  {
   "cell_type": "code",
   "execution_count": 14,
   "metadata": {},
   "outputs": [],
   "source": [
    "import tempfile\n",
    "from fastestimator.trace import Accuracy, ModelSaver, LRController, TensorBoard\n",
    "\n",
    "save_dir = tempfile.mkdtemp()\n",
    "\n",
    "estimator = fe.Estimator(\n",
    "    network=network,\n",
    "    pipeline=pipeline,\n",
    "    epochs=epochs,\n",
    "    steps_per_epoch=steps_per_epoch,\n",
    "    validation_steps=validation_steps,\n",
    "    traces=[\n",
    "        Accuracy(true_key=\"y\", pred_key=\"y_pred\"),\n",
    "        ModelSaver(model_name=\"densenet121\", save_dir=save_dir, save_best=True),\n",
    "        LRController(model_name=\"densenet121\", reduce_on_eval=True)\n",
    "    ])"
   ]
  },
  {
   "cell_type": "markdown",
   "metadata": {},
   "source": [
    "## Start Training\n",
    "We use `Estimator` method **fit** to train the model. "
   ]
  },
  {
   "cell_type": "code",
   "execution_count": null,
   "metadata": {},
   "outputs": [],
   "source": [
    "estimator.fit()"
   ]
  },
  {
   "cell_type": "markdown",
   "metadata": {},
   "source": [
    "## Validate Model\n",
    "After we trained the model, we might want to validate the model by running inference on evaluation datasets. Because FE so far doesn't support doing inference using estimator, We ues Keras API. \n",
    "\n",
    "First load the keras model (storing by **ModelSaver**)     "
   ]
  },
  {
   "cell_type": "code",
   "execution_count": 11,
   "metadata": {},
   "outputs": [],
   "source": [
    "import os\n",
    "model_path = os.path.join(save_dir, 'densenet121_best_loss.h5')\n",
    "trained_model = tf.keras.models.load_model(model_path, compile=False)"
   ]
  },
  {
   "cell_type": "markdown",
   "metadata": {},
   "source": [
    "Because the keras model doesn't include the data preprocessing pipeline, we cannot ingest the raw dataset to the model. Instead, we need to create the same pipeline again with batch size equal to whole evaluation dataset and feed the processed to the keras model. "
   ]
  },
  {
   "cell_type": "code",
   "execution_count": 28,
   "metadata": {},
   "outputs": [
    {
     "name": "stdout",
     "output_type": "stream",
     "text": [
      "the evaluation accuracy is 0.7518\n"
     ]
    }
   ],
   "source": [
    "pipeline = fe.Pipeline(batch_size=10000, data=data, ops=Minmax(inputs=\"x\", outputs=\"x2\"))\n",
    "eval_sample = pipeline.show_results(mode=\"eval\")\n",
    "x_input = eval_sample[0][\"x2\"].numpy()\n",
    "y_input = eval_sample[0][\"y\"].numpy()\n",
    "y_output = trained_model.predict(x_input)\n",
    "y_predict = np.argmax(y_output, axis=1).reshape(-1,1)\n",
    "print(\"the evaluation accuracy is {}\".format(np.count_nonzero((y_input == y_predict))/y_predict.shape[0]))"
   ]
  },
  {
   "cell_type": "markdown",
   "metadata": {},
   "source": [
    "Let's have a look as a random inference sample"
   ]
  },
  {
   "cell_type": "code",
   "execution_count": 29,
   "metadata": {},
   "outputs": [
    {
     "name": "stdout",
     "output_type": "stream",
     "text": [
      "the ground truth label is [1], and the prediction is [1]\n"
     ]
    },
    {
     "data": {
      "image/png": "[encoded data removed]",
      "text/plain": [
       "<Figure size 432x288 with 1 Axes>"
      ]
     },
     "metadata": {
      "needs_background": "light"
     },
     "output_type": "display_data"
    }
   ],
   "source": [
    "rand_int = np.random.randint(10000)\n",
    "fig, ax = plt.subplots()\n",
    "ax.imshow(x_input[rand_int])\n",
    "ax.set_title(\"the input image\")\n",
    "print(\"the ground truth label is {}, and the prediction is {}\".format(y_input[rand_int], y_predict[rand_int]))"
   ]
  }
 ],
 "metadata": {
  "file_extension": ".py",
  "kernelspec": {
   "display_name": "Python 3",
   "language": "python",
   "name": "python3"
  },
  "language_info": {
   "codemirror_mode": {
    "name": "ipython",
    "version": 3
   },
   "file_extension": ".py",
   "mimetype": "text/x-python",
   "name": "python",
   "nbconvert_exporter": "python",
   "pygments_lexer": "ipython3",
   "version": "3.6.6"
  },
  "mimetype": "text/x-python",
  "name": "python",
  "npconvert_exporter": "python",
  "pygments_lexer": "ipython3",
  "version": 3
 },
 "nbformat": 4,
 "nbformat_minor": 2
}