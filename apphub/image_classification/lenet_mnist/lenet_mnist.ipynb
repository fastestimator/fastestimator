{
 "cells": [
  {
   "cell_type": "markdown",
   "metadata": {},
   "source": [
    "# MNIST Image Classification Using LeNet"
   ]
  },
  {
   "cell_type": "markdown",
   "metadata": {},
   "source": [
    "In this tutorial, we are going to walk through the logic in `lenet_mnist.py` shown below and provide step-by-step instructions."
   ]
  },
  {
   "cell_type": "code",
   "execution_count": 1,
   "metadata": {},
   "outputs": [
    {
     "name": "stdout",
     "output_type": "stream",
     "text": [
      "# Copyright 2019 The FastEstimator Authors. All Rights Reserved.\r\n",
      "#\r\n",
      "# Licensed under the Apache License, Version 2.0 (the \"License\");\r\n",
      "# you may not use this file except in compliance with the License.\r\n",
      "# You may obtain a copy of the License at\r\n",
      "#\r\n",
      "#     http://www.apache.org/licenses/LICENSE-2.0\r\n",
      "#\r\n",
      "# Unless required by applicable law or agreed to in writing, software\r\n",
      "# distributed under the License is distributed on an \"AS IS\" BASIS,\r\n",
      "# WITHOUT WARRANTIES OR CONDITIONS OF ANY KIND, either express or implied.\r\n",
      "# See the License for the specific language governing permissions and\r\n",
      "# limitations under the License.\r\n",
      "# ==============================================================================\r\n",
      "import tempfile\r\n",
      "\r\n",
      "import numpy as np\r\n",
      "import tensorflow as tf\r\n",
      "\r\n",
      "import fastestimator as fe\r\n",
      "from fastestimator.architecture import LeNet\r\n",
      "from fastestimator.op.tensorop import Minmax, ModelOp, SparseCategoricalCrossentropy\r\n",
      "from fastestimator.trace import Accuracy, ModelSaver\r\n",
      "\r\n",
      "\r\n",
      "def get_estimator(epochs=2, batch_size=32, steps_per_epoch=None, validation_steps=None, model_dir=tempfile.mkdtemp()):\r\n",
      "    # step 1. prepare data\r\n",
      "    (x_train, y_train), (x_eval, y_eval) = tf.keras.datasets.mnist.load_data()\r\n",
      "    train_data = {\"x\": np.expand_dims(x_train, -1), \"y\": y_train}\r\n",
      "    eval_data = {\"x\": np.expand_dims(x_eval, -1), \"y\": y_eval}\r\n",
      "    data = {\"train\": train_data, \"eval\": eval_data}\r\n",
      "    pipeline = fe.Pipeline(batch_size=batch_size, data=data, ops=Minmax(inputs=\"x\", outputs=\"x\"))\r\n",
      "\r\n",
      "    # step 2. prepare model\r\n",
      "    model = fe.build(model_def=LeNet, model_name=\"lenet\", optimizer=\"adam\", loss_name=\"loss\")\r\n",
      "\r\n",
      "    network = fe.Network(ops=[\r\n",
      "        ModelOp(inputs=\"x\", model=model, outputs=\"y_pred\"),\r\n",
      "        SparseCategoricalCrossentropy(inputs=(\"y\", \"y_pred\"), outputs=\"loss\")\r\n",
      "    ])\r\n",
      "\r\n",
      "    # step 3.prepare estimator\r\n",
      "    traces = [\r\n",
      "        Accuracy(true_key=\"y\", pred_key=\"y_pred\", output_name='acc'),\r\n",
      "        ModelSaver(model_name=\"lenet\", save_dir=model_dir, save_best=True)\r\n",
      "    ]\r\n",
      "    estimator = fe.Estimator(network=network,\r\n",
      "                             pipeline=pipeline,\r\n",
      "                             epochs=epochs,\r\n",
      "                             traces=traces,\r\n",
      "                             steps_per_epoch=steps_per_epoch,\r\n",
      "                             validation_steps=validation_steps)\r\n",
      "    return estimator\r\n",
      "\r\n",
      "\r\n",
      "if __name__ == \"__main__\":\r\n",
      "    est = get_estimator()\r\n",
      "    est.fit()\r\n"
     ]
    }
   ],
   "source": [
    "!cat lenet_mnist.py"
   ]
  },
  {
   "cell_type": "markdown",
   "metadata": {},
   "source": [
    "## Step 1: Prepare training and evaluation dataset, create FastEstimator `Pipeline`"
   ]
  },
  {
   "cell_type": "markdown",
   "metadata": {},
   "source": [
    "`Pipeline` can take both data in memory and data in disk. In this example, we are going to use data in memory by loading data with `tf.keras.datasets.mnist`"
   ]
  },
  {
   "cell_type": "code",
   "execution_count": 2,
   "metadata": {},
   "outputs": [
    {
     "name": "stdout",
     "output_type": "stream",
     "text": [
      "train image shape is (60000, 28, 28)\n",
      "train label shape is (60000,)\n",
      "eval image shape is (10000, 28, 28)\n",
      "eval label shape is (10000,)\n"
     ]
    }
   ],
   "source": [
    "import tensorflow as tf\n",
    "(x_train, y_train), (x_eval, y_eval) = tf.keras.datasets.mnist.load_data()\n",
    "print(\"train image shape is {}\".format(x_train.shape))\n",
    "print(\"train label shape is {}\".format(y_train.shape))\n",
    "print(\"eval image shape is {}\".format(x_eval.shape))\n",
    "print(\"eval label shape is {}\".format(y_eval.shape))"
   ]
  },
  {
   "cell_type": "markdown",
   "metadata": {},
   "source": [
    "The convolution layer requires channel dimension (batch, height, width, channel), therefore, we need to expand the training image and evaluation image by one dimension:"
   ]
  },
  {
   "cell_type": "code",
   "execution_count": 3,
   "metadata": {},
   "outputs": [
    {
     "name": "stdout",
     "output_type": "stream",
     "text": [
      "train image shape is (60000, 28, 28, 1)\n",
      "eval image shape is (10000, 28, 28, 1)\n"
     ]
    }
   ],
   "source": [
    "import numpy as np\n",
    "x_train = np.expand_dims(x_train, -1)\n",
    "x_eval = np.expand_dims(x_eval, -1)\n",
    "print(\"train image shape is {}\".format(x_train.shape))\n",
    "print(\"eval image shape is {}\".format(x_eval.shape))"
   ]
  },
  {
   "cell_type": "markdown",
   "metadata": {},
   "source": [
    "For in-memory data in `Pipeline`, the data format should be a nested dictionary like: {\"mode1\": {\"feature1\": numpy_array, \"feature2\": numpy_array, ...}, ...}. Each `mode` can be either `train` or `eval`, in our case, we have both `train` and `eval`.  `feature` is the feature name, in our case, we have `x` and `y`."
   ]
  },
  {
   "cell_type": "code",
   "execution_count": 4,
   "metadata": {},
   "outputs": [],
   "source": [
    "data = {\"train\": {\"x\": x_train, \"y\": y_train}, \"eval\": {\"x\": x_eval, \"y\": y_eval}}"
   ]
  },
  {
   "cell_type": "code",
   "execution_count": 5,
   "metadata": {
    "tags": [
     "parameters"
    ]
   },
   "outputs": [],
   "source": [
    "#Parameters\n",
    "epochs = 2\n",
    "batch_size = 32\n",
    "steps_per_epoch = None\n",
    "validation_steps = None"
   ]
  },
  {
   "cell_type": "markdown",
   "metadata": {},
   "source": [
    "Now we are ready to define `Pipeline`, we want to apply a `Minmax` online preprocessing to the image feature `x` for both training and evaluation:"
   ]
  },
  {
   "cell_type": "code",
   "execution_count": 6,
   "metadata": {},
   "outputs": [],
   "source": [
    "import fastestimator as fe\n",
    "from fastestimator.op.tensorop import Minmax\n",
    "pipeline = fe.Pipeline(batch_size=batch_size, data=data, ops=Minmax(inputs=\"x\", outputs=\"x\"))"
   ]
  },
  {
   "cell_type": "markdown",
   "metadata": {},
   "source": [
    "## Step 2: Prepare model, create FastEstimator `Network`"
   ]
  },
  {
   "cell_type": "markdown",
   "metadata": {},
   "source": [
    "First, we have to define the network architecture in `tf.keras.Model` or `tf.keras.Sequential`, for a popular architecture like LeNet, FastEstimator has it implemented already in [fastestimator.architecture.lenet](https://github.com/fastestimator/fastestimator/blob/master/fastestimator/architecture/lenet.py).  After defining the architecture, users are expected to feed the architecture definition and its associated model name, optimizer and loss name (default to be 'loss') to `FEModel`."
   ]
  },
  {
   "cell_type": "code",
   "execution_count": 7,
   "metadata": {},
   "outputs": [],
   "source": [
    "from fastestimator.architecture import LeNet\n",
    "model = fe.build(model_def=LeNet, model_name=\"lenet\", optimizer=\"adam\", loss_name=\"loss\")"
   ]
  },
  {
   "cell_type": "markdown",
   "metadata": {},
   "source": [
    "Now we are ready to define the `Network`: given with a batch data with key `x` and `y`, we have to work our way to `loss` with series of operators.  `ModelOp` is an operator that contains a model."
   ]
  },
  {
   "cell_type": "code",
   "execution_count": 8,
   "metadata": {},
   "outputs": [],
   "source": [
    "from fastestimator.op.tensorop import ModelOp, SparseCategoricalCrossentropy\n",
    "network = fe.Network(ops=[ModelOp(inputs=\"x\", model=model, outputs=\"y_pred\"), \n",
    "                          SparseCategoricalCrossentropy(y_pred=\"y_pred\", y_true=\"y\", outputs=\"loss\")])"
   ]
  },
  {
   "cell_type": "markdown",
   "metadata": {},
   "source": [
    "## Step 3: Configure training, create `Estimator`"
   ]
  },
  {
   "cell_type": "markdown",
   "metadata": {},
   "source": [
    "During the training loop, we want to: 1) measure accuracy for data data 2) save the model with lowest valdiation loss. `Trace` class is used for anything related to training loop, we will need to import the `Accuracy` and `ModelSaver` trace."
   ]
  },
  {
   "cell_type": "code",
   "execution_count": 9,
   "metadata": {},
   "outputs": [],
   "source": [
    "import tempfile\n",
    "from fastestimator.trace import Accuracy, ModelSaver\n",
    "save_dir = tempfile.mkdtemp()\n",
    "traces = [Accuracy(true_key=\"y\", pred_key=\"y_pred\", output_name='acc'),\n",
    "          ModelSaver(model_name=\"lenet\", save_dir=save_dir, save_best=True)]"
   ]
  },
  {
   "cell_type": "markdown",
   "metadata": {},
   "source": [
    "Now we can define the `Estimator` and specify the training configuation:"
   ]
  },
  {
   "cell_type": "code",
   "execution_count": 10,
   "metadata": {},
   "outputs": [],
   "source": [
    "estimator = fe.Estimator(network=network, \n",
    "                         pipeline=pipeline, \n",
    "                         epochs=epochs, \n",
    "                         steps_per_epoch=steps_per_epoch,\n",
    "                         validation_steps=validation_steps,\n",
    "                         traces=traces)"
   ]
  },
  {
   "cell_type": "markdown",
   "metadata": {},
   "source": [
    "## Start Training"
   ]
  },
  {
   "cell_type": "code",
   "execution_count": 11,
   "metadata": {},
   "outputs": [
    {
     "name": "stdout",
     "output_type": "stream",
     "text": [
      "    ______           __  ______     __  _                 __            \n",
      "   / ____/___ ______/ /_/ ____/____/ /_(_)___ ___  ____ _/ /_____  _____\n",
      "  / /_  / __ `/ ___/ __/ __/ / ___/ __/ / __ `__ \\/ __ `/ __/ __ \\/ ___/\n",
      " / __/ / /_/ (__  ) /_/ /___(__  ) /_/ / / / / / / /_/ / /_/ /_/ / /    \n",
      "/_/    \\__,_/____/\\__/_____/____/\\__/_/_/ /_/ /_/\\__,_/\\__/\\____/_/     \n",
      "                                                                        \n",
      "\n",
      "FastEstimator-Start: step: 0; total_train_steps: 3750; lenet_lr: 0.001; \n",
      "FastEstimator-Train: step: 0; loss: 2.3004544; \n",
      "FastEstimator-Train: step: 100; loss: 0.4547442; examples/sec: 8394.6; progress: 2.7%; \n",
      "FastEstimator-Train: step: 200; loss: 0.2030383; examples/sec: 9686.5; progress: 5.3%; \n",
      "FastEstimator-Train: step: 300; loss: 0.080203; examples/sec: 10258.1; progress: 8.0%; \n",
      "FastEstimator-Train: step: 400; loss: 0.062838; examples/sec: 10273.1; progress: 10.7%; \n",
      "FastEstimator-Train: step: 500; loss: 0.0470703; examples/sec: 10405.2; progress: 13.3%; \n",
      "FastEstimator-Train: step: 600; loss: 0.0467158; examples/sec: 10365.5; progress: 16.0%; \n",
      "FastEstimator-Train: step: 700; loss: 0.1392532; examples/sec: 10417.7; progress: 18.7%; \n",
      "FastEstimator-Train: step: 800; loss: 0.0294086; examples/sec: 10402.9; progress: 21.3%; \n",
      "FastEstimator-Train: step: 900; loss: 0.0149032; examples/sec: 10410.5; progress: 24.0%; \n",
      "FastEstimator-Train: step: 1000; loss: 0.014766; examples/sec: 10409.2; progress: 26.7%; \n",
      "FastEstimator-Train: step: 1100; loss: 0.0175161; examples/sec: 10416.7; progress: 29.3%; \n",
      "FastEstimator-Train: step: 1200; loss: 0.137861; examples/sec: 10400.5; progress: 32.0%; \n",
      "FastEstimator-Train: step: 1300; loss: 0.0222877; examples/sec: 10348.9; progress: 34.7%; \n",
      "FastEstimator-Train: step: 1400; loss: 0.0604208; examples/sec: 10269.0; progress: 37.3%; \n",
      "FastEstimator-Train: step: 1500; loss: 0.0122311; examples/sec: 10336.3; progress: 40.0%; \n",
      "FastEstimator-Train: step: 1600; loss: 0.0271783; examples/sec: 10260.6; progress: 42.7%; \n",
      "FastEstimator-Train: step: 1700; loss: 0.0319622; examples/sec: 10456.0; progress: 45.3%; \n",
      "FastEstimator-Train: step: 1800; loss: 0.2342918; examples/sec: 10406.9; progress: 48.0%; \n",
      "FastEstimator-ModelSaver: Saving model to /tmp/tmpn6p2rxgv/lenet_best_loss.h5\n",
      "FastEstimator-Eval: step: 1875; epoch: 0; loss: 0.0433409; min_loss: 0.043340884; since_best_loss: 0; acc: 0.9864783653846154; \n",
      "FastEstimator-Train: step: 1900; loss: 0.0049661; examples/sec: 6542.9; progress: 50.7%; \n",
      "FastEstimator-Train: step: 2000; loss: 0.0115767; examples/sec: 10326.6; progress: 53.3%; \n",
      "FastEstimator-Train: step: 2100; loss: 0.0116386; examples/sec: 10426.1; progress: 56.0%; \n",
      "FastEstimator-Train: step: 2200; loss: 0.054707; examples/sec: 10326.3; progress: 58.7%; \n",
      "FastEstimator-Train: step: 2300; loss: 0.0158905; examples/sec: 10360.3; progress: 61.3%; \n",
      "FastEstimator-Train: step: 2400; loss: 0.0638738; examples/sec: 10149.9; progress: 64.0%; \n",
      "FastEstimator-Train: step: 2500; loss: 0.286301; examples/sec: 10118.9; progress: 66.7%; \n",
      "FastEstimator-Train: step: 2600; loss: 0.0601029; examples/sec: 10180.6; progress: 69.3%; \n",
      "FastEstimator-Train: step: 2700; loss: 0.0307948; examples/sec: 10176.8; progress: 72.0%; \n",
      "FastEstimator-Train: step: 2800; loss: 0.0652389; examples/sec: 10125.9; progress: 74.7%; \n",
      "FastEstimator-Train: step: 2900; loss: 0.0344164; examples/sec: 10080.1; progress: 77.3%; \n",
      "FastEstimator-Train: step: 3000; loss: 0.0116467; examples/sec: 10137.8; progress: 80.0%; \n",
      "FastEstimator-Train: step: 3100; loss: 0.014677; examples/sec: 10032.5; progress: 82.7%; \n",
      "FastEstimator-Train: step: 3200; loss: 0.0106311; examples/sec: 10248.9; progress: 85.3%; \n",
      "FastEstimator-Train: step: 3300; loss: 0.0515876; examples/sec: 10233.6; progress: 88.0%; \n",
      "FastEstimator-Train: step: 3400; loss: 0.0042517; examples/sec: 10226.0; progress: 90.7%; \n",
      "FastEstimator-Train: step: 3500; loss: 0.0082832; examples/sec: 10434.6; progress: 93.3%; \n",
      "FastEstimator-Train: step: 3600; loss: 0.0010491; examples/sec: 10400.1; progress: 96.0%; \n",
      "FastEstimator-Train: step: 3700; loss: 0.0316844; examples/sec: 10317.0; progress: 98.7%; \n",
      "FastEstimator-ModelSaver: Saving model to /tmp/tmpn6p2rxgv/lenet_best_loss.h5\n",
      "FastEstimator-Eval: step: 3750; epoch: 1; loss: 0.0369802; min_loss: 0.03698016; since_best_loss: 0; acc: 0.9883814102564102; \n",
      "FastEstimator-Finish: step: 3750; total_time: 15.08 sec; lenet_lr: 0.001; \n"
     ]
    }
   ],
   "source": [
    "estimator.fit()"
   ]
  },
  {
   "cell_type": "markdown",
   "metadata": {},
   "source": [
    "## Inferencing"
   ]
  },
  {
   "cell_type": "markdown",
   "metadata": {},
   "source": [
    "After training, the model is saved to a temporary folder. we can load the model from file and do inferencing on a sample image."
   ]
  },
  {
   "cell_type": "code",
   "execution_count": 12,
   "metadata": {},
   "outputs": [],
   "source": [
    "import os\n",
    "model_path = os.path.join(save_dir, 'lenet_best_loss.h5')\n",
    "trained_model = tf.keras.models.load_model(model_path, compile=False)"
   ]
  },
  {
   "cell_type": "markdown",
   "metadata": {},
   "source": [
    "Randomly get one image from validation set and compare the ground truth with model prediction:"
   ]
  },
  {
   "cell_type": "code",
   "execution_count": 14,
   "metadata": {},
   "outputs": [
    {
     "name": "stdout",
     "output_type": "stream",
     "text": [
      "test image idx 565, ground truth: 4\n",
      "model predicted class is 4\n"
     ]
    },
    {
     "data": {
      "image/png": "[encoded data removed]",
      "text/plain": [
       "<Figure size 432x288 with 1 Axes>"
      ]
     },
     "metadata": {
      "needs_background": "light"
     },
     "output_type": "display_data"
    }
   ],
   "source": [
    "from fastestimator.xai import show_image\n",
    "\n",
    "selected_idx = np.random.randint(10000)\n",
    "print(\"test image idx {}, ground truth: {}\".format(selected_idx, y_eval[selected_idx]))\n",
    "show_image(x_eval[selected_idx])\n",
    "\n",
    "test_image = x_eval[selected_idx]\n",
    "test_image = np.expand_dims(test_image, 0)\n",
    "prediction_score = trained_model.predict(test_image)\n",
    "print(\"model predicted class is {}\".format(np.argmax(prediction_score)))"
   ]
  },
  {
   "cell_type": "code",
   "execution_count": null,
   "metadata": {},
   "outputs": [],
   "source": []
  }
 ],
 "metadata": {
  "kernelspec": {
   "display_name": "Python 3",
   "language": "python",
   "name": "python3"
  },
  "language_info": {
   "codemirror_mode": {
    "name": "ipython",
    "version": 3
   },
   "file_extension": ".py",
   "mimetype": "text/x-python",
   "name": "python",
   "nbconvert_exporter": "python",
   "pygments_lexer": "ipython3",
   "version": "3.6.6"
  }
 },
 "nbformat": 4,
 "nbformat_minor": 4
}
