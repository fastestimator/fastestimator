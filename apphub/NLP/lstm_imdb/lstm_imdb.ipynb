{
 "cells": [
  {
   "cell_type": "markdown",
   "metadata": {},
   "source": [
    "# IMDB Reviews Sentiments prediction with LSTM"
   ]
  },
  {
   "cell_type": "code",
   "execution_count": 11,
   "metadata": {},
   "outputs": [],
   "source": [
    "import os\n",
    "import warnings\n",
    "import numpy as np\n",
    "import tensorflow as tf\n",
    "import tempfile\n",
    "import fastestimator as fe\n",
    "\n",
    "from tensorflow.python.keras import layers\n",
    "from fastestimator.op.tensorop import BinaryCrossentropy, ModelOp, Reshape\n",
    "from fastestimator.trace import Accuracy, ModelSaver\n",
    "warnings.filterwarnings('ignore')"
   ]
  },
  {
   "cell_type": "markdown",
   "metadata": {},
   "source": [
    "For this example we are defining the vocabulary size to 10000 and maximum sequence length to 500. That can also be changed later on as hyperparameters."
   ]
  },
  {
   "cell_type": "code",
   "execution_count": 54,
   "metadata": {
    "tags": [
     "parameters"
    ]
   },
   "outputs": [],
   "source": [
    "MAX_WORDS = 10000\n",
    "MAX_LEN = 500\n",
    "batch_size = 64\n",
    "epochs = 10\n",
    "steps_per_epoch=None"
   ]
  },
  {
   "cell_type": "markdown",
   "metadata": {},
   "source": [
    "## Step 1 : Prepare training and evaluation dataset, define FastEstimator Pipeline"
   ]
  },
  {
   "cell_type": "markdown",
   "metadata": {},
   "source": [
    "We are loading the dataset from the tf.keras.datasets.imdb which contains movie reviews and sentiment scores.\n",
    "All the words have been replaced with the integers that specifies the popularity of the word in corpus. To ensure all the sequences are of same length we need to pad the input sequences before defining the Pipeline."
   ]
  },
  {
   "cell_type": "code",
   "execution_count": 55,
   "metadata": {},
   "outputs": [],
   "source": [
    "def pad(input_list, padding_size, padding_value):\n",
    "    return input_list + [padding_value] * abs((len(input_list) - padding_size))"
   ]
  },
  {
   "cell_type": "code",
   "execution_count": 63,
   "metadata": {},
   "outputs": [],
   "source": [
    "#load the data and pad the sequences\n",
    "(x_train, y_train), (x_eval, y_eval) = tf.keras.datasets.imdb.load_data(maxlen=MAX_LEN, num_words=MAX_WORDS)\n",
    "data = {\n",
    "        \"train\": {\n",
    "            \"x\": np.array([pad(x, MAX_LEN, 0) for x in x_train]),\n",
    "            \"y\": y_train\n",
    "        },\n",
    "        \"eval\": {\n",
    "            \"x\": np.array([pad(x, MAX_LEN, 0) for x in x_eval]),\n",
    "            \"y\": y_eval\n",
    "        }\n",
    "    }"
   ]
  },
  {
   "cell_type": "markdown",
   "metadata": {},
   "source": [
    "Now, we can define the Pipeline passing the batch size and data dictionary. We need to reshape the groud truth from (batch_size,) to (batch_size, 1) "
   ]
  },
  {
   "cell_type": "code",
   "execution_count": 64,
   "metadata": {},
   "outputs": [],
   "source": [
    "pipeline = fe.Pipeline(batch_size=batch_size, data=data, ops=Reshape([1], inputs=\"y\", outputs=\"y\"))"
   ]
  },
  {
   "cell_type": "markdown",
   "metadata": {},
   "source": [
    "## Step 2: Create model and FastEstimator Network"
   ]
  },
  {
   "cell_type": "markdown",
   "metadata": {},
   "source": [
    "Following function define the architecture of the model. Model consists of one dimensional convolution layers and LSTM layers to handle longer sequences. The architecture definition needs to be fed into FEModel along with model name and optimizer."
   ]
  },
  {
   "cell_type": "code",
   "execution_count": 65,
   "metadata": {},
   "outputs": [],
   "source": [
    "def create_lstm():\n",
    "    model = tf.keras.Sequential()\n",
    "    model.add(layers.Embedding(MAX_WORDS, 64, input_length=MAX_LEN))\n",
    "    model.add(layers.Conv1D(32, 3, padding='same', activation='relu'))\n",
    "    model.add(layers.MaxPooling1D(pool_size=4))\n",
    "    model.add(layers.LSTM(64))\n",
    "    model.add(layers.Dense(250, activation='relu'))\n",
    "    model.add(layers.Dense(1, activation=\"sigmoid\"))\n",
    "    return model"
   ]
  },
  {
   "cell_type": "markdown",
   "metadata": {},
   "source": [
    "Next, fe.Network takes series of operators and here we feed our FEModel in the ModelOp with inputs and outputs. It should be noted that the <i>y_pred</i> is the key in the data dictionary which will store the predictions."
   ]
  },
  {
   "cell_type": "code",
   "execution_count": 66,
   "metadata": {},
   "outputs": [],
   "source": [
    "model = fe.build(model_def=create_lstm, model_name='lstm_imdb', optimizer='adam', loss_name=\"loss\")\n",
    "#define the network\n",
    "network = fe.Network(ops=[\n",
    "        ModelOp(inputs=\"x\", model=model, outputs=\"y_pred\"),\n",
    "                        BinaryCrossentropy(y_true=\"y\", y_pred=\"y_pred\", outputs=\"loss\")\n",
    "    ])"
   ]
  },
  {
   "cell_type": "markdown",
   "metadata": {},
   "source": [
    "## Step 3: Prepare estimator and configure the training loop"
   ]
  },
  {
   "cell_type": "markdown",
   "metadata": {},
   "source": [
    "In the training loop, we want to measure the validation loss and save the model that has the minimum loss. ModelSaver and Accuracy in the Trace class provide this convenient feature of storing the model."
   ]
  },
  {
   "cell_type": "code",
   "execution_count": 67,
   "metadata": {},
   "outputs": [],
   "source": [
    "save_dir = tempfile.mkdtemp()\n",
    "traces = [Accuracy(true_key=\"y\", pred_key=\"y_pred\", output_name='acc'),\n",
    "         ModelSaver(model_name=\"lstm_imdb\", save_dir=save_dir, save_best=True)]"
   ]
  },
  {
   "cell_type": "markdown",
   "metadata": {},
   "source": [
    "We can define the estimator specifying the traning configurations and fit the model."
   ]
  },
  {
   "cell_type": "code",
   "execution_count": 68,
   "metadata": {
    "scrolled": false
   },
   "outputs": [
    {
     "name": "stdout",
     "output_type": "stream",
     "text": [
      "    ______           __  ______     __  _                 __            \n",
      "   / ____/___ ______/ /_/ ____/____/ /_(_)___ ___  ____ _/ /_____  _____\n",
      "  / /_  / __ `/ ___/ __/ __/ / ___/ __/ / __ `__ \\/ __ `/ __/ __ \\/ ___/\n",
      " / __/ / /_/ (__  ) /_/ /___(__  ) /_/ / / / / / / /_/ / /_/ /_/ / /    \n",
      "/_/    \\__,_/____/\\__/_____/____/\\__/_/_/ /_/ /_/\\__,_/\\__/\\____/_/     \n",
      "                                                                        \n",
      "\n",
      "FastEstimator-Start: step: 0; lstm_imdb_lr: 0.001; \n",
      "FastEstimator-Train: step: 0; loss: 0.69305396; \n",
      "FastEstimator-Train: step: 100; loss: 0.6938611; examples/sec: 282.88; \n",
      "FastEstimator-Train: step: 200; loss: 0.69033676; examples/sec: 281.62; \n",
      "FastEstimator-Train: step: 300; loss: 0.69116277; examples/sec: 281.38; \n",
      "FastEstimator-ModelSaver: Saving model to /tmp/tmpp62tx_mo/lstm_imdb_best_loss.h5\n",
      "FastEstimator-Eval: step: 390; epoch: 0; loss: 0.6933217; min_loss: 0.6933217; since_best_loss: 0; acc: 0.5002866972477065; \n",
      "FastEstimator-Train: step: 400; loss: 0.68996346; examples/sec: 284.15; \n",
      "FastEstimator-Train: step: 500; loss: 0.685199; examples/sec: 280.54; \n",
      "FastEstimator-Train: step: 600; loss: 0.6882303; examples/sec: 282.36; \n",
      "FastEstimator-Train: step: 700; loss: 0.6894067; examples/sec: 283.31; \n",
      "FastEstimator-ModelSaver: Saving model to /tmp/tmpp62tx_mo/lstm_imdb_best_loss.h5\n",
      "FastEstimator-Eval: step: 780; epoch: 1; loss: 0.69284654; min_loss: 0.69284654; since_best_loss: 0; acc: 0.5004778287461774; \n",
      "FastEstimator-Train: step: 800; loss: 0.6506847; examples/sec: 282.83; \n",
      "FastEstimator-Train: step: 900; loss: 0.6101121; examples/sec: 283.67; \n",
      "FastEstimator-Train: step: 1000; loss: 0.6336422; examples/sec: 281.9; \n",
      "FastEstimator-Train: step: 1100; loss: 0.6927424; examples/sec: 282.06; \n",
      "FastEstimator-Eval: step: 1170; epoch: 2; loss: 0.69361174; min_loss: 0.69284654; since_best_loss: 1; acc: 0.5007645259938838; \n",
      "FastEstimator-Train: step: 1200; loss: 0.69265777; examples/sec: 282.35; \n",
      "FastEstimator-Train: step: 1300; loss: 0.69330865; examples/sec: 281.91; \n",
      "FastEstimator-Train: step: 1400; loss: 0.69188416; examples/sec: 282.89; \n",
      "FastEstimator-Train: step: 1500; loss: 0.69313705; examples/sec: 281.75; \n",
      "FastEstimator-Eval: step: 1560; epoch: 3; loss: 0.6930315; min_loss: 0.69284654; since_best_loss: 2; acc: 0.5016724006116208; \n",
      "FastEstimator-Train: step: 1600; loss: 0.69182134; examples/sec: 282.89; \n",
      "FastEstimator-Train: step: 1700; loss: 0.6928411; examples/sec: 284.61; \n",
      "FastEstimator-Train: step: 1800; loss: 0.6945957; examples/sec: 283.54; \n",
      "FastEstimator-Train: step: 1900; loss: 0.6318582; examples/sec: 282.7; \n",
      "FastEstimator-ModelSaver: Saving model to /tmp/tmpp62tx_mo/lstm_imdb_best_loss.h5\n",
      "FastEstimator-Eval: step: 1950; epoch: 4; loss: 0.67107046; min_loss: 0.67107046; since_best_loss: 0; acc: 0.6363723241590215; \n",
      "FastEstimator-Train: step: 2000; loss: 0.52976954; examples/sec: 283.98; \n",
      "FastEstimator-Train: step: 2100; loss: 0.45318574; examples/sec: 282.57; \n",
      "FastEstimator-Train: step: 2200; loss: 0.3254761; examples/sec: 281.66; \n",
      "FastEstimator-Train: step: 2300; loss: 0.3466739; examples/sec: 283.19; \n",
      "FastEstimator-ModelSaver: Saving model to /tmp/tmpp62tx_mo/lstm_imdb_best_loss.h5\n",
      "FastEstimator-Eval: step: 2340; epoch: 5; loss: 0.32227388; min_loss: 0.32227388; since_best_loss: 0; acc: 0.863914373088685; \n",
      "FastEstimator-Train: step: 2400; loss: 0.11920496; examples/sec: 284.43; \n",
      "FastEstimator-Train: step: 2500; loss: 0.22129074; examples/sec: 281.62; \n",
      "FastEstimator-Train: step: 2600; loss: 0.20771323; examples/sec: 281.38; \n",
      "FastEstimator-Train: step: 2700; loss: 0.14595208; examples/sec: 281.23; \n",
      "FastEstimator-ModelSaver: Saving model to /tmp/tmpp62tx_mo/lstm_imdb_best_loss.h5\n",
      "FastEstimator-Eval: step: 2730; epoch: 6; loss: 0.2933552; min_loss: 0.2933552; since_best_loss: 0; acc: 0.8814984709480123; \n",
      "FastEstimator-Train: step: 2800; loss: 0.25336945; examples/sec: 281.35; \n",
      "FastEstimator-Train: step: 2900; loss: 0.1818088; examples/sec: 281.76; \n",
      "FastEstimator-Train: step: 3000; loss: 0.22208795; examples/sec: 282.8; \n",
      "FastEstimator-Train: step: 3100; loss: 0.06210713; examples/sec: 281.12; \n",
      "FastEstimator-Eval: step: 3120; epoch: 7; loss: 0.32512212; min_loss: 0.2933552; since_best_loss: 1; acc: 0.8796349388379205; \n",
      "FastEstimator-Train: step: 3200; loss: 0.2310659; examples/sec: 284.48; \n",
      "FastEstimator-Train: step: 3300; loss: 0.13884558; examples/sec: 284.06; \n",
      "FastEstimator-Train: step: 3400; loss: 0.13467449; examples/sec: 283.21; \n",
      "FastEstimator-Train: step: 3500; loss: 0.17202829; examples/sec: 282.64; \n",
      "FastEstimator-Eval: step: 3510; epoch: 8; loss: 0.38850147; min_loss: 0.2933552; since_best_loss: 2; acc: 0.8814506880733946; \n",
      "FastEstimator-Train: step: 3600; loss: 0.011156767; examples/sec: 284.97; \n",
      "FastEstimator-Train: step: 3700; loss: 0.037162136; examples/sec: 280.97; \n",
      "FastEstimator-Train: step: 3800; loss: 0.047960296; examples/sec: 282.29; \n",
      "FastEstimator-Eval: step: 3900; epoch: 9; loss: 0.4227392; min_loss: 0.2933552; since_best_loss: 3; acc: 0.8783448012232415; \n",
      "FastEstimator-Finish: step: 3900; total_time: 1034.67 sec; lstm_imdb_lr: 0.001; \n"
     ]
    }
   ],
   "source": [
    "estimator = fe.Estimator(network=network, steps_per_epoch=steps_per_epoch, pipeline=pipeline, epochs=epochs,\n",
    "                             traces=traces)\n",
    "estimator.fit()"
   ]
  },
  {
   "cell_type": "markdown",
   "metadata": {},
   "source": [
    "## Inferencing"
   ]
  },
  {
   "cell_type": "markdown",
   "metadata": {},
   "source": [
    "The best model is stored in temporary directory. We can load the model and perform the inference on sampled sequence from evaluation set."
   ]
  },
  {
   "cell_type": "code",
   "execution_count": 69,
   "metadata": {},
   "outputs": [],
   "source": [
    "model_name = 'lstm_imdb_best_loss.h5'\n",
    "model_path = os.path.join(save_dir, model_name)\n",
    "trained_model = tf.keras.models.load_model(model_path, compile=False)"
   ]
  },
  {
   "cell_type": "markdown",
   "metadata": {},
   "source": [
    "Get any random sequence and compare the prediction with the ground truth."
   ]
  },
  {
   "cell_type": "code",
   "execution_count": 76,
   "metadata": {},
   "outputs": [
    {
     "name": "stdout",
     "output_type": "stream",
     "text": [
      "Ground truth is:  0\n",
      "Prediction for the input sequence:  [[0.01495596]]\n"
     ]
    }
   ],
   "source": [
    "selected_idx = np.random.randint(10000)\n",
    "print(\"Ground truth is: \",y_eval[selected_idx])\n",
    "padded_seq = np.array([pad(x_eval[selected_idx], MAX_LEN, 0)])\n",
    "prediction = trained_model.predict(padded_seq)\n",
    "print(\"Prediction for the input sequence: \",prediction)"
   ]
  },
  {
   "cell_type": "code",
   "execution_count": null,
   "metadata": {},
   "outputs": [],
   "source": []
  }
 ],
 "metadata": {
  "celltoolbar": "Tags",
  "kernelspec": {
   "display_name": "Python 3",
   "language": "python",
   "name": "python3"
  },
  "language_info": {
   "codemirror_mode": {
    "name": "ipython",
    "version": 3
   },
   "file_extension": ".py",
   "mimetype": "text/x-python",
   "name": "python",
   "nbconvert_exporter": "python",
   "pygments_lexer": "ipython3",
   "version": "3.6.8"
  }
 },
 "nbformat": 4,
 "nbformat_minor": 2
}
