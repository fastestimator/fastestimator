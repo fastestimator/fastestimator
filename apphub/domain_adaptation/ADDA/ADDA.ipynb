{
 "cells": [
  {
   "cell_type": "markdown",
   "metadata": {},
   "source": [
    "# Adversarial Discriminative Domain Adaptation (ADDA) in FastEstimator\n",
    "\n",
    "In this notebook we will demonstrate how to perform domain adaptation in FastEstimator.\n",
    "Specifically, we will demonstrate one of adversarial training based domain adaptation methods, [*Adversarial Discriminative Domain Adaptation (ADDA)*](https://arxiv.org/abs/1702.05464). \n",
    "\n",
    "We will look at how to adapt a digit classifier trained on MNIST dataset to another digit dataset, USPS dataset.\n",
    "The digit classifer is composed of a feature extractor network and a classifier."
   ]
  },
  {
   "cell_type": "code",
   "execution_count": 1,
   "metadata": {},
   "outputs": [],
   "source": [
    "import os\n",
    "import time\n",
    "\n",
    "import tensorflow as tf\n",
    "import numpy as np\n",
    "\n",
    "import fastestimator as fe"
   ]
  },
  {
   "cell_type": "markdown",
   "metadata": {},
   "source": [
    "## Input Data Pipeline\n",
    "We will first download the two datasets using our dataset api."
   ]
  },
  {
   "cell_type": "code",
   "execution_count": 2,
   "metadata": {},
   "outputs": [
    {
     "name": "stdout",
     "output_type": "stream",
     "text": [
      "Extracting /home/ubuntu/fastestimator_data/USPS/zip.train.gz\n",
      "Extracting /home/ubuntu/fastestimator_data/USPS/zip.test.gz\n"
     ]
    }
   ],
   "source": [
    "from fastestimator.dataset import mnist, usps\n",
    "from fastestimator.op.numpyop import ImageReader\n",
    "from fastestimator import RecordWriter\n",
    "usps_train_csv, usps_eval_csv, usps_parent_dir = usps.load_data()\n",
    "mnist_train_csv, mnist_eval_csv, mnist_parent_dir = mnist.load_data()"
   ]
  },
  {
   "cell_type": "code",
   "execution_count": null,
   "metadata": {
    "tags": [
     "parameters"
    ]
   },
   "outputs": [],
   "source": [
    "# parameters\n",
    "batch_size = 128\n",
    "epochs = 100\n",
    "model_path = os.path.join(os.getcwd(), \"feature_extractor.h5\")\n",
    "classifier_path = \"classifier.h5\""
   ]
  },
  {
   "cell_type": "markdown",
   "metadata": {},
   "source": [
    "The dataset api creates a train csv file with each row containing a relative path to a image and the class label.\n",
    "Two train csv files will have the same column names.\n",
    "We need to change these column names to unique name for our purpose."
   ]
  },
  {
   "cell_type": "code",
   "execution_count": 3,
   "metadata": {},
   "outputs": [],
   "source": [
    "import pandas as pd\n",
    "df = pd.read_csv(mnist_train_csv)\n",
    "df.columns = ['source_img', 'source_label']\n",
    "df.to_csv(mnist_train_csv, index=False)\n",
    "\n",
    "df = pd.read_csv(usps_train_csv)\n",
    "df.columns = ['target_img', 'target_label']\n",
    "df.to_csv(usps_train_csv, index=False)"
   ]
  },
  {
   "cell_type": "markdown",
   "metadata": {},
   "source": [
    "With the modified csv files, we can now create an input data pipeline that returns a batch from the MNIST dataset and the USPS dataset. \n",
    "#### Note that the input data pipeline created here is an unpaired dataset of the MNIST and the USPS."
   ]
  },
  {
   "cell_type": "code",
   "execution_count": 4,
   "metadata": {},
   "outputs": [],
   "source": [
    "from fastestimator.op.tensorop import Resize, Minmax\n",
    "\n",
    "writer = RecordWriter(save_dir=os.path.join(os.path.dirname(mnist_parent_dir), 'adda', 'tfr'),\n",
    "                      train_data=(usps_train_csv, mnist_train_csv),\n",
    "                      ops=(\n",
    "                          [ImageReader(inputs=\"target_img\", outputs=\"target_img\", parent_path=usps_parent_dir, grey_scale=True)], # first tuple element\n",
    "                          [ImageReader(inputs=\"source_img\", outputs=\"source_img\", parent_path=mnist_parent_dir, grey_scale=True)])) # second tuple element\n"
   ]
  },
  {
   "cell_type": "markdown",
   "metadata": {},
   "source": [
    "We apply the following preprocessing to both datasets:\n",
    "* Resize of images to $32\\times32$\n",
    "* Minmax pixel value normalization"
   ]
  },
  {
   "cell_type": "code",
   "execution_count": 5,
   "metadata": {},
   "outputs": [
    {
     "name": "stdout",
     "output_type": "stream",
     "text": [
      "FastEstimator: Reading non-empty directory: /home/ubuntu/fastestimator_data/adda/tfr\n",
      "FastEstimator: Found 60000 examples for train in /home/ubuntu/fastestimator_data/adda/tfr/train_summary1.json\n",
      "FastEstimator: Found 7291 examples for train in /home/ubuntu/fastestimator_data/adda/tfr/train_summary0.json\n"
     ]
    }
   ],
   "source": [
    "pipeline = fe.Pipeline(\n",
    "    batch_size=batch_size,\n",
    "    data=writer,\n",
    "    ops=[\n",
    "        Resize(inputs=\"target_img\", outputs=\"target_img\", size=(32, 32)),\n",
    "        Resize(inputs=\"source_img\", outputs=\"source_img\", size=(32, 32)),\n",
    "        Minmax(inputs=\"target_img\", outputs=\"target_img\"),\n",
    "        Minmax(inputs=\"source_img\", outputs=\"source_img\")\n",
    "    ]\n",
    ")\n",
    "a = pipeline.show_results()"
   ]
  },
  {
   "cell_type": "markdown",
   "metadata": {},
   "source": [
    "We can visualize an example output from the pipeline."
   ]
  },
  {
   "cell_type": "code",
   "execution_count": 6,
   "metadata": {},
   "outputs": [
    {
     "data": {
      "image/png": "[encoded data removed]",
      "text/plain": [
       "<Figure size 432x288 with 2 Axes>"
      ]
     },
     "metadata": {
      "needs_background": "light"
     },
     "output_type": "display_data"
    }
   ],
   "source": [
    "import matplotlib\n",
    "from matplotlib import pyplot as plt\n",
    "\n",
    "plt.subplot(121)\n",
    "plt.imshow(np.squeeze(a[0][\"source_img\"][1]), cmap='gray');\n",
    "plt.axis('off');\n",
    "plt.title('Sample MNIST Image');\n",
    "\n",
    "plt.subplot(122)\n",
    "plt.imshow(np.squeeze(a[0][\"target_img\"][3]), cmap='gray');\n",
    "plt.axis('off');\n",
    "plt.title('Sample USPS Image');"
   ]
  },
  {
   "cell_type": "markdown",
   "metadata": {},
   "source": [
    "## Network Definition\n",
    "\n",
    "With ``Pipeline`` defined, we define the network architecture.\n",
    "As we dicussed previously, the classification model is composed of the feature extraction network and the classifier network.\n",
    "The training scheme is very similar to that of GAN; the objective is to train a feature extractor network for the USPS dataset so that the discriminator cannot reliably distinguish MNIST examples and USPS examples.\n",
    "The feature extractor network for the USPS dataset is initialized from the feature extractor network for the MNIST dataset."
   ]
  },
  {
   "cell_type": "code",
   "execution_count": 7,
   "metadata": {},
   "outputs": [],
   "source": [
    "from tensorflow.keras import layers, Model, Sequential\n",
    "\n",
    "\n",
    "def build_feature_extractor(input_shape=(32, 32, 1), feature_dim=512):\n",
    "    model = Sequential()\n",
    "    model.add(layers.Conv2D(32, (3, 3), activation='relu', input_shape=input_shape))\n",
    "    model.add(layers.MaxPooling2D((2, 2)))\n",
    "    model.add(layers.Conv2D(64, (3, 3), activation='relu'))\n",
    "    model.add(layers.MaxPooling2D((2, 2)))\n",
    "    model.add(layers.Conv2D(64, (3, 3), activation='relu'))\n",
    "    model.add(layers.Flatten())\n",
    "    model.add(layers.Dense(feature_dim, activation='relu'))        \n",
    "    return model\n",
    "\n",
    "def build_classifer(feature_dim=512, num_classes=10):\n",
    "    model = Sequential()\n",
    "    model.add(layers.Dense(num_classes, activation='softmax', input_dim=feature_dim))\n",
    "    return model\n",
    "\n",
    "def build_discriminator(feature_dim=512):\n",
    "    model = Sequential()\n",
    "    model.add(layers.Dense(1024, activation='relu', input_dim=feature_dim))\n",
    "    model.add(layers.Dense(1024, activation='relu'))\n",
    "    model.add(layers.Dense(1, activation='sigmoid'))\n",
    "    return model\n",
    "\n",
    "# Step2: Define Network\n",
    "feature_extractor = fe.build(model_def=build_feature_extractor,\n",
    "                             model_name=\"fe\",\n",
    "                             loss_name=\"fe_loss\",\n",
    "                             optimizer=tf.keras.optimizers.Adam(1e-4, beta_1=0.5, beta_2=0.9))\n",
    "\n",
    "discriminator = fe.build(model_def=build_discriminator,\n",
    "                         model_name=\"disc\",\n",
    "                         loss_name=\"d_loss\",\n",
    "                         optimizer=tf.keras.optimizers.Adam(1e-4, beta_1=0.5, beta_2=0.9))"
   ]
  },
  {
   "cell_type": "markdown",
   "metadata": {},
   "source": [
    "We need to define a ``TensorOp`` to extract a feature from MNIST images.\n",
    "This feature will be used as an input to the discriminator."
   ]
  },
  {
   "cell_type": "code",
   "execution_count": 8,
   "metadata": {},
   "outputs": [],
   "source": [
    "from fastestimator.op import TensorOp\n",
    "from fastestimator.op.tensorop import Loss, ModelOp\n",
    "\n",
    "class ExtractSourceFeature(TensorOp):\n",
    "    def __init__(self, model_path, inputs, outputs=None, mode=None):\n",
    "        super().__init__(inputs, outputs, mode)\n",
    "        self.source_feature_extractor = tf.keras.models.load_model(model_path, compile=False)\n",
    "        self.source_feature_extractor.trainable = False\n",
    "\n",
    "    def forward(self, data, state):        \n",
    "        return self.source_feature_extractor(data)"
   ]
  },
  {
   "cell_type": "markdown",
   "metadata": {},
   "source": [
    "We define loss functions for the feature extractor network and the discriminator network."
   ]
  },
  {
   "cell_type": "code",
   "execution_count": 9,
   "metadata": {},
   "outputs": [],
   "source": [
    "class FELoss(Loss):\n",
    "    def __init__(self, inputs, outputs=None, mode=None):\n",
    "        super().__init__(inputs=inputs, outputs=outputs, mode=mode)\n",
    "        self.cross_entropy = tf.keras.losses.BinaryCrossentropy(reduction=tf.keras.losses.Reduction.NONE)\n",
    "        \n",
    "    def forward(self, data, state):\n",
    "        target_score = data        \n",
    "        return self.cross_entropy(tf.ones_like(target_score), target_score)\n",
    "\n",
    "class DLoss(Loss):\n",
    "    def __init__(self, inputs, outputs=None, mode=None):\n",
    "        super().__init__(inputs=inputs, outputs=outputs, mode=mode)\n",
    "        self.cross_entropy = tf.keras.losses.BinaryCrossentropy(reduction=tf.keras.losses.Reduction.NONE)\n",
    "        \n",
    "    def forward(self, data, state):\n",
    "        source_score, target_score = data\n",
    "        source_loss = self.cross_entropy(tf.ones_like(source_score), source_score)\n",
    "        target_loss = self.cross_entropy(tf.zeros_like(target_score), target_score)\n",
    "        total_loss = source_loss + target_loss\n",
    "        return 0.5 * total_loss"
   ]
  },
  {
   "cell_type": "markdown",
   "metadata": {},
   "source": [
    "We define the forward pass of the networks within one iteration of the training."
   ]
  },
  {
   "cell_type": "code",
   "execution_count": 10,
   "metadata": {},
   "outputs": [],
   "source": [
    "network = fe.Network(ops=[\n",
    "    ModelOp(inputs=\"target_img\", outputs=\"target_feature\", model=feature_extractor),\n",
    "    ModelOp(inputs=\"target_feature\", outputs=\"target_score\", model=discriminator),\n",
    "    ExtractSourceFeature(model_path=model_path, inputs=\"source_img\", outputs=\"source_feature\"),\n",
    "    ModelOp(inputs=\"source_feature\", outputs=\"source_score\", model=discriminator),\n",
    "    DLoss(inputs=(\"source_score\", \"target_score\"), outputs=\"d_loss\"),\n",
    "    FELoss(inputs=\"target_score\", outputs=\"fe_loss\")\n",
    "])"
   ]
  },
  {
   "cell_type": "markdown",
   "metadata": {},
   "source": [
    "We need to define two ``Trace``:\n",
    "* ``LoadPretrainedFE`` to load the weights of the feature extractor trained on MNIST\n",
    "* ``EvaluateTargetClassifier`` to evaluate the classifier on the USPS dataset.\n",
    "\n",
    "There are three key thins to keep in mind:\n",
    "* The classifier network is never updated with any target label information\n",
    "* Only the feature extractor is fine tuned to confuse the discriminator network\n",
    "* The classifier only classifies on the basis of the output of the feature extractor network"
   ]
  },
  {
   "cell_type": "code",
   "execution_count": 11,
   "metadata": {},
   "outputs": [],
   "source": [
    "from fastestimator.trace import Trace\n",
    "\n",
    "class LoadPretrainedFE(Trace):\n",
    "    def __init__(self, model_name):\n",
    "        super().__init__()\n",
    "        self.model_name = model_name\n",
    "        \n",
    "    def on_begin(self, state):\n",
    "        self.network.model[self.model_name].load_weights(model_path)\n",
    "        print(\"FastEstimator-LoadPretrainedFE: loaded pretrained feature extractor\")\n",
    "\n",
    "class EvaluateTargetClassifier(Trace):\n",
    "    def __init__(self, model_name):\n",
    "        super().__init__()\n",
    "        self.model_name = model_name\n",
    "        self.target_model = tf.keras.Sequential()\n",
    "        self.acc_metric = tf.keras.metrics.SparseCategoricalAccuracy()\n",
    "        \n",
    "    def on_begin(self, state):\n",
    "        self.target_model.add(self.network.model[self.model_name])\n",
    "        self.target_model.add(\n",
    "            tf.keras.models.load_model(classifier_path)\n",
    "        )\n",
    "    def on_batch_end(self, state):\n",
    "        if state[\"epoch\"] == 0 or state[\"epoch\"] == 99:\n",
    "            target_img, target_label = state[\"batch\"][\"target_img\"], state[\"batch\"][\"target_label\"]\n",
    "            logits = self.target_model(target_img)\n",
    "            self.acc_metric(target_label, logits)\n",
    "    \n",
    "    def on_epoch_end(self, state):\n",
    "        if state[\"epoch\"] == 0 or state[\"epoch\"] == 99:\n",
    "            acc = self.acc_metric.result()\n",
    "            print(\"FastEstimator-EvaluateTargetClassifier: %0.4f at epoch %d\" % (acc, state[\"epoch\"]))\n",
    "            self.acc_metric.reset_states()"
   ]
  },
  {
   "cell_type": "markdown",
   "metadata": {},
   "source": [
    "## Defining Estimator\n",
    "\n",
    "With ``Pipeline``, ``Network``, and ``Trace`` defined, we now define ``Estimator`` to put everything together"
   ]
  },
  {
   "cell_type": "code",
   "execution_count": 12,
   "metadata": {},
   "outputs": [],
   "source": [
    "traces = [LoadPretrainedFE(model_name=\"fe\"),\n",
    "          EvaluateTargetClassifier(model_name=\"fe\")]\n",
    "estimator = fe.Estimator(\n",
    "    pipeline= pipeline, \n",
    "    network=network,\n",
    "    traces = traces,\n",
    "    epochs = epochs\n",
    ")"
   ]
  },
  {
   "cell_type": "markdown",
   "metadata": {},
   "source": [
    "We call ``fit`` method to start the training."
   ]
  },
  {
   "cell_type": "code",
   "execution_count": 13,
   "metadata": {
    "scrolled": false
   },
   "outputs": [
    {
     "name": "stdout",
     "output_type": "stream",
     "text": [
      "    ______           __  ______     __  _                 __            \n",
      "   / ____/___ ______/ /_/ ____/____/ /_(_)___ ___  ____ _/ /_____  _____\n",
      "  / /_  / __ `/ ___/ __/ __/ / ___/ __/ / __ `__ \\/ __ `/ __/ __ \\/ ___/\n",
      " / __/ / /_/ (__  ) /_/ /___(__  ) /_/ / / / / / / /_/ / /_/ /_/ / /    \n",
      "/_/    \\__,_/____/\\__/_____/____/\\__/_/_/ /_/ /_/\\__,_/\\__/\\____/_/     \n",
      "                                                                        \n",
      "\n",
      "FastEstimator: Reading non-empty directory: /home/ubuntu/fastestimator_data/adda/tfr\n",
      "FastEstimator: Found 60000 examples for train in /home/ubuntu/fastestimator_data/adda/tfr/train_summary1.json\n",
      "FastEstimator: Found 7291 examples for train in /home/ubuntu/fastestimator_data/adda/tfr/train_summary0.json\n",
      "WARNING:tensorflow:Using MirroredStrategy eagerly has significant overhead currently. We will be working on improving this in the future, but for now please wrap `call_for_each_replica` or `experimental_run` or `experimental_run_v2` inside a tf.function to get the best performance.\n",
      "FastEstimator-Warn: No ModelSaver Trace detected. Models will not be saved.\n",
      "FastEstimator-LoadPretrainedFE: loaded pretrained feature extractor\n",
      "WARNING:tensorflow:No training configuration found in save file: the model was *not* compiled. Compile it manually.\n",
      "FastEstimator-Start: step: 0; total_train_steps: 1400; fe_lr: 1e-04; disc_lr: 1e-04; \n",
      "INFO:tensorflow:batch_all_reduce: 8 all-reduces with algorithm = nccl, num_packs = 1, agg_small_grads_max_bytes = 0 and agg_small_grads_max_group = 10\n",
      "INFO:tensorflow:batch_all_reduce: 6 all-reduces with algorithm = nccl, num_packs = 1, agg_small_grads_max_bytes = 0 and agg_small_grads_max_group = 10\n",
      "FastEstimator-Train: step: 0; d_loss: 0.7974504; fe_loss: 1.092446; \n",
      "FastEstimator-EvaluateTargetClassifier: 0.7450 at epoch 0\n",
      "FastEstimator-Train: step: 100; d_loss: 0.4833628; fe_loss: 0.9580869; examples/sec: 16578.6; progress: 7.1%; \n",
      "FastEstimator-Train: step: 200; d_loss: 0.462975; fe_loss: 0.8687309; examples/sec: 20465.3; progress: 14.3%; \n",
      "FastEstimator-Train: step: 300; d_loss: 0.5358252; fe_loss: 0.9013664; examples/sec: 19750.1; progress: 21.4%; \n",
      "FastEstimator-Train: step: 400; d_loss: 0.5458043; fe_loss: 1.1333507; examples/sec: 18890.5; progress: 28.6%; \n",
      "FastEstimator-Train: step: 500; d_loss: 0.448055; fe_loss: 0.9438297; examples/sec: 19252.9; progress: 35.7%; \n",
      "FastEstimator-Train: step: 600; d_loss: 0.454933; fe_loss: 1.3460835; examples/sec: 18656.4; progress: 42.9%; \n",
      "FastEstimator-Train: step: 700; d_loss: 0.5429344; fe_loss: 0.8009558; examples/sec: 18858.9; progress: 50.0%; \n",
      "FastEstimator-Train: step: 800; d_loss: 0.6607188; fe_loss: 0.5217534; examples/sec: 18717.1; progress: 57.1%; \n",
      "FastEstimator-Train: step: 900; d_loss: 0.5379788; fe_loss: 1.3980116; examples/sec: 18880.5; progress: 64.3%; \n",
      "FastEstimator-Train: step: 1000; d_loss: 0.5106609; fe_loss: 0.8684533; examples/sec: 19259.4; progress: 71.4%; \n",
      "FastEstimator-Train: step: 1100; d_loss: 0.4877237; fe_loss: 1.0368929; examples/sec: 19484.8; progress: 78.6%; \n",
      "FastEstimator-Train: step: 1200; d_loss: 0.5442925; fe_loss: 0.7391429; examples/sec: 19243.0; progress: 85.7%; \n",
      "FastEstimator-Train: step: 1300; d_loss: 0.5298026; fe_loss: 1.2005185; examples/sec: 18832.9; progress: 92.9%; \n",
      "FastEstimator-EvaluateTargetClassifier: 0.9099 at epoch 99\n",
      "FastEstimator-Finish: step: 1400; total_time: 43.86 sec; fe_lr: 1e-04; disc_lr: 1e-04; \n"
     ]
    }
   ],
   "source": [
    "estimator.fit()"
   ]
  },
  {
   "cell_type": "markdown",
   "metadata": {},
   "source": [
    "``EvaluateTargetClassifier`` outputs the classification accuracy on the USPS at the beginning of the training and the end of the training. We can observe significant improvement in the performance."
   ]
  },
  {
   "cell_type": "code",
   "execution_count": null,
   "metadata": {},
   "outputs": [],
   "source": []
  }
 ],
 "metadata": {
  "celltoolbar": "Tags",
  "kernelspec": {
   "display_name": "Python 3",
   "language": "python",
   "name": "python3"
  },
  "language_info": {
   "codemirror_mode": {
    "name": "ipython",
    "version": 3
   },
   "file_extension": ".py",
   "mimetype": "text/x-python",
   "name": "python",
   "nbconvert_exporter": "python",
   "pygments_lexer": "ipython3",
   "version": "3.6.9"
  }
 },
 "nbformat": 4,
 "nbformat_minor": 2
}
