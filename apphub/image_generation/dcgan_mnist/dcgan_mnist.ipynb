{
 "cells": [
  {
   "cell_type": "markdown",
   "metadata": {},
   "source": [
    "# DCGAN Example with MNIST Dataset"
   ]
  },
  {
   "cell_type": "code",
   "execution_count": 1,
   "metadata": {},
   "outputs": [],
   "source": [
    "import os\n",
    "import tempfile\n",
    "\n",
    "import numpy as np\n",
    "import tensorflow as tf\n",
    "from matplotlib import pyplot as plt\n",
    "from tensorflow.keras.models import load_model\n",
    "from tensorflow.python.keras import layers\n",
    "\n",
    "import fastestimator as fe\n",
    "from fastestimator.op import TensorOp\n",
    "from fastestimator.op.tensorop import Loss, ModelOp\n",
    "from fastestimator.trace import ModelSaver"
   ]
  },
  {
   "cell_type": "code",
   "execution_count": 2,
   "metadata": {
    "tags": [
     "parameters"
    ]
   },
   "outputs": [],
   "source": [
    "#parameters\n",
    "batch_size = 256\n",
    "epochs = 50\n",
    "steps_per_epoch = None\n",
    "saved_model_path = 'gen_epoch_45_step_10764.h5'"
   ]
  },
  {
   "cell_type": "markdown",
   "metadata": {},
   "source": [
    "## Prepare data"
   ]
  },
  {
   "cell_type": "markdown",
   "metadata": {},
   "source": [
    "We create `Pipeline` with MNIST data. With the help of `Myrescale` op, each image is normalized to between -1 and 1."
   ]
  },
  {
   "cell_type": "code",
   "execution_count": 3,
   "metadata": {},
   "outputs": [],
   "source": [
    "class Myrescale(TensorOp):\n",
    "    \"\"\"Scale image values from uint8 to float32 between -1 and 1.\"\"\"\n",
    "    def forward(self, data, state):\n",
    "        data = tf.cast(data, tf.float32)\n",
    "        data = (data - 127.5) / 127.5\n",
    "        return data"
   ]
  },
  {
   "cell_type": "code",
   "execution_count": 4,
   "metadata": {},
   "outputs": [],
   "source": [
    "(x_train, _), (_, _) = tf.keras.datasets.mnist.load_data()\n",
    "data = {\"train\": {\"x\": np.expand_dims(x_train, -1)}}\n",
    "pipeline = fe.Pipeline(batch_size=batch_size, data=data, ops=Myrescale(inputs=\"x\", outputs=\"x\"))"
   ]
  },
  {
   "cell_type": "markdown",
   "metadata": {},
   "source": [
    "## Create network"
   ]
  },
  {
   "cell_type": "markdown",
   "metadata": {},
   "source": [
    "### Keras models"
   ]
  },
  {
   "cell_type": "markdown",
   "metadata": {},
   "source": [
    "First we create `tf.keras` models for generator and discriminator."
   ]
  },
  {
   "cell_type": "code",
   "execution_count": 5,
   "metadata": {},
   "outputs": [],
   "source": [
    "def make_generator_model():\n",
    "    model = tf.keras.Sequential()\n",
    "    model.add(layers.Dense(7 * 7 * 256, use_bias=False, input_shape=(100, )))\n",
    "    model.add(layers.BatchNormalization())\n",
    "    model.add(layers.LeakyReLU())\n",
    "    model.add(layers.Reshape((7, 7, 256)))\n",
    "    assert model.output_shape == (None, 7, 7, 256)  # Note: None is the batch size\n",
    "    model.add(layers.Conv2DTranspose(128, (5, 5), strides=(1, 1), padding='same', use_bias=False))\n",
    "    assert model.output_shape == (None, 7, 7, 128)\n",
    "    model.add(layers.BatchNormalization())\n",
    "    model.add(layers.LeakyReLU())\n",
    "    model.add(layers.Conv2DTranspose(64, (5, 5), strides=(2, 2), padding='same', use_bias=False))\n",
    "    assert model.output_shape == (None, 14, 14, 64)\n",
    "    model.add(layers.BatchNormalization())\n",
    "    model.add(layers.LeakyReLU())\n",
    "    model.add(layers.Conv2DTranspose(1, (5, 5), strides=(2, 2), padding='same', use_bias=False, activation='tanh'))\n",
    "    assert model.output_shape == (None, 28, 28, 1)\n",
    "    return model"
   ]
  },
  {
   "cell_type": "code",
   "execution_count": 6,
   "metadata": {},
   "outputs": [],
   "source": [
    "def make_discriminator_model():\n",
    "    model = tf.keras.Sequential()\n",
    "    model.add(layers.Conv2D(64, (5, 5), strides=(2, 2), padding='same', input_shape=[28, 28, 1]))\n",
    "    model.add(layers.LeakyReLU())\n",
    "    model.add(layers.Dropout(0.3))\n",
    "    model.add(layers.Conv2D(128, (5, 5), strides=(2, 2), padding='same'))\n",
    "    model.add(layers.LeakyReLU())\n",
    "    model.add(layers.Dropout(0.3))\n",
    "    model.add(layers.Flatten())\n",
    "    model.add(layers.Dense(1))\n",
    "    return model"
   ]
  },
  {
   "cell_type": "markdown",
   "metadata": {},
   "source": [
    "### FEModel"
   ]
  },
  {
   "cell_type": "markdown",
   "metadata": {},
   "source": [
    "Next, we group the `tf.keras` models with `tf.optimizers` into `FEModel`."
   ]
  },
  {
   "cell_type": "code",
   "execution_count": 7,
   "metadata": {},
   "outputs": [],
   "source": [
    "g_femodel = fe.build(model_def=make_generator_model,\n",
    "                    model_name=\"gen\",\n",
    "                    loss_name=\"gloss\",\n",
    "                    optimizer=tf.optimizers.Adam(1e-4))\n",
    "d_femodel = fe.build(model_def=make_discriminator_model,\n",
    "                    model_name=\"disc\",\n",
    "                    loss_name=\"dloss\",\n",
    "                    optimizer=tf.optimizers.Adam(1e-4))"
   ]
  },
  {
   "cell_type": "markdown",
   "metadata": {},
   "source": [
    "The `FEModel` and `Loss` will be grouped into `Network`. Let's define the loss functions."
   ]
  },
  {
   "cell_type": "markdown",
   "metadata": {},
   "source": [
    "### Loss functions"
   ]
  },
  {
   "cell_type": "markdown",
   "metadata": {},
   "source": [
    "We define the generator and discriminator loss. `Loss` can have multiple inputs and outputs."
   ]
  },
  {
   "cell_type": "code",
   "execution_count": 8,
   "metadata": {},
   "outputs": [],
   "source": [
    "class GLoss(Loss):\n",
    "    \"\"\"Compute generator loss.\"\"\"\n",
    "    def __init__(self, inputs, outputs=None, mode=None):\n",
    "        super().__init__(inputs=inputs, outputs=outputs, mode=mode)\n",
    "        self.cross_entropy = tf.keras.losses.BinaryCrossentropy(from_logits=True,\n",
    "                                                                reduction=tf.keras.losses.Reduction.NONE)\n",
    "\n",
    "    def forward(self, data, state):\n",
    "        return self.cross_entropy(tf.ones_like(data), data)"
   ]
  },
  {
   "cell_type": "code",
   "execution_count": 9,
   "metadata": {},
   "outputs": [],
   "source": [
    "class DLoss(Loss):\n",
    "    \"\"\"Compute discriminator loss.\"\"\"\n",
    "    def __init__(self, inputs, outputs=None, mode=None):\n",
    "        super().__init__(inputs=inputs, outputs=outputs, mode=mode)\n",
    "        self.cross_entropy = tf.keras.losses.BinaryCrossentropy(from_logits=True,\n",
    "                                                                reduction=tf.keras.losses.Reduction.NONE)\n",
    "\n",
    "    def forward(self, data, state):\n",
    "        true, fake = data\n",
    "        real_loss = self.cross_entropy(tf.ones_like(true), true)\n",
    "        fake_loss = self.cross_entropy(tf.zeros_like(fake), fake)\n",
    "        total_loss = real_loss + fake_loss\n",
    "        return total_loss"
   ]
  },
  {
   "cell_type": "markdown",
   "metadata": {},
   "source": [
    "### Network"
   ]
  },
  {
   "cell_type": "markdown",
   "metadata": {},
   "source": [
    "Once loss functions are defined, we group `FEModel` and loss functions into `Network`."
   ]
  },
  {
   "cell_type": "code",
   "execution_count": 10,
   "metadata": {},
   "outputs": [],
   "source": [
    "network = fe.Network(ops=[\n",
    "    ModelOp(inputs=lambda: tf.random.normal([batch_size, 100]), model=g_femodel),\n",
    "    ModelOp(model=d_femodel, outputs=\"pred_fake\"),\n",
    "    ModelOp(inputs=\"x\", model=d_femodel, outputs=\"pred_true\"),\n",
    "    GLoss(inputs=(\"pred_fake\"), outputs=\"gloss\"),\n",
    "    DLoss(inputs=(\"pred_true\", \"pred_fake\"), outputs=\"dloss\")\n",
    "])"
   ]
  },
  {
   "cell_type": "markdown",
   "metadata": {},
   "source": [
    "## Create estimator"
   ]
  },
  {
   "cell_type": "markdown",
   "metadata": {},
   "source": [
    "`Trace` is similar to callbacks in `tf.keras`. Here we use `ModelSaver` to save the training models to `save_dir`."
   ]
  },
  {
   "cell_type": "code",
   "execution_count": 11,
   "metadata": {},
   "outputs": [],
   "source": [
    "save_dir=tempfile.mkdtemp()"
   ]
  },
  {
   "cell_type": "code",
   "execution_count": 12,
   "metadata": {},
   "outputs": [],
   "source": [
    "traces = [ModelSaver(model_name='gen', save_dir=save_dir, save_freq=5)]"
   ]
  },
  {
   "cell_type": "markdown",
   "metadata": {},
   "source": [
    "Once everything is combined into `Estimator`, we can start traniing!"
   ]
  },
  {
   "cell_type": "code",
   "execution_count": 13,
   "metadata": {},
   "outputs": [],
   "source": [
    "estimator = fe.Estimator(network=network, pipeline=pipeline, epochs=epochs, steps_per_epoch=steps_per_epoch, traces=traces)"
   ]
  },
  {
   "cell_type": "markdown",
   "metadata": {},
   "source": [
    "## Start Training"
   ]
  },
  {
   "cell_type": "code",
   "execution_count": 14,
   "metadata": {
    "scrolled": false
   },
   "outputs": [
    {
     "name": "stdout",
     "output_type": "stream",
     "text": [
      "    ______           __  ______     __  _                 __            \n",
      "   / ____/___ ______/ /_/ ____/____/ /_(_)___ ___  ____ _/ /_____  _____\n",
      "  / /_  / __ `/ ___/ __/ __/ / ___/ __/ / __ `__ \\/ __ `/ __/ __ \\/ ___/\n",
      " / __/ / /_/ (__  ) /_/ /___(__  ) /_/ / / / / / / /_/ / /_/ /_/ / /    \n",
      "/_/    \\__,_/____/\\__/_____/____/\\__/_/_/ /_/ /_/\\__,_/\\__/\\____/_/     \n",
      "                                                                        \n",
      "\n"
     ]
    },
    {
     "name": "stderr",
     "output_type": "stream",
     "text": [
      "WARNING: Logging before flag parsing goes to stderr.\n",
      "W0918 17:48:19.117184 140658123323136 deprecation.py:323] From /data/hsiming/virtualenv/tf2.0.0b_py36_hsiming/lib/python3.6/site-packages/tensorflow/python/ops/nn_impl.py:182: add_dispatch_support.<locals>.wrapper (from tensorflow.python.ops.array_ops) is deprecated and will be removed in a future version.\n",
      "Instructions for updating:\n",
      "Use tf.where in 2.0, which has the same broadcast rule as np.where\n"
     ]
    },
    {
     "name": "stdout",
     "output_type": "stream",
     "text": [
      "FastEstimator-Start: step: 0; gen_lr: 1e-04; disc_lr: 1e-04; \n",
      "FastEstimator-Train: step: 0; gloss: 0.69595134; dloss: 1.3530326; \n",
      "FastEstimator-Train: step: 100; gloss: 0.6908619; dloss: 1.0262341; examples/sec: 2572.28; \n",
      "FastEstimator-Train: step: 200; gloss: 0.84497017; dloss: 1.2118433; examples/sec: 2543.57; \n",
      "FastEstimator-ModelSaver: Saving model to /tmp/tmpzdhf6mjv/gen_epoch_0_step_234.h5\n",
      "FastEstimator-Train: step: 300; gloss: 0.926353; dloss: 1.0300479; examples/sec: 2575.34; \n",
      "FastEstimator-Train: step: 400; gloss: 0.7339307; dloss: 1.419587; examples/sec: 2547.12; \n",
      "FastEstimator-Train: step: 500; gloss: 1.1053416; dloss: 0.86561346; examples/sec: 2546.57; \n",
      "FastEstimator-Train: step: 600; gloss: 1.7596653; dloss: 0.52021855; examples/sec: 2525.99; \n",
      "FastEstimator-Train: step: 700; gloss: 0.9018482; dloss: 1.1085627; examples/sec: 2524.2; \n",
      "FastEstimator-Train: step: 800; gloss: 0.70425224; dloss: 1.4143591; examples/sec: 2520.55; \n",
      "FastEstimator-Train: step: 900; gloss: 0.83074707; dloss: 1.2864329; examples/sec: 2518.58; \n",
      "FastEstimator-Train: step: 1000; gloss: 0.8636123; dloss: 1.3568431; examples/sec: 2515.48; \n",
      "FastEstimator-Train: step: 1100; gloss: 0.7479536; dloss: 1.5826471; examples/sec: 2512.93; \n",
      "FastEstimator-Train: step: 1200; gloss: 0.7905136; dloss: 1.5097691; examples/sec: 2508.08; \n",
      "FastEstimator-Train: step: 1300; gloss: 0.7463613; dloss: 1.3998778; examples/sec: 2506.92; \n",
      "FastEstimator-Train: step: 1400; gloss: 0.8919745; dloss: 1.1551933; examples/sec: 2502.64; \n",
      "FastEstimator-ModelSaver: Saving model to /tmp/tmpzdhf6mjv/gen_epoch_5_step_1404.h5\n",
      "FastEstimator-Train: step: 1500; gloss: 0.99319625; dloss: 1.0736455; examples/sec: 2528.45; \n",
      "FastEstimator-Train: step: 1600; gloss: 0.7286755; dloss: 1.5559127; examples/sec: 2503.4; \n",
      "FastEstimator-Train: step: 1700; gloss: 0.9155165; dloss: 1.1608633; examples/sec: 2504.74; \n",
      "FastEstimator-Train: step: 1800; gloss: 0.7434776; dloss: 1.3083016; examples/sec: 2511.11; \n",
      "FastEstimator-Train: step: 1900; gloss: 0.8758374; dloss: 1.3348733; examples/sec: 2503.19; \n",
      "FastEstimator-Train: step: 2000; gloss: 0.8166124; dloss: 1.2299441; examples/sec: 2508.8; \n",
      "FastEstimator-Train: step: 2100; gloss: 0.7107069; dloss: 1.4950066; examples/sec: 2510.15; \n",
      "FastEstimator-Train: step: 2200; gloss: 0.9786562; dloss: 1.0765682; examples/sec: 2509.23; \n",
      "FastEstimator-Train: step: 2300; gloss: 0.90990275; dloss: 1.3727658; examples/sec: 2510.82; \n",
      "FastEstimator-Train: step: 2400; gloss: 1.091837; dloss: 0.9914036; examples/sec: 2507.73; \n",
      "FastEstimator-Train: step: 2500; gloss: 0.84776753; dloss: 1.4775909; examples/sec: 2512.6; \n",
      "FastEstimator-ModelSaver: Saving model to /tmp/tmpzdhf6mjv/gen_epoch_10_step_2574.h5\n",
      "FastEstimator-Train: step: 2600; gloss: 0.9051596; dloss: 1.2369817; examples/sec: 2530.37; \n",
      "FastEstimator-Train: step: 2700; gloss: 1.0139004; dloss: 1.1593926; examples/sec: 2499.25; \n",
      "FastEstimator-Train: step: 2800; gloss: 0.88000095; dloss: 1.294114; examples/sec: 2501.75; \n",
      "FastEstimator-Train: step: 2900; gloss: 1.0820124; dloss: 1.2039725; examples/sec: 2505.4; \n",
      "FastEstimator-Train: step: 3000; gloss: 1.3538215; dloss: 0.8107094; examples/sec: 2512.37; \n",
      "FastEstimator-Train: step: 3100; gloss: 0.95700437; dloss: 1.234808; examples/sec: 2508.88; \n",
      "FastEstimator-Train: step: 3200; gloss: 1.1537837; dloss: 1.12163; examples/sec: 2513.07; \n",
      "FastEstimator-Train: step: 3300; gloss: 0.9400153; dloss: 1.2380682; examples/sec: 2508.47; \n",
      "FastEstimator-Train: step: 3400; gloss: 1.1326759; dloss: 0.9954937; examples/sec: 2512.64; \n",
      "FastEstimator-Train: step: 3500; gloss: 1.120005; dloss: 1.0653719; examples/sec: 2506.08; \n",
      "FastEstimator-Train: step: 3600; gloss: 1.0102966; dloss: 1.1714345; examples/sec: 2510.13; \n",
      "FastEstimator-Train: step: 3700; gloss: 0.9641124; dloss: 1.1828768; examples/sec: 2511.86; \n",
      "FastEstimator-ModelSaver: Saving model to /tmp/tmpzdhf6mjv/gen_epoch_15_step_3744.h5\n",
      "FastEstimator-Train: step: 3800; gloss: 1.1241753; dloss: 1.1056703; examples/sec: 2537.43; \n",
      "FastEstimator-Train: step: 3900; gloss: 1.2800107; dloss: 0.87076414; examples/sec: 2513.6; \n",
      "FastEstimator-Train: step: 4000; gloss: 1.0173273; dloss: 1.2648131; examples/sec: 2515.4; \n",
      "FastEstimator-Train: step: 4100; gloss: 1.2626874; dloss: 0.96767735; examples/sec: 2512.22; \n",
      "FastEstimator-Train: step: 4200; gloss: 1.0998651; dloss: 1.3161542; examples/sec: 2514.09; \n",
      "FastEstimator-Train: step: 4300; gloss: 1.1622956; dloss: 1.0845126; examples/sec: 2510.16; \n",
      "FastEstimator-Train: step: 4400; gloss: 1.8857236; dloss: 0.61238563; examples/sec: 2514.08; \n",
      "FastEstimator-Train: step: 4500; gloss: 1.4766601; dloss: 0.91755694; examples/sec: 2509.08; \n",
      "FastEstimator-Train: step: 4600; gloss: 1.0801171; dloss: 1.2520044; examples/sec: 2512.96; \n",
      "FastEstimator-Train: step: 4700; gloss: 1.136924; dloss: 1.0787942; examples/sec: 2510.29; \n",
      "FastEstimator-Train: step: 4800; gloss: 1.1364374; dloss: 0.9225644; examples/sec: 2511.47; \n",
      "FastEstimator-Train: step: 4900; gloss: 0.98714125; dloss: 1.234557; examples/sec: 2509.48; \n",
      "FastEstimator-ModelSaver: Saving model to /tmp/tmpzdhf6mjv/gen_epoch_20_step_4914.h5\n",
      "FastEstimator-Train: step: 5000; gloss: 1.2132232; dloss: 1.0075278; examples/sec: 2535.8; \n",
      "FastEstimator-Train: step: 5100; gloss: 1.2478071; dloss: 0.9712628; examples/sec: 2509.19; \n",
      "FastEstimator-Train: step: 5200; gloss: 1.0746053; dloss: 1.1861095; examples/sec: 2510.04; \n",
      "FastEstimator-Train: step: 5300; gloss: 1.156363; dloss: 1.0273391; examples/sec: 2511.7; \n",
      "FastEstimator-Train: step: 5400; gloss: 1.2215666; dloss: 1.0596297; examples/sec: 2509.72; \n",
      "FastEstimator-Train: step: 5500; gloss: 1.1053557; dloss: 1.1561103; examples/sec: 2511.24; \n",
      "FastEstimator-Train: step: 5600; gloss: 1.137301; dloss: 1.0941685; examples/sec: 2511.83; \n",
      "FastEstimator-Train: step: 5700; gloss: 1.6252682; dloss: 0.77302194; examples/sec: 2510.78; \n",
      "FastEstimator-Train: step: 5800; gloss: 1.1551921; dloss: 1.0950768; examples/sec: 2512.56; \n",
      "FastEstimator-Train: step: 5900; gloss: 0.8808057; dloss: 1.3883932; examples/sec: 2512.7; \n",
      "FastEstimator-Train: step: 6000; gloss: 1.4769766; dloss: 0.88300925; examples/sec: 2514.09; \n",
      "FastEstimator-ModelSaver: Saving model to /tmp/tmpzdhf6mjv/gen_epoch_25_step_6084.h5\n",
      "FastEstimator-Train: step: 6100; gloss: 1.5844681; dloss: 0.97752; examples/sec: 2539.13; \n",
      "FastEstimator-Train: step: 6200; gloss: 1.4207733; dloss: 1.009416; examples/sec: 2514.43; \n",
      "FastEstimator-Train: step: 6300; gloss: 1.5112205; dloss: 0.89121306; examples/sec: 2507.89; \n",
      "FastEstimator-Train: step: 6400; gloss: 1.5947648; dloss: 0.84250724; examples/sec: 2511.99; \n",
      "FastEstimator-Train: step: 6500; gloss: 1.1048834; dloss: 1.1508973; examples/sec: 2507.87; \n",
      "FastEstimator-Train: step: 6600; gloss: 1.1830401; dloss: 1.1891085; examples/sec: 2493.49; \n",
      "FastEstimator-Train: step: 6700; gloss: 1.2354956; dloss: 1.0502173; examples/sec: 2526.42; \n",
      "FastEstimator-Train: step: 6800; gloss: 1.2081039; dloss: 0.98759186; examples/sec: 2510.29; \n",
      "FastEstimator-Train: step: 6900; gloss: 1.1010578; dloss: 1.1570222; examples/sec: 2512.99; \n",
      "FastEstimator-Train: step: 7000; gloss: 1.102396; dloss: 1.1259654; examples/sec: 2509.66; \n",
      "FastEstimator-Train: step: 7100; gloss: 1.0229583; dloss: 1.1374489; examples/sec: 2509.6; \n",
      "FastEstimator-Train: step: 7200; gloss: 1.0148576; dloss: 1.1703944; examples/sec: 2503.72; \n",
      "FastEstimator-ModelSaver: Saving model to /tmp/tmpzdhf6mjv/gen_epoch_30_step_7254.h5\n",
      "FastEstimator-Train: step: 7300; gloss: 0.98689145; dloss: 1.3194159; examples/sec: 2527.63; \n",
      "FastEstimator-Train: step: 7400; gloss: 0.9941745; dloss: 1.2021219; examples/sec: 2507.91; \n",
      "FastEstimator-Train: step: 7500; gloss: 1.1889787; dloss: 1.2863231; examples/sec: 2505.05; \n",
      "FastEstimator-Train: step: 7600; gloss: 0.940554; dloss: 1.201722; examples/sec: 2507.25; \n",
      "FastEstimator-Train: step: 7700; gloss: 1.2296163; dloss: 1.069271; examples/sec: 2506.61; \n",
      "FastEstimator-Train: step: 7800; gloss: 1.1145477; dloss: 1.0264305; examples/sec: 2507.93; \n",
      "FastEstimator-Train: step: 7900; gloss: 0.8749032; dloss: 1.3487043; examples/sec: 2502.44; \n",
      "FastEstimator-Train: step: 8000; gloss: 1.1489267; dloss: 1.2460017; examples/sec: 2494.68; \n",
      "FastEstimator-Train: step: 8100; gloss: 1.0383592; dloss: 1.2838305; examples/sec: 2501.11; \n"
     ]
    },
    {
     "name": "stdout",
     "output_type": "stream",
     "text": [
      "FastEstimator-Train: step: 8200; gloss: 1.0881394; dloss: 1.1826886; examples/sec: 2504.92; \n",
      "FastEstimator-Train: step: 8300; gloss: 1.195807; dloss: 1.1842307; examples/sec: 2504.99; \n",
      "FastEstimator-Train: step: 8400; gloss: 1.2090687; dloss: 1.031111; examples/sec: 2506.24; \n",
      "FastEstimator-ModelSaver: Saving model to /tmp/tmpzdhf6mjv/gen_epoch_35_step_8424.h5\n",
      "FastEstimator-Train: step: 8500; gloss: 1.1117153; dloss: 1.1760783; examples/sec: 2525.56; \n",
      "FastEstimator-Train: step: 8600; gloss: 1.0358796; dloss: 1.1525894; examples/sec: 2502.79; \n",
      "FastEstimator-Train: step: 8700; gloss: 1.080224; dloss: 1.2292671; examples/sec: 2501.15; \n",
      "FastEstimator-Train: step: 8800; gloss: 0.93098855; dloss: 1.3154166; examples/sec: 2504.21; \n",
      "FastEstimator-Train: step: 8900; gloss: 1.0154734; dloss: 1.29711; examples/sec: 2509.68; \n",
      "FastEstimator-Train: step: 9000; gloss: 1.1050225; dloss: 1.2516804; examples/sec: 2511.56; \n",
      "FastEstimator-Train: step: 9100; gloss: 0.97036177; dloss: 1.1775709; examples/sec: 2516.14; \n",
      "FastEstimator-Train: step: 9200; gloss: 0.9703679; dloss: 1.1825461; examples/sec: 2511.75; \n",
      "FastEstimator-Train: step: 9300; gloss: 0.97972953; dloss: 1.1862504; examples/sec: 2517.75; \n",
      "FastEstimator-Train: step: 9400; gloss: 1.0387019; dloss: 1.2318416; examples/sec: 2515.34; \n",
      "FastEstimator-Train: step: 9500; gloss: 0.99222374; dloss: 1.1574038; examples/sec: 2513.03; \n",
      "FastEstimator-ModelSaver: Saving model to /tmp/tmpzdhf6mjv/gen_epoch_40_step_9594.h5\n",
      "FastEstimator-Train: step: 9600; gloss: 0.9064344; dloss: 1.4716201; examples/sec: 2539.71; \n",
      "FastEstimator-Train: step: 9700; gloss: 0.8087839; dloss: 1.3511995; examples/sec: 2510.16; \n",
      "FastEstimator-Train: step: 9800; gloss: 1.0436379; dloss: 1.3033727; examples/sec: 2514.61; \n",
      "FastEstimator-Train: step: 9900; gloss: 1.0533434; dloss: 1.1115111; examples/sec: 2509.67; \n",
      "FastEstimator-Train: step: 10000; gloss: 1.0845108; dloss: 0.9845184; examples/sec: 2515.79; \n",
      "FastEstimator-Train: step: 10100; gloss: 1.0451509; dloss: 1.1416662; examples/sec: 2515.34; \n",
      "FastEstimator-Train: step: 10200; gloss: 1.04123; dloss: 1.3000846; examples/sec: 2510.31; \n",
      "FastEstimator-Train: step: 10300; gloss: 1.0057669; dloss: 1.1370484; examples/sec: 2513.13; \n",
      "FastEstimator-Train: step: 10400; gloss: 0.9891538; dloss: 1.1220548; examples/sec: 2508.24; \n",
      "FastEstimator-Train: step: 10500; gloss: 0.9103876; dloss: 1.1989634; examples/sec: 2506.41; \n",
      "FastEstimator-Train: step: 10600; gloss: 0.8733444; dloss: 1.2306137; examples/sec: 2506.7; \n",
      "FastEstimator-Train: step: 10700; gloss: 0.8079326; dloss: 1.3260518; examples/sec: 2504.22; \n",
      "FastEstimator-ModelSaver: Saving model to /tmp/tmpzdhf6mjv/gen_epoch_45_step_10764.h5\n",
      "FastEstimator-Train: step: 10800; gloss: 0.9123037; dloss: 1.2398833; examples/sec: 2532.67; \n",
      "FastEstimator-Train: step: 10900; gloss: 0.8901875; dloss: 1.2088764; examples/sec: 2508.35; \n",
      "FastEstimator-Train: step: 11000; gloss: 0.91047853; dloss: 1.2530726; examples/sec: 2513.45; \n",
      "FastEstimator-Train: step: 11100; gloss: 0.9310628; dloss: 1.2619432; examples/sec: 2513.6; \n",
      "FastEstimator-Train: step: 11200; gloss: 1.0029485; dloss: 1.1431831; examples/sec: 2509.66; \n",
      "FastEstimator-Train: step: 11300; gloss: 1.0093205; dloss: 1.1072545; examples/sec: 2512.57; \n",
      "FastEstimator-Train: step: 11400; gloss: 1.095667; dloss: 1.0824221; examples/sec: 2508.67; \n",
      "FastEstimator-Train: step: 11500; gloss: 1.0731249; dloss: 1.1650423; examples/sec: 2513.0; \n",
      "FastEstimator-Train: step: 11600; gloss: 0.9874201; dloss: 1.2624488; examples/sec: 2511.64; \n",
      "FastEstimator-Finish: step: 11700; total_time: 1196.22 sec; gen_lr: 1e-04; disc_lr: 1e-04; \n"
     ]
    }
   ],
   "source": [
    "estimator.fit()"
   ]
  },
  {
   "cell_type": "markdown",
   "metadata": {},
   "source": [
    "## Generate images from random noise"
   ]
  },
  {
   "cell_type": "markdown",
   "metadata": {},
   "source": [
    "We use the trained generator to generate images of digits."
   ]
  },
  {
   "cell_type": "code",
   "execution_count": 18,
   "metadata": {},
   "outputs": [
    {
     "name": "stderr",
     "output_type": "stream",
     "text": [
      "W0918 18:10:09.384269 140658123323136 hdf5_format.py:171] No training configuration found in save file: the model was *not* compiled. Compile it manually.\n"
     ]
    }
   ],
   "source": [
    "model = load_model(os.path.join(save_dir, saved_model_path))"
   ]
  },
  {
   "cell_type": "code",
   "execution_count": 19,
   "metadata": {},
   "outputs": [],
   "source": [
    "images = model.predict(np.random.normal(size=(16, 100)))"
   ]
  },
  {
   "cell_type": "code",
   "execution_count": 20,
   "metadata": {},
   "outputs": [
    {
     "data": {
      "image/png": "[encoded data removed]",
      "text/plain": [
       "<Figure size 432x288 with 16 Axes>"
      ]
     },
     "metadata": {
      "needs_background": "light"
     },
     "output_type": "display_data"
    }
   ],
   "source": [
    "fig, axes = plt.subplots(4, 4)\n",
    "axes = np.ravel(axes)\n",
    "for i in range(images.shape[0]):\n",
    "    axes[i].axis('off')\n",
    "    axes[i].imshow(np.squeeze(images[i, ...] * 127.5 + 127.5), cmap='gray')"
   ]
  }
 ],
 "metadata": {
  "celltoolbar": "Tags",
  "kernelspec": {
   "display_name": "Python 3",
   "language": "python",
   "name": "python3"
  },
  "language_info": {
   "codemirror_mode": {
    "name": "ipython",
    "version": 3
   },
   "file_extension": ".py",
   "mimetype": "text/x-python",
   "name": "python",
   "nbconvert_exporter": "python",
   "pygments_lexer": "ipython3",
   "version": "3.6.8"
  },
  "toc": {
   "base_numbering": 1,
   "nav_menu": {},
   "number_sections": true,
   "sideBar": true,
   "skip_h1_title": false,
   "title_cell": "Table of Contents",
   "title_sidebar": "Contents",
   "toc_cell": false,
   "toc_position": {},
   "toc_section_display": true,
   "toc_window_display": true
  }
 },
 "nbformat": 4,
 "nbformat_minor": 2
}
