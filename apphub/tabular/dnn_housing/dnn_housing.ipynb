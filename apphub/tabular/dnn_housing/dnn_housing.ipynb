{
 "cells": [
  {
   "cell_type": "markdown",
   "metadata": {},
   "source": [
    "# Boston housing price predictor (regression) using DNN\n",
    "\n",
    "## Step 1: Prepare training and evaluation dataset, create FastEstimator Pipeline\n",
    "\n",
    "Pipeline can take both data in memory and data in disk. In this example, we are going to use data in memory by loading data with tf.keras.datasets.boston_housing.\n",
    "The following can be used to get the description of the data:"
   ]
  },
  {
   "cell_type": "code",
   "execution_count": 1,
   "metadata": {},
   "outputs": [
    {
     "name": "stdout",
     "output_type": "stream",
     "text": [
      ".. _boston_dataset:\n",
      "\n",
      "Boston house prices dataset\n",
      "---------------------------\n",
      "\n",
      "**Data Set Characteristics:**  \n",
      "\n",
      "    :Number of Instances: 506 \n",
      "\n",
      "    :Number of Attributes: 13 numeric/categorical predictive. Median Value (attribute 14) is usually the target.\n",
      "\n",
      "    :Attribute Information (in order):\n",
      "        - CRIM     per capita crime rate by town\n",
      "        - ZN       proportion of residential land zoned for lots over 25,000 sq.ft.\n",
      "        - INDUS    proportion of non-retail business acres per town\n",
      "        - CHAS     Charles River dummy variable (= 1 if tract bounds river; 0 otherwise)\n",
      "        - NOX      nitric oxides concentration (parts per 10 million)\n",
      "        - RM       average number of rooms per dwelling\n",
      "        - AGE      proportion of owner-occupied units built prior to 1940\n",
      "        - DIS      weighted distances to five Boston employment centres\n",
      "        - RAD      index of accessibility to radial highways\n",
      "        - TAX      full-value property-tax rate per $10,000\n",
      "        - PTRATIO  pupil-teacher ratio by town\n",
      "        - B        1000(Bk - 0.63)^2 where Bk is the proportion of blacks by town\n",
      "        - LSTAT    % lower status of the population\n",
      "        - MEDV     Median value of owner-occupied homes in $1000's\n",
      "\n",
      "    :Missing Attribute Values: None\n",
      "\n",
      "    :Creator: Harrison, D. and Rubinfeld, D.L.\n",
      "\n",
      "This is a copy of UCI ML housing dataset.\n",
      "https://archive.ics.uci.edu/ml/machine-learning-databases/housing/\n",
      "\n",
      "\n",
      "This dataset was taken from the StatLib library which is maintained at Carnegie Mellon University.\n",
      "\n",
      "The Boston house-price data of Harrison, D. and Rubinfeld, D.L. 'Hedonic\n",
      "prices and the demand for clean air', J. Environ. Economics & Management,\n",
      "vol.5, 81-102, 1978.   Used in Belsley, Kuh & Welsch, 'Regression diagnostics\n",
      "...', Wiley, 1980.   N.B. Various transformations are used in the table on\n",
      "pages 244-261 of the latter.\n",
      "\n",
      "The Boston house-price data has been used in many machine learning papers that address regression\n",
      "problems.   \n",
      "     \n",
      ".. topic:: References\n",
      "\n",
      "   - Belsley, Kuh & Welsch, 'Regression diagnostics: Identifying Influential Data and Sources of Collinearity', Wiley, 1980. 244-261.\n",
      "   - Quinlan,R. (1993). Combining Instance-Based and Model-Based Learning. In Proceedings on the Tenth International Conference of Machine Learning, 236-243, University of Massachusetts, Amherst. Morgan Kaufmann.\n",
      "\n",
      "         0     1     2    3      4      5     6       7    8      9    10  \\\n",
      "0  0.00632  18.0  2.31  0.0  0.538  6.575  65.2  4.0900  1.0  296.0  15.3   \n",
      "1  0.02731   0.0  7.07  0.0  0.469  6.421  78.9  4.9671  2.0  242.0  17.8   \n",
      "2  0.02729   0.0  7.07  0.0  0.469  7.185  61.1  4.9671  2.0  242.0  17.8   \n",
      "3  0.03237   0.0  2.18  0.0  0.458  6.998  45.8  6.0622  3.0  222.0  18.7   \n",
      "4  0.06905   0.0  2.18  0.0  0.458  7.147  54.2  6.0622  3.0  222.0  18.7   \n",
      "\n",
      "       11    12  \n",
      "0  396.90  4.98  \n",
      "1  396.90  9.14  \n",
      "2  392.83  4.03  \n",
      "3  394.63  2.94  \n",
      "4  396.90  5.33  \n"
     ]
    }
   ],
   "source": [
    "from sklearn.datasets import load_boston\n",
    "import pandas as pd\n",
    "\n",
    "boston = load_boston()\n",
    "print(boston.DESCR)\n",
    "print(pd.DataFrame(boston.data).head())"
   ]
  },
  {
   "cell_type": "markdown",
   "metadata": {},
   "source": [
    "The same data is also availabe from tensorflow without description and with train and eval data already separated"
   ]
  },
  {
   "cell_type": "code",
   "execution_count": 2,
   "metadata": {},
   "outputs": [
    {
     "name": "stdout",
     "output_type": "stream",
     "text": [
      "train shape is (404, 13)\n",
      "train value shape is (404,)\n",
      "eval shape is (102, 13)\n",
      "eval value shape is (102,)\n"
     ]
    }
   ],
   "source": [
    "import tensorflow as tf\n",
    "\n",
    "(x_train, y_train), (x_eval, y_eval) = tf.keras.datasets.boston_housing.load_data()\n",
    "print(\"train shape is {}\".format(x_train.shape))\n",
    "print(\"train value shape is {}\".format(y_train.shape))\n",
    "print(\"eval shape is {}\".format(x_eval.shape))\n",
    "print(\"eval value shape is {}\".format(y_eval.shape))"
   ]
  },
  {
   "cell_type": "markdown",
   "metadata": {},
   "source": [
    "Next we need to scale the inputs to the neural network. This is done by using a StandardScaler."
   ]
  },
  {
   "cell_type": "code",
   "execution_count": 3,
   "metadata": {},
   "outputs": [],
   "source": [
    "from sklearn.preprocessing import StandardScaler\n",
    "\n",
    "scaler = StandardScaler()\n",
    "x_train = scaler.fit_transform(x_train)\n",
    "x_eval = scaler.transform(x_eval)"
   ]
  },
  {
   "cell_type": "markdown",
   "metadata": {},
   "source": [
    "For in-memory data in Pipeline, the data format should be a nested dictionary like: {\"mode1\": {\"feature1\": numpy_array, \"feature2\": numpy_array, ...}, ...}. Each mode can be either train or eval, in our case, we have both train and eval. feature is the feature name, in our case, we have x and y."
   ]
  },
  {
   "cell_type": "code",
   "execution_count": 4,
   "metadata": {},
   "outputs": [],
   "source": [
    "data = {\n",
    "        \"train\": {\n",
    "            \"x\": x_train, \"y\": y_train\n",
    "        },\n",
    "        \"eval\": {\n",
    "            \"x\": x_eval, \"y\": y_eval\n",
    "        }\n",
    "    }"
   ]
  },
  {
   "cell_type": "code",
   "execution_count": 5,
   "metadata": {
    "tags": [
     "parameters"
    ]
   },
   "outputs": [],
   "source": [
    "#Parameters\n",
    "epochs = 50\n",
    "batch_size = 32\n",
    "steps_per_epoch = None"
   ]
  },
  {
   "cell_type": "markdown",
   "metadata": {},
   "source": [
    "Now we are ready to define Pipeline:"
   ]
  },
  {
   "cell_type": "code",
   "execution_count": 6,
   "metadata": {},
   "outputs": [],
   "source": [
    "import fastestimator as fe\n",
    "\n",
    "pipeline = fe.Pipeline(batch_size=batch_size, data=data)"
   ]
  },
  {
   "cell_type": "markdown",
   "metadata": {},
   "source": [
    "## Step 2: Prepare model, create FastEstimator Network\n",
    "\n",
    "First, we have to define the network architecture in tf.keras.Model or tf.keras.Sequential. After defining the architecture, users are expected to feed the architecture definition and its associated model name, optimizer and loss name (default to be 'loss') to FEModel."
   ]
  },
  {
   "cell_type": "code",
   "execution_count": 7,
   "metadata": {},
   "outputs": [],
   "source": [
    "from tensorflow.keras import layers\n",
    "\n",
    "def create_dnn():\n",
    "    model = tf.keras.Sequential()\n",
    "\n",
    "    model.add(layers.Dense(64, activation=\"relu\", input_shape=(13,)))\n",
    "    model.add(layers.Dropout(0.5))\n",
    "    model.add(layers.Dense(32, activation=\"relu\"))\n",
    "    model.add(layers.Dropout(0.5))\n",
    "    model.add(layers.Dense(16, activation=\"relu\"))\n",
    "    model.add(layers.Dropout(0.5))\n",
    "    model.add(layers.Dense(1, activation=\"linear\"))\n",
    "\n",
    "    return model\n",
    "\n",
    "model = fe.build(model_def=create_dnn, model_name=\"dnn\", optimizer=\"adam\", loss_name=\"loss\")"
   ]
  },
  {
   "cell_type": "markdown",
   "metadata": {},
   "source": [
    "Now we are ready to define the Network: given with a batch data with key x and y, we have to work our way to loss with series of operators. ModelOp is an operator that contains a model."
   ]
  },
  {
   "cell_type": "code",
   "execution_count": 8,
   "metadata": {},
   "outputs": [],
   "source": [
    "from fastestimator.op.tensorop import ModelOp, MeanSquaredError\n",
    "\n",
    "network = fe.Network(\n",
    "    ops=[ModelOp(inputs=\"x\", model=model, outputs=\"y_pred\"), MeanSquaredError(inputs=(\"y\",\"y_pred\"),outputs=\"loss\")])"
   ]
  },
  {
   "cell_type": "markdown",
   "metadata": {},
   "source": [
    "## Step 3: Configure training, create Estimator\n",
    "\n",
    "During the training loop, we want to: 1) measure lowest loss for data data 2) save the model with lowest valdiation loss. Trace class is used for anything related to training loop, we will need to import the ModelSaver trace."
   ]
  },
  {
   "cell_type": "code",
   "execution_count": 9,
   "metadata": {},
   "outputs": [],
   "source": [
    "import tempfile\n",
    "from fastestimator.trace import ModelSaver\n",
    "\n",
    "model_dir = tempfile.mkdtemp()\n",
    "traces = [ModelSaver(model_name=\"dnn\", save_dir=model_dir, save_best=True)]"
   ]
  },
  {
   "cell_type": "markdown",
   "metadata": {},
   "source": [
    "Now we can define the Estimator and specify the training configuation:"
   ]
  },
  {
   "cell_type": "code",
   "execution_count": 10,
   "metadata": {},
   "outputs": [],
   "source": [
    "estimator = fe.Estimator(network=network, pipeline=pipeline, epochs=50, traces=traces)"
   ]
  },
  {
   "cell_type": "markdown",
   "metadata": {},
   "source": [
    "## Start Training"
   ]
  },
  {
   "cell_type": "code",
   "execution_count": 11,
   "metadata": {},
   "outputs": [
    {
     "name": "stdout",
     "output_type": "stream",
     "text": [
      "    ______           __  ______     __  _                 __            \n",
      "   / ____/___ ______/ /_/ ____/____/ /_(_)___ ___  ____ _/ /_____  _____\n",
      "  / /_  / __ `/ ___/ __/ __/ / ___/ __/ / __ `__ \\/ __ `/ __/ __ \\/ ___/\n",
      " / __/ / /_/ (__  ) /_/ /___(__  ) /_/ / / / / / / /_/ / /_/ /_/ / /    \n",
      "/_/    \\__,_/____/\\__/_____/____/\\__/_/_/ /_/ /_/\\__,_/\\__/\\____/_/     \n",
      "                                                                        \n",
      "\n",
      "WARNING:tensorflow:Layer dense is casting an input tensor from dtype float64 to the layer's dtype of float32, which is new behavior in TensorFlow 2.  The layer has dtype float32 because it's dtype defaults to floatx.\n",
      "\n",
      "If you intended to run this layer in float32, you can safely ignore this warning. If in doubt, this warning is likely only an issue if you are porting a TensorFlow 1.X model to TensorFlow 2.\n",
      "\n",
      "To change all layers to have dtype float64 by default, call `tf.keras.backend.set_floatx('float64')`. To change just this layer, pass dtype='float64' to the layer constructor. If you are the author of this layer, you can disable autocasting by passing autocast=False to the base Layer constructor.\n",
      "\n",
      "FastEstimator-Start: step: 0; total_train_steps: 600; dnn_lr: 0.001; \n",
      "FastEstimator-Train: step: 0; loss: 631.3717; \n",
      "FastEstimator-ModelSaver: Saving model to /tmp/tmpdde82bud/dnn_best_loss.h5\n",
      "FastEstimator-Eval: step: 12; epoch: 0; loss: 598.1178; min_loss: 598.1178; since_best_loss: 0; \n",
      "FastEstimator-ModelSaver: Saving model to /tmp/tmpdde82bud/dnn_best_loss.h5\n",
      "FastEstimator-Eval: step: 24; epoch: 1; loss: 585.2871; min_loss: 585.2871; since_best_loss: 0; \n",
      "FastEstimator-ModelSaver: Saving model to /tmp/tmpdde82bud/dnn_best_loss.h5\n",
      "FastEstimator-Eval: step: 36; epoch: 2; loss: 548.1287; min_loss: 548.1287; since_best_loss: 0; \n",
      "FastEstimator-ModelSaver: Saving model to /tmp/tmpdde82bud/dnn_best_loss.h5\n",
      "FastEstimator-Eval: step: 48; epoch: 3; loss: 491.4474; min_loss: 491.44742; since_best_loss: 0; \n",
      "FastEstimator-ModelSaver: Saving model to /tmp/tmpdde82bud/dnn_best_loss.h5\n",
      "FastEstimator-Eval: step: 60; epoch: 4; loss: 440.35083; min_loss: 440.3508; since_best_loss: 0; \n",
      "FastEstimator-ModelSaver: Saving model to /tmp/tmpdde82bud/dnn_best_loss.h5\n",
      "FastEstimator-Eval: step: 72; epoch: 5; loss: 349.36548; min_loss: 349.36548; since_best_loss: 0; \n",
      "FastEstimator-ModelSaver: Saving model to /tmp/tmpdde82bud/dnn_best_loss.h5\n",
      "FastEstimator-Eval: step: 84; epoch: 6; loss: 263.70737; min_loss: 263.70737; since_best_loss: 0; \n",
      "FastEstimator-ModelSaver: Saving model to /tmp/tmpdde82bud/dnn_best_loss.h5\n",
      "FastEstimator-Eval: step: 96; epoch: 7; loss: 208.04659; min_loss: 208.04659; since_best_loss: 0; \n",
      "FastEstimator-Train: step: 100; loss: 322.79944; examples/sec: 16267.8; progress: 16.7%; \n",
      "FastEstimator-ModelSaver: Saving model to /tmp/tmpdde82bud/dnn_best_loss.h5\n",
      "FastEstimator-Eval: step: 108; epoch: 8; loss: 158.2412; min_loss: 158.2412; since_best_loss: 0; \n",
      "FastEstimator-Eval: step: 120; epoch: 9; loss: 162.33815; min_loss: 158.2412; since_best_loss: 1; \n",
      "FastEstimator-Eval: step: 132; epoch: 10; loss: 159.01903; min_loss: 158.2412; since_best_loss: 2; \n",
      "FastEstimator-ModelSaver: Saving model to /tmp/tmpdde82bud/dnn_best_loss.h5\n",
      "FastEstimator-Eval: step: 144; epoch: 11; loss: 144.94574; min_loss: 144.94574; since_best_loss: 0; \n",
      "FastEstimator-ModelSaver: Saving model to /tmp/tmpdde82bud/dnn_best_loss.h5\n",
      "FastEstimator-Eval: step: 156; epoch: 12; loss: 121.13295; min_loss: 121.13296; since_best_loss: 0; \n",
      "FastEstimator-Eval: step: 168; epoch: 13; loss: 131.03876; min_loss: 121.13296; since_best_loss: 1; \n",
      "FastEstimator-Eval: step: 180; epoch: 14; loss: 130.50304; min_loss: 121.13296; since_best_loss: 2; \n",
      "FastEstimator-ModelSaver: Saving model to /tmp/tmpdde82bud/dnn_best_loss.h5\n",
      "FastEstimator-Eval: step: 192; epoch: 15; loss: 119.98342; min_loss: 119.98342; since_best_loss: 0; \n",
      "FastEstimator-Train: step: 200; loss: 236.739; examples/sec: 16529.9; progress: 33.3%; \n",
      "FastEstimator-Eval: step: 204; epoch: 16; loss: 123.13568; min_loss: 119.98342; since_best_loss: 1; \n",
      "FastEstimator-Eval: step: 216; epoch: 17; loss: 131.41255; min_loss: 119.98342; since_best_loss: 2; \n",
      "FastEstimator-Eval: step: 228; epoch: 18; loss: 129.76547; min_loss: 119.98342; since_best_loss: 3; \n",
      "FastEstimator-Eval: step: 240; epoch: 19; loss: 126.51717; min_loss: 119.98342; since_best_loss: 4; \n",
      "FastEstimator-ModelSaver: Saving model to /tmp/tmpdde82bud/dnn_best_loss.h5\n",
      "FastEstimator-Eval: step: 252; epoch: 20; loss: 113.30204; min_loss: 113.30204; since_best_loss: 0; \n",
      "FastEstimator-Eval: step: 264; epoch: 21; loss: 120.73496; min_loss: 113.30204; since_best_loss: 1; \n",
      "FastEstimator-ModelSaver: Saving model to /tmp/tmpdde82bud/dnn_best_loss.h5\n",
      "FastEstimator-Eval: step: 276; epoch: 22; loss: 107.06936; min_loss: 107.06936; since_best_loss: 0; \n",
      "FastEstimator-ModelSaver: Saving model to /tmp/tmpdde82bud/dnn_best_loss.h5\n",
      "FastEstimator-Eval: step: 288; epoch: 23; loss: 106.74676; min_loss: 106.74676; since_best_loss: 0; \n",
      "FastEstimator-Eval: step: 300; epoch: 24; loss: 113.59786; min_loss: 106.74676; since_best_loss: 1; \n",
      "FastEstimator-Train: step: 300; loss: 117.393845; examples/sec: 16687.8; progress: 50.0%; \n",
      "FastEstimator-Eval: step: 312; epoch: 25; loss: 119.75425; min_loss: 106.74676; since_best_loss: 2; \n",
      "FastEstimator-Eval: step: 324; epoch: 26; loss: 121.13931; min_loss: 106.74676; since_best_loss: 3; \n",
      "FastEstimator-Eval: step: 336; epoch: 27; loss: 115.6521; min_loss: 106.74676; since_best_loss: 4; \n",
      "FastEstimator-Eval: step: 348; epoch: 28; loss: 112.549225; min_loss: 106.74676; since_best_loss: 5; \n",
      "FastEstimator-ModelSaver: Saving model to /tmp/tmpdde82bud/dnn_best_loss.h5\n",
      "FastEstimator-Eval: step: 360; epoch: 29; loss: 100.22953; min_loss: 100.22953; since_best_loss: 0; \n",
      "FastEstimator-Eval: step: 372; epoch: 30; loss: 107.33677; min_loss: 100.22953; since_best_loss: 1; \n",
      "FastEstimator-Eval: step: 384; epoch: 31; loss: 114.498955; min_loss: 100.22953; since_best_loss: 2; \n",
      "FastEstimator-Eval: step: 396; epoch: 32; loss: 112.131325; min_loss: 100.22953; since_best_loss: 3; \n",
      "FastEstimator-Train: step: 400; loss: 143.01228; examples/sec: 16677.9; progress: 66.7%; \n",
      "FastEstimator-Eval: step: 408; epoch: 33; loss: 115.31739; min_loss: 100.22953; since_best_loss: 4; \n",
      "FastEstimator-Eval: step: 420; epoch: 34; loss: 109.61444; min_loss: 100.22953; since_best_loss: 5; \n",
      "FastEstimator-Eval: step: 432; epoch: 35; loss: 104.92245; min_loss: 100.22953; since_best_loss: 6; \n",
      "FastEstimator-Eval: step: 444; epoch: 36; loss: 114.666664; min_loss: 100.22953; since_best_loss: 7; \n",
      "FastEstimator-Eval: step: 456; epoch: 37; loss: 110.88846; min_loss: 100.22953; since_best_loss: 8; \n",
      "FastEstimator-Eval: step: 468; epoch: 38; loss: 112.38455; min_loss: 100.22953; since_best_loss: 9; \n",
      "FastEstimator-Eval: step: 480; epoch: 39; loss: 103.19473; min_loss: 100.22953; since_best_loss: 10; \n",
      "FastEstimator-ModelSaver: Saving model to /tmp/tmpdde82bud/dnn_best_loss.h5\n",
      "FastEstimator-Eval: step: 492; epoch: 40; loss: 97.947845; min_loss: 97.947845; since_best_loss: 0; \n",
      "FastEstimator-Train: step: 500; loss: 141.27327; examples/sec: 16559.5; progress: 83.3%; \n",
      "FastEstimator-Eval: step: 504; epoch: 41; loss: 119.58506; min_loss: 97.947845; since_best_loss: 1; \n",
      "FastEstimator-Eval: step: 516; epoch: 42; loss: 107.86062; min_loss: 97.947845; since_best_loss: 2; \n",
      "FastEstimator-Eval: step: 528; epoch: 43; loss: 107.24213; min_loss: 97.947845; since_best_loss: 3; \n",
      "FastEstimator-Eval: step: 540; epoch: 44; loss: 108.99735; min_loss: 97.947845; since_best_loss: 4; \n",
      "FastEstimator-Eval: step: 552; epoch: 45; loss: 114.51487; min_loss: 97.947845; since_best_loss: 5; \n",
      "FastEstimator-Eval: step: 564; epoch: 46; loss: 105.02364; min_loss: 97.947845; since_best_loss: 6; \n",
      "FastEstimator-Eval: step: 576; epoch: 47; loss: 108.6293; min_loss: 97.947845; since_best_loss: 7; \n",
      "FastEstimator-Eval: step: 588; epoch: 48; loss: 111.32884; min_loss: 97.947845; since_best_loss: 8; \n",
      "FastEstimator-Eval: step: 600; epoch: 49; loss: 105.59374; min_loss: 97.947845; since_best_loss: 9; \n",
      "FastEstimator-Finish: step: 600; total_time: 3.4 sec; dnn_lr: 0.001; \n"
     ]
    }
   ],
   "source": [
    "estimator.fit()"
   ]
  },
  {
   "cell_type": "markdown",
   "metadata": {},
   "source": [
    "## Inferencing\n",
    "\n",
    "After training, the model is saved to a temporary folder. we can load the model from file and do inferencing on a sample."
   ]
  },
  {
   "cell_type": "code",
   "execution_count": 12,
   "metadata": {},
   "outputs": [],
   "source": [
    "import os\n",
    "\n",
    "model_path = os.path.join(model_dir, 'dnn_best_loss.h5')\n",
    "trained_model = tf.keras.models.load_model(model_path, compile=False)"
   ]
  },
  {
   "cell_type": "markdown",
   "metadata": {},
   "source": [
    "Randomly get one sample from validation set and compare the predicted value with model's prediction:"
   ]
  },
  {
   "cell_type": "code",
   "execution_count": 13,
   "metadata": {},
   "outputs": [
    {
     "name": "stdout",
     "output_type": "stream",
     "text": [
      "test sample idx 2, ground truth: 19.0\n",
      "model predicted value is [[20.183064]]\n"
     ]
    }
   ],
   "source": [
    "import numpy as np\n",
    "\n",
    "selected_idx = np.random.randint(0, high=101)\n",
    "print(\"test sample idx {}, ground truth: {}\".format(selected_idx, y_eval[selected_idx]))\n",
    "\n",
    "test_sample = np.expand_dims(x_eval[selected_idx], axis=0)\n",
    "\n",
    "predicted_value = trained_model.predict(test_sample)\n",
    "print(\"model predicted value is {}\".format(predicted_value))"
   ]
  },
  {
   "cell_type": "code",
   "execution_count": null,
   "metadata": {},
   "outputs": [],
   "source": []
  }
 ],
 "metadata": {
  "celltoolbar": "Tags",
  "kernelspec": {
   "display_name": "Python 3",
   "language": "python",
   "name": "python3"
  },
  "language_info": {
   "codemirror_mode": {
    "name": "ipython",
    "version": 3
   },
   "file_extension": ".py",
   "mimetype": "text/x-python",
   "name": "python",
   "nbconvert_exporter": "python",
   "pygments_lexer": "ipython3",
   "version": "3.6.8"
  }
 },
 "nbformat": 4,
 "nbformat_minor": 2
}
