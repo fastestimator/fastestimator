{
 "cells": [
  {
   "cell_type": "markdown",
   "metadata": {},
   "source": [
    "# Breast cancer predictor (regression) using DNN\n",
    "\n",
    "## Step 1: Prepare training and evaluation dataset, create FastEstimator Pipeline\n",
    "\n",
    "Pipeline can take both data in memory and data in disk. In this example, we are going to use data in memory by loading data with sklearn.datasets.load_breast_cancer.\n",
    "The following can be used to get the description of the data:"
   ]
  },
  {
   "cell_type": "code",
   "execution_count": 1,
   "metadata": {},
   "outputs": [
    {
     "name": "stdout",
     "output_type": "stream",
     "text": [
      ".. _breast_cancer_dataset:\n",
      "\n",
      "Breast cancer wisconsin (diagnostic) dataset\n",
      "--------------------------------------------\n",
      "\n",
      "**Data Set Characteristics:**\n",
      "\n",
      "    :Number of Instances: 569\n",
      "\n",
      "    :Number of Attributes: 30 numeric, predictive attributes and the class\n",
      "\n",
      "    :Attribute Information:\n",
      "        - radius (mean of distances from center to points on the perimeter)\n",
      "        - texture (standard deviation of gray-scale values)\n",
      "        - perimeter\n",
      "        - area\n",
      "        - smoothness (local variation in radius lengths)\n",
      "        - compactness (perimeter^2 / area - 1.0)\n",
      "        - concavity (severity of concave portions of the contour)\n",
      "        - concave points (number of concave portions of the contour)\n",
      "        - symmetry \n",
      "        - fractal dimension (\"coastline approximation\" - 1)\n",
      "\n",
      "        The mean, standard error, and \"worst\" or largest (mean of the three\n",
      "        largest values) of these features were computed for each image,\n",
      "        resulting in 30 features.  For instance, field 3 is Mean Radius, field\n",
      "        13 is Radius SE, field 23 is Worst Radius.\n",
      "\n",
      "        - class:\n",
      "                - WDBC-Malignant\n",
      "                - WDBC-Benign\n",
      "\n",
      "    :Summary Statistics:\n",
      "\n",
      "    ===================================== ====== ======\n",
      "                                           Min    Max\n",
      "    ===================================== ====== ======\n",
      "    radius (mean):                        6.981  28.11\n",
      "    texture (mean):                       9.71   39.28\n",
      "    perimeter (mean):                     43.79  188.5\n",
      "    area (mean):                          143.5  2501.0\n",
      "    smoothness (mean):                    0.053  0.163\n",
      "    compactness (mean):                   0.019  0.345\n",
      "    concavity (mean):                     0.0    0.427\n",
      "    concave points (mean):                0.0    0.201\n",
      "    symmetry (mean):                      0.106  0.304\n",
      "    fractal dimension (mean):             0.05   0.097\n",
      "    radius (standard error):              0.112  2.873\n",
      "    texture (standard error):             0.36   4.885\n",
      "    perimeter (standard error):           0.757  21.98\n",
      "    area (standard error):                6.802  542.2\n",
      "    smoothness (standard error):          0.002  0.031\n",
      "    compactness (standard error):         0.002  0.135\n",
      "    concavity (standard error):           0.0    0.396\n",
      "    concave points (standard error):      0.0    0.053\n",
      "    symmetry (standard error):            0.008  0.079\n",
      "    fractal dimension (standard error):   0.001  0.03\n",
      "    radius (worst):                       7.93   36.04\n",
      "    texture (worst):                      12.02  49.54\n",
      "    perimeter (worst):                    50.41  251.2\n",
      "    area (worst):                         185.2  4254.0\n",
      "    smoothness (worst):                   0.071  0.223\n",
      "    compactness (worst):                  0.027  1.058\n",
      "    concavity (worst):                    0.0    1.252\n",
      "    concave points (worst):               0.0    0.291\n",
      "    symmetry (worst):                     0.156  0.664\n",
      "    fractal dimension (worst):            0.055  0.208\n",
      "    ===================================== ====== ======\n",
      "\n",
      "    :Missing Attribute Values: None\n",
      "\n",
      "    :Class Distribution: 212 - Malignant, 357 - Benign\n",
      "\n",
      "    :Creator:  Dr. William H. Wolberg, W. Nick Street, Olvi L. Mangasarian\n",
      "\n",
      "    :Donor: Nick Street\n",
      "\n",
      "    :Date: November, 1995\n",
      "\n",
      "This is a copy of UCI ML Breast Cancer Wisconsin (Diagnostic) datasets.\n",
      "https://goo.gl/U2Uwz2\n",
      "\n",
      "Features are computed from a digitized image of a fine needle\n",
      "aspirate (FNA) of a breast mass.  They describe\n",
      "characteristics of the cell nuclei present in the image.\n",
      "\n",
      "Separating plane described above was obtained using\n",
      "Multisurface Method-Tree (MSM-T) [K. P. Bennett, \"Decision Tree\n",
      "Construction Via Linear Programming.\" Proceedings of the 4th\n",
      "Midwest Artificial Intelligence and Cognitive Science Society,\n",
      "pp. 97-101, 1992], a classification method which uses linear\n",
      "programming to construct a decision tree.  Relevant features\n",
      "were selected using an exhaustive search in the space of 1-4\n",
      "features and 1-3 separating planes.\n",
      "\n",
      "The actual linear program used to obtain the separating plane\n",
      "in the 3-dimensional space is that described in:\n",
      "[K. P. Bennett and O. L. Mangasarian: \"Robust Linear\n",
      "Programming Discrimination of Two Linearly Inseparable Sets\",\n",
      "Optimization Methods and Software 1, 1992, 23-34].\n",
      "\n",
      "This database is also available through the UW CS ftp server:\n",
      "\n",
      "ftp ftp.cs.wisc.edu\n",
      "cd math-prog/cpo-dataset/machine-learn/WDBC/\n",
      "\n",
      ".. topic:: References\n",
      "\n",
      "   - W.N. Street, W.H. Wolberg and O.L. Mangasarian. Nuclear feature extraction \n",
      "     for breast tumor diagnosis. IS&T/SPIE 1993 International Symposium on \n",
      "     Electronic Imaging: Science and Technology, volume 1905, pages 861-870,\n",
      "     San Jose, CA, 1993.\n",
      "   - O.L. Mangasarian, W.N. Street and W.H. Wolberg. Breast cancer diagnosis and \n",
      "     prognosis via linear programming. Operations Research, 43(4), pages 570-577, \n",
      "     July-August 1995.\n",
      "   - W.H. Wolberg, W.N. Street, and O.L. Mangasarian. Machine learning techniques\n",
      "     to diagnose breast cancer from fine-needle aspirates. Cancer Letters 77 (1994) \n",
      "     163-171.\n"
     ]
    }
   ],
   "source": [
    "from sklearn.datasets import load_breast_cancer\n",
    "\n",
    "breast_cancer = load_breast_cancer()\n",
    "print(breast_cancer.DESCR)"
   ]
  },
  {
   "cell_type": "markdown",
   "metadata": {},
   "source": [
    "Next, split the data into train and eval sets"
   ]
  },
  {
   "cell_type": "code",
   "execution_count": 2,
   "metadata": {},
   "outputs": [],
   "source": [
    "from sklearn.model_selection import train_test_split\n",
    "\n",
    "(X, y) = load_breast_cancer(True)\n",
    "x_train, x_eval, y_train, y_eval = train_test_split(X, y, test_size=0.2)"
   ]
  },
  {
   "cell_type": "markdown",
   "metadata": {},
   "source": [
    "Next we need to scale the inputs to the neural network. This is done by using a StandardScaler."
   ]
  },
  {
   "cell_type": "code",
   "execution_count": 3,
   "metadata": {},
   "outputs": [],
   "source": [
    "from sklearn.preprocessing import StandardScaler\n",
    "\n",
    "scaler = StandardScaler()\n",
    "x_train = scaler.fit_transform(x_train)\n",
    "x_eval = scaler.transform(x_eval)"
   ]
  },
  {
   "cell_type": "markdown",
   "metadata": {},
   "source": [
    "For in-memory data in Pipeline, the data format should be a nested dictionary like: {\"mode1\": {\"feature1\": numpy_array, \"feature2\": numpy_array, ...}, ...}. Each mode can be either train or eval, in our case, we have both train and eval. feature is the feature name, in our case, we have x and y. The network prediction will be a rank-1 array, in order to match prediction, we will expand the groud truth dimension by 1."
   ]
  },
  {
   "cell_type": "code",
   "execution_count": 4,
   "metadata": {},
   "outputs": [],
   "source": [
    "import numpy as np\n",
    "\n",
    "train_data = {\"x\": x_train, \"y\": np.expand_dims(y_train, -1)}\n",
    "eval_data = {\"x\": x_eval, \"y\": np.expand_dims(y_eval, -1)}\n",
    "data = {\"train\": train_data, \"eval\": eval_data}"
   ]
  },
  {
   "cell_type": "code",
   "execution_count": 6,
   "metadata": {
    "tags": [
     "parameters"
    ]
   },
   "outputs": [],
   "source": [
    "#Parameters\n",
    "epochs = 50\n",
    "batch_size = 32\n",
    "steps_per_epoch = None\n",
    "validation_steps = None"
   ]
  },
  {
   "cell_type": "markdown",
   "metadata": {},
   "source": [
    "Now we are ready to define Pipeline:"
   ]
  },
  {
   "cell_type": "code",
   "execution_count": 7,
   "metadata": {},
   "outputs": [],
   "source": [
    "import fastestimator as fe\n",
    "\n",
    "pipeline = fe.Pipeline(batch_size=batch_size, data=data)"
   ]
  },
  {
   "cell_type": "markdown",
   "metadata": {},
   "source": [
    "## Step 2: Prepare model, create FastEstimator Network\n",
    "\n",
    "First, we have to define the network architecture in tf.keras.Model or tf.keras.Sequential. After defining the architecture, users are expected to feed the architecture definition and its associated model name, optimizer and loss name (default to be 'loss') to FEModel."
   ]
  },
  {
   "cell_type": "code",
   "execution_count": 8,
   "metadata": {},
   "outputs": [],
   "source": [
    "import tensorflow as tf\n",
    "from tensorflow.keras import layers\n",
    "\n",
    "def create_dnn():\n",
    "    model = tf.keras.Sequential()\n",
    "\n",
    "    model.add(layers.Dense(32, activation=\"relu\", input_shape=(30, )))\n",
    "    model.add(layers.Dropout(0.5))\n",
    "    model.add(layers.Dense(16, activation=\"relu\"))\n",
    "    model.add(layers.Dropout(0.5))\n",
    "    model.add(layers.Dense(8, activation=\"relu\"))\n",
    "    model.add(layers.Dropout(0.5))\n",
    "    model.add(layers.Dense(1, activation=\"sigmoid\"))\n",
    "\n",
    "    return model\n",
    "\n",
    "model = fe.build(model_def=create_dnn, model_name=\"dnn\", optimizer=\"adam\", loss_name=\"loss\")"
   ]
  },
  {
   "cell_type": "markdown",
   "metadata": {},
   "source": [
    "Now we are ready to define the Network: given with a batch data with key x and y, we have to work our way to loss with series of operators. ModelOp is an operator that contains a model."
   ]
  },
  {
   "cell_type": "code",
   "execution_count": 9,
   "metadata": {},
   "outputs": [],
   "source": [
    "from fastestimator.op.tensorop import ModelOp, BinaryCrossentropy\n",
    "\n",
    "network = fe.Network(\n",
    "    ops=[ModelOp(inputs=\"x\", model=model, outputs=\"y_pred\"), BinaryCrossentropy(inputs=(\"y\",\"y_pred\"),outputs=\"loss\")])"
   ]
  },
  {
   "cell_type": "markdown",
   "metadata": {},
   "source": [
    "## Step 3: Configure training, create Estimator\n",
    "\n",
    "During the training loop, we want to: 1) measure lowest loss for data 2) save the model with lowest valdiation loss. Trace class is used for anything related to training loop, we will need to import the ModelSaver trace."
   ]
  },
  {
   "cell_type": "code",
   "execution_count": 10,
   "metadata": {},
   "outputs": [],
   "source": [
    "import tempfile\n",
    "from fastestimator.trace import ModelSaver\n",
    "\n",
    "model_dir = tempfile.mkdtemp()\n",
    "traces = [ModelSaver(model_name=\"dnn\", save_dir=model_dir, save_best=True)]"
   ]
  },
  {
   "cell_type": "markdown",
   "metadata": {},
   "source": [
    "Now we can define the Estimator and specify the training configuation:"
   ]
  },
  {
   "cell_type": "code",
   "execution_count": 11,
   "metadata": {},
   "outputs": [],
   "source": [
    "estimator = fe.Estimator(network=network, \n",
    "                         pipeline=pipeline, \n",
    "                         epochs=epochs, \n",
    "                         steps_per_epoch=steps_per_epoch,\n",
    "                         validation_steps=validation_steps,\n",
    "                         traces=traces)"
   ]
  },
  {
   "cell_type": "markdown",
   "metadata": {},
   "source": [
    "## Start Training"
   ]
  },
  {
   "cell_type": "code",
   "execution_count": 12,
   "metadata": {},
   "outputs": [
    {
     "name": "stdout",
     "output_type": "stream",
     "text": [
      "    ______           __  ______     __  _                 __            \n",
      "   / ____/___ ______/ /_/ ____/____/ /_(_)___ ___  ____ _/ /_____  _____\n",
      "  / /_  / __ `/ ___/ __/ __/ / ___/ __/ / __ `__ \\/ __ `/ __/ __ \\/ ___/\n",
      " / __/ / /_/ (__  ) /_/ /___(__  ) /_/ / / / / / / /_/ / /_/ /_/ / /    \n",
      "/_/    \\__,_/____/\\__/_____/____/\\__/_/_/ /_/ /_/\\__,_/\\__/\\____/_/     \n",
      "                                                                        \n",
      "\n"
     ]
    },
    {
     "name": "stderr",
     "output_type": "stream",
     "text": [
      "WARNING: Logging before flag parsing goes to stderr.\n",
      "W0107 16:08:06.647137 140186565609280 base_layer.py:1814] Layer dense is casting an input tensor from dtype float64 to the layer's dtype of float32, which is new behavior in TensorFlow 2.  The layer has dtype float32 because it's dtype defaults to floatx.\n",
      "\n",
      "If you intended to run this layer in float32, you can safely ignore this warning. If in doubt, this warning is likely only an issue if you are porting a TensorFlow 1.X model to TensorFlow 2.\n",
      "\n",
      "To change all layers to have dtype float64 by default, call `tf.keras.backend.set_floatx('float64')`. To change just this layer, pass dtype='float64' to the layer constructor. If you are the author of this layer, you can disable autocasting by passing autocast=False to the base Layer constructor.\n",
      "\n"
     ]
    },
    {
     "name": "stdout",
     "output_type": "stream",
     "text": [
      "FastEstimator-Start: step: 0; total_train_steps: 700; dnn_lr: 0.001; \n",
      "FastEstimator-Train: step: 0; loss: 0.7021929; \n",
      "FastEstimator-ModelSaver: Saving model to /tmp/tmppwyeiwu2/dnn_best_loss.h5\n",
      "FastEstimator-Eval: step: 14; epoch: 0; loss: 0.5658682; min_loss: 0.56586826; since_best_loss: 0; \n",
      "FastEstimator-ModelSaver: Saving model to /tmp/tmppwyeiwu2/dnn_best_loss.h5\n",
      "FastEstimator-Eval: step: 28; epoch: 1; loss: 0.533607; min_loss: 0.53360695; since_best_loss: 0; \n",
      "FastEstimator-ModelSaver: Saving model to /tmp/tmppwyeiwu2/dnn_best_loss.h5\n",
      "FastEstimator-Eval: step: 42; epoch: 2; loss: 0.4919445; min_loss: 0.49194452; since_best_loss: 0; \n",
      "FastEstimator-ModelSaver: Saving model to /tmp/tmppwyeiwu2/dnn_best_loss.h5\n",
      "FastEstimator-Eval: step: 56; epoch: 3; loss: 0.4704986; min_loss: 0.47049853; since_best_loss: 0; \n",
      "FastEstimator-ModelSaver: Saving model to /tmp/tmppwyeiwu2/dnn_best_loss.h5\n",
      "FastEstimator-Eval: step: 70; epoch: 4; loss: 0.4535487; min_loss: 0.4535487; since_best_loss: 0; \n",
      "FastEstimator-ModelSaver: Saving model to /tmp/tmppwyeiwu2/dnn_best_loss.h5\n",
      "FastEstimator-Eval: step: 84; epoch: 5; loss: 0.4262615; min_loss: 0.4262615; since_best_loss: 0; \n",
      "FastEstimator-ModelSaver: Saving model to /tmp/tmppwyeiwu2/dnn_best_loss.h5\n",
      "FastEstimator-Eval: step: 98; epoch: 6; loss: 0.4072597; min_loss: 0.40725973; since_best_loss: 0; \n",
      "FastEstimator-Train: step: 100; loss: 0.6231729; examples/sec: 15342.9; progress: 14.3%; \n",
      "FastEstimator-ModelSaver: Saving model to /tmp/tmppwyeiwu2/dnn_best_loss.h5\n",
      "FastEstimator-Eval: step: 112; epoch: 7; loss: 0.3857336; min_loss: 0.38573357; since_best_loss: 0; \n",
      "FastEstimator-ModelSaver: Saving model to /tmp/tmppwyeiwu2/dnn_best_loss.h5\n",
      "FastEstimator-Eval: step: 126; epoch: 8; loss: 0.3608055; min_loss: 0.3608055; since_best_loss: 0; \n",
      "FastEstimator-ModelSaver: Saving model to /tmp/tmppwyeiwu2/dnn_best_loss.h5\n",
      "FastEstimator-Eval: step: 140; epoch: 9; loss: 0.330955; min_loss: 0.330955; since_best_loss: 0; \n",
      "FastEstimator-ModelSaver: Saving model to /tmp/tmppwyeiwu2/dnn_best_loss.h5\n",
      "FastEstimator-Eval: step: 154; epoch: 10; loss: 0.2889115; min_loss: 0.28891152; since_best_loss: 0; \n",
      "FastEstimator-ModelSaver: Saving model to /tmp/tmppwyeiwu2/dnn_best_loss.h5\n",
      "FastEstimator-Eval: step: 168; epoch: 11; loss: 0.2734519; min_loss: 0.27345192; since_best_loss: 0; \n",
      "FastEstimator-ModelSaver: Saving model to /tmp/tmppwyeiwu2/dnn_best_loss.h5\n",
      "FastEstimator-Eval: step: 182; epoch: 12; loss: 0.2505448; min_loss: 0.25054482; since_best_loss: 0; \n",
      "FastEstimator-ModelSaver: Saving model to /tmp/tmppwyeiwu2/dnn_best_loss.h5\n",
      "FastEstimator-Eval: step: 196; epoch: 13; loss: 0.2256208; min_loss: 0.22562079; since_best_loss: 0; \n",
      "FastEstimator-Train: step: 200; loss: 0.5393923; examples/sec: 17198.1; progress: 28.6%; \n",
      "FastEstimator-Eval: step: 210; epoch: 14; loss: 0.2402906; min_loss: 0.22562079; since_best_loss: 1; \n",
      "FastEstimator-ModelSaver: Saving model to /tmp/tmppwyeiwu2/dnn_best_loss.h5\n",
      "FastEstimator-Eval: step: 224; epoch: 15; loss: 0.214052; min_loss: 0.21405196; since_best_loss: 0; \n",
      "FastEstimator-ModelSaver: Saving model to /tmp/tmppwyeiwu2/dnn_best_loss.h5\n",
      "FastEstimator-Eval: step: 238; epoch: 16; loss: 0.1792539; min_loss: 0.17925386; since_best_loss: 0; \n",
      "FastEstimator-Eval: step: 252; epoch: 17; loss: 0.1928262; min_loss: 0.17925386; since_best_loss: 1; \n",
      "FastEstimator-ModelSaver: Saving model to /tmp/tmppwyeiwu2/dnn_best_loss.h5\n",
      "FastEstimator-Eval: step: 266; epoch: 18; loss: 0.1791081; min_loss: 0.1791081; since_best_loss: 0; \n",
      "FastEstimator-ModelSaver: Saving model to /tmp/tmppwyeiwu2/dnn_best_loss.h5\n",
      "FastEstimator-Eval: step: 280; epoch: 19; loss: 0.149043; min_loss: 0.14904301; since_best_loss: 0; \n",
      "FastEstimator-Eval: step: 294; epoch: 20; loss: 0.1796116; min_loss: 0.14904301; since_best_loss: 1; \n",
      "FastEstimator-Train: step: 300; loss: 0.1747776; examples/sec: 17996.0; progress: 42.9%; \n",
      "FastEstimator-Eval: step: 308; epoch: 21; loss: 0.163337; min_loss: 0.14904301; since_best_loss: 2; \n",
      "FastEstimator-ModelSaver: Saving model to /tmp/tmppwyeiwu2/dnn_best_loss.h5\n",
      "FastEstimator-Eval: step: 322; epoch: 22; loss: 0.13643; min_loss: 0.13642995; since_best_loss: 0; \n",
      "FastEstimator-Eval: step: 336; epoch: 23; loss: 0.1509606; min_loss: 0.13642995; since_best_loss: 1; \n",
      "FastEstimator-ModelSaver: Saving model to /tmp/tmppwyeiwu2/dnn_best_loss.h5\n",
      "FastEstimator-Eval: step: 350; epoch: 24; loss: 0.1324001; min_loss: 0.13240013; since_best_loss: 0; \n",
      "FastEstimator-Eval: step: 364; epoch: 25; loss: 0.1485452; min_loss: 0.13240013; since_best_loss: 1; \n",
      "FastEstimator-ModelSaver: Saving model to /tmp/tmppwyeiwu2/dnn_best_loss.h5\n",
      "FastEstimator-Eval: step: 378; epoch: 26; loss: 0.1148782; min_loss: 0.114878185; since_best_loss: 0; \n",
      "FastEstimator-Eval: step: 392; epoch: 27; loss: 0.1473782; min_loss: 0.114878185; since_best_loss: 1; \n",
      "FastEstimator-Train: step: 400; loss: 0.2877561; examples/sec: 18136.3; progress: 57.1%; \n",
      "FastEstimator-Eval: step: 406; epoch: 28; loss: 0.138718; min_loss: 0.114878185; since_best_loss: 2; \n",
      "FastEstimator-ModelSaver: Saving model to /tmp/tmppwyeiwu2/dnn_best_loss.h5\n",
      "FastEstimator-Eval: step: 420; epoch: 29; loss: 0.1051666; min_loss: 0.10516662; since_best_loss: 0; \n",
      "FastEstimator-Eval: step: 434; epoch: 30; loss: 0.1275355; min_loss: 0.10516662; since_best_loss: 1; \n",
      "FastEstimator-Eval: step: 448; epoch: 31; loss: 0.1261969; min_loss: 0.10516662; since_best_loss: 2; \n",
      "FastEstimator-ModelSaver: Saving model to /tmp/tmppwyeiwu2/dnn_best_loss.h5\n",
      "FastEstimator-Eval: step: 462; epoch: 32; loss: 0.096561; min_loss: 0.09656105; since_best_loss: 0; \n",
      "FastEstimator-Eval: step: 476; epoch: 33; loss: 0.1372032; min_loss: 0.09656105; since_best_loss: 1; \n",
      "FastEstimator-Eval: step: 490; epoch: 34; loss: 0.1315486; min_loss: 0.09656105; since_best_loss: 2; \n",
      "FastEstimator-Train: step: 500; loss: 0.2690753; examples/sec: 19226.9; progress: 71.4%; \n",
      "FastEstimator-ModelSaver: Saving model to /tmp/tmppwyeiwu2/dnn_best_loss.h5\n",
      "FastEstimator-Eval: step: 504; epoch: 35; loss: 0.0929066; min_loss: 0.092906594; since_best_loss: 0; \n",
      "FastEstimator-Eval: step: 518; epoch: 36; loss: 0.1333385; min_loss: 0.092906594; since_best_loss: 1; \n",
      "FastEstimator-Eval: step: 532; epoch: 37; loss: 0.1118572; min_loss: 0.092906594; since_best_loss: 2; \n",
      "FastEstimator-ModelSaver: Saving model to /tmp/tmppwyeiwu2/dnn_best_loss.h5\n",
      "FastEstimator-Eval: step: 546; epoch: 38; loss: 0.0886135; min_loss: 0.0886135; since_best_loss: 0; \n",
      "FastEstimator-Eval: step: 560; epoch: 39; loss: 0.1384298; min_loss: 0.0886135; since_best_loss: 1; \n",
      "FastEstimator-Eval: step: 574; epoch: 40; loss: 0.1349767; min_loss: 0.0886135; since_best_loss: 2; \n",
      "FastEstimator-Eval: step: 588; epoch: 41; loss: 0.1029571; min_loss: 0.0886135; since_best_loss: 3; \n",
      "FastEstimator-Train: step: 600; loss: 0.1054115; examples/sec: 15979.9; progress: 85.7%; \n",
      "FastEstimator-Eval: step: 602; epoch: 42; loss: 0.130893; min_loss: 0.0886135; since_best_loss: 4; \n",
      "FastEstimator-Eval: step: 616; epoch: 43; loss: 0.1141409; min_loss: 0.0886135; since_best_loss: 5; \n",
      "FastEstimator-Eval: step: 630; epoch: 44; loss: 0.1384462; min_loss: 0.0886135; since_best_loss: 6; \n",
      "FastEstimator-Eval: step: 644; epoch: 45; loss: 0.0926682; min_loss: 0.0886135; since_best_loss: 7; \n",
      "FastEstimator-Eval: step: 658; epoch: 46; loss: 0.138811; min_loss: 0.0886135; since_best_loss: 8; \n",
      "FastEstimator-Eval: step: 672; epoch: 47; loss: 0.1378122; min_loss: 0.0886135; since_best_loss: 9; \n",
      "FastEstimator-Eval: step: 686; epoch: 48; loss: 0.0891329; min_loss: 0.0886135; since_best_loss: 10; \n",
      "FastEstimator-Eval: step: 700; epoch: 49; loss: 0.121054; min_loss: 0.0886135; since_best_loss: 11; \n",
      "FastEstimator-Finish: step: 700; total_time: 3.67 sec; dnn_lr: 0.001; \n"
     ]
    }
   ],
   "source": [
    "estimator.fit()"
   ]
  },
  {
   "cell_type": "markdown",
   "metadata": {},
   "source": [
    "## Inferencing\n",
    "\n",
    "After training, the model is saved to a temporary folder. we can load the model from file and do inferencing on a sample."
   ]
  },
  {
   "cell_type": "code",
   "execution_count": 13,
   "metadata": {},
   "outputs": [],
   "source": [
    "import os\n",
    "\n",
    "model_path = os.path.join(model_dir, 'dnn_best_loss.h5')\n",
    "trained_model = tf.keras.models.load_model(model_path, compile=False)"
   ]
  },
  {
   "cell_type": "markdown",
   "metadata": {},
   "source": [
    "Randomly get one sample from validation set and compare the predicted value with model's prediction:"
   ]
  },
  {
   "cell_type": "code",
   "execution_count": 14,
   "metadata": {},
   "outputs": [
    {
     "name": "stdout",
     "output_type": "stream",
     "text": [
      "test sample idx 24, ground truth: 1\n",
      "model predicted value is [[0.99993205]]\n"
     ]
    }
   ],
   "source": [
    "import numpy as np\n",
    "\n",
    "selected_idx = np.random.randint(0, high=101)\n",
    "print(\"test sample idx {}, ground truth: {}\".format(selected_idx, y_eval[selected_idx]))\n",
    "\n",
    "test_sample = np.expand_dims(x_eval[selected_idx], axis=0)\n",
    "\n",
    "predicted_value = trained_model.predict(test_sample)\n",
    "print(\"model predicted value is {}\".format(predicted_value))"
   ]
  },
  {
   "cell_type": "code",
   "execution_count": null,
   "metadata": {},
   "outputs": [],
   "source": []
  }
 ],
 "metadata": {
  "kernelspec": {
   "display_name": "fe_ubuntu",
   "language": "python",
   "name": "fe_ubuntu"
  },
  "language_info": {
   "codemirror_mode": {
    "name": "ipython",
    "version": 3
   },
   "file_extension": ".py",
   "mimetype": "text/x-python",
   "name": "python",
   "nbconvert_exporter": "python",
   "pygments_lexer": "ipython3",
   "version": "3.6.7"
  }
 },
 "nbformat": 4,
 "nbformat_minor": 2
}
