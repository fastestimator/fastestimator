{
 "cells": [
  {
   "cell_type": "markdown",
   "metadata": {
    "colab_type": "text",
    "id": "_xnMOsbqHz61"
   },
   "source": [
    "# One-Shot Learning using Siamese Network in FastEstimator"
   ]
  },
  {
   "cell_type": "markdown",
   "metadata": {
    "colab_type": "text",
    "id": "ITZuApL56Mny"
   },
   "source": [
    "This notebook demonstrates how to perform one-shot learning using Siamese Network in FastEstimator.\n",
    "\n",
    "In one-shot learning we classify based on only a single example of each class. This ability of being able to learn from very little data could be useful in many machine learning problems.\n",
    "The details of the method are present in [Siamese neural networks for one-shot image recognition](https://www.cs.cmu.edu/~rsalakhu/papers/oneshot1.pdf).\n",
    "We will use Omniglot dataset for training and evaluation. The Omniglot dataset consists of 50 different alphabets split into background(30 alphabets) and evaluation(20 alphabets) sets.Each alphabet has a number of characters and each character has 20 images each."
   ]
  },
  {
   "cell_type": "code",
   "execution_count": 1,
   "metadata": {},
   "outputs": [],
   "source": [
    "import os\n",
    "import cv2\n",
    "import time\n",
    "from glob import glob\n",
    "\n",
    "import numpy as np\n",
    "import tensorflow as tf\n",
    "import fastestimator as fe\n",
    "\n",
    "import matplotlib\n",
    "from matplotlib import pyplot as plt"
   ]
  },
  {
   "cell_type": "markdown",
   "metadata": {
    "colab_type": "text",
    "id": "iYn4MdZnKCey"
   },
   "source": [
    "## Step 1: Defining Input Pipeline\n",
    "\n",
    "First, we will download the omnglot dataset which contains 1623 different handwritten characters from 50 different alphabets via our dataset API.\n",
    "The images will be first downloaded from [here](https://github.com/brendenlake/omniglot/).\n",
    "Then images for training and evaluation will be extracted and the path to them will be provided as train_path and eval_path"
   ]
  },
  {
   "cell_type": "code",
   "execution_count": null,
   "metadata": {
    "colab": {},
    "colab_type": "code",
    "id": "iuGVPOo7Cce0"
   },
   "outputs": [],
   "source": [
    "from fastestimator.dataset.omniglot import load_data\n",
    "train_path, eval_path = load_data()"
   ]
  },
  {
   "cell_type": "markdown",
   "metadata": {},
   "source": [
    "Once the images are downloaded, we will use data generators which will read the data into memory and create batches for training and validation.\n",
    "For training, batches of data are created with half of the batch consisting of image pair from the same character and other half consiting of image pair from different characters. The target label is 1 for image pair from the same character and 0 otherwise. The aim is to learn similarity between any given pair of images."
   ]
  },
  {
   "cell_type": "code",
   "execution_count": 3,
   "metadata": {
    "tags": [
     "parameters"
    ]
   },
   "outputs": [],
   "source": [
    "# Parameters\n",
    "epochs = 50\n",
    "batch_size = 128\n",
    "steps_per_epoch = 500\n",
    "validation_steps = 100"
   ]
  },
  {
   "cell_type": "code",
   "execution_count": 4,
   "metadata": {},
   "outputs": [],
   "source": [
    "from fastestimator.dataset.omniglot import get_batch\n",
    "\n",
    "data = {\"train\": lambda: get_batch(train_path, batch_size=batch_size), \n",
    "        \"eval\": lambda: get_batch(eval_path, batch_size=batch_size, is_train=False)}"
   ]
  },
  {
   "cell_type": "markdown",
   "metadata": {},
   "source": [
    "We define a custom operator to augment portion of the input data as described in the [paper](https://www.cs.cmu.edu/~rsalakhu/papers/oneshot1.pdf). Given these operators we can now define `Pipeline` object."
   ]
  },
  {
   "cell_type": "code",
   "execution_count": 5,
   "metadata": {},
   "outputs": [],
   "source": [
    "from fastestimator.op import TensorOp\n",
    "from fastestimator.op.tensorop import Minmax, Augmentation2D, Probability\n",
    "\n",
    "pipeline = fe.Pipeline(\n",
    "    data=data,\n",
    "    batch_size=batch_size,\n",
    "    ops=[\n",
    "        Probability(\n",
    "            tensor_op=Augmentation2D(inputs=\"x_a\",\n",
    "                                     outputs=\"x_a\",\n",
    "                                     mode=\"train\",\n",
    "                                     rotation_range=10.0,\n",
    "                                     shear_range=-0.3 * 180 / np.pi,\n",
    "                                     zoom_range=[0.8, 1.2],\n",
    "                                     width_shift_range=0.05,\n",
    "                                     height_shift_range=0.05),\n",
    "            prob=0.89),\n",
    "        Probability(\n",
    "            tensor_op=Augmentation2D(inputs=\"x_b\",\n",
    "                                     outputs=\"x_b\",\n",
    "                                     mode=\"train\",\n",
    "                                     rotation_range=10.0,\n",
    "                                     shear_range=-0.3 * 180 / np.pi,\n",
    "                                     zoom_range=[0.8, 1.2],\n",
    "                                     width_shift_range=0.05,\n",
    "                                     height_shift_range=0.05),\n",
    "            prob=0.89),\n",
    "        Minmax(inputs=\"x_a\", outputs=\"x_a\"),\n",
    "        Minmax(inputs=\"x_b\", outputs=\"x_b\")\n",
    "    ])"
   ]
  },
  {
   "cell_type": "markdown",
   "metadata": {},
   "source": [
    "We can visualize sample images from the ``pipeline`` using ``show_results`` method.\n",
    "``show_results`` returns a list of batch data."
   ]
  },
  {
   "cell_type": "code",
   "execution_count": 7,
   "metadata": {
    "scrolled": false
   },
   "outputs": [
    {
     "name": "stdout",
     "output_type": "stream",
     "text": [
      "Image pair from same character\n"
     ]
    },
    {
     "data": {
      "image/png": "[encoded data removed]",
      "text/plain": [
       "<Figure size 432x288 with 2 Axes>"
      ]
     },
     "metadata": {
      "needs_background": "light"
     },
     "output_type": "display_data"
    },
    {
     "name": "stdout",
     "output_type": "stream",
     "text": [
      "Image pair from different characters\n"
     ]
    },
    {
     "data": {
      "image/png": "[encoded data removed]",
      "text/plain": [
       "<Figure size 432x288 with 2 Axes>"
      ]
     },
     "metadata": {
      "needs_background": "light"
     },
     "output_type": "display_data"
    }
   ],
   "source": [
    "sample_batch = pipeline.show_results()\n",
    "similar_img_a = sample_batch[0][\"x_a\"][0]\n",
    "similar_img_b = sample_batch[0][\"x_b\"][0]\n",
    "\n",
    "dissimilar_img_a = sample_batch[0][\"x_a\"][batch_size-1]\n",
    "dissimilar_img_b = sample_batch[0][\"x_b\"][batch_size-1]\n",
    "\n",
    "print('Image pair from same character')\n",
    "plt.subplot(121)\n",
    "plt.imshow(np.squeeze(similar_img_a))\n",
    "\n",
    "plt.subplot(122)\n",
    "plt.imshow(np.squeeze(similar_img_b))\n",
    "\n",
    "plt.show()\n",
    "\n",
    "print('Image pair from different characters')\n",
    "plt.subplot(121)\n",
    "plt.imshow(np.squeeze(dissimilar_img_a))\n",
    "\n",
    "plt.subplot(122)\n",
    "plt.imshow(np.squeeze(dissimilar_img_b))\n",
    "\n",
    "plt.show()"
   ]
  },
  {
   "cell_type": "markdown",
   "metadata": {},
   "source": [
    "## Step 2: Defining Model Architectures"
   ]
  },
  {
   "cell_type": "markdown",
   "metadata": {
    "colab_type": "text",
    "id": "cGrL73uCd-_M"
   },
   "source": [
    "Siamese network has two convolutional arms which accept distinct inputs. However, the weights on both these convolutional arms are shared. Each convolutional arm works as a feature extractor which produces a feature vector. L1 component-wise distance between these vectors is computed which is used to classify whether the image pair belongs to same or different classes. "
   ]
  },
  {
   "cell_type": "code",
   "execution_count": 6,
   "metadata": {},
   "outputs": [],
   "source": [
    "import tensorflow as tf\n",
    "from tensorflow.python.keras import Model, layers, Sequential\n",
    "from tensorflow.python.keras.initializers import RandomNormal\n",
    "from tensorflow.python.keras.regularizers import l2\n",
    "    \n",
    "\n",
    "def siamese_network(input_shape=(105, 105, 1), classes=1):\n",
    "    left_input = layers.Input(shape=input_shape)\n",
    "    right_input = layers.Input(shape=input_shape)\n",
    "\n",
    "    #Creating the convnet which shares weights between the left and right legs of Siamese network\n",
    "    siamese_convnet = Sequential()\n",
    "\n",
    "    siamese_convnet.add(\n",
    "        layers.Conv2D(filters=64,\n",
    "                      kernel_size=10,\n",
    "                      strides=1,\n",
    "                      input_shape=input_shape,\n",
    "                      activation='relu',\n",
    "                      kernel_initializer=RandomNormal(mean=0, stddev=0.01),\n",
    "                      kernel_regularizer=l2(1e-2),\n",
    "                      bias_initializer=RandomNormal(mean=0.5, stddev=0.01)))\n",
    "\n",
    "    siamese_convnet.add(layers.MaxPooling2D(pool_size=(2, 2)))\n",
    "\n",
    "    siamese_convnet.add(\n",
    "        layers.Conv2D(filters=128,\n",
    "                      kernel_size=7,\n",
    "                      strides=1,\n",
    "                      activation='relu',\n",
    "                      kernel_initializer=RandomNormal(mean=0, stddev=0.01),\n",
    "                      kernel_regularizer=l2(1e-2),\n",
    "                      bias_initializer=RandomNormal(mean=0.5, stddev=0.01)))\n",
    "\n",
    "    siamese_convnet.add(layers.MaxPooling2D(pool_size=(2, 2)))\n",
    "\n",
    "    siamese_convnet.add(\n",
    "        layers.Conv2D(filters=128,\n",
    "                      kernel_size=4,\n",
    "                      strides=1,\n",
    "                      activation='relu',\n",
    "                      kernel_initializer=RandomNormal(mean=0, stddev=0.01),\n",
    "                      kernel_regularizer=l2(1e-2),\n",
    "                      bias_initializer=RandomNormal(mean=0.5, stddev=0.01)))\n",
    "\n",
    "    siamese_convnet.add(layers.MaxPooling2D(pool_size=(2, 2)))\n",
    "\n",
    "    siamese_convnet.add(\n",
    "        layers.Conv2D(filters=256,\n",
    "                      kernel_size=4,\n",
    "                      strides=1,\n",
    "                      activation='relu',\n",
    "                      kernel_initializer=RandomNormal(mean=0, stddev=0.01),\n",
    "                      kernel_regularizer=l2(1e-2),\n",
    "                      bias_initializer=RandomNormal(mean=0.5, stddev=0.01)))\n",
    "\n",
    "    siamese_convnet.add(layers.Flatten())\n",
    "\n",
    "    siamese_convnet.add(\n",
    "        layers.Dense(4096,\n",
    "                     activation='sigmoid',\n",
    "                     kernel_initializer=RandomNormal(mean=0, stddev=0.2),\n",
    "                     kernel_regularizer=l2(1e-4),\n",
    "                     bias_initializer=RandomNormal(mean=0.5, stddev=0.01)))\n",
    "\n",
    "    encoded_left_input = siamese_convnet(left_input)\n",
    "    encoded_right_input = siamese_convnet(right_input)\n",
    "\n",
    "    l1_encoded = layers.Lambda(lambda x: tf.abs(x[0] - x[1]))([encoded_left_input, encoded_right_input])\n",
    "\n",
    "    output = layers.Dense(classes,\n",
    "                          activation='sigmoid',\n",
    "                          kernel_initializer=RandomNormal(mean=0, stddev=0.2),\n",
    "                          bias_initializer=RandomNormal(mean=0.5, stddev=0.01))(l1_encoded)\n",
    "\n",
    "    return Model(inputs=[left_input, right_input], outputs=output)"
   ]
  },
  {
   "cell_type": "markdown",
   "metadata": {},
   "source": [
    "We now prepare the `model` and define a `Network` object."
   ]
  },
  {
   "cell_type": "code",
   "execution_count": 7,
   "metadata": {
    "colab": {},
    "colab_type": "code",
    "id": "Q1Xbz5OaLj5C"
   },
   "outputs": [],
   "source": [
    "from fastestimator.op.tensorop import ModelOp\n",
    "from tensorflow.keras.optimizers import Adam\n",
    "from fastestimator.op.tensorop import BinaryCrossentropy\n",
    "\n",
    "model = fe.build(model_def=siamese_network, \n",
    "                 model_name=\"siamese_net\", \n",
    "                 optimizer=Adam(learning_rate=1e-4), \n",
    "                 loss_name=\"loss\")\n",
    "\n",
    "network = fe.Network(ops=[\n",
    "    ModelOp(inputs=[\"x_a\", \"x_b\"], model=model, outputs=\"y_pred\"),\n",
    "    BinaryCrossentropy(inputs=(\"y\", \"y_pred\"), outputs=\"loss\")\n",
    "])"
   ]
  },
  {
   "cell_type": "markdown",
   "metadata": {},
   "source": [
    "In this example we will also use the following traces:\n",
    "1. LRController with a constant decay schedule as described in the [paper](https://www.cs.cmu.edu/~rsalakhu/papers/oneshot1.pdf).\n",
    "2. ModelSaver for saving the model. For illustration purpose, we will save these models in temporary directory.\n",
    "3. EarlyStopping for stopping training if the monitored metric doesn't improve within specified number of epochs.\n",
    "4. Custom trace to calculate one shot classification accuracy as described in the [paper](https://www.cs.cmu.edu/~rsalakhu/papers/oneshot1.pdf).\n",
    "It's a 20-way within-alphabet classiﬁcation task in which an alphabet is ﬁrst chosen from among those reserved for the evaluation set. Then, nineteen other characters are taken uniformly at random from the alphabet. The first charcter's image is compared with another image of the same character and with images of the other nineteen characters. This is called a one-shot trial. The trial is considered a success if the network outputs highest similarity (probability) for the image pair belonging to same character. "
   ]
  },
  {
   "cell_type": "code",
   "execution_count": 8,
   "metadata": {},
   "outputs": [],
   "source": [
    "import tempfile\n",
    "from fastestimator.trace import Trace, LRController, ModelSaver, EarlyStopping\n",
    "from fastestimator.schedule import LRSchedule\n",
    "from fastestimator.dataset.omniglot import one_shot_trial, load_eval_data\n",
    "\n",
    "\n",
    "class LRDecaySchedule(LRSchedule):\n",
    "    def __init__(self, decay_rate=0.99):\n",
    "        super().__init__(schedule_mode=\"epoch\")\n",
    "        self.decay_rate = decay_rate\n",
    "\n",
    "    def schedule_fn(self, current_step_or_epoch, lr):\n",
    "        if current_step_or_epoch > 0:\n",
    "            lr = np.float32(lr * self.decay_rate)\n",
    "        return lr\n",
    "\n",
    "\n",
    "class OneShotAccuracy(Trace):\n",
    "    def __init__(self, model, img_list, N=20, trials_per_alphabet=40, mode=\"eval\", output_name=\"one_shot_accuracy\"):\n",
    "\n",
    "        super().__init__(outputs=output_name, mode=mode)\n",
    "        self.model = model\n",
    "        self.total = 0\n",
    "        self.correct = 0\n",
    "        self.output_name = output_name\n",
    "        self.img_list = img_list\n",
    "        self.N = N\n",
    "        self.trials_per_alphabet = trials_per_alphabet\n",
    "\n",
    "    def on_epoch_begin(self, state):\n",
    "        self.total = 0\n",
    "        self.correct = 0\n",
    "\n",
    "    def on_epoch_end(self, state):\n",
    "        for alphabet in range(len(self.img_list)):\n",
    "\n",
    "            for _ in range(self.trials_per_alphabet):\n",
    "                input_img = one_shot_trial(self.img_list[alphabet], self.N)\n",
    "                prediction_score = self.model(input_img).numpy()\n",
    "\n",
    "                if np.argmax(prediction_score) == 0 and prediction_score.std() > 0.01:\n",
    "                    self.correct += 1\n",
    "\n",
    "                self.total += 1\n",
    "\n",
    "        state[self.output_name] = self.correct / self.total\n",
    "\n",
    "# Learning Rate Schedule\n",
    "lr_scheduler = LRDecaySchedule(decay_rate=0.99)\n",
    "\n",
    "# Loading images for validation one-shot accuracy\n",
    "val_img_list = load_eval_data(path=eval_path, is_test=False)\n",
    "\n",
    "# Model directory\n",
    "model_dir=tempfile.mkdtemp()\n",
    "os.makedirs(model_dir, exist_ok=True)\n",
    "        \n",
    "traces = [\n",
    "    LRController(model_name=\"siamese_net\", lr_schedule=lr_scheduler),\n",
    "    OneShotAccuracy(model=model, img_list=val_img_list, output_name='one_shot_accuracy'),\n",
    "    ModelSaver(model_name=\"siamese_net\", save_dir=model_dir, save_best='one_shot_accuracy', save_best_mode='max'),\n",
    "    EarlyStopping(monitor=\"one_shot_accuracy\", patience=20, compare='max', mode=\"eval\")\n",
    "]"
   ]
  },
  {
   "cell_type": "markdown",
   "metadata": {},
   "source": [
    "Finally, we are ready to define `Estimator` object and then call `fit` method to start the training.\n",
    "Just for the sake of demo purpose, we would only run 50 epochs."
   ]
  },
  {
   "cell_type": "code",
   "execution_count": null,
   "metadata": {},
   "outputs": [],
   "source": [
    "estimator = fe.Estimator(network=network, \n",
    "                         pipeline=pipeline, \n",
    "                         epochs=epochs, \n",
    "                         steps_per_epoch=steps_per_epoch,\n",
    "                         validation_steps=validation_steps,\n",
    "                         traces=traces)\n",
    "estimator.fit()"
   ]
  },
  {
   "cell_type": "markdown",
   "metadata": {},
   "source": [
    "Below, we are infering results on the test dataset. Here, we choose a language and generate 5-way one shot trial for demo purposes."
   ]
  },
  {
   "cell_type": "code",
   "execution_count": 11,
   "metadata": {},
   "outputs": [],
   "source": [
    "from tensorflow.keras.models import load_model\n",
    "saved_model = load_model(os.path.join(model_dir, 'siamese_net_best_one_shot_accuracy.h5'), compile=False)"
   ]
  },
  {
   "cell_type": "code",
   "execution_count": 12,
   "metadata": {},
   "outputs": [],
   "source": [
    "# Language selected from Test Dataset\n",
    "language = 'Manipuri'\n",
    "\n",
    "characters = os.listdir(os.path.join(eval_path, language))\n",
    "\n",
    "char_img_list = []\n",
    "for character in characters:\n",
    "    img_paths = glob(os.path.join(eval_path, language, character, \"*.png\"))\n",
    "    imgs = [np.expand_dims(cv2.imread(i, cv2.IMREAD_GRAYSCALE), -1) for i in img_paths]\n",
    "    char_img_list.append(imgs)\n",
    "\n",
    "#Generating one-shot trial set for 5-way one shot trial\n",
    "input_img = one_shot_trial(char_img_list, 5)\n",
    "prediction_score = saved_model.predict(input_img)"
   ]
  },
  {
   "cell_type": "code",
   "execution_count": 13,
   "metadata": {},
   "outputs": [
    {
     "data": {
      "image/png": "[encoded data removed]",
      "text/plain": [
       "<Figure size 288x288 with 1 Axes>"
      ]
     },
     "metadata": {
      "needs_background": "light"
     },
     "output_type": "display_data"
    },
    {
     "data": {
      "image/png": "[encoded data removed]",
      "text/plain": [
       "<Figure size 1296x1296 with 5 Axes>"
      ]
     },
     "metadata": {
      "needs_background": "light"
     },
     "output_type": "display_data"
    }
   ],
   "source": [
    "plt.figure(figsize=(4, 4))\n",
    "plt.imshow(np.squeeze(input_img[0][0]));\n",
    "plt.title('test image')\n",
    "plt.axis('off');\n",
    "plt.show()\n",
    "\n",
    "plt.figure(figsize=(18, 18))\n",
    "plt.subplot(151)\n",
    "plt.imshow(np.squeeze(input_img[1][0]));\n",
    "plt.title('Similarity with test image: {:0.2f}%'.format(100*prediction_score[0][0]))\n",
    "plt.axis('off');\n",
    "\n",
    "plt.subplot(152)\n",
    "plt.imshow(np.squeeze(input_img[1][1]));\n",
    "plt.title('Similarity with test image: {:0.2f}%'.format(100*prediction_score[1][0]))\n",
    "plt.axis('off');\n",
    "\n",
    "plt.subplot(153)\n",
    "plt.imshow(np.squeeze(input_img[1][2]));\n",
    "plt.title('Similarity with test image: {:0.2f}%'.format(100*prediction_score[2][0]))\n",
    "plt.axis('off');\n",
    "\n",
    "plt.subplot(154)\n",
    "plt.imshow(np.squeeze(input_img[1][3]));\n",
    "plt.title('Similarity with test image: {:0.2f}%'.format(100*prediction_score[3][0]))\n",
    "plt.axis('off');\n",
    "\n",
    "plt.subplot(155)\n",
    "plt.imshow(np.squeeze(input_img[1][4]));\n",
    "plt.title('Similarity with test image: {:0.2f}%'.format(100*prediction_score[4][0]))\n",
    "plt.axis('off');\n",
    "\n",
    "plt.tight_layout()"
   ]
  },
  {
   "cell_type": "markdown",
   "metadata": {},
   "source": [
    "The test image is predicted to be belonging to the class with the maximum similarity. "
   ]
  },
  {
   "cell_type": "code",
   "execution_count": null,
   "metadata": {},
   "outputs": [],
   "source": []
  }
 ],
 "metadata": {
  "accelerator": "GPU",
  "celltoolbar": "Tags",
  "colab": {
   "collapsed_sections": [],
   "name": "cyclegan.ipynb",
   "private_outputs": true,
   "provenance": [],
   "toc_visible": true,
   "version": "0.3.2"
  },
  "kernelspec": {
   "display_name": "Python 3",
   "language": "python",
   "name": "python3"
  },
  "language_info": {
   "codemirror_mode": {
    "name": "ipython",
    "version": 3
   },
   "file_extension": ".py",
   "mimetype": "text/x-python",
   "name": "python",
   "nbconvert_exporter": "python",
   "pygments_lexer": "ipython3",
   "version": "3.6.6"
  }
 },
 "nbformat": 4,
 "nbformat_minor": 1
}
